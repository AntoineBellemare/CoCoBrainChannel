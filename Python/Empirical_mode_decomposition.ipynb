{
 "cells": [
  {
   "cell_type": "code",
   "execution_count": 9,
   "metadata": {},
   "outputs": [],
   "source": [
    "from PyEMD import EMD, EEMD\n",
    "import numpy  as np\n",
    "import pylab as plt\n",
    "import mne\n",
    "from mne.datasets.brainstorm import bst_raw\n",
    "from mne.time_frequency import tfr_morlet, psd_multitaper, psd_welch\n",
    "import numpy as np\n",
    "import matplotlib.pyplot as plt\n",
    "from scipy import stats\n",
    "import scipy.io as sio\n",
    "\n",
    "\n",
    "import pandas as pd\n",
    "import scipy.io as sio\n",
    "from scipy.io import savemat, loadmat\n",
    "# Define signal\n",
    "t = np.linspace(0, 1, 200)\n",
    "s = np.cos(11*2*np.pi*t*t) + 6*t*t\n",
    "\n"
   ]
  },
  {
   "cell_type": "code",
   "execution_count": 3,
   "metadata": {},
   "outputs": [],
   "source": [
    "FOLDERPATH = r'E:\\PhD\\EEG_data\\Pareidolia_BIDS'\n",
    "FREQ_BANDS = [[1, 3], [3, 7], [7, 12], [12, 20],[20, 30], [30, 45], [45, 60]]\n",
    "FREQ_NAMES = ['delta', 'theta', 'alpha', 'low-beta', 'high-beta', 'gamma1', 'gamma2']\n",
    "RUN_LIST = {'pareidolia':['1', '2', '3', '4']}\n",
    "SUBJ_LIST = ['01']\n",
    "TASK_LIST = ['pareidolia']\n",
    "frontal_L = ['E20', 'E21', 'E22', 'E23', 'E24', 'E26', 'E27', 'E12', 'E18', 'E19', 'E11', 'E15', 'E16']\n",
    "frontal_R = ['E2', 'E3', 'E4', 'E5', 'E118', 'E124', 'E123', 'E9', 'E10', 'E14', 'E11', 'E15', 'E16']\n",
    "frontal_LR = frontal_L+frontal_R\n",
    "occi_R = ['E76', 'E83', 'E84']\n",
    "occi_L = ['E66', 'E70', 'E71']\n",
    "par = ['Image_on_par_high', 'Image_on_par_mid', 'Image_on_par_low']\n",
    "nopar = ['Image_on_nopar_high', 'Image_on_nopar_mid', 'Image_on_nopar_low']"
   ]
  },
  {
   "cell_type": "code",
   "execution_count": 5,
   "metadata": {},
   "outputs": [
    {
     "data": {
      "text/plain": [
       "<PyEMD.EMD.EMD at 0x1ddd5914f70>"
      ]
     },
     "execution_count": 5,
     "metadata": {},
     "output_type": "execute_result"
    }
   ],
   "source": []
  },
  {
   "cell_type": "code",
   "execution_count": 4,
   "metadata": {},
   "outputs": [
    {
     "ename": "ValueError",
     "evalue": "Time series have different sizes: len(S) -> 200 != 4001 <- len(T)",
     "output_type": "error",
     "traceback": [
      "\u001b[1;31m---------------------------------------------------------------------------\u001b[0m",
      "\u001b[1;31mValueError\u001b[0m                                Traceback (most recent call last)",
      "\u001b[1;32m<ipython-input-4-4c6541faf942>\u001b[0m in \u001b[0;36m<module>\u001b[1;34m\u001b[0m\n\u001b[0;32m      8\u001b[0m \u001b[0memd\u001b[0m \u001b[1;33m=\u001b[0m \u001b[0meemd\u001b[0m\u001b[1;33m.\u001b[0m\u001b[0mEMD\u001b[0m\u001b[1;33m\u001b[0m\u001b[1;33m\u001b[0m\u001b[0m\n\u001b[0;32m      9\u001b[0m \u001b[0memd\u001b[0m\u001b[1;33m.\u001b[0m\u001b[0mextrema_detection\u001b[0m\u001b[1;33m=\u001b[0m\u001b[1;34m\"parabol\"\u001b[0m\u001b[1;33m\u001b[0m\u001b[1;33m\u001b[0m\u001b[0m\n\u001b[1;32m---> 10\u001b[1;33m \u001b[0meIMFs\u001b[0m \u001b[1;33m=\u001b[0m \u001b[0mEMD\u001b[0m\u001b[1;33m(\u001b[0m\u001b[1;33m)\u001b[0m\u001b[1;33m.\u001b[0m\u001b[0memd\u001b[0m\u001b[1;33m(\u001b[0m\u001b[0ms\u001b[0m\u001b[1;33m,\u001b[0m\u001b[0mt\u001b[0m\u001b[1;33m)\u001b[0m\u001b[1;33m\u001b[0m\u001b[1;33m\u001b[0m\u001b[0m\n\u001b[0m\u001b[0;32m     11\u001b[0m \u001b[1;31m#eIMFs = eemd.eemd(S, t)\u001b[0m\u001b[1;33m\u001b[0m\u001b[1;33m\u001b[0m\u001b[1;33m\u001b[0m\u001b[0m\n\u001b[0;32m     12\u001b[0m \u001b[0mnIMFs\u001b[0m \u001b[1;33m=\u001b[0m \u001b[0meIMFs\u001b[0m\u001b[1;33m.\u001b[0m\u001b[0mshape\u001b[0m\u001b[1;33m[\u001b[0m\u001b[1;36m0\u001b[0m\u001b[1;33m]\u001b[0m\u001b[1;33m\u001b[0m\u001b[1;33m\u001b[0m\u001b[0m\n",
      "\u001b[1;32m~\\anaconda3\\lib\\site-packages\\emd_signal-0.2.13-py3.8.egg\\PyEMD\\EMD.py\u001b[0m in \u001b[0;36memd\u001b[1;34m(self, S, T, max_imf)\u001b[0m\n\u001b[0;32m    776\u001b[0m         \"\"\"\n\u001b[0;32m    777\u001b[0m         \u001b[1;32mif\u001b[0m \u001b[0mT\u001b[0m \u001b[1;32mis\u001b[0m \u001b[1;32mnot\u001b[0m \u001b[1;32mNone\u001b[0m \u001b[1;32mand\u001b[0m \u001b[0mlen\u001b[0m\u001b[1;33m(\u001b[0m\u001b[0mS\u001b[0m\u001b[1;33m)\u001b[0m \u001b[1;33m!=\u001b[0m \u001b[0mlen\u001b[0m\u001b[1;33m(\u001b[0m\u001b[0mT\u001b[0m\u001b[1;33m)\u001b[0m\u001b[1;33m:\u001b[0m\u001b[1;33m\u001b[0m\u001b[1;33m\u001b[0m\u001b[0m\n\u001b[1;32m--> 778\u001b[1;33m             \u001b[1;32mraise\u001b[0m \u001b[0mValueError\u001b[0m\u001b[1;33m(\u001b[0m\u001b[1;34m\"Time series have different sizes: len(S) -> {} != {} <- len(T)\"\u001b[0m\u001b[1;33m.\u001b[0m\u001b[0mformat\u001b[0m\u001b[1;33m(\u001b[0m\u001b[0mlen\u001b[0m\u001b[1;33m(\u001b[0m\u001b[0mS\u001b[0m\u001b[1;33m)\u001b[0m\u001b[1;33m,\u001b[0m \u001b[0mlen\u001b[0m\u001b[1;33m(\u001b[0m\u001b[0mT\u001b[0m\u001b[1;33m)\u001b[0m\u001b[1;33m)\u001b[0m\u001b[1;33m)\u001b[0m\u001b[1;33m\u001b[0m\u001b[1;33m\u001b[0m\u001b[0m\n\u001b[0m\u001b[0;32m    779\u001b[0m \u001b[1;33m\u001b[0m\u001b[0m\n\u001b[0;32m    780\u001b[0m         \u001b[1;32mif\u001b[0m \u001b[0mT\u001b[0m \u001b[1;32mis\u001b[0m \u001b[1;32mNone\u001b[0m \u001b[1;32mor\u001b[0m \u001b[0mself\u001b[0m\u001b[1;33m.\u001b[0m\u001b[0mextrema_detection\u001b[0m \u001b[1;33m==\u001b[0m \u001b[1;34m\"simple\"\u001b[0m\u001b[1;33m:\u001b[0m\u001b[1;33m\u001b[0m\u001b[1;33m\u001b[0m\u001b[0m\n",
      "\u001b[1;31mValueError\u001b[0m: Time series have different sizes: len(S) -> 200 != 4001 <- len(T)"
     ]
    }
   ],
   "source": [
    "eemd = EEMD()\n",
    "#s = np.random.random(1001)\n",
    "S = s\n",
    "t = np.linspace(0, 1, 4001)\n",
    "# Say we want detect extrema using parabolic method\n",
    "import time\n",
    "start = time.time()\n",
    "emd = eemd.EMD\n",
    "emd.extrema_detection=\"parabol\"\n",
    "eIMFs = EMD().emd(s,t)\n",
    "#eIMFs = eemd.eemd(S, t)\n",
    "nIMFs = eIMFs.shape[0]\n",
    "stop = time.time()\n",
    "print(stop-start)\n",
    "plt.figure(figsize=(12,9))\n",
    "plt.subplot(nIMFs+1, 1, 1)\n",
    "plt.plot(t, S, 'r')\n",
    "\n",
    "for n in range(nIMFs):\n",
    "    plt.subplot(nIMFs+1, 1, n+2)\n",
    "    plt.plot(t, eIMFs[n], 'g')\n",
    "    plt.ylabel(\"eIMF %i\" %(n+1))\n",
    "    plt.locator_params(axis='y', nbins=5)\n",
    "\n",
    "plt.xlabel(\"Time [s]\")\n",
    "plt.tight_layout()\n",
    "plt.savefig('eemd_example', dpi=120)\n",
    "plt.show()"
   ]
  },
  {
   "cell_type": "code",
   "execution_count": null,
   "metadata": {},
   "outputs": [],
   "source": []
  },
  {
   "cell_type": "code",
   "execution_count": null,
   "metadata": {},
   "outputs": [],
   "source": [
    "eIMFs.shape"
   ]
  },
  {
   "cell_type": "code",
   "execution_count": null,
   "metadata": {},
   "outputs": [],
   "source": []
  },
  {
   "cell_type": "code",
   "execution_count": null,
   "metadata": {},
   "outputs": [],
   "source": []
  },
  {
   "cell_type": "code",
   "execution_count": 7,
   "metadata": {},
   "outputs": [
    {
     "name": "stdout",
     "output_type": "stream",
     "text": [
      "Reading C:/Users/Antoine/github/Data_EEG/pareidolia_run1.fif ...\n",
      "    Found the data of interest:\n",
      "        t =   -1500.00 ...    8000.00 ms\n",
      "        0 CTF compensation matrices available\n"
     ]
    },
    {
     "name": "stderr",
     "output_type": "stream",
     "text": [
      "<ipython-input-7-2229870df426>:1: RuntimeWarning: This filename (C:/Users/Antoine/github/Data_EEG/pareidolia_run1.fif) does not conform to MNE naming conventions. All epochs files should end with -epo.fif, -epo.fif.gz, _epo.fif or _epo.fif.gz\n",
      "  epochs = mne.read_epochs('C:/Users/Antoine/github/Data_EEG/pareidolia_run1.fif')\n"
     ]
    },
    {
     "name": "stdout",
     "output_type": "stream",
     "text": [
      "Not setting metadata\n",
      "Not setting metadata\n",
      "104 matching events found\n",
      "No baseline correction applied\n",
      "0 projection items activated\n",
      "Applying baseline correction (mode: mean)\n"
     ]
    }
   ],
   "source": [
    "epochs = mne.read_epochs('C:/Users/Antoine/github/Data_EEG/pareidolia_run1.fif')\n",
    "epochs = epochs.apply_baseline((-1.5, -0.1))\n",
    "epochs = epochs.crop(1, 5)\n",
    "epochs_data = epochs.get_data()"
   ]
  },
  {
   "cell_type": "code",
   "execution_count": 8,
   "metadata": {},
   "outputs": [
    {
     "data": {
      "text/plain": [
       "<EpochsFIF |  104 events (all good), 1 - 5 sec, baseline [-1.5, -0.1] sec (baseline period was cropped after baseline correction), ~362.1 MB, data loaded,\n",
       " 'Image_on_nopar_high': 32\n",
       " 'Image_on_nopar_low': 14\n",
       " 'Image_on_nopar_mid': 21\n",
       " 'Image_on_par_high': 8\n",
       " 'Image_on_par_low': 18\n",
       " 'Image_on_par_mid': 11>"
      ]
     },
     "execution_count": 8,
     "metadata": {},
     "output_type": "execute_result"
    }
   ],
   "source": [
    "epochs"
   ]
  },
  {
   "cell_type": "code",
   "execution_count": null,
   "metadata": {},
   "outputs": [],
   "source": [
    "condition = nopar\n",
    "chs = frontal_L\n",
    "evoked = epochs[condition].average(chs)\n",
    "s = np.average(evoked.data, axis = 0)\n",
    "s = np.interp(s, (s.min(), s.max()), (0, +1))"
   ]
  },
  {
   "cell_type": "code",
   "execution_count": null,
   "metadata": {},
   "outputs": [],
   "source": [
    "s.shape"
   ]
  },
  {
   "cell_type": "code",
   "execution_count": null,
   "metadata": {},
   "outputs": [],
   "source": []
  },
  {
   "cell_type": "code",
   "execution_count": null,
   "metadata": {},
   "outputs": [],
   "source": [
    "\n",
    "# Execute EMD on signal\n",
    "IMF = EMD().emd(s,t)\n",
    "N = IMF.shape[0]+1\n",
    "\n",
    "# Plot results\n",
    "plt.subplot(N,1,1)\n",
    "plt.plot(t, s, 'r')\n",
    "plt.title(\"Input signal: $S(t)=cos(22\\pi t^2) + 6t^2$\")\n",
    "plt.xlabel(\"Time [s]\")\n",
    "\n",
    "for n, imf in enumerate(IMF):\n",
    "    plt.subplot(N,1,n+2)\n",
    "    plt.plot(t, imf, 'g')\n",
    "    plt.title(\"IMF \"+str(n+1))\n",
    "    plt.xlabel(\"Time [s]\")\n",
    "\n",
    "plt.tight_layout()\n",
    "plt.savefig('simple_example')\n",
    "plt.show()"
   ]
  },
  {
   "cell_type": "code",
   "execution_count": null,
   "metadata": {},
   "outputs": [],
   "source": [
    "IMF.shape"
   ]
  }
 ],
 "metadata": {
  "kernelspec": {
   "display_name": "Python 3",
   "language": "python",
   "name": "python3"
  },
  "language_info": {
   "codemirror_mode": {
    "name": "ipython",
    "version": 3
   },
   "file_extension": ".py",
   "mimetype": "text/x-python",
   "name": "python",
   "nbconvert_exporter": "python",
   "pygments_lexer": "ipython3",
   "version": "3.8.5"
  }
 },
 "nbformat": 4,
 "nbformat_minor": 4
}
