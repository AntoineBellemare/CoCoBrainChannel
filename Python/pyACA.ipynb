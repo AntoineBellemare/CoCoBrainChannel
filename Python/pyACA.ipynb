{
 "cells": [
  {
   "cell_type": "code",
   "execution_count": 1,
   "metadata": {},
   "outputs": [],
   "source": [
    "import pandas as pd\n",
    "import scipy.io as sio\n",
    "from scipy.io import savemat, loadmat\n",
    "from EEG_pareidolia_utils import get_pareidolia_bids, reformat_events\n",
    "from biotuner_utils import *\n",
    "from biotuner_offline import *\n",
    "from biotuner import *\n",
    "import pyACA\n",
    "import mne\n",
    "from mne.datasets.brainstorm import bst_raw\n",
    "from mne.time_frequency import tfr_morlet, psd_multitaper, psd_welch\n",
    "import numpy as np\n",
    "import matplotlib.pyplot as plt\n",
    "from scipy import stats\n",
    "import scipy.io as sio\n",
    "import seaborn as sbn"
   ]
  },
  {
   "cell_type": "code",
   "execution_count": 2,
   "metadata": {},
   "outputs": [],
   "source": [
    "def computeFeatureCl(afAudioData, cFeatureName, f_s, bPlotOutput = False):\n",
    "\n",
    "    # read audio file\n",
    "    #[f_s, afAudioData] = ToolReadAudio(cPath)\n",
    "    \n",
    "    # for debugging\n",
    "    #afAudioData = np.sin(2*np.pi * np.arange(f_s*1)*440./f_s)\n",
    "\n",
    "    # compute feature\n",
    "    [v, t] = pyACA.computeFeature(cFeatureName, afAudioData, f_s, None, 1024, 256)\n",
    "\n",
    "    # plot feature output\n",
    "    if bPlotOutput:\n",
    "        plt.plot(t, v)\n",
    "\n",
    "    return (v, t)"
   ]
  },
  {
   "cell_type": "code",
   "execution_count": 3,
   "metadata": {},
   "outputs": [],
   "source": [
    "FOLDERPATH = r'E:\\PhD\\EEG_data\\Pareidolia_BIDS'\n",
    "FREQ_BANDS = [[1, 3], [3, 7], [7, 12], [12, 20],[20, 30], [30, 45], [45, 60]]\n",
    "FREQ_NAMES = ['delta', 'theta', 'alpha', 'low-beta', 'high-beta', 'gamma1', 'gamma2']\n",
    "RUN_LIST = {'pareidolia':['1', '2', '3', '4']}\n",
    "SUBJ_LIST = ['01']\n",
    "TASK_LIST = ['pareidolia']\n",
    "frontal_L = ['E20', 'E21', 'E22', 'E23', 'E24', 'E26', 'E27', 'E12', 'E18', 'E19', 'E11', 'E15', 'E16']\n",
    "frontal_R = ['E2', 'E3', 'E4', 'E5', 'E118', 'E124', 'E123', 'E9', 'E10', 'E14', 'E11', 'E15', 'E16']\n",
    "frontal_LR = frontal_L+frontal_R\n",
    "occi_R = ['E76', 'E83', 'E84']\n",
    "occi_L = ['E66', 'E70', 'E71']\n",
    "\n",
    "test_elec = ['E76']"
   ]
  },
  {
   "cell_type": "code",
   "execution_count": 4,
   "metadata": {},
   "outputs": [
    {
     "ename": "NameError",
     "evalue": "name 'epochs' is not defined",
     "output_type": "error",
     "traceback": [
      "\u001b[1;31m---------------------------------------------------------------------------\u001b[0m",
      "\u001b[1;31mNameError\u001b[0m                                 Traceback (most recent call last)",
      "\u001b[1;32m<ipython-input-4-980fe2edc0c0>\u001b[0m in \u001b[0;36m<module>\u001b[1;34m\u001b[0m\n\u001b[1;32m----> 1\u001b[1;33m \u001b[0mepochs\u001b[0m\u001b[1;33m.\u001b[0m\u001b[0mch_names\u001b[0m\u001b[1;33m\u001b[0m\u001b[1;33m\u001b[0m\u001b[0m\n\u001b[0m",
      "\u001b[1;31mNameError\u001b[0m: name 'epochs' is not defined"
     ]
    }
   ],
   "source": [
    "epochs.ch_names"
   ]
  },
  {
   "cell_type": "code",
   "execution_count": null,
   "metadata": {},
   "outputs": [],
   "source": []
  },
  {
   "cell_type": "code",
   "execution_count": 5,
   "metadata": {},
   "outputs": [
    {
     "name": "stdout",
     "output_type": "stream",
     "text": [
      "Reading ../../pareidolia_run2.fif ...\n"
     ]
    },
    {
     "name": "stderr",
     "output_type": "stream",
     "text": [
      "<ipython-input-5-6da6241b8dad>:1: RuntimeWarning: This filename (../../pareidolia_run2.fif) does not conform to MNE naming conventions. All epochs files should end with -epo.fif, -epo.fif.gz, _epo.fif or _epo.fif.gz\n",
      "  epochs = mne.read_epochs('../../pareidolia_run2.fif')\n"
     ]
    },
    {
     "name": "stdout",
     "output_type": "stream",
     "text": [
      "    Found the data of interest:\n",
      "        t =   -1500.00 ...    8000.00 ms\n",
      "        0 CTF compensation matrices available\n",
      "104 matching events found\n",
      "Applying baseline correction (mode: mean)\n",
      "Not setting metadata\n",
      "0 projection items activated\n",
      "Applying baseline correction (mode: mean)\n"
     ]
    }
   ],
   "source": [
    "epochs = mne.read_epochs('../../pareidolia_run2.fif')\n",
    "epochs = epochs.apply_baseline((-1.5, -0.1))\n",
    "epochs = epochs.crop(0.5, 7.5)\n",
    "epochs_data = epochs.get_data()"
   ]
  },
  {
   "cell_type": "code",
   "execution_count": 16,
   "metadata": {},
   "outputs": [],
   "source": [
    "par = ['Image_on_par_high', 'Image_on_par_mid', 'Image_on_par_low']\n",
    "nopar = ['Image_on_nopar_high', 'Image_on_nopar_mid', 'Image_on_nopar_low']\n",
    "condition = par\n",
    "chs = frontal_LR"
   ]
  },
  {
   "cell_type": "code",
   "execution_count": null,
   "metadata": {},
   "outputs": [],
   "source": [
    "eeg_data = epochs[condition].average(chs)\n",
    "eeg_data = np.average(eeg_data.data, axis = 0)\n",
    "eeg_data = np.interp(eeg_data, (eeg_data.min(), eeg_data.max()), (-1, +1))\n",
    "eeg_data"
   ]
  },
  {
   "cell_type": "markdown",
   "metadata": {},
   "source": [
    "## Empirical Mode Decomposition"
   ]
  },
  {
   "cell_type": "code",
   "execution_count": null,
   "metadata": {},
   "outputs": [],
   "source": [
    "from PyEMD import EMD, EEMD\n",
    "import numpy as np\n",
    "s = np.interp(eeg_data, (eeg_data.min(), eeg_data.max()), (0, +1))\n",
    "eemd = EEMD()\n",
    "#s = np.random.random(1001)\n",
    "\n",
    "S = s\n",
    "t = np.linspace(0, 1, 7001)\n",
    "# Say we want detect extrema using parabolic method\n",
    "import time\n",
    "start = time.time()\n",
    "emd = eemd.EMD\n",
    "emd.extrema_detection=\"parabol\"\n",
    "eIMFs = EMD().emd(s,t)\n",
    "#eIMFs = eemd.eemd(S, t)\n",
    "nIMFs = eIMFs.shape[0]\n",
    "stop = time.time()\n",
    "print(stop-start)\n",
    "plt.figure(figsize=(12,9))\n",
    "plt.subplot(nIMFs+1, 1, 1)\n",
    "plt.plot(t, S, 'r')\n",
    "\n",
    "for n in range(nIMFs):\n",
    "    plt.subplot(nIMFs+1, 1, n+2)\n",
    "    plt.plot(t, eIMFs[n], 'g')\n",
    "    plt.ylabel(\"eIMF %i\" %(n+1))\n",
    "    plt.locator_params(axis='y', nbins=5)\n",
    "\n",
    "plt.xlabel(\"Time [s]\")\n",
    "plt.tight_layout()\n",
    "#plt.savefig('eemd_example', dpi=120)\n",
    "plt.show()"
   ]
  },
  {
   "cell_type": "markdown",
   "metadata": {},
   "source": [
    "## Plot of spectral features across EMDs"
   ]
  },
  {
   "cell_type": "code",
   "execution_count": null,
   "metadata": {},
   "outputs": [],
   "source": [
    "\n",
    "df = pd.DataFrame()\n",
    "i = 0\n",
    "for e in eIMFs:\n",
    "    eeg_data = np.interp(eeg_data, (eeg_data.min(), eeg_data.max()), (-1, +1))\n",
    "    i +=1\n",
    "    [f,t] = computeFeatureCl(e, \"SpectralCentroid\", 1000)\n",
    "    [f,t] = pyACA.computePitch('TimeAcf', e, 1000, afWindow=None, iBlockLength=1000, iHopLength=200)\n",
    "    df[i] = np.squeeze(f)\n"
   ]
  },
  {
   "cell_type": "code",
   "execution_count": null,
   "metadata": {
    "scrolled": false
   },
   "outputs": [],
   "source": [
    "import seaborn as sbn\n",
    "ax = sbn.lineplot(data=df.loc[5:20, 2:6], dashes = False)\n",
    "ax.set(xlabel='Time', ylabel='Spectral Centroid')\n",
    "ax.set_yscale('log')\n",
    "plt.legend(scatterpoints=1, frameon=True, labelspacing=1, title='EMDs', loc = 'best')\n",
    "colors = ['black','black','black','black','black','black','black','black','black','black']\n",
    "for xc,c, l in zip(xposition,colors, labels):\n",
    "    plt.axvline(x=xc, label='{} = {}'.format(l, xc), c=c, linestyle = 'dotted')\n",
    "#plt.savefig('EMDs_spectral_flux_par_frontalR_1-5', dpi=120)"
   ]
  },
  {
   "cell_type": "code",
   "execution_count": null,
   "metadata": {},
   "outputs": [],
   "source": [
    "xposition"
   ]
  },
  {
   "cell_type": "code",
   "execution_count": null,
   "metadata": {},
   "outputs": [],
   "source": [
    "\n",
    "eIMFs_new = eIMFs[1:6]\n",
    "df = pd.DataFrame()\n",
    "i = 0\n",
    "for e in eIMFs_new:\n",
    "    i +=1\n",
    "    #[f,t] = computeFeatureCl(e, \"SpectralCentroid\", 1000)\n",
    "    [f,t] = pyACA.computePitch('TimeAcf', e, 1000, afWindow=None, iBlockLength=1000, iHopLength=200)\n",
    "    df[i] = np.squeeze(f)\n",
    "\n",
    "peaks_t = []\n",
    "peaks_list = []\n",
    "for t in range(len(df)):\n",
    "    imf_temp = []\n",
    "    for imf in range(df.shape[1]):\n",
    "        imf = imf+1\n",
    "        imf_temp.append(df.loc[t, imf])\n",
    "    peaks_list.append(imf_temp) \n",
    "peaks_total = np.array(peaks_list) \n",
    "\n",
    "cons_tot = []\n",
    "peaks_cons_temp = []\n",
    "for peaks in peaks_total[1:20]:\n",
    "    cons, peaks_cons = compute_consonance(peaks, 0.1)\n",
    "    peaks_cons_temp.append(peaks_cons)\n",
    "\n",
    "xposition = []\n",
    "for i in range(len(peaks_cons_temp)):\n",
    "    if len(peaks_cons_temp[i]) != 0:\n",
    "        xposition.append(i)\n",
    "        \n"
   ]
  },
  {
   "cell_type": "code",
   "execution_count": null,
   "metadata": {},
   "outputs": [],
   "source": [
    "\n",
    "#peaks_cons_tot = np.array(peaks_cons_temp)"
   ]
  },
  {
   "cell_type": "code",
   "execution_count": null,
   "metadata": {},
   "outputs": [],
   "source": [
    "for i in range(len(peaks_cons_temp)):\n",
    "    if len(peaks_cons_temp[i]) != 0:\n",
    "        print('consonance')\n",
    "        print(i)"
   ]
  },
  {
   "cell_type": "code",
   "execution_count": null,
   "metadata": {},
   "outputs": [],
   "source": [
    "cons_noise2 = EMD_spectromorph_graph(path, \"SpectralCentroid\", 'EEG')"
   ]
  },
  {
   "cell_type": "code",
   "execution_count": null,
   "metadata": {},
   "outputs": [],
   "source": [
    "cons_noise2"
   ]
  },
  {
   "cell_type": "code",
   "execution_count": null,
   "metadata": {},
   "outputs": [],
   "source": [
    "##Compare n of consonance between EEG and white noise\n",
    "\n",
    "def EMD_spectromorph_graph(path, method, input_data='EEG'):\n",
    "    from random import seed\n",
    "    from random import gauss\n",
    "    from pandas import Series\n",
    "    from pandas.plotting import autocorrelation_plot\n",
    "    epochs = mne.read_epochs(path)\n",
    "    epochs = epochs.apply_baseline((-1.5, -0.1))\n",
    "    epochs = epochs.crop(0.5, 7.5)\n",
    "    channels = epochs.ch_names[0:20]\n",
    "    n=0 #Will calculate the number of consonant pitches found\n",
    "    for condition in conditions:\n",
    "        for seed_n, ch in enumerate(channels): \n",
    "            eeg_data = epochs[condition].average(ch)\n",
    "            eeg_data = np.average(eeg_data.data, axis = 0)\n",
    "            s = np.interp(eeg_data, (eeg_data.min(), eeg_data.max()), (0, +1))\n",
    "            if input_data == 'noise':\n",
    "                seed(seed_n)\n",
    "                s =  [gauss(0.0, 1.0) for i in range(len(eeg_data))]\n",
    "                s = np.array(s)\n",
    "                s = np.interp(s, (s.min(), s.max()), (0, +1))\n",
    "            eemd = EEMD()\n",
    "            S = s\n",
    "            t = np.linspace(0, 1, len(eeg_data))\n",
    "            # Say we want detect extrema using parabolic method\n",
    "            emd = eemd.EMD\n",
    "            emd.extrema_detection=\"parabol\"\n",
    "            eIMFs = EMD().emd(s,t)\n",
    "            eIMFs = np.flip(eIMFs, axis =0)\n",
    "            \n",
    "            eIMFs = eIMFs[2:7]\n",
    "            df = pd.DataFrame()\n",
    "            i = 0\n",
    "            for e in eIMFs:\n",
    "                i +=1\n",
    "                [f,t] = computeFeatureCl(e, method, 1000)\n",
    "                #[f,t] = pyACA.computePitch(method, e, 1000, afWindow=None, iBlockLength=1000, iHopLength=200)\n",
    "                df[i] = np.squeeze(f)\n",
    "            peaks_t = []\n",
    "            peaks_list = []\n",
    "            for t in range(len(df)):\n",
    "                imf_temp = []\n",
    "                for imf in range(df.shape[1]):\n",
    "                    imf = imf+1\n",
    "                    imf_temp.append(df.loc[t, imf])\n",
    "                peaks_list.append(imf_temp) \n",
    "            peaks_total = np.array(peaks_list) \n",
    "            print('peaks shape')\n",
    "            print(peaks_total.shape)\n",
    "            cons_tot = []\n",
    "            peaks_cons_temp = []\n",
    "            for peaks in peaks_total[1:20]:\n",
    "                cons, peaks_cons = compute_consonance(peaks, 0.1)\n",
    "                peaks_cons_temp.append(peaks_cons)\n",
    "\n",
    "            xposition = []\n",
    "            for i in range(len(peaks_cons_temp)):\n",
    "                if len(peaks_cons_temp[i]) != 0:\n",
    "                    xposition.append(i)\n",
    "                    n = n+1\n",
    "            ax = sbn.lineplot(data=df.loc[1:20, 0:5], dashes = False)\n",
    "            ax.set(xlabel='Time', ylabel=method)\n",
    "            ax.set_yscale('log')\n",
    "            plt.legend(scatterpoints=1, frameon=True, labelspacing=1, title='EMDs', loc = 'best')\n",
    "            colors = ['black','black','black','black','black','black','black','black','black','black']\n",
    "            labels = ['EMD1', 'EMD2', 'EMD3', 'EMD4', 'EMD5', 'EMD6']\n",
    "            for xc,c, l in zip(xposition,colors, labels):\n",
    "                plt.axvline(x=xc, label='{} = {}'.format(l, xc), c=c, linestyle = 'dotted')\n",
    "            \n",
    "            \n",
    "            plt.savefig('Spectromorph_EMD_multi-{}_{}_{}-cond-{}'.format(input_data, ch, method, condition), dpi=120)\n",
    "            plt.clf()\n",
    "    return n"
   ]
  },
  {
   "cell_type": "code",
   "execution_count": null,
   "metadata": {},
   "outputs": [],
   "source": []
  },
  {
   "cell_type": "code",
   "execution_count": null,
   "metadata": {},
   "outputs": [],
   "source": [
    "a= pyACA.computeKey(eeg_data,  1000)\n",
    "a"
   ]
  },
  {
   "cell_type": "code",
   "execution_count": null,
   "metadata": {},
   "outputs": [],
   "source": [
    "[T,beats] = pyACA.computeBeatHisto(eeg_data, 1000)\n",
    "plt.plot(T,np.squeeze(beats))"
   ]
  },
  {
   "cell_type": "code",
   "execution_count": null,
   "metadata": {},
   "outputs": [],
   "source": []
  },
  {
   "cell_type": "code",
   "execution_count": null,
   "metadata": {},
   "outputs": [],
   "source": [
    "[f,t] = computeFeatureCl(eIMFs[3], \"SpectralSlope\", 1024)\n",
    "pitch_chroma = pd.DataFrame(f)\n",
    "pitch_chroma"
   ]
  },
  {
   "cell_type": "code",
   "execution_count": null,
   "metadata": {},
   "outputs": [],
   "source": []
  },
  {
   "cell_type": "code",
   "execution_count": null,
   "metadata": {},
   "outputs": [],
   "source": []
  },
  {
   "cell_type": "code",
   "execution_count": null,
   "metadata": {},
   "outputs": [],
   "source": [
    "##Plot of pitch tracking across EMDs###\n",
    "df = pd.DataFrame()\n",
    "i = 0\n",
    "for e in eIMFs:\n",
    "    i +=1\n",
    "    [f, t] = pyACA.computePitch('TimeAcf', e, 1000, afWindow=None, iBlockLength=1000, iHopLength=200)\n",
    "    df[i] = f"
   ]
  },
  {
   "cell_type": "code",
   "execution_count": null,
   "metadata": {},
   "outputs": [],
   "source": [
    "import seaborn as sbn\n",
    "ax = sbn.lineplot(data=df.loc[0:13, 3:6], dashes = False)\n",
    "ax.set(xlabel='Time', ylabel='Pitch (SpectralAcf)')\n",
    "ax.set_yscale('log')\n",
    "plt.legend(scatterpoints=1, frameon=True, labelspacing=1, title='EMDs', loc = 'lower left')\n",
    "#plt.savefig('EMDs_pitch_par_frontalR', dpi=120)"
   ]
  },
  {
   "cell_type": "code",
   "execution_count": null,
   "metadata": {},
   "outputs": [],
   "source": [
    "array = ((np.array(df)).T)*100\n",
    "array[4]"
   ]
  },
  {
   "cell_type": "code",
   "execution_count": null,
   "metadata": {},
   "outputs": [],
   "source": [
    "###PLAY AUDIO#####\n",
    "\n",
    "import math\n",
    "\n",
    "from pyaudio import PyAudio # sudo apt-get install python{,3}-pyaudio\n",
    "\n",
    "try:\n",
    "    from itertools import izip\n",
    "except ImportError: # Python 3\n",
    "    izip = zip\n",
    "    xrange = range\n",
    "\n",
    "def sine_tone(frequency, duration, volume=1, sample_rate=44100):\n",
    "    n_samples = int(sample_rate * duration)\n",
    "    restframes = n_samples % sample_rate\n",
    "\n",
    "    p = PyAudio()\n",
    "    stream = p.open(format=p.get_format_from_width(1), # 8bit\n",
    "                    channels=1, # mono\n",
    "                    rate=sample_rate,\n",
    "                    output=True)\n",
    "    s = lambda t: volume * math.sin(2 * math.pi * frequency * t / sample_rate)\n",
    "    samples = (int(s(t) * 0x7f + 0x80) for t in xrange(n_samples))\n",
    "    for buf in izip(*[samples]*sample_rate): # write several samples at a time\n",
    "        stream.write(bytes(bytearray(buf)))\n",
    "\n",
    "    # fill remainder of frameset with silence\n",
    "    stream.write(b'\\x80' * restframes)\n",
    "\n",
    "    stream.stop_stream()\n",
    "    stream.close()\n",
    "    p.terminate()"
   ]
  },
  {
   "cell_type": "code",
   "execution_count": null,
   "metadata": {},
   "outputs": [],
   "source": [
    "\n",
    "for i in range(len(array[3])):\n",
    "    print(array[3][i])\n",
    "    sine_tone(array[3][i], 0.2, volume=0.5)\n",
    "    \n",
    "    #sine_tone(array[4][i], 0.2, volume=0.5)"
   ]
  },
  {
   "cell_type": "code",
   "execution_count": null,
   "metadata": {},
   "outputs": [],
   "source": [
    "sine_tone(300, 0.5, volume=1)"
   ]
  },
  {
   "cell_type": "code",
   "execution_count": null,
   "metadata": {},
   "outputs": [],
   "source": [
    "import operator\n",
    "import scipy\n",
    "peaks_EMD = []\n",
    "for e in range(len(eIMFs[1 :-1])):\n",
    "    freqs, psd = scipy.signal.welch(eIMFs[e], 1000, nfft = 4096, nperseg = 1024)\n",
    "    index, value = max(enumerate(psd), key=operator.itemgetter(1))\n",
    "    peaks_EMD.append(freqs[index])\n",
    "    \n",
    "peaks_EMD = np.round(peaks_EMD[1:-1], 1)"
   ]
  },
  {
   "cell_type": "code",
   "execution_count": null,
   "metadata": {},
   "outputs": [],
   "source": [
    "peaks_EMD"
   ]
  },
  {
   "cell_type": "code",
   "execution_count": null,
   "metadata": {},
   "outputs": [],
   "source": [
    "import scipy.signal\n",
    "from matplotlib.ticker import FormatStrFormatter\n",
    "from matplotlib.ticker import StrMethodFormatter\n",
    "##plot PowerSpectralPlot of each EMD##\n",
    "freqs, psd = scipy.signal.welch(eIMFs[3], 1000, nfft = 4096, nperseg = 512)\n",
    "freqs2, psd2 = scipy.signal.welch(eIMFs[2], 1000, nfft = 4096, nperseg = 512)\n",
    "\n",
    "plt.figure(figsize=(5, 4))\n",
    "plt.plot(freqs, psd)\n",
    "plt.plot(freqs, psd2)\n",
    "\n",
    "plt.xlim([1, 60])\n",
    "#plt.gca().yaxis.set_major_formatter(StrMethodFormatter('{x:,.4f}'))\n",
    "plt.title('PSD of Empirical Mode Decomposition 1')\n",
    "plt.xlabel('Frequency')\n",
    "plt.ylabel('Power')\n",
    "plt.xscale('log')\n",
    "plt.tight_layout()\n",
    "#plt.savefig('PSD_EMD_5_delta', dpi=120)"
   ]
  },
  {
   "cell_type": "code",
   "execution_count": null,
   "metadata": {},
   "outputs": [],
   "source": []
  },
  {
   "cell_type": "code",
   "execution_count": null,
   "metadata": {},
   "outputs": [],
   "source": []
  },
  {
   "cell_type": "code",
   "execution_count": null,
   "metadata": {
    "scrolled": true
   },
   "outputs": [],
   "source": []
  },
  {
   "cell_type": "code",
   "execution_count": 237,
   "metadata": {},
   "outputs": [
    {
     "name": "stdout",
     "output_type": "stream",
     "text": [
      "Reading ../../pareidolia_run4.fif ...\n"
     ]
    },
    {
     "name": "stderr",
     "output_type": "stream",
     "text": [
      "<ipython-input-237-e80bd605d432>:2: RuntimeWarning: This filename (../../pareidolia_run4.fif) does not conform to MNE naming conventions. All epochs files should end with -epo.fif, -epo.fif.gz, _epo.fif or _epo.fif.gz\n",
      "  epochs = mne.read_epochs(path)\n"
     ]
    },
    {
     "name": "stdout",
     "output_type": "stream",
     "text": [
      "    Found the data of interest:\n",
      "        t =   -1500.00 ...    8000.00 ms\n",
      "        0 CTF compensation matrices available\n",
      "84 matching events found\n",
      "Applying baseline correction (mode: mean)\n",
      "Not setting metadata\n",
      "0 projection items activated\n",
      "Applying baseline correction (mode: mean)\n",
      "Setting up band-pass filter from 0.1 - 1e+02 Hz\n",
      "\n",
      "FIR filter parameters\n",
      "---------------------\n",
      "Designing a one-pass, zero-phase, non-causal bandpass filter:\n",
      "- Windowed time-domain design (firwin) method\n",
      "- Hamming window with 0.0194 passband ripple and 53 dB stopband attenuation\n",
      "- Lower passband edge: 0.10\n",
      "- Lower transition bandwidth: 0.10 Hz (-6 dB cutoff frequency: 0.05 Hz)\n",
      "- Upper passband edge: 100.00 Hz\n",
      "- Upper transition bandwidth: 25.00 Hz (-6 dB cutoff frequency: 112.50 Hz)\n",
      "- Filter length: 33001 samples (33.001 sec)\n",
      "\n"
     ]
    },
    {
     "name": "stderr",
     "output_type": "stream",
     "text": [
      "<ipython-input-237-e80bd605d432>:5: RuntimeWarning: filter_length (33001) is longer than the signal (7001), distortion is likely. Reduce filter length or filter a longer signal.\n",
      "  epochs_filter = epochs2.filter(0.1, 100)\n"
     ]
    }
   ],
   "source": [
    "path = '../../pareidolia_run4.fif'\n",
    "epochs = mne.read_epochs(path)\n",
    "epochs2 = epochs.copy().apply_baseline((-1.5, -0.1))\n",
    "epochs2 = epochs2.crop(0.5, 7.5)\n",
    "epochs_filter = epochs2.filter(0.1, 100)"
   ]
  },
  {
   "cell_type": "code",
   "execution_count": null,
   "metadata": {
    "scrolled": true
   },
   "outputs": [],
   "source": [
    "par = ['Image_on_par_high', 'Image_on_par_mid', 'Image_on_par_low']\n",
    "nopar = ['Image_on_nopar_high', 'Image_on_nopar_mid', 'Image_on_nopar_low']\n",
    "condition = nopar\n",
    "ch = 'E81'\n",
    "dim_reduc = 'avg' #Mode could either be 'avg' or 'mode'\n",
    "precision = 0.25   #Default precision is 0.125Hz\n",
    "FREQ_BANDS = [[1, 3], [3, 7], [7, 12], [12, 30],[30, 70]]\n",
    "peaks= compute_peaks_avg(epochs.copy(), condition, ch, FREQ_BANDS, dim_reduc = dim_reduc, tmin = 0.5, tmax = 7.5, precision = precision, sf =1000)\n",
    "peaks"
   ]
  },
  {
   "cell_type": "code",
   "execution_count": null,
   "metadata": {},
   "outputs": [],
   "source": [
    "eeg_data = epochs2[condition].average('E22')\n",
    "eeg_data = np.average(eeg_data.data, axis = 0)"
   ]
  },
  {
   "cell_type": "code",
   "execution_count": 8,
   "metadata": {},
   "outputs": [],
   "source": [
    "def compute_peaks_raw(eeg_data, FREQ_BANDS, sf=1000, nperseg = 1024, nfft = 4096):\n",
    "    psd_all = []\n",
    "    freqs_all = []\n",
    "    FREQs_temp=[]\n",
    "    for minf, maxf in FREQ_BANDS:\n",
    "        freqs, psd = scipy.signal.welch(eeg_data, sf, nfft = nfft, nperseg = nperseg)\n",
    "        psd = 10. * np.log10(psd) \n",
    "        bin_size = (sf/2)/len(freqs)\n",
    "        min_index = int(minf/bin_size)+2\n",
    "        max_index = int(maxf/bin_size)+2\n",
    "        index_max = np.argmax(np.array(psd[min_index:max_index]))\n",
    "        print(index_max)\n",
    "        freq = freqs[min_index+index_max]\n",
    "         #   print(index_max) # Should not be zero in all bands (would signify strong 1/f trend)\n",
    "        FREQs_temp.append(freq)\n",
    "\n",
    "    FREQS = np.array(FREQs_temp)\n",
    "    return FREQS"
   ]
  },
  {
   "cell_type": "code",
   "execution_count": null,
   "metadata": {},
   "outputs": [],
   "source": [
    "import scipy\n",
    "import random\n",
    "from mspacman.generator import (noise, simulate_pac)\n",
    "euler_ = []\n",
    "channels = epochs.ch_names\n",
    "for seed_n, ch in enumerate(channels[0:20]): \n",
    "    seed_n = seed_n\n",
    "    eeg_data = epochs[condition].average(ch)\n",
    "    \n",
    "    s = np.average(eeg_data.data, axis = 0)\n",
    "    #s = [random.random() for _ in range(len(s))]\n",
    "    s = noise.white(len(eeg_data))\n",
    "    s = np.array(s)\n",
    "    eeg_data = np.interp(s, (s.min(), s.max()), (0, +1))\n",
    "    freqs = compute_peaks_raw(eeg_data, FREQ_BANDS)\n",
    "    peaks_euler = [int(x*10) for x in freqs]\n",
    "    euler_temp = euler(peaks_euler[0], peaks_euler[1], peaks_euler[2], peaks_euler[3], peaks_euler[4])\n",
    "    euler_.append(euler_temp)\n",
    "euler_all_noise_white = np.array(euler_)\n"
   ]
  },
  {
   "cell_type": "code",
   "execution_count": 9,
   "metadata": {},
   "outputs": [
    {
     "ename": "ModuleNotFoundError",
     "evalue": "No module named 'mspacman'",
     "output_type": "error",
     "traceback": [
      "\u001b[1;31m---------------------------------------------------------------------------\u001b[0m",
      "\u001b[1;31mModuleNotFoundError\u001b[0m                       Traceback (most recent call last)",
      "\u001b[1;32m<ipython-input-9-ffbc800e1e62>\u001b[0m in \u001b[0;36m<module>\u001b[1;34m\u001b[0m\n\u001b[1;32m----> 1\u001b[1;33m \u001b[1;32mimport\u001b[0m \u001b[0mmspacman\u001b[0m\u001b[1;33m\u001b[0m\u001b[1;33m\u001b[0m\u001b[0m\n\u001b[0m",
      "\u001b[1;31mModuleNotFoundError\u001b[0m: No module named 'mspacman'"
     ]
    }
   ],
   "source": [
    "import mspacman"
   ]
  },
  {
   "cell_type": "code",
   "execution_count": null,
   "metadata": {},
   "outputs": [],
   "source": [
    "FREQ_BANDS = [[1, 3], [3, 7], [7, 12], [12, 30], [30, 45], [45, 60]]\n",
    "freqs = compute_peaks_raw(eeg_data, FREQ_BANDS, nperseg = 1024, nfft = 2048)\n",
    "freqs"
   ]
  },
  {
   "cell_type": "code",
   "execution_count": null,
   "metadata": {},
   "outputs": [],
   "source": [
    "variable = euler_all4\n",
    "plt.hist(variable, bins = 400)\n",
    "np.mean(variable)"
   ]
  },
  {
   "cell_type": "code",
   "execution_count": null,
   "metadata": {},
   "outputs": [],
   "source": [
    "plt.plot(freqs[0:120], psd[0:120])"
   ]
  },
  {
   "cell_type": "code",
   "execution_count": null,
   "metadata": {},
   "outputs": [],
   "source": [
    "from ipywidgets import interact\n",
    "import ipywidgets as widgets\n",
    "import matplotlib.pyplot as plt\n",
    "import numpy as np\n",
    "from scipy.signal import argrelmin\n",
    "\n",
    "import dissonant as D"
   ]
  },
  {
   "cell_type": "markdown",
   "metadata": {},
   "source": [
    "## Phase-Amplitude Coupling"
   ]
  },
  {
   "cell_type": "code",
   "execution_count": 10,
   "metadata": {},
   "outputs": [
    {
     "name": "stderr",
     "output_type": "stream",
     "text": [
      "C:\\Users\\Dell\\Anaconda3\\lib\\importlib\\_bootstrap.py:219: RuntimeWarning: numpy.ufunc size changed, may indicate binary incompatibility. Expected 192 from C header, got 216 from PyObject\n",
      "  return f(*args, **kwds)\n",
      "C:\\Users\\Dell\\Anaconda3\\lib\\importlib\\_bootstrap.py:219: RuntimeWarning: numpy.ufunc size changed, may indicate binary incompatibility. Expected 192 from C header, got 216 from PyObject\n",
      "  return f(*args, **kwds)\n",
      "C:\\Users\\Dell\\Anaconda3\\lib\\importlib\\_bootstrap.py:219: RuntimeWarning: numpy.ufunc size changed, may indicate binary incompatibility. Expected 192 from C header, got 216 from PyObject\n",
      "  return f(*args, **kwds)\n"
     ]
    }
   ],
   "source": [
    "####PAC###\n",
    "import numpy as np\n",
    "import matplotlib.pyplot as plt\n",
    "\n",
    "from pactools import Comodulogram, REFERENCES\n",
    "from pactools import simulate_pac"
   ]
  },
  {
   "cell_type": "code",
   "execution_count": 254,
   "metadata": {},
   "outputs": [],
   "source": [
    "drive_steps = 50\n",
    "max_drive_freq = 12\n",
    "low_fq_range = np.linspace(1, max_drive_freq, drive_steps)\n",
    "methods = ['penny']\n",
    "    #'ozkurt', 'canolty', 'tort', 'penny', 'vanwijk', 'duprelatour', 'colgin',\n",
    "    #'sigl', 'bispectrum'\n",
    "#]\n",
    "\n",
    "\n",
    "eeg_data = epochs2[nopar].average('E69')\n",
    "eeg_data = np.average(eeg_data.data, axis = 0)\n"
   ]
  },
  {
   "cell_type": "code",
   "execution_count": 255,
   "metadata": {},
   "outputs": [],
   "source": [
    "fs = 1000\n",
    "signal = eeg_data\n",
    "low_fq_width = 0.5  # Hz"
   ]
  },
  {
   "cell_type": "code",
   "execution_count": 256,
   "metadata": {},
   "outputs": [
    {
     "name": "stdout",
     "output_type": "stream",
     "text": [
      "penny... \n"
     ]
    },
    {
     "data": {
      "image/png": "[encoded data removed]",
      "text/plain": [
       "<Figure size 288x648 with 4 Axes>"
      ]
     },
     "metadata": {
      "needs_background": "light"
     },
     "output_type": "display_data"
    }
   ],
   "source": [
    "n_lines = 3\n",
    "n_columns = int(np.ceil(len(methods) / float(n_lines)))\n",
    "fig, axs = plt.subplots(\n",
    "    n_lines, n_columns, figsize=(4 * n_columns, 3 * n_lines))\n",
    "axs = axs.ravel()\n",
    "plt.ylim(0, 50)\n",
    "\n",
    "# Compute the comodulograms and plot them\n",
    "for ax, method in zip(axs, methods):\n",
    "    print('%s... ' % (method, ))\n",
    "    estimator = Comodulogram(fs=fs, low_fq_range=low_fq_range,\n",
    "                             low_fq_width=low_fq_width, method=method,\n",
    "                             progress_bar=False)\n",
    "    estimator.fit(signal)\n",
    "    estimator.plot(titles=[REFERENCES[method]], axs=[ax])\n",
    "\n",
    "plt.show()\n",
    "\n"
   ]
  },
  {
   "cell_type": "code",
   "execution_count": 257,
   "metadata": {},
   "outputs": [
    {
     "data": {
      "text/plain": [
       "(50, 80)"
      ]
     },
     "execution_count": 257,
     "metadata": {},
     "output_type": "execute_result"
    }
   ],
   "source": [
    "estimator.comod_.shape"
   ]
  },
  {
   "cell_type": "code",
   "execution_count": 261,
   "metadata": {},
   "outputs": [
    {
     "name": "stdout",
     "output_type": "stream",
     "text": [
      "(29, 4)\n"
     ]
    }
   ],
   "source": [
    "freq_limits = [[3, 10], [20, 45]]\n",
    "#estimator.comod_[][4]\n",
    "pac_data = estimator.comod_\n",
    "drive_min = int(freq_limits[0][0]/(max_drive_freq/drive_steps))\n",
    "drive_max = int(freq_limits[0][1]/(max_drive_freq/drive_steps))\n",
    "signal_min = int(freq_limits[1][0]/((fs/2)/len(pac_data[0])))\n",
    "\n",
    "signal_max = int(freq_limits[1][1]/((fs/2)/len(pac_data[0])))\n",
    "new_pac = pac_data[drive_min:drive_max, signal_min:signal_max]\n",
    "print(new_pac.shape)\n",
    "limit_value = np.quantile(new_pac, 0.95)\n",
    "pac_high = []\n",
    "\n",
    "for d in range(len(pac_data)):\n",
    "    for s in range(len(pac_data[0])):\n",
    "        temp_ = pac_data[d][s]\n",
    "        if temp_ > limit_value:\n",
    "            d_freq = d*(max_drive_freq/drive_steps)\n",
    "            s_freq = s*((fs/2)/len(pac_data[0]))\n",
    "            if d_freq >= freq_limits[0][0] and d_freq <= freq_limits[0][1] and s_freq >= freq_limits[1][0] and s_freq <= freq_limits[1][1]:           #print(driver_freq)\n",
    "                pac_high.append((d_freq, s_freq))\n",
    "\n"
   ]
  },
  {
   "cell_type": "code",
   "execution_count": 262,
   "metadata": {},
   "outputs": [
    {
     "data": {
      "text/plain": [
       "[(6.24, 25.0),\n",
       " (6.24, 31.25),\n",
       " (6.24, 43.75),\n",
       " (6.4799999999999995, 37.5),\n",
       " (6.4799999999999995, 43.75),\n",
       " (6.72, 43.75)]"
      ]
     },
     "execution_count": 262,
     "metadata": {},
     "output_type": "execute_result"
    }
   ],
   "source": [
    "pac_high"
   ]
  },
  {
   "cell_type": "code",
   "execution_count": 123,
   "metadata": {},
   "outputs": [
    {
     "data": {
      "text/plain": [
       "[(4.4, 56.25),\n",
       " (4.6000000000000005, 31.25),\n",
       " (4.6000000000000005, 56.25),\n",
       " (4.800000000000001, 31.25),\n",
       " (5.0, 31.25),\n",
       " (5.2, 31.25),\n",
       " (6.0, 31.25),\n",
       " (6.4, 37.5),\n",
       " (7.0, 37.5),\n",
       " (7.2, 37.5),\n",
       " (7.2, 43.75),\n",
       " (7.2, 56.25),\n",
       " (9.8, 31.25)]"
      ]
     },
     "execution_count": 123,
     "metadata": {},
     "output_type": "execute_result"
    }
   ],
   "source": [
    "\n",
    "#estimator.comod_[][4]\n",
    "pac_data = estimator.comod_\n",
    "limit_value = np.quantile(new_pac, 0.99)\n",
    "pac_high = []\n",
    "\n",
    "for d in range(len(pac_data)):\n",
    "    for s in range(len(pac_data[0])):\n",
    "        temp_ = pac_data[d][s]\n",
    "        if temp_ > limit_value:\n",
    "            print('got it')\n",
    "            d_freq = d*(max_drive_freq/drive_steps)\n",
    "            s_freq = s*((fs/2)/len(pac_data[0]))\n",
    "            if d_freq > 2.5 and s_freq > 30 and s_freq < 60:\n",
    "            #print(driver_freq)\n",
    "                pac_high.append((d_freq, s_freq))"
   ]
  },
  {
   "cell_type": "code",
   "execution_count": 98,
   "metadata": {},
   "outputs": [
    {
     "data": {
      "text/plain": [
       "(50, 80)"
      ]
     },
     "execution_count": 98,
     "metadata": {},
     "output_type": "execute_result"
    }
   ],
   "source": [
    "pac_data.shape"
   ]
  },
  {
   "cell_type": "code",
   "execution_count": 42,
   "metadata": {},
   "outputs": [
    {
     "data": {
      "image/png": "[encoded data removed]",
      "text/plain": [
       "<Figure size 576x576 with 3 Axes>"
      ]
     },
     "metadata": {
      "needs_background": "light"
     },
     "output_type": "display_data"
    },
    {
     "data": {
      "image/png": "[encoded data removed]",
      "text/plain": [
       "<Figure size 576x576 with 3 Axes>"
      ]
     },
     "metadata": {
      "needs_background": "light"
     },
     "output_type": "display_data"
    }
   ],
   "source": [
    "from pactools import PeakLocking\n",
    "fs = 1000  # Hz\n",
    "low_fq = 3.5  # Hz\n",
    "t_plot = 2.0  # sec\n",
    "estimator = PeakLocking(fs=fs, low_fq=low_fq, low_fq_width=2.0, t_plot=t_plot)\n",
    "estimator.fit(signal)\n",
    "estimator.plot()\n",
    "\n",
    "estimator = PeakLocking(fs=fs, low_fq=low_fq, low_fq_width=0.5, t_plot=t_plot)\n",
    "estimator.fit(signal)\n",
    "estimator.plot()\n",
    "\n",
    "plt.show()"
   ]
  },
  {
   "cell_type": "markdown",
   "metadata": {},
   "source": [
    "## Dissonance curve"
   ]
  },
  {
   "cell_type": "code",
   "execution_count": null,
   "metadata": {},
   "outputs": [],
   "source": [
    "\n",
    "def freq_space(base_f=440, octaves=4, steps=1000):\n",
    "    ratios = np.linspace(1, octaves, steps)\n",
    "    freqs = base_f * ratios\n",
    "    return freqs\n",
    "\n",
    "def dissonance_curve(freq_space, n_partials=10, model='sethares1993'):\n",
    "    dissonances = []\n",
    "    for freq in freq_space:\n",
    "        h_freqs, h_amps = D.harmonic_tone([freq_space[0], freq], n_partials=n_partials)\n",
    "        d = D.dissonance(h_freqs, h_amps, model=model)\n",
    "        dissonances.append(d)\n",
    "    dissonances = np.array(dissonances)\n",
    "    return dissonances\n",
    "\n",
    "def plot_dissonance_curve(freqs, dissonances):\n",
    "    minima = argrelmin(dissonances)[0]\n",
    "\n",
    "    plt.figure(figsize=(16, 3))\n",
    "    plt.xlim(freqs[0], freqs[-1])\n",
    "    plt.plot(freqs, dissonances)\n",
    "    for m in minima:\n",
    "        plt.axvline(freqs[m], c='r', ls=':')\n",
    "    plt.xlabel('frequency')\n",
    "    plt.ylabel('dissonance')"
   ]
  },
  {
   "cell_type": "code",
   "execution_count": null,
   "metadata": {},
   "outputs": [],
   "source": [
    "freqs = [x*10 for x in freqs]\n",
    "plot_dissonance_curve(freqs, dissonance_curve(freqs, n_partials=100, model='sethares1993'))"
   ]
  },
  {
   "cell_type": "code",
   "execution_count": null,
   "metadata": {},
   "outputs": [],
   "source": [
    "from fractions import Fraction\n",
    "from math import log\n",
    "from functools import reduce\n",
    "def gcd(*numbers):\n",
    "    \"\"\"\n",
    "    Return the greatest common divisor of the given integers\n",
    "    The result will have the same sign as the last number given (so that\n",
    "    when the last number is divided by the result, the result comes out\n",
    "    positive).\n",
    "    \"\"\"\n",
    "    def gcd(a, b):\n",
    "        while b:\n",
    "            a, b = b, a % b\n",
    "        return a\n",
    "\n",
    "    return reduce(gcd, numbers)\n",
    "def reduced_form(*numbers):\n",
    "    \"\"\"\n",
    "    Return a tuple of numbers which is the reduced form of the input,\n",
    "    which is a list of integers\n",
    "    \"\"\"\n",
    "    return tuple(int(a // gcd(*numbers)) for a in numbers)\n",
    "def lcm(*numbers):\n",
    "    \"\"\"\n",
    "    Return the least common multiple of the given integers\n",
    "    \"\"\"\n",
    "    def lcm(a, b):\n",
    "        if a == b == 0:\n",
    "            return 0\n",
    "        return (a * b) // gcd(a, b)\n",
    "\n",
    "    # LCM(a, b, c, d) = LCM(a, LCM(b, LCM(c, d)))\n",
    "    return reduce(lcm, numbers)\n",
    "def prime_factors(n):\n",
    "    \"\"\"\n",
    "    Return a list of the prime factors of the integer n.\n",
    "    Don't use this for big numbers; it's a dumb brute-force method.\n",
    "    \"\"\"\n",
    "    factors = []\n",
    "    lastresult = n\n",
    "\n",
    "    while lastresult > 1:\n",
    "        c = 2\n",
    "        while lastresult % c > 0:\n",
    "            c += 1\n",
    "        factors.append(c)\n",
    "        lastresult /= c\n",
    "\n",
    "    return factors\n",
    "def euler(*numbers):\n",
    "    \"\"\"\n",
    "    Euler's \"gradus suavitatis\" (degree of sweetness) function\n",
    "    Return the \"degree of sweetness\" of a musical interval or chord expressed\n",
    "    as a ratio of frequencies a:b:c, according to Euler's formula\n",
    "    Greater values indicate more dissonance\n",
    "    \"\"\"\n",
    "    factors = prime_factors(lcm(*reduced_form(*numbers)))\n",
    "    return 1 + sum(p - 1 for p in factors)"
   ]
  },
  {
   "cell_type": "code",
   "execution_count": null,
   "metadata": {},
   "outputs": [],
   "source": []
  },
  {
   "cell_type": "code",
   "execution_count": null,
   "metadata": {},
   "outputs": [],
   "source": [
    "##Multiple PSD##\n",
    "from PyEMD import EMD, EEMD\n",
    "import numpy as np\n",
    "import operator\n",
    "import scipy\n",
    "par = ['Image_on_par_high', 'Image_on_par_mid', 'Image_on_par_low']\n",
    "nopar = ['Image_on_nopar_high', 'Image_on_nopar_mid', 'Image_on_nopar_low']\n",
    "conditions = [par, nopar]\n",
    "path = '../../pareidolia_run2.fif'\n",
    "\n",
    "\n",
    "def EMD_PSD_graph(path, spectro='Euler', bands = 0, xmin=1, xmax=70, plot_type = 'stackplot', compare = True, input_data= 'EEG'):\n",
    "    \n",
    "    import random\n",
    "    if bands == 0:\n",
    "        bands = [[0, 3], [3, 7], [7, 12], [12, 30], [30, 70]]\n",
    "    \n",
    "    epochs = mne.read_epochs(path)\n",
    "    epochs = epochs.apply_baseline((-1.5, -0.1))\n",
    "    epochs = epochs.crop(0.5, 7.5)\n",
    "    channels = epochs.ch_names\n",
    "    percentage_fit = []\n",
    "    euler_all = []\n",
    "    for condition in conditions:\n",
    "        i = 0\n",
    "        for seed_n, ch in enumerate(channels): \n",
    "            eeg_data = epochs[condition].average(ch)\n",
    "            eeg_data = np.average(eeg_data.data, axis = 0)\n",
    "            \n",
    "            s = np.interp(eeg_data, (eeg_data.min(), eeg_data.max()), (0, +1))\n",
    "            eemd = EEMD()\n",
    "            if input_data == 'noise':\n",
    "                seed(seed_n)\n",
    "                #s =  [gauss(0.0, 1.0) for i in range(len(eeg_data))]\n",
    "                s = [random.random() for _ in range(len(eeg_data))]\n",
    "                s = noise.white(len(eeg_data))\n",
    "                s = np.array(s)\n",
    "                s = np.interp(s, (s.min(), s.max()), (0, +1))\n",
    "                \n",
    "            _data = s.copy()\n",
    "            t = np.linspace(0, 1, len(eeg_data))\n",
    "            # Say we want detect extrema using parabolic method\n",
    "            emd = eemd.EMD\n",
    "            emd.extrema_detection=\"parabol\"\n",
    "            eIMFs = EMD().emd(s,t)\n",
    "            eIMFs = np.flip(eIMFs, axis =0)\n",
    "            peaks_EMD = []\n",
    "            for e in range(len(eIMFs[:])):\n",
    "                freqs, psd = scipy.signal.welch(eIMFs[e], 1000, nfft = 4096, nperseg = 1024)\n",
    "                index, value = max(enumerate(psd), key=operator.itemgetter(1))\n",
    "                peaks_EMD.append(freqs[index])\n",
    "            peaks_EMD = np.round(peaks_EMD[:], 1)\n",
    "\n",
    "            print(peaks_EMD)\n",
    "\n",
    "            for e, p in enumerate(peaks_EMD):\n",
    "                if p > 3 and p<7 and peaks_EMD[e-1]<3:\n",
    "                    index_start = e-1\n",
    "            if peaks_EMD[index_start+4]<30:\n",
    "                index_start = index_start +1\n",
    "            if peaks_EMD[index_start+4]>90:\n",
    "                index_start = index_start-1\n",
    "            peaks_EMD = peaks_EMD[index_start:index_start+5]\n",
    "            eIMFs = eIMFs[index_start:index_start+5]\n",
    "            freqs_all = []\n",
    "            psd_all = []\n",
    "            for e in range(len(eIMFs)):\n",
    "                freqs, psd = scipy.signal.welch(eIMFs[e], 1000, nfft = 4096, nperseg = 1024)\n",
    "                freqs_all.append(freqs)\n",
    "                psd_all.append(psd)\n",
    "            freqs_all = np.array(freqs_all)\n",
    "            psd_all = np.array(psd_all)\n",
    "            # Stackplot with X, Y, colors value \n",
    "            \n",
    "            \n",
    "            if plot_type == 'line':\n",
    "                color_line = ['aqua', 'darkturquoise', 'darkcyan', 'darkslategrey', 'black']\n",
    "                plt.plot(freqs, psd_all[0], color = color_line[0])\n",
    "                plt.plot(freqs, psd_all[1], color = color_line[1])\n",
    "                plt.plot(freqs, psd_all[2], color = color_line[2])\n",
    "                plt.plot(freqs, psd_all[3], color = color_line[3])\n",
    "                plt.plot(freqs, psd_all[4], color = color_line[4])\n",
    "                color1 = 'midnightblue'\n",
    "                color2 = 'turquoise'\n",
    "                colors = ['darkgoldenrod', 'goldenrod', 'orange', 'gold', 'khaki']\n",
    "                color_bg = ['darkgoldenrod', 'goldenrod', 'orange', 'gold', 'khaki']\n",
    "                #color_bg = ['paleturquoise', 'aqua', 'darkturquoise','darkcyan' , 'darkslategrey']\n",
    "                alpha = [0.6, 0.63, 0.66, 0.69, 0.72]\n",
    "                shadow=0.9\n",
    "                if compare==True:\n",
    "                    freqs_full, psd_full = scipy.signal.welch(_data, 1000, nfft = 4096, nperseg = 1024)\n",
    "                    psd_full = np.interp(psd_full, (psd_full.min(), psd_full.max()), (0, 0.005))\n",
    "                    plt.plot(freqs, psd_full, color = 'deeppink', linestyle='dashed')\n",
    "                plt.text(1.7, 0.0028, 'delta', horizontalalignment = 'center')\n",
    "                plt.text(4.5, 0.0028, 'theta', horizontalalignment = 'center')\n",
    "                plt.text(9, 0.0028, 'alpha', horizontalalignment = 'center')\n",
    "                plt.text(19, 0.0028, 'beta', horizontalalignment = 'center')\n",
    "                plt.text(47, 0.0028, 'gamma', horizontalalignment = 'center')\n",
    "            if plot_type == 'stackplot':\n",
    "                pal = sbn.color_palette(\"YlOrBr\")\n",
    "                plt.stackplot(freqs, psd_all[0], psd_all[1],psd_all[2], psd_all[3], psd_all[4],\n",
    "                          colors =pal)\n",
    "                colors = ['darkslategrey', 'darkcyan', 'darkturquoise', 'aqua', 'paleturquoise']\n",
    "                color_bg = ['navy', 'darkred', 'navy', 'darkred', 'navy']\n",
    "                alpha = [0.2, 0.35, 0.5, 0.65, 0.80]\n",
    "                shadow = 0.9\n",
    "            plt.xlim([xmin, xmax])\n",
    "            plt.ylim([0.000001, 0.005])\n",
    "            #plt.gca().yaxis.set_major_formatter(StrMethodFormatter('{x:,.4f}'))\n",
    "            plt.title('PSD of Empirical Mode Decomposition 1 to 5; ch:{}'.format(ch))\n",
    "            plt.xlabel('Frequency')\n",
    "            plt.ylabel('Power')\n",
    "            plt.yscale('log')\n",
    "            plt.xscale('log')\n",
    "\n",
    "            xposition = peaks_EMD\n",
    "\n",
    "            labels = ['EMD1', 'EMD2', 'EMD3', 'EMD4', 'EMD5']\n",
    "            for p, n, band in zip(peaks_EMD, range(len(labels)), bands):\n",
    "                print(band[0])\n",
    "                print(band[1])\n",
    "                print(p)\n",
    "                \n",
    "                if p > band[0] and p<= band[1]:\n",
    "                    print('got it')\n",
    "                    labels[n] = labels[n]+'*'\n",
    "                    i = i+1\n",
    "            \n",
    "            print(labels)\n",
    "            for xc,c, l in zip(xposition,color_line, labels):\n",
    "                plt.axvline(x=xc, label='{} = {}'.format(l, xc), c=c)\n",
    "            plt.axvspan(0, 3, ymin = shadow, alpha=alpha[0], color=color_bg[0], ec ='black')\n",
    "            plt.axvspan(3, 7, ymin = shadow, alpha=alpha[1], color=color_bg[1],ec ='black')\n",
    "            plt.axvspan(7, 12, ymin = shadow, alpha=alpha[2], color=color_bg[2], ec ='black')\n",
    "            plt.axvspan(12, 30, ymin = shadow, alpha=alpha[3], color=color_bg[3], ec ='black')\n",
    "            plt.axvspan(30, 70, ymin = shadow, alpha=alpha[4], color=color_bg[4], ec ='black')\n",
    "            \n",
    "            plt.legend(loc='lower left')\n",
    "            #plt.show()\n",
    "\n",
    "            #plt.tight_layout()\n",
    "            if spectro == 'Euler':\n",
    "                peaks_euler = [int(x*100) for x in peaks_EMD]\n",
    "                euler_temp = euler(peaks_euler[0], peaks_euler[1], peaks_euler[2], peaks_euler[3], peaks_euler[4])\n",
    "                euler_all.append(euler_temp)\n",
    "\n",
    "                \n",
    "                print(euler_temp)\n",
    "                plt.text(45, 0.001, 'Euler = '+str(int(euler_temp)), horizontalalignment = 'center')\n",
    "                \n",
    "            \n",
    "            plt.savefig('PSD_EMD_multi_{}_{}_cond-{}_{}'.format(plot_type, ch, condition, spectro), dpi=120)\n",
    "            plt.clf()\n",
    "        percentage_fit.append((i/(len(epochs.ch_names)*5))*100)\n",
    "    percentage_fit = np.array(percentage_fit)\n",
    "    euler_output = np.array(euler_all)\n",
    "    return percentage_fit, euler_output\n",
    "    \n",
    " "
   ]
  },
  {
   "cell_type": "code",
   "execution_count": null,
   "metadata": {},
   "outputs": [],
   "source": []
  },
  {
   "cell_type": "code",
   "execution_count": null,
   "metadata": {},
   "outputs": [],
   "source": [
    "epochs = mne.read_epochs(path)\n",
    "epochs = epochs.apply_baseline((-1.5, -0.1))\n",
    "epochs = epochs.crop(0.5, 7.5)"
   ]
  },
  {
   "cell_type": "code",
   "execution_count": null,
   "metadata": {
    "scrolled": true
   },
   "outputs": [],
   "source": [
    "from PyEMD import EMD, EEMD\n",
    "import numpy as np\n",
    "import operator\n",
    "import scipy\n",
    "\n",
    "\n",
    "plot_type = 'line'\n",
    "xmin=1\n",
    "xmax=70\n",
    "bands = [[0, 3], [3, 7], [7, 12], [12, 30], [30, 70]]\n",
    "compare=True\n",
    "ch = frontal_L\n",
    "spectro = 'Euler'\n",
    "condition = par\n",
    "\n",
    "\n",
    "eeg_data = epochs[condition].average(ch)\n",
    "eeg_data = np.average(eeg_data.data, axis = 0)\n",
    "print(eeg_data.shape)\n",
    "s = np.interp(eeg_data, (eeg_data.min(), eeg_data.max()), (0, +1))\n",
    "eemd = EEMD()\n",
    "S = s\n",
    "t = np.linspace(0, 1, 7001)\n",
    "# Say we want detect extrema using parabolic method\n",
    "emd = eemd.EMD\n",
    "emd.extrema_detection=\"parabol\"\n",
    "eIMFs = EMD().emd(s,t)\n",
    "eIMFs = np.flip(eIMFs, axis =0)\n",
    "peaks_EMD = []\n",
    "for e in range(len(eIMFs[:])):\n",
    "    freqs, psd = scipy.signal.welch(eIMFs[e], 1000, nfft = 4096, nperseg = 1024)\n",
    "    index, value = max(enumerate(psd), key=operator.itemgetter(1))\n",
    "    peaks_EMD.append(freqs[index])\n",
    "peaks_EMD = np.round(peaks_EMD[:], 1)\n",
    "\n",
    "print(peaks_EMD)\n",
    "\n",
    "for e, p in enumerate(peaks_EMD):\n",
    "    if p > 3 and p<7 and peaks_EMD[e-1]<3:\n",
    "        index_start = e-1\n",
    "if peaks_EMD[index_start+4]<30:\n",
    "    index_start = index_start +1\n",
    "if peaks_EMD[index_start+4]>90:\n",
    "    index_start = index_start-1\n",
    "peaks_EMD = peaks_EMD[index_start:index_start+5]\n",
    "eIMFs = eIMFs[index_start:index_start+5]\n",
    "freqs_all = []\n",
    "psd_all = []\n",
    "for e in range(len(eIMFs)):\n",
    "    freqs, psd = scipy.signal.welch(eIMFs[e], 1000, nfft = 4096, nperseg = 1024)\n",
    "    freqs_all.append(freqs)\n",
    "    psd_all.append(psd)\n",
    "freqs_all = np.array(freqs_all)\n",
    "psd_all = np.array(psd_all)\n",
    "# Stackplot with X, Y, colors value \n",
    "\n",
    "\n",
    "if plot_type == 'line':\n",
    "    plt.plot(freqs, psd_all[0], color = 'aqua')\n",
    "    plt.plot(freqs, psd_all[1], color = 'darkturquoise')\n",
    "    plt.plot(freqs, psd_all[2], color = 'darkcyan')\n",
    "    plt.plot(freqs, psd_all[3], color = 'darkslategrey')\n",
    "    plt.plot(freqs, psd_all[4], color = 'black')\n",
    "    \n",
    "    if compare==True:\n",
    "        freqs_full, psd_full = scipy.signal.welch(eeg_data, 1000, nfft = 4096, nperseg = 1024)\n",
    "        psd_full = np.interp(psd_full, (psd_full.min(), psd_full.max()), (0, 0.005))\n",
    "        plt.plot(freqs, psd_full, color = 'magenta', linestyle='dashed')\n",
    "        \n",
    "    \n",
    "    color1 = 'turquoise'\n",
    "    color2 = 'indigo'\n",
    "    colors = ['darkgoldenrod', 'goldenrod', 'orange', 'gold', 'khaki']\n",
    "    color_bg = ['paleturquoise', 'aqua', 'darkturquoise','darkcyan' , 'darkslategrey']\n",
    "    alpha = [0.3, 0.4, 0.5, 0.6, 0.7]\n",
    "    shadow=0.9\n",
    "if plot_type == 'stackplot':\n",
    "    pal = sbn.color_palette(\"YlOrBr\")\n",
    "    plt.stackplot(freqs, psd_all[0], psd_all[1],psd_all[2], psd_all[3], psd_all[4],\n",
    "              colors =pal)\n",
    "    colors = ['darkslategrey', 'darkcyan', 'darkturquoise', 'aqua', 'paleturquoise']\n",
    "    color_bg = ['navy', 'darkred', 'navy', 'darkred', 'navy']\n",
    "    alpha = [0.2, 0.35, 0.5, 0.65, 0.80]\n",
    "    shadow = 0.9\n",
    "plt.xlim([xmin, xmax])\n",
    "plt.ylim([0.000001, 0.005])\n",
    "#plt.gca().yaxis.set_major_formatter(StrMethodFormatter('{x:,.4f}'))\n",
    "plt.title('PSD of Empirical Mode Decomposition 1 to 5; ch:{}'.format(ch))\n",
    "plt.xlabel('Frequency')\n",
    "plt.ylabel('Power')\n",
    "plt.yscale('log')\n",
    "plt.xscale('log')\n",
    "\n",
    "xposition = peaks_EMD\n",
    "\n",
    "labels = ['EMD1', 'EMD2', 'EMD3', 'EMD4', 'EMD5']\n",
    "for p, n, band in zip(peaks_EMD, range(len(labels)), bands):\n",
    "    #print(band[0])\n",
    "    #print(band[1])\n",
    "    #print(p)\n",
    "\n",
    "    if p > band[0] and p<= band[1]:\n",
    "        #print('got it')\n",
    "        labels[n] = labels[n]+'*'\n",
    "        #i = i+1\n",
    "\n",
    "print(labels)\n",
    "for xc,c, l in zip(xposition,colors, labels):\n",
    "    plt.axvline(x=xc, label='{} = {}'.format(l, xc), c=c)\n",
    "plt.axvspan(0, 3, ymin = shadow, alpha=alpha[0], color=color_bg[0], ec ='black')\n",
    "plt.text(1.7, 0.0028, 'delta', horizontalalignment = 'center')\n",
    "plt.text(4.5, 0.0028, 'theta', horizontalalignment = 'center')\n",
    "plt.text(9, 0.0028, 'alpha', horizontalalignment = 'center')\n",
    "plt.text(19, 0.0028, 'beta', horizontalalignment = 'center')\n",
    "plt.text(47, 0.0028, 'gamma', horizontalalignment = 'center')\n",
    "plt.axvspan(3, 7, ymin = shadow, alpha=alpha[1], color=color_bg[1],ec ='black')\n",
    "plt.axvspan(7, 12, ymin = shadow, alpha=alpha[2], color=color_bg[2], ec ='black')\n",
    "plt.axvspan(12, 30, ymin = shadow, alpha=alpha[3], color=color_bg[3], ec ='black')\n",
    "plt.axvspan(30, 70, ymin = shadow, alpha=alpha[4], color=color_bg[4], ec ='black')\n",
    "plt.legend(loc='lower left')\n",
    "euler_all = []\n",
    "if spectro == 'Euler':\n",
    "    peaks_euler = [int(x*100) for x in peaks_EMD]\n",
    "    euler_temp = euler(peaks_euler[0], peaks_euler[1], peaks_euler[2], peaks_euler[3], peaks_euler[4])\n",
    "    euler_all.append(euler_temp)\n",
    "\n",
    "    euler_final = np.array(euler_all)\n",
    "    print(euler_final)\n",
    "    plt.text(45, 0.001, 'Euler = '+str(int(euler_final)), horizontalalignment = 'center')\n",
    "plt.show()\n",
    "\n",
    "#plt.tight_layout()\n",
    "\n",
    "#plt.savefig('PSD_EMD_multi_{}_{}_cond-{}'.format(plot_type, ch, condition), dpi=120)"
   ]
  },
  {
   "cell_type": "code",
   "execution_count": null,
   "metadata": {},
   "outputs": [],
   "source": []
  },
  {
   "cell_type": "code",
   "execution_count": null,
   "metadata": {
    "scrolled": false
   },
   "outputs": [],
   "source": [
    "\n",
    "scores_noise, euler_cons_noise = EMD_PSD_graph(path, spectro = 'Euler', plot_type = 'line', input_data = 'noise')"
   ]
  },
  {
   "cell_type": "code",
   "execution_count": null,
   "metadata": {},
   "outputs": [],
   "source": [
    "scores, euler_cons = EMD_PSD_graph(path, spectro = 'Euler', plot_type = 'line')"
   ]
  },
  {
   "cell_type": "code",
   "execution_count": null,
   "metadata": {},
   "outputs": [],
   "source": [
    "np.mean(euler_cons_noise)"
   ]
  },
  {
   "cell_type": "code",
   "execution_count": null,
   "metadata": {},
   "outputs": [],
   "source": [
    "[f, t] = pyACA.computePitch('TimeAcf', eIMFs[3], 1000, afWindow=None, iBlockLength=512, iHopLength=256)\n",
    "plt.plot(np.squeeze(f))"
   ]
  },
  {
   "cell_type": "code",
   "execution_count": null,
   "metadata": {},
   "outputs": [],
   "source": [
    "peaks_EMD = []\n",
    "for e in range(len(eIMFs[1 :-2])):\n",
    "    freqs, psd = scipy.signal.welch(eIMFs[e], 1000, nfft = 4096, nperseg = 1024)\n",
    "    index, value = max(enumerate(psd), key=operator.itemgetter(1))\n",
    "    peaks_EMD.append(freqs[index])\n",
    "    \n",
    "peaks_EMD = np.round(peaks_EMD[1:-1], 1)\n",
    "np.flip(peaks_EMD)"
   ]
  },
  {
   "cell_type": "code",
   "execution_count": null,
   "metadata": {},
   "outputs": [],
   "source": [
    "eIMFs[3] = np.interp(eIMFs[3], (eIMFs[3].min(), eIMFs[3].max()), (-1, 1))"
   ]
  },
  {
   "cell_type": "code",
   "execution_count": null,
   "metadata": {},
   "outputs": [],
   "source": [
    "eIMFs.shape\n",
    "IMF0 = eIMFs[0][0:6000]\n",
    "IMF1 = eIMFs[1][0:6000]\n",
    "IMF2 = eIMFs[2][0:6000]\n",
    "IMF3 = eIMFs[3][0:6000]\n",
    "IMF4 = eIMFs[4][0:6000]\n",
    "IMF5 = eIMFs[5][0:6000]\n",
    "IMF6 = eIMFs[6][0:6000]\n",
    "IMF7 = eIMFs[7][0:6000]\n",
    "IMF8 = eIMFs[8][0:6000]\n",
    "#IMF9 = eIMFs[9][0:6000]"
   ]
  },
  {
   "cell_type": "code",
   "execution_count": null,
   "metadata": {},
   "outputs": [],
   "source": []
  },
  {
   "cell_type": "code",
   "execution_count": null,
   "metadata": {},
   "outputs": [],
   "source": []
  }
 ],
 "metadata": {
  "kernelspec": {
   "display_name": "Python 3",
   "language": "python",
   "name": "python3"
  },
  "language_info": {
   "codemirror_mode": {
    "name": "ipython",
    "version": 3
   },
   "file_extension": ".py",
   "mimetype": "text/x-python",
   "name": "python",
   "nbconvert_exporter": "python",
   "pygments_lexer": "ipython3",
   "version": "3.7.4"
  }
 },
 "nbformat": 4,
 "nbformat_minor": 2
}
