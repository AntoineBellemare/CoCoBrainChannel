{
 "cells": [
  {
   "cell_type": "code",
   "execution_count": null,
   "metadata": {},
   "outputs": [],
   "source": [
    "FOLDERPATH = r'E:\\PhD\\EEG_data\\Pareidolia_BIDS'\n",
    "FREQ_BANDS = [[1, 3], [3, 7], [7, 12], [12, 20],[20, 30], [30, 45], [45, 60]]\n",
    "FREQ_NAMES = ['delta', 'theta', 'alpha', 'low-beta', 'high-beta', 'gamma1', 'gamma2']\n",
    "RUN_LIST = {'pareidolia':['1', '2', '3', '4']}\n",
    "SUBJ_LIST = ['01']\n",
    "TASK_LIST = ['pareidolia']\n",
    "frontal_L = ['E20', 'E21', 'E22', 'E23', 'E24', 'E26', 'E27', 'E12', 'E18', 'E19', 'E11', 'E15', 'E16']\n",
    "frontal_R = ['E2', 'E3', 'E4', 'E5', 'E118', 'E124', 'E123', 'E9', 'E10', 'E14', 'E11', 'E15', 'E16']\n",
    "frontal_LR = frontal_L+frontal_R\n",
    "occi_R = ['E76', 'E83', 'E84']\n",
    "occi_L = ['E66', 'E70', 'E71']"
   ]
  },
  {
   "cell_type": "code",
   "execution_count": null,
   "metadata": {},
   "outputs": [],
   "source": [
    "import mne\n",
    "from mne.datasets.brainstorm import bst_raw\n",
    "from mne.time_frequency import tfr_morlet, psd_multitaper, psd_welch\n",
    "import numpy as np\n",
    "import matplotlib.pyplot as plt\n",
    "from scipy import stats\n",
    "import scipy.io as sio\n",
    "\n",
    "import pandas as pd\n",
    "import scipy.io as sio\n",
    "from scipy.io import savemat, loadmat\n",
    "from EEG_pareidolia_utils import get_pareidolia_bids, reformat_events\n",
    "from biotuner_utils import *\n",
    "from biotuner_offline import *\n",
    "from biotuner import *"
   ]
  },
  {
   "cell_type": "code",
   "execution_count": null,
   "metadata": {},
   "outputs": [],
   "source": []
  },
  {
   "cell_type": "code",
   "execution_count": null,
   "metadata": {},
   "outputs": [],
   "source": [
    "epochs = mne.read_epochs('../../pareidolia_run4.fif')\n",
    "epochs = epochs.apply_baseline((-1.5, -0.1))\n",
    "#epochs = epochs.crop(tmin, tmax)\n",
    "epochs_data = epochs.get_data()"
   ]
  },
  {
   "cell_type": "code",
   "execution_count": null,
   "metadata": {},
   "outputs": [],
   "source": []
  },
  {
   "cell_type": "code",
   "execution_count": null,
   "metadata": {},
   "outputs": [],
   "source": []
  },
  {
   "cell_type": "code",
   "execution_count": null,
   "metadata": {},
   "outputs": [],
   "source": []
  },
  {
   "cell_type": "code",
   "execution_count": null,
   "metadata": {},
   "outputs": [],
   "source": []
  },
  {
   "cell_type": "code",
   "execution_count": null,
   "metadata": {},
   "outputs": [],
   "source": [
    "peaks"
   ]
  },
  {
   "cell_type": "code",
   "execution_count": null,
   "metadata": {},
   "outputs": [],
   "source": [
    "#This function is used to compute peak values for each frequency bands on evoked data\n",
    "def compute_peaks_EMD(EMD, condition, chs, FREQ_BANDS, dim_reduc = 'avg', tmin = None, tmax = None, precision = 0.125, sf = 1000):\n",
    "    import functools\n",
    "    import pandas as pd\n",
    "    #epochs are cropped as desire (tmin could be before '0', ex: -1.5, depending on the values used during epoching)\n",
    "    epochs = epochs.apply_baseline((-1.5, -0.1))\n",
    "    epochs = epochs.crop(tmin, tmax)\n",
    "    print(epochs.get_data().shape)\n",
    "    EOG_chs = ['E1', 'E8', 'E25', 'E32', 'E126', 'E127']\n",
    "    Unwanted = ['E43', 'E48', 'E49', 'E128', 'E113', 'E120', 'E125', 'E119', 'E129']\n",
    "    All_chs = epochs.info['ch_names'][0:129]\n",
    "    EEG_chs = [ele for ele in All_chs if ele not in Unwanted]\n",
    "    EEG_chs = [ele for ele in EEG_chs if ele not in EOG_chs]\n",
    "    #Find number of samples\n",
    "    n_samples = len(epochs.get_data()[0][0])-1\n",
    "    print(n_samples)\n",
    "    precision = precision/(sf/n_samples)\n",
    "    fft_size = int(n_samples/precision)\n",
    "    #Average across trials for specific condition\n",
    "    evoked = epochs[condition].average(chs)\n",
    "    FREQs_temp2 = []\n",
    "    #This loop iterates for each epoch\n",
    "    for min, max in FREQ_BANDS:\n",
    "        FREQs_temp = []\n",
    "        #psds, freqs = function(epochs[t], fmin=min, fmax=max, bandwidth = 4, picks = EEG_chs)  #PSDs are calculated with this function, giving power values and corresponding frequency bins as output\n",
    "        psds, freqs = psd_welch(evoked, fmin=min, fmax=max, n_fft = fft_size)\n",
    "        psds = 10. * np.log10(psds)   #PSDs values are transformed in log scale to compensate for the 1/f natural slope\n",
    "        for ch in range(len(psds)):\n",
    "            index_max = np.argmax(np.array(psds[ch][:]))\n",
    "            freq = freqs[index_max]\n",
    "            print(index_max) # Should not be zero in all bands (would signify strong 1/f trend)\n",
    "            FREQs_temp.append(freq)\n",
    "        if dim_reduc =='avg':\n",
    "            FREQs_avg = np.average(FREQs_temp)\n",
    "            FREQs_temp2.append(FREQs_avg)\n",
    "        if dim_reduc =='mode':\n",
    "            s = pd.Series(FREQs_temp)\n",
    "            FREQs_mode = s[s.duplicated()].unique().tolist()\n",
    "            import itertools\n",
    "            \n",
    "            FREQs_temp2.append(FREQs_mode)\n",
    "            print(FREQs_temp2)\n",
    "    if dim_reduc =='avg':\n",
    "        FREQs_temp2 = [round(num, 1) for num in FREQs_temp2]\n",
    "    if dim_reduc =='mode':\n",
    "        FREQs_temp2 = list(itertools.chain(*FREQs_temp2))\n",
    "    FREQs = np.array(FREQs_temp2)\n",
    "    return FREQs"
   ]
  },
  {
   "cell_type": "code",
   "execution_count": 63,
   "metadata": {
    "scrolled": true
   },
   "outputs": [
    {
     "name": "stdout",
     "output_type": "stream",
     "text": [
      "Applying baseline correction (mode: mean)\n"
     ]
    },
    {
     "name": "stderr",
     "output_type": "stream",
     "text": [
      "/home/ubuntu/BioTuning/CoCoBrainChannel/Python/biotuner_offline.py:55: RuntimeWarning: Cropping removes baseline period, setting epochs.baseline = None\n",
      "  epochs = epochs.crop(tmin, tmax)\n"
     ]
    },
    {
     "name": "stdout",
     "output_type": "stream",
     "text": [
      "(84, 114, 8001)\n",
      "8000\n",
      "Effective window size : 4.000 (s)\n",
      "0\n",
      "0\n",
      "0\n",
      "0\n",
      "0\n",
      "1\n",
      "7\n",
      "0\n",
      "0\n",
      "1\n",
      "0\n",
      "0\n",
      "0\n",
      "0\n",
      "0\n",
      "0\n",
      "0\n",
      "0\n",
      "0\n",
      "0\n",
      "0\n",
      "1\n",
      "0\n",
      "[[1.0, 1.25]]\n",
      "Effective window size : 4.000 (s)\n",
      "0\n",
      "5\n",
      "11\n",
      "11\n",
      "8\n",
      "8\n",
      "11\n",
      "11\n",
      "8\n",
      "4\n",
      "8\n",
      "11\n",
      "11\n",
      "11\n",
      "0\n",
      "0\n",
      "2\n",
      "2\n",
      "0\n",
      "2\n",
      "12\n",
      "0\n",
      "12\n",
      "[[1.0, 1.25], [5.75, 5.0, 3.0, 3.5, 6.0]]\n",
      "Effective window size : 4.000 (s)\n",
      "6\n",
      "9\n",
      "9\n",
      "4\n",
      "9\n",
      "9\n",
      "19\n",
      "19\n",
      "2\n",
      "9\n",
      "4\n",
      "4\n",
      "0\n",
      "0\n",
      "3\n",
      "5\n",
      "5\n",
      "5\n",
      "6\n",
      "5\n",
      "9\n",
      "6\n",
      "9\n",
      "[[1.0, 1.25], [5.75, 5.0, 3.0, 3.5, 6.0], [9.25, 11.75, 8.0, 7.0, 8.25, 8.5]]\n",
      "Effective window size : 4.000 (s)\n",
      "9\n",
      "25\n",
      "4\n",
      "4\n",
      "19\n",
      "12\n",
      "4\n",
      "12\n",
      "27\n",
      "32\n",
      "4\n",
      "4\n",
      "30\n",
      "8\n",
      "32\n",
      "2\n",
      "4\n",
      "13\n",
      "4\n",
      "13\n",
      "20\n",
      "6\n",
      "6\n",
      "[[1.0, 1.25], [5.75, 5.0, 3.0, 3.5, 6.0], [9.25, 11.75, 8.0, 7.0, 8.25, 8.5], [13.0, 15.0, 20.0, 15.25, 13.5]]\n",
      "Effective window size : 4.000 (s)\n",
      "40\n",
      "35\n",
      "35\n",
      "35\n",
      "35\n",
      "35\n",
      "35\n",
      "0\n",
      "40\n",
      "25\n",
      "25\n",
      "25\n",
      "0\n",
      "0\n",
      "36\n",
      "34\n",
      "34\n",
      "0\n",
      "34\n",
      "0\n",
      "35\n",
      "7\n",
      "3\n",
      "[[1.0, 1.25], [5.75, 5.0, 3.0, 3.5, 6.0], [9.25, 11.75, 8.0, 7.0, 8.25, 8.5], [13.0, 15.0, 20.0, 15.25, 13.5], [28.75, 30.0, 26.25, 20.0, 28.5]]\n",
      "Effective window size : 4.000 (s)\n",
      "5\n",
      "5\n",
      "5\n",
      "5\n",
      "5\n",
      "5\n",
      "5\n",
      "5\n",
      "5\n",
      "16\n",
      "10\n",
      "3\n",
      "9\n",
      "6\n",
      "22\n",
      "9\n",
      "24\n",
      "9\n",
      "24\n",
      "39\n",
      "5\n",
      "5\n",
      "10\n",
      "[[1.0, 1.25], [5.75, 5.0, 3.0, 3.5, 6.0], [9.25, 11.75, 8.0, 7.0, 8.25, 8.5], [13.0, 15.0, 20.0, 15.25, 13.5], [28.75, 30.0, 26.25, 20.0, 28.5], [31.25, 32.25, 36.0, 32.5]]\n",
      "Effective window size : 4.000 (s)\n",
      "22\n",
      "41\n",
      "1\n",
      "1\n",
      "50\n",
      "1\n",
      "1\n",
      "1\n",
      "17\n",
      "32\n",
      "1\n",
      "34\n",
      "1\n",
      "1\n",
      "30\n",
      "29\n",
      "29\n",
      "11\n",
      "11\n",
      "11\n",
      "1\n",
      "53\n",
      "1\n",
      "[[1.0, 1.25], [5.75, 5.0, 3.0, 3.5, 6.0], [9.25, 11.75, 8.0, 7.0, 8.25, 8.5], [13.0, 15.0, 20.0, 15.25, 13.5], [28.75, 30.0, 26.25, 20.0, 28.5], [31.25, 32.25, 36.0, 32.5], [45.25, 52.25, 47.75]]\n"
     ]
    },
    {
     "data": {
      "text/plain": [
       "array([ 1.  ,  1.25,  5.75,  5.  ,  3.  ,  3.5 ,  6.  ,  9.25, 11.75,\n",
       "        8.  ,  7.  ,  8.25,  8.5 , 13.  , 15.  , 20.  , 15.25, 13.5 ,\n",
       "       28.75, 30.  , 26.25, 20.  , 28.5 , 31.25, 32.25, 36.  , 32.5 ,\n",
       "       45.25, 52.25, 47.75])"
      ]
     },
     "execution_count": 63,
     "metadata": {},
     "output_type": "execute_result"
    }
   ],
   "source": [
    "par = ['Image_on_par_high', 'Image_on_par_mid', 'Image_on_par_low']\n",
    "nopar = ['Image_on_nopar_high', 'Image_on_nopar_mid', 'Image_on_nopar_low']\n",
    "condition = par\n",
    "chs = frontal_LR\n",
    "dim_reduc = 'mode' #Mode could either be 'avg' or 'mode'\n",
    "precision = 0.25   #Default precision is 0.125Hz\n",
    "peaks= compute_peaks_avg(epochs.copy(), condition, chs, FREQ_BANDS, dim_reduc = dim_reduc, tmin = 0, tmax = 8, precision = precision, sf =1000)\n",
    "peaks"
   ]
  },
  {
   "cell_type": "code",
   "execution_count": null,
   "metadata": {},
   "outputs": [],
   "source": []
  },
  {
   "cell_type": "code",
   "execution_count": 53,
   "metadata": {},
   "outputs": [],
   "source": [
    "from ipywidgets import interact\n",
    "import ipywidgets as widgets\n",
    "import matplotlib.pyplot as plt\n",
    "import numpy as np\n",
    "from scipy.signal import argrelmin\n",
    "import dissonant as D\n",
    "from dissonant import harmonic_tone, dissonance, pitch_to_freq\n",
    "\n",
    "freqs, amps = harmonic_tone(pitch_to_freq([0, 2.5, 7, 12]), n_partials=10)\n",
    "dis = dissonance(freqs, amps, model='sethares1993')\n",
    "dis\n",
    "\n",
    "def freq_space(base_f=440, octaves=4, steps=1000):\n",
    "    ratios = np.linspace(1, octaves, steps)\n",
    "    freqs = base_f * ratios\n",
    "    return freqs\n",
    "\n",
    "def dissonance_curve(freq_space, n_partials=10, model='sethares1993'):\n",
    "    dissonances = []\n",
    "    for freq in freq_space:\n",
    "        h_freqs, h_amps = D.harmonic_tone([freq_space[0], freq], n_partials=n_partials)\n",
    "        #print(h_amps)\n",
    "        d = D.dissonance(h_freqs, h_amps, model=model)\n",
    "        dissonances.append(d)\n",
    "    dissonances = np.array(dissonances)\n",
    "    return dissonances\n",
    "\n",
    "def plot_dissonance_curve(freqs, dissonances):\n",
    "    minima = argrelmin(dissonances)[0]\n",
    "\n",
    "    plt.figure(figsize=(16, 3))\n",
    "    plt.xlim(freqs[0], freqs[-1])\n",
    "    plt.plot(freqs, dissonances)\n",
    "    for m in minima:\n",
    "        plt.axvline(freqs[m], c='r', ls=':')\n",
    "    plt.xlabel('frequency')\n",
    "    plt.ylabel('dissonance')\n",
    "    \n",
    "def diss_curve_minima(freqs, n_partials = 100, mult = 1000):\n",
    "    for f in range(len(freqs)):\n",
    "        freqs[f] = freqs[f]*mult\n",
    "    print(np.min(freqs))\n",
    "    freq_min = np.min(freqs)\n",
    "    dissonance = dissonance_curve(freqs, n_partials=n_partials, model='sethares1993')\n",
    "    minima = argrelmin(dissonance)[0]\n",
    "    freqs_cons = []\n",
    "    freqs_diss_value = []\n",
    "    cons_ratios = []\n",
    "    for m in minima:\n",
    "        freqs_cons.append(freqs[m])\n",
    "        freqs_diss_value.append(dissonance[m])\n",
    "        cons_ratios.append((freqs[m])/freq_min)\n",
    "    freqs_cons = [x for _,x in sorted(zip(freqs_diss_value,freqs_cons))]\n",
    "    return freqs_cons, cons_ratios\n",
    "\n",
    "def rebound(x, low = 1, high = 2, octave = 2):\n",
    "    while x > high:\n",
    "        x = x/octave\n",
    "    while x < low:\n",
    "        x = x*octave\n",
    "    return x"
   ]
  },
  {
   "cell_type": "code",
   "execution_count": 64,
   "metadata": {},
   "outputs": [
    {
     "name": "stdout",
     "output_type": "stream",
     "text": [
      "100.0\n",
      "[3225.0, 3000.0, 1500.0, 1300.0, 800.0, 500.0, 300.0] [3.0, 5.0, 8.0, 13.0, 15.0, 30.0, 32.25]\n"
     ]
    }
   ],
   "source": [
    "freqs = sorted(peaks)\n",
    "#freq = 500 * [1, 2, 3, 4, 5, 6]\n",
    "cons_freqs, cons_ratios = diss_curve_minima(freqs, mult = 100)\n",
    "\n",
    "#for c in range(len(cons_freqs)):\n",
    "#    cons_freqs[c] = rebound(cons_freqs[c])\n",
    "\n",
    "print(cons_freqs, cons_ratios)"
   ]
  },
  {
   "cell_type": "code",
   "execution_count": null,
   "metadata": {},
   "outputs": [],
   "source": []
  },
  {
   "cell_type": "code",
   "execution_count": 65,
   "metadata": {},
   "outputs": [
    {
     "data": {
      "image/png": "[encoded data removed]",
      "text/plain": [
       "<Figure size 1152x216 with 1 Axes>"
      ]
     },
     "metadata": {
      "needs_background": "light"
     },
     "output_type": "display_data"
    }
   ],
   "source": [
    "#freqs = sorted(peaks)\n",
    "for f in range(len(freqs)):\n",
    "        freqs[f] = freqs[f]*10\n",
    "plot_dissonance_curve(freqs, dissonance_curve(freqs, n_partials=100, model='sethares1993'))"
   ]
  },
  {
   "cell_type": "code",
   "execution_count": null,
   "metadata": {},
   "outputs": [],
   "source": []
  },
  {
   "cell_type": "code",
   "execution_count": null,
   "metadata": {},
   "outputs": [],
   "source": [
    "\n"
   ]
  },
  {
   "cell_type": "code",
   "execution_count": null,
   "metadata": {},
   "outputs": [],
   "source": []
  },
  {
   "cell_type": "code",
   "execution_count": null,
   "metadata": {},
   "outputs": [],
   "source": [
    "to_sort = psds[0][88][:]\n",
    "sorted(range(len(to_sort)), key=lambda k: to_sort[k])"
   ]
  },
  {
   "cell_type": "markdown",
   "metadata": {},
   "source": [
    "## Outside of MNE"
   ]
  },
  {
   "cell_type": "code",
   "execution_count": null,
   "metadata": {},
   "outputs": [],
   "source": []
  },
  {
   "cell_type": "code",
   "execution_count": null,
   "metadata": {},
   "outputs": [],
   "source": [
    "epochs['Image_on_par_high'].plot_psd(picks = EEG_chs, fmin=30, fmax =45)"
   ]
  },
  {
   "cell_type": "code",
   "execution_count": null,
   "metadata": {},
   "outputs": [],
   "source": [
    "epochs_frontal_nopar = epochs['Image_on_nopar_high', 'Image_on_nopar_mid', 'Image_on_nopar_low'].average(frontal_LR)\n",
    "epochs_frontal_par = epochs['Image_on_par_high', 'Image_on_par_mid', 'Image_on_par_low'].average(frontal_LR)\n",
    "epochs_occi_par = epochs.average(occi_L)\n",
    "epochs_occi_nopar = epochs['Image_on_nopar_high', 'Image_on_nopar_mid', 'Image_on_nopar_low'].average(occi_L)\n"
   ]
  },
  {
   "cell_type": "code",
   "execution_count": null,
   "metadata": {},
   "outputs": [],
   "source": [
    "frontal_data = np.average(epochs_occi_par.data, axis = 0)"
   ]
  },
  {
   "cell_type": "code",
   "execution_count": null,
   "metadata": {},
   "outputs": [],
   "source": [
    "epochs_frontal_par_detrend = epochs_frontal_par.detrend()"
   ]
  },
  {
   "cell_type": "code",
   "execution_count": null,
   "metadata": {},
   "outputs": [],
   "source": []
  },
  {
   "cell_type": "code",
   "execution_count": null,
   "metadata": {},
   "outputs": [],
   "source": [
    "import scipy\n",
    "fs = 1000\n",
    "nfft = 4000\n",
    "steps = fs/nfft\n",
    "f, pxx = scipy.signal.welch(frontal_data, fs = fs, nfft = nfft)\n",
    "pxx = scipy.signal.detrend(pxx)"
   ]
  },
  {
   "cell_type": "code",
   "execution_count": null,
   "metadata": {},
   "outputs": [],
   "source": [
    "delta = [1, 3]\n",
    "delta_low = int(delta[0]/steps)\n",
    "delta_high = int(delta[1]/steps)\n",
    "theta = [3, 7]\n",
    "theta_low = int(theta[0]/steps)\n",
    "theta_high = int(theta[1]/steps)\n",
    "alpha = [7, 12]\n",
    "alpha_low = int(alpha[0]/steps)\n",
    "alpha_high = int(alpha[1]/steps)\n",
    "SMR = [12, 20]\n",
    "SMR_low = int(SMR[0]/steps)\n",
    "SMR_high = int(SMR[1]/steps)\n",
    "hibeta = [20, 30]\n",
    "hibeta_low = int(hibeta[0]/steps)\n",
    "hibeta_high = int(hibeta[1]/steps)\n",
    "gamma1 = [30, 45]\n",
    "gamma1_low = int(gamma1[0]/steps)\n",
    "gamma1_high = int(gamma1[1]/steps)\n",
    "gamma2 = [45, 60]\n",
    "gamma2_low = int(gamma2[0]/steps)\n",
    "gamma2_high = int(gamma2[1]/steps)\n",
    "\n",
    "\n",
    "\n",
    "delta_power = pxx[delta_low:delta_high]\n",
    "theta_power = pxx[theta_low:theta_high]\n",
    "alpha_power = pxx[alpha_low:alpha_high]\n",
    "SMR_power = pxx[SMR_low:SMR_high]\n",
    "hibeta_power = pxx[hibeta_low:hibeta_high]\n",
    "gamma1_power = pxx[gamma1_low:gamma1_high]\n",
    "gamma2_power = pxx[gamma2_low:gamma2_high]"
   ]
  },
  {
   "cell_type": "code",
   "execution_count": null,
   "metadata": {},
   "outputs": [],
   "source": [
    "plt.plot(gamma2_power)"
   ]
  },
  {
   "cell_type": "code",
   "execution_count": null,
   "metadata": {},
   "outputs": [],
   "source": [
    "#for i in range(len(psds[0][0])):\n",
    "index_max = np.argmax(np.array(to_sort))   \n",
    "index_max"
   ]
  },
  {
   "cell_type": "code",
   "execution_count": null,
   "metadata": {},
   "outputs": [],
   "source": [
    "to_sort = gamma1_power\n",
    "sorted(range(len(to_sort)), key=lambda k: to_sort[k])"
   ]
  },
  {
   "cell_type": "code",
   "execution_count": null,
   "metadata": {},
   "outputs": [],
   "source": []
  },
  {
   "cell_type": "code",
   "execution_count": null,
   "metadata": {},
   "outputs": [],
   "source": []
  },
  {
   "cell_type": "code",
   "execution_count": null,
   "metadata": {},
   "outputs": [],
   "source": []
  },
  {
   "cell_type": "code",
   "execution_count": null,
   "metadata": {},
   "outputs": [],
   "source": []
  },
  {
   "cell_type": "code",
   "execution_count": null,
   "metadata": {},
   "outputs": [],
   "source": [
    "test"
   ]
  },
  {
   "cell_type": "code",
   "execution_count": null,
   "metadata": {},
   "outputs": [],
   "source": [
    "for subj in SUBJ_LIST:\n",
    "    for task in TASK_LIST:\n",
    "        for run in RUN_LIST[task]:\n",
    "            epochs_name, epochs_path = get_pareidolia_bids(FOLDERPATH, subj, task, run, stage = 'epo_long_AR_pnp', cond=None)\n",
    "            epochs = mne.read_epochs(epochs_path)\n",
    "            #Si vous voulez comparer les epochs entières (8sec), il est mieux de laisser de côté le début et la fin des epochs.\n",
    "            psds_welch= compute_psd(epochs, FREQ_BANDS, psd_multitaper, tmin = 0.1, tmax = 7.9)\n",
    "            #le nom du stage doit commencer par PSD, la fin du nom est à votre choix\n",
    "            psds_file, psds_path = get_pareidolia_bids(FOLDERPATH, subj, task, run, stage = 'PSD_long_AR_pnp')\n",
    "            savemat(psds_path, {'PSD': psds_welch})"
   ]
  },
  {
   "cell_type": "code",
   "execution_count": null,
   "metadata": {},
   "outputs": [],
   "source": []
  }
 ],
 "metadata": {
  "kernelspec": {
   "display_name": "Python 3",
   "language": "python",
   "name": "python3"
  },
  "language_info": {
   "codemirror_mode": {
    "name": "ipython",
    "version": 3
   },
   "file_extension": ".py",
   "mimetype": "text/x-python",
   "name": "python",
   "nbconvert_exporter": "python",
   "pygments_lexer": "ipython3",
   "version": "3.7.6"
  }
 },
 "nbformat": 4,
 "nbformat_minor": 2
}
