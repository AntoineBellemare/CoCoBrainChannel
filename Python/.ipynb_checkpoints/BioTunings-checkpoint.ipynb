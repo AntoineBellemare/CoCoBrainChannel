{
 "cells": [
  {
   "cell_type": "markdown",
   "metadata": {},
   "source": [
    "## Imports"
   ]
  },
  {
   "cell_type": "code",
   "execution_count": 1,
   "metadata": {},
   "outputs": [],
   "source": [
    "\n",
    "import numpy as np\n",
    "import math\n",
    "from fractions import Fraction\n",
    "import itertools"
   ]
  },
  {
   "cell_type": "markdown",
   "metadata": {},
   "source": [
    "## Constants"
   ]
  },
  {
   "cell_type": "code",
   "execution_count": 2,
   "metadata": {},
   "outputs": [],
   "source": [
    "#CONSTANT\n",
    "\n",
    "pyt_comma = 0.0136432\n",
    "peaks = [2.4, 6.5, 11.4, 18.8, 29, 33.6]\n",
    "round_peaks = [int(i) for i in peaks]\n",
    "\n",
    "#planet ratios\n",
    "Schumann_earth = [7.83, 14.3, 20.8, 27.3, 33.8]\n",
    "Mercury = 141.27"
   ]
  },
  {
   "cell_type": "markdown",
   "metadata": {},
   "source": [
    "## Functions"
   ]
  },
  {
   "cell_type": "markdown",
   "metadata": {},
   "source": [
    "### Utilities"
   ]
  },
  {
   "cell_type": "code",
   "execution_count": 3,
   "metadata": {},
   "outputs": [],
   "source": [
    "def rebound(x, low = 1, high = 2, octave = 2):\n",
    "    while x > high:\n",
    "        x = x/octave\n",
    "    while x < low:\n",
    "        x = x*octave\n",
    "    return x\n",
    "\n",
    "def nth_root (num, root):\n",
    "    answer = num**(1/root)\n",
    "    return answer\n",
    "\n",
    "\n",
    "#Function that compares lists (i.e. peak harmonics)\n",
    "def compareLists(list1, list2, bounds):\n",
    "    matching = []\n",
    "    matching_pos = []\n",
    "    for i, l1 in enumerate(list1):\n",
    "        for j, l2 in enumerate(list2):\n",
    "            if l2-bounds < l1 < l2+bounds:\n",
    "                matching.append((l1+l2)/2)\n",
    "                matching_pos.append([(l1+l2)/2, i+1, j+1])\n",
    "    matching = np.array(matching)\n",
    "    matching_pos = np.array(matching_pos)\n",
    "    ratios_temp = []\n",
    "    for i in range(len(matching_pos)):\n",
    "        if matching_pos[i][1]>matching_pos[i][2]:\n",
    "            ratios_temp.append(matching_pos[i][1]/matching_pos[i][2])\n",
    "            #print(matching_pos[i][0])\n",
    "        else:\n",
    "            ratios_temp.append(matching_pos[i][2]/matching_pos[i][1])\n",
    "    matching_pos_ratios = np.array(ratios_temp)\n",
    "    return matching, matching_pos, matching_pos_ratios"
   ]
  },
  {
   "cell_type": "code",
   "execution_count": 9,
   "metadata": {},
   "outputs": [
    {
     "data": {
      "text/plain": [
       "array([4. , 5.8])"
      ]
     },
     "execution_count": 9,
     "metadata": {},
     "output_type": "execute_result"
    }
   ],
   "source": [
    "a, b, c = compareLists([4, 4.8, 5.8], [5.8, 4, 8, 10], 0.1)\n",
    "a"
   ]
  },
  {
   "cell_type": "markdown",
   "metadata": {},
   "source": [
    "### Peak ratios and Harmonics"
   ]
  },
  {
   "cell_type": "code",
   "execution_count": 10,
   "metadata": {},
   "outputs": [],
   "source": [
    "#This function calculates the 15 ratios (with the possibility to bound them between 1 and 2) derived from the 6 peaks\n",
    "def compute_peak_ratios(peaks, rebound = 1, octave = 2):\n",
    "    ratios = []\n",
    "    peak_ratios_rebound = []\n",
    "    for p1 in peaks:\n",
    "        for p2 in peaks:\n",
    "            ratio_temp = p2/p1\n",
    "            if ratio_temp == 1:\n",
    "                ratio_temp = None\n",
    "            elif ratio_temp < 1:\n",
    "                ratio_temp = None\n",
    "\n",
    "            ratios.append(ratio_temp)\n",
    "\n",
    "        peak_ratios = np.array(ratios)\n",
    "        peak_ratios = [i for i in peak_ratios if i]\n",
    "        peak_ratios = list(set(peak_ratios))\n",
    "    if rebound == 1:\n",
    "        for peak in peak_ratios:\n",
    "            while peak > octave:\n",
    "                peak = peak/octave\n",
    "            peak_ratios_rebound.append(peak)\n",
    "    peak_ratios_rebound = np.array(peak_ratios_rebound)\n",
    "    peak_ratios_rebound = [i for i in peak_ratios_rebound if i]\n",
    "    peak_ratios = sorted(peak_ratios)\n",
    "    peak_ratios_rebound = sorted(list(set(peak_ratios_rebound)))\n",
    "    return peak_ratios, peak_ratios_rebound"
   ]
  },
  {
   "cell_type": "code",
   "execution_count": 13,
   "metadata": {},
   "outputs": [
    {
     "data": {
      "text/plain": [
       "[1.1586206896551725,\n",
       " 1.5425531914893615,\n",
       " 1.6491228070175439,\n",
       " 1.7538461538461538,\n",
       " 1.7872340425531914,\n",
       " 2.543859649122807,\n",
       " 2.7083333333333335,\n",
       " 2.8923076923076922,\n",
       " 2.9473684210526314,\n",
       " 4.461538461538462,\n",
       " 4.75,\n",
       " 5.1692307692307695,\n",
       " 7.833333333333334,\n",
       " 12.083333333333334,\n",
       " 14.000000000000002]"
      ]
     },
     "execution_count": 13,
     "metadata": {},
     "output_type": "execute_result"
    }
   ],
   "source": [
    "peak_ratios, peak_ratios_bound = compute_peak_ratios(peaks)\n",
    "peak_ratios"
   ]
  },
  {
   "cell_type": "code",
   "execution_count": 91,
   "metadata": {},
   "outputs": [],
   "source": [
    "#This function takes a list of frequency peaks as input and computes the desired number of harmonics\n",
    "#with the formula: x + 2x + 3x ... + nx\n",
    "def EEG_harmonics_mult(peaks, n_harmonics, n_oct_up = 0):\n",
    "    n_harmonics = n_harmonics + 2\n",
    "    multi_harmonics = []\n",
    "    multi_harmonics_rebound = []\n",
    "    for p in peaks:\n",
    "        multi_harmonics_r = []\n",
    "        multi_harm_temp = []\n",
    "        harmonics = []\n",
    "        p = p * (2**n_oct_up)\n",
    "        i = 1\n",
    "        harm_temp = p\n",
    "        while i < n_harmonics:\n",
    "            harm_temp = p * i\n",
    "            harmonics.append(harm_temp)\n",
    "            i+=1\n",
    "        multi_harmonics.append(harmonics)\n",
    "    multi_harmonics = np.array(multi_harmonics)  \n",
    "        \n",
    "    return multi_harmonics\n",
    "\n",
    "#This function takes a list of frequency peaks as input and computes the desired number of harmonics\n",
    "#with the formula: x + x/2 + x/3 ... + x/n\n",
    "def EEG_harmonics_div(peaks, n_harmonics, n_oct_up = 0):\n",
    "    n_harmonics = n_harmonics + 2\n",
    "    multi_harmonics = []\n",
    "    multi_harmonics_sub = []\n",
    "    for p in peaks:\n",
    "                           \n",
    "        harmonics = [] \n",
    "        harmonics_sub = []\n",
    "        p = p * (2**n_oct_up)               \n",
    "        i = 2\n",
    "        harm_temp = p\n",
    "        harm_temp_sub = p\n",
    "        while i < n_harmonics:\n",
    "            harm_temp = harm_temp + (p/i)\n",
    "            harm_temp_sub = abs(harm_temp_sub - (p/i))\n",
    "            harmonics.append(harm_temp)\n",
    "            harmonics_sub.append(harm_temp_sub)\n",
    "            i+=1    \n",
    "        multi_harmonics.append(harmonics)\n",
    "        multi_harmonics_sub.append(harmonics_sub)\n",
    "    multi_harmonics = np.array(multi_harmonics)\n",
    "    multi_harmonics_bounded = multi_harmonics.copy()\n",
    "    multi_harmonics_sub = np.array(multi_harmonics_sub)\n",
    "    multi_harmonics_sub_bounded = multi_harmonics_sub.copy()\n",
    "    #Rebound the result between 1 and 2\n",
    "    for i in range(len(multi_harmonics_bounded)):\n",
    "        for j in range(len(multi_harmonics_bounded[0])):\n",
    "            multi_harmonics_bounded[i][j] = rebound(multi_harmonics_bounded[i][j])\n",
    "            multi_harmonics_sub_bounded[i][j] = rebound(multi_harmonics_sub_bounded[i][j])\n",
    "    return multi_harmonics, multi_harmonics_bounded, multi_harmonics_sub, multi_harmonics_sub_bounded\n",
    "\n",
    "#This function computes harmonics of a list of peaks\n",
    "def harmonic_fit(n_harm = 10, bounds = 1, function = 'mult', peaks = peaks):\n",
    "    from itertools import combinations\n",
    "    peak_bands = []\n",
    "    for i in range(len(peaks)):\n",
    "        peak_bands.append(i)\n",
    "    if function == 'mult':\n",
    "        multi_harmonics = EEG_harmonics_mult(peaks, n_harm)\n",
    "    elif function == 'div':\n",
    "        multi_harmonics, x, y, z = EEG_harmonics_div(peaks, n_harm)\n",
    "    print(multi_harmonics)\n",
    "    list_peaks = list(combinations(peak_bands,2))\n",
    "    #print(list_peaks)\n",
    "    harm_temp = []\n",
    "    for i in range(len(list_peaks)):\n",
    "        harms, b, c = compareLists(multi_harmonics[list_peaks[i][0]], multi_harmonics[list_peaks[i][1]], bounds)  \n",
    "        harm_temp.append(harms)\n",
    "    harm_fit = np.array(harm_temp).squeeze()\n",
    "\n",
    "    if len(peak_bands) > 2:\n",
    "        harm_fit = list(itertools.chain.from_iterable(harm_fit))\n",
    "\n",
    "    return harm_fit"
   ]
  },
  {
   "cell_type": "code",
   "execution_count": 88,
   "metadata": {},
   "outputs": [
    {
     "data": {
      "text/plain": [
       "[0, 1, 2, 3, 4, 5, 6]"
      ]
     },
     "execution_count": 88,
     "metadata": {},
     "output_type": "execute_result"
    }
   ],
   "source": [
    "test = []\n",
    "for i in range(len(peaks)):\n",
    "    test.append(i)\n",
    "test"
   ]
  },
  {
   "cell_type": "code",
   "execution_count": 531,
   "metadata": {},
   "outputs": [
    {
     "name": "stdout",
     "output_type": "stream",
     "text": [
      "[[   2.4    4.8    7.2    9.6   12.    14.4   16.8   19.2   21.6   24.\n",
      "    26.4   28.8   31.2   33.6   36.    38.4   40.8   43.2   45.6   48.\n",
      "    50.4   52.8   55.2   57.6   60.    62.4   64.8   67.2   69.6   72.\n",
      "    74.4   76.8   79.2   81.6   84.    86.4   88.8   91.2   93.6   96.\n",
      "    98.4  100.8  103.2  105.6  108.   110.4  112.8  115.2  117.6  120.\n",
      "   122.4  124.8  127.2  129.6  132.   134.4  136.8  139.2  141.6  144.\n",
      "   146.4  148.8  151.2  153.6  156.   158.4  160.8  163.2  165.6  168.\n",
      "   170.4  172.8  175.2  177.6  180.   182.4]\n",
      " [   3.7    7.4   11.1   14.8   18.5   22.2   25.9   29.6   33.3   37.\n",
      "    40.7   44.4   48.1   51.8   55.5   59.2   62.9   66.6   70.3   74.\n",
      "    77.7   81.4   85.1   88.8   92.5   96.2   99.9  103.6  107.3  111.\n",
      "   114.7  118.4  122.1  125.8  129.5  133.2  136.9  140.6  144.3  148.\n",
      "   151.7  155.4  159.1  162.8  166.5  170.2  173.9  177.6  181.3  185.\n",
      "   188.7  192.4  196.1  199.8  203.5  207.2  210.9  214.6  218.3  222.\n",
      "   225.7  229.4  233.1  236.8  240.5  244.2  247.9  251.6  255.3  259.\n",
      "   262.7  266.4  270.1  273.8  277.5  281.2]\n",
      " [   6.7   13.4   20.1   26.8   33.5   40.2   46.9   53.6   60.3   67.\n",
      "    73.7   80.4   87.1   93.8  100.5  107.2  113.9  120.6  127.3  134.\n",
      "   140.7  147.4  154.1  160.8  167.5  174.2  180.9  187.6  194.3  201.\n",
      "   207.7  214.4  221.1  227.8  234.5  241.2  247.9  254.6  261.3  268.\n",
      "   274.7  281.4  288.1  294.8  301.5  308.2  314.9  321.6  328.3  335.\n",
      "   341.7  348.4  355.1  361.8  368.5  375.2  381.9  388.6  395.3  402.\n",
      "   408.7  415.4  422.1  428.8  435.5  442.2  448.9  455.6  462.3  469.\n",
      "   475.7  482.4  489.1  495.8  502.5  509.2]\n",
      " [   9.2   18.4   27.6   36.8   46.    55.2   64.4   73.6   82.8   92.\n",
      "   101.2  110.4  119.6  128.8  138.   147.2  156.4  165.6  174.8  184.\n",
      "   193.2  202.4  211.6  220.8  230.   239.2  248.4  257.6  266.8  276.\n",
      "   285.2  294.4  303.6  312.8  322.   331.2  340.4  349.6  358.8  368.\n",
      "   377.2  386.4  395.6  404.8  414.   423.2  432.4  441.6  450.8  460.\n",
      "   469.2  478.4  487.6  496.8  506.   515.2  524.4  533.6  542.8  552.\n",
      "   561.2  570.4  579.6  588.8  598.   607.2  616.4  625.6  634.8  644.\n",
      "   653.2  662.4  671.6  680.8  690.   699.2]\n",
      " [  14.3   28.6   42.9   57.2   71.5   85.8  100.1  114.4  128.7  143.\n",
      "   157.3  171.6  185.9  200.2  214.5  228.8  243.1  257.4  271.7  286.\n",
      "   300.3  314.6  328.9  343.2  357.5  371.8  386.1  400.4  414.7  429.\n",
      "   443.3  457.6  471.9  486.2  500.5  514.8  529.1  543.4  557.7  572.\n",
      "   586.3  600.6  614.9  629.2  643.5  657.8  672.1  686.4  700.7  715.\n",
      "   729.3  743.6  757.9  772.2  786.5  800.8  815.1  829.4  843.7  858.\n",
      "   872.3  886.6  900.9  915.2  929.5  943.8  958.1  972.4  986.7 1001.\n",
      "  1015.3 1029.6 1043.9 1058.2 1072.5 1086.8]\n",
      " [  19.2   38.4   57.6   76.8   96.   115.2  134.4  153.6  172.8  192.\n",
      "   211.2  230.4  249.6  268.8  288.   307.2  326.4  345.6  364.8  384.\n",
      "   403.2  422.4  441.6  460.8  480.   499.2  518.4  537.6  556.8  576.\n",
      "   595.2  614.4  633.6  652.8  672.   691.2  710.4  729.6  748.8  768.\n",
      "   787.2  806.4  825.6  844.8  864.   883.2  902.4  921.6  940.8  960.\n",
      "   979.2  998.4 1017.6 1036.8 1056.  1075.2 1094.4 1113.6 1132.8 1152.\n",
      "  1171.2 1190.4 1209.6 1228.8 1248.  1267.2 1286.4 1305.6 1324.8 1344.\n",
      "  1363.2 1382.4 1401.6 1420.8 1440.  1459.2]\n",
      " [  25.6   51.2   76.8  102.4  128.   153.6  179.2  204.8  230.4  256.\n",
      "   281.6  307.2  332.8  358.4  384.   409.6  435.2  460.8  486.4  512.\n",
      "   537.6  563.2  588.8  614.4  640.   665.6  691.2  716.8  742.4  768.\n",
      "   793.6  819.2  844.8  870.4  896.   921.6  947.2  972.8  998.4 1024.\n",
      "  1049.6 1075.2 1100.8 1126.4 1152.  1177.6 1203.2 1228.8 1254.4 1280.\n",
      "  1305.6 1331.2 1356.8 1382.4 1408.  1433.6 1459.2 1484.8 1510.4 1536.\n",
      "  1561.6 1587.2 1612.8 1638.4 1664.  1689.6 1715.2 1740.8 1766.4 1792.\n",
      "  1817.6 1843.2 1868.8 1894.4 1920.  1945.6]]\n"
     ]
    }
   ],
   "source": [
    "peaks = [2.4, 3.7, 6.7, 9.2, 14.3, 19.2, 25.6]\n",
    "harmonic_fitting = harmonic_fit(75, 0.05, 'mult')\n",
    "#harmonic_fitting\n"
   ]
  },
  {
   "cell_type": "code",
   "execution_count": 38,
   "metadata": {},
   "outputs": [
    {
     "data": {
      "text/plain": [
       "[1.1153846153846154,\n",
       " 1.1586206896551725,\n",
       " 1.1875,\n",
       " 1.2719298245614035,\n",
       " 1.2923076923076924,\n",
       " 1.3541666666666667,\n",
       " 1.4461538461538461,\n",
       " 1.4736842105263157,\n",
       " 1.5104166666666667,\n",
       " 1.5425531914893615,\n",
       " 1.6491228070175439,\n",
       " 1.7500000000000002,\n",
       " 1.7538461538461538,\n",
       " 1.7872340425531914,\n",
       " 1.9583333333333335]"
      ]
     },
     "execution_count": 38,
     "metadata": {},
     "output_type": "execute_result"
    }
   ],
   "source": [
    "h, i = compute_peak_ratios(peaks, 1, 2)\n",
    "i"
   ]
  },
  {
   "cell_type": "code",
   "execution_count": 516,
   "metadata": {},
   "outputs": [
    {
     "name": "stdout",
     "output_type": "stream",
     "text": [
      "[[   2.4    4.8    7.2    9.6   12.    14.4   16.8   19.2   21.6   24.\n",
      "    26.4   28.8   31.2   33.6   36.    38.4   40.8   43.2   45.6   48.\n",
      "    50.4   52.8   55.2   57.6   60.    62.4   64.8   67.2   69.6   72.\n",
      "    74.4   76.8   79.2   81.6   84.    86.4   88.8   91.2   93.6   96.\n",
      "    98.4  100.8  103.2  105.6  108.   110.4  112.8  115.2  117.6  120.\n",
      "   122.4]\n",
      " [   3.7    7.4   11.1   14.8   18.5   22.2   25.9   29.6   33.3   37.\n",
      "    40.7   44.4   48.1   51.8   55.5   59.2   62.9   66.6   70.3   74.\n",
      "    77.7   81.4   85.1   88.8   92.5   96.2   99.9  103.6  107.3  111.\n",
      "   114.7  118.4  122.1  125.8  129.5  133.2  136.9  140.6  144.3  148.\n",
      "   151.7  155.4  159.1  162.8  166.5  170.2  173.9  177.6  181.3  185.\n",
      "   188.7]\n",
      " [   6.7   13.4   20.1   26.8   33.5   40.2   46.9   53.6   60.3   67.\n",
      "    73.7   80.4   87.1   93.8  100.5  107.2  113.9  120.6  127.3  134.\n",
      "   140.7  147.4  154.1  160.8  167.5  174.2  180.9  187.6  194.3  201.\n",
      "   207.7  214.4  221.1  227.8  234.5  241.2  247.9  254.6  261.3  268.\n",
      "   274.7  281.4  288.1  294.8  301.5  308.2  314.9  321.6  328.3  335.\n",
      "   341.7]\n",
      " [   9.2   18.4   27.6   36.8   46.    55.2   64.4   73.6   82.8   92.\n",
      "   101.2  110.4  119.6  128.8  138.   147.2  156.4  165.6  174.8  184.\n",
      "   193.2  202.4  211.6  220.8  230.   239.2  248.4  257.6  266.8  276.\n",
      "   285.2  294.4  303.6  312.8  322.   331.2  340.4  349.6  358.8  368.\n",
      "   377.2  386.4  395.6  404.8  414.   423.2  432.4  441.6  450.8  460.\n",
      "   469.2]\n",
      " [  14.3   28.6   42.9   57.2   71.5   85.8  100.1  114.4  128.7  143.\n",
      "   157.3  171.6  185.9  200.2  214.5  228.8  243.1  257.4  271.7  286.\n",
      "   300.3  314.6  328.9  343.2  357.5  371.8  386.1  400.4  414.7  429.\n",
      "   443.3  457.6  471.9  486.2  500.5  514.8  529.1  543.4  557.7  572.\n",
      "   586.3  600.6  614.9  629.2  643.5  657.8  672.1  686.4  700.7  715.\n",
      "   729.3]\n",
      " [  19.2   38.4   57.6   76.8   96.   115.2  134.4  153.6  172.8  192.\n",
      "   211.2  230.4  249.6  268.8  288.   307.2  326.4  345.6  364.8  384.\n",
      "   403.2  422.4  441.6  460.8  480.   499.2  518.4  537.6  556.8  576.\n",
      "   595.2  614.4  633.6  652.8  672.   691.2  710.4  729.6  748.8  768.\n",
      "   787.2  806.4  825.6  844.8  864.   883.2  902.4  921.6  940.8  960.\n",
      "   979.2]\n",
      " [  25.6   51.2   76.8  102.4  128.   153.6  179.2  204.8  230.4  256.\n",
      "   281.6  307.2  332.8  358.4  384.   409.6  435.2  460.8  486.4  512.\n",
      "   537.6  563.2  588.8  614.4  640.   665.6  691.2  716.8  742.4  768.\n",
      "   793.6  819.2  844.8  870.4  896.   921.6  947.2  972.8  998.4 1024.\n",
      "  1049.6 1075.2 1100.8 1126.4 1152.  1177.6 1203.2 1228.8 1254.4 1280.\n",
      "  1305.6]]\n"
     ]
    },
    {
     "data": {
      "text/plain": [
       "[1.0000000000000002,\n",
       " 1.0034843205574913,\n",
       " 1.0434782608695652,\n",
       " 1.043883495145631,\n",
       " 1.0601226993865032,\n",
       " 1.0611979166666667,\n",
       " 1.081081081081081,\n",
       " 1.0895705521472394,\n",
       " 1.0909090909090908,\n",
       " 1.0999999999999999,\n",
       " 1.111111111111111,\n",
       " 1.117621527777778,\n",
       " 1.1215156794425087,\n",
       " 1.125,\n",
       " 1.1250000000000002,\n",
       " 1.142857142857143,\n",
       " 1.15,\n",
       " 1.15625,\n",
       " 1.1562500000000002,\n",
       " 1.1662137681159421,\n",
       " 1.1666666666666667,\n",
       " 1.1707317073170733,\n",
       " 1.177914110429448,\n",
       " 1.189189189189189,\n",
       " 1.1930097087378642,\n",
       " 1.2,\n",
       " 1.2173913043478262,\n",
       " 1.222222222222222,\n",
       " 1.243243243243243,\n",
       " 1.2499999999999998,\n",
       " 1.25,\n",
       " 1.2857142857142858,\n",
       " 1.2957055214723925,\n",
       " 1.297297297297297,\n",
       " 1.333333333333333,\n",
       " 1.3333333333333335,\n",
       " 1.3333333333333337,\n",
       " 1.337979094076655,\n",
       " 1.3379790940766554,\n",
       " 1.3411458333333333,\n",
       " 1.3421359223300973,\n",
       " 1.354601226993865,\n",
       " 1.3749999999999998,\n",
       " 1.375,\n",
       " 1.391304347826087,\n",
       " 1.3913043478260874,\n",
       " 1.4000000000000001,\n",
       " 1.4134969325153373,\n",
       " 1.4198606271777003,\n",
       " 1.4285714285714286,\n",
       " 1.4374999999999998,\n",
       " 1.4375,\n",
       " 1.4498873873873872,\n",
       " 1.4912621359223301,\n",
       " 1.4999999999999996,\n",
       " 1.5,\n",
       " 1.5000000000000002,\n",
       " 1.505226480836237,\n",
       " 1.5135135135135134,\n",
       " 1.541666666666667,\n",
       " 1.5470383275261326,\n",
       " 1.5652173913043481,\n",
       " 1.5714285714285712,\n",
       " 1.5797546012269938,\n",
       " 1.6000000000000003,\n",
       " 1.6086956521739133,\n",
       " 1.640388349514563,\n",
       " 1.649079754601227,\n",
       " 1.6666666666666667,\n",
       " 1.6724738675958188,\n",
       " 1.6764322916666665,\n",
       " 1.6764322916666667,\n",
       " 1.714285714285714,\n",
       " 1.7149514563106796,\n",
       " 1.7297297297297298,\n",
       " 1.7391304347826089,\n",
       " 1.7499999999999998,\n",
       " 1.7500000000000002,\n",
       " 1.789514563106796,\n",
       " 1.8,\n",
       " 1.8333333333333335,\n",
       " 1.8397212543554007,\n",
       " 1.8846625766871166,\n",
       " 1.8846625766871168,\n",
       " 1.9130434782608696,\n",
       " 1.9166666666666667,\n",
       " 1.9233449477351916,\n",
       " 1.9459459459459458,\n",
       " 2.0]"
      ]
     },
     "execution_count": 516,
     "metadata": {},
     "output_type": "execute_result"
    }
   ],
   "source": [
    "\n",
    "z, charm_fit = compute_peak_ratios(harmonic_fit(50, 0.1, 'mult'))\n",
    "charm_fit"
   ]
  },
  {
   "cell_type": "code",
   "execution_count": 9,
   "metadata": {},
   "outputs": [
    {
     "data": {
      "text/plain": [
       "array([[  3.6       ,   4.4       ,   5.        ,   5.48      ,\n",
       "          5.88      ,   6.22285714,   6.52285714,   6.78952381,\n",
       "          7.02952381,   7.24770563],\n",
       "       [ 13.05      ,  15.95      ,  18.125     ,  19.865     ,\n",
       "         21.315     ,  22.55785714,  23.64535714,  24.61202381,\n",
       "         25.48202381,  26.2729329 ],\n",
       "       [ 17.1       ,  20.9       ,  23.75      ,  26.03      ,\n",
       "         27.93      ,  29.55857143,  30.98357143,  32.2502381 ,\n",
       "         33.3902381 ,  34.42660173],\n",
       "       [ 28.2       ,  34.46666667,  39.16666667,  42.92666667,\n",
       "         46.06      ,  48.74571429,  51.09571429,  53.18460317,\n",
       "         55.06460317,  56.77369408],\n",
       "       [ 43.5       ,  53.16666667,  60.41666667,  66.21666667,\n",
       "         71.05      ,  75.19285714,  78.81785714,  82.04007937,\n",
       "         84.94007937,  87.576443  ],\n",
       "       [ 50.4       ,  61.6       ,  70.        ,  76.72      ,\n",
       "         82.32      ,  87.12      ,  91.32      ,  95.05333333,\n",
       "         98.41333333, 101.46787879]])"
      ]
     },
     "execution_count": 9,
     "metadata": {},
     "output_type": "execute_result"
    }
   ],
   "source": [
    "mh, mh_bound, mh_sub, mh_sub_bound = EEG_harmonics_div(peaks, 10, n_oct_up = 0)\n",
    "mh\n",
    "#div_harmonics = compareLists(mh[5], mh[4], 0.01)\n",
    "#div_harmonics"
   ]
  },
  {
   "cell_type": "code",
   "execution_count": 551,
   "metadata": {},
   "outputs": [
    {
     "name": "stdout",
     "output_type": "stream",
     "text": [
      "[[   2.4    4.8    7.2    9.6   12.    14.4   16.8   19.2   21.6   24.\n",
      "    26.4   28.8   31.2   33.6   36.    38.4   40.8   43.2   45.6   48.\n",
      "    50.4   52.8   55.2   57.6   60.    62.4   64.8   67.2   69.6   72.\n",
      "    74.4   76.8   79.2   81.6   84.    86.4   88.8   91.2   93.6   96.\n",
      "    98.4  100.8  103.2  105.6  108.   110.4  112.8  115.2  117.6  120.\n",
      "   122.4]\n",
      " [   3.7    7.4   11.1   14.8   18.5   22.2   25.9   29.6   33.3   37.\n",
      "    40.7   44.4   48.1   51.8   55.5   59.2   62.9   66.6   70.3   74.\n",
      "    77.7   81.4   85.1   88.8   92.5   96.2   99.9  103.6  107.3  111.\n",
      "   114.7  118.4  122.1  125.8  129.5  133.2  136.9  140.6  144.3  148.\n",
      "   151.7  155.4  159.1  162.8  166.5  170.2  173.9  177.6  181.3  185.\n",
      "   188.7]\n",
      " [   6.7   13.4   20.1   26.8   33.5   40.2   46.9   53.6   60.3   67.\n",
      "    73.7   80.4   87.1   93.8  100.5  107.2  113.9  120.6  127.3  134.\n",
      "   140.7  147.4  154.1  160.8  167.5  174.2  180.9  187.6  194.3  201.\n",
      "   207.7  214.4  221.1  227.8  234.5  241.2  247.9  254.6  261.3  268.\n",
      "   274.7  281.4  288.1  294.8  301.5  308.2  314.9  321.6  328.3  335.\n",
      "   341.7]\n",
      " [   9.2   18.4   27.6   36.8   46.    55.2   64.4   73.6   82.8   92.\n",
      "   101.2  110.4  119.6  128.8  138.   147.2  156.4  165.6  174.8  184.\n",
      "   193.2  202.4  211.6  220.8  230.   239.2  248.4  257.6  266.8  276.\n",
      "   285.2  294.4  303.6  312.8  322.   331.2  340.4  349.6  358.8  368.\n",
      "   377.2  386.4  395.6  404.8  414.   423.2  432.4  441.6  450.8  460.\n",
      "   469.2]\n",
      " [  14.3   28.6   42.9   57.2   71.5   85.8  100.1  114.4  128.7  143.\n",
      "   157.3  171.6  185.9  200.2  214.5  228.8  243.1  257.4  271.7  286.\n",
      "   300.3  314.6  328.9  343.2  357.5  371.8  386.1  400.4  414.7  429.\n",
      "   443.3  457.6  471.9  486.2  500.5  514.8  529.1  543.4  557.7  572.\n",
      "   586.3  600.6  614.9  629.2  643.5  657.8  672.1  686.4  700.7  715.\n",
      "   729.3]\n",
      " [  19.2   38.4   57.6   76.8   96.   115.2  134.4  153.6  172.8  192.\n",
      "   211.2  230.4  249.6  268.8  288.   307.2  326.4  345.6  364.8  384.\n",
      "   403.2  422.4  441.6  460.8  480.   499.2  518.4  537.6  556.8  576.\n",
      "   595.2  614.4  633.6  652.8  672.   691.2  710.4  729.6  748.8  768.\n",
      "   787.2  806.4  825.6  844.8  864.   883.2  902.4  921.6  940.8  960.\n",
      "   979.2]\n",
      " [  25.6   51.2   76.8  102.4  128.   153.6  179.2  204.8  230.4  256.\n",
      "   281.6  307.2  332.8  358.4  384.   409.6  435.2  460.8  486.4  512.\n",
      "   537.6  563.2  588.8  614.4  640.   665.6  691.2  716.8  742.4  768.\n",
      "   793.6  819.2  844.8  870.4  896.   921.6  947.2  972.8  998.4 1024.\n",
      "  1049.6 1075.2 1100.8 1126.4 1152.  1177.6 1203.2 1228.8 1254.4 1280.\n",
      "  1305.6]]\n"
     ]
    },
    {
     "name": "stderr",
     "output_type": "stream",
     "text": [
      "C:\\Users\\Dell\\Anaconda3\\lib\\site-packages\\ipykernel_launcher.py:26: DeprecationWarning: The truth value of an empty array is ambiguous. Returning False, but in future this will result in an error. Use `array.size > 0` to check that an array is not empty.\n"
     ]
    },
    {
     "data": {
      "text/plain": [
       "([53, 106, 148, 191], [1.4375, 1.5, 1.25, 1.375, 1.15625, 1.125])"
      ]
     },
     "execution_count": 551,
     "metadata": {},
     "output_type": "execute_result"
    }
   ],
   "source": [
    "#Compute peaks interval of consonant harmonics\n",
    "#conson, cons_values = compute_consonance ((harmonic_fit(50, 0.1, 'mult')), 0.2)\n",
    "#cons_values\n",
    "\n",
    "#Finds the best octave subdivisions for the harmonic spectrum of the peaks list\n",
    "peaks = [42.5, 5.5, 8.3, 1.5, 19.5, 10, 32.4]\n",
    "max_sub = 200\n",
    "octave_limit = 0.01\n",
    "\n",
    "peaks_harmonics = harmonic_fit(50, 0.05, 'mult')\n",
    "\n",
    "oct_div_final, ratios = multi_oct_subdiv(peaks_harmonics, max_sub, octave_limit)\n",
    "oct_div_final, ratios\n"
   ]
  },
  {
   "cell_type": "markdown",
   "metadata": {},
   "source": [
    "### n-TET "
   ]
  },
  {
   "cell_type": "code",
   "execution_count": 95,
   "metadata": {},
   "outputs": [],
   "source": [
    "#Oct_subdiv\n",
    "#Argument 1 : a ratio in the form of a float or a fraction\n",
    "#Argument 2 : bounds between which the octave should fall\n",
    "#Argument 3 : value of the octave\n",
    "#Argument 4 : number of octave subdivisions\n",
    "\n",
    "def oct_subdiv(ratio,bounds,octave,n):    \n",
    "    Octdiv, Octvalue, i = [], [], 1\n",
    "    ratios = []\n",
    "    while len(Octdiv) < n:\n",
    "        ratio_mult = (ratio**i)\n",
    "        while ratio_mult > octave:\n",
    "            ratio_mult = ratio_mult/octave    \n",
    "            \n",
    "        rescale_ratio = ratio_mult - round(ratio_mult)\n",
    "        ratios.append(ratio_mult)\n",
    "        i+=1\n",
    "        if -bounds < rescale_ratio < bounds:\n",
    "            Octdiv.append(i-1)\n",
    "            Octvalue.append(ratio_mult)\n",
    "        else:\n",
    "            continue\n",
    "    return Octdiv, Octvalue, ratios\n",
    "\n",
    "\n",
    "\n",
    "def compare_oct_div(Octdiv = 53, Octdiv2 = 12, bounds = 0.01, octave = 2):\n",
    "    ListOctdiv = []\n",
    "    ListOctdiv2 = []\n",
    "    OctdivSum = 1\n",
    "    OctdivSum2 = 1\n",
    "    i = 1\n",
    "    i2 = 1\n",
    "    Matching_harmonics = []\n",
    "    #HARMONIC_RATIOS = [1, 1.0595, 1.1225, 1.1892, 1.2599, 1.3348, 1.4142, 1.4983, 1.5874, 1.6818, 1.7818, 1.8897]\n",
    "    while OctdivSum < octave:\n",
    "        OctdivSum =(nth_root(octave, Octdiv))**i\n",
    "        i+=1\n",
    "        ListOctdiv.append(OctdivSum)\n",
    "    #print(ListOctdiv)\n",
    "\n",
    "    while OctdivSum2 < octave:\n",
    "        OctdivSum2 =(nth_root(octave, Octdiv2))**i2\n",
    "        i2+=1\n",
    "        ListOctdiv2.append(OctdivSum2)\n",
    "    #print(ListOctdiv2)\n",
    "    for i, n in enumerate(ListOctdiv):\n",
    "        for j, harm in enumerate(ListOctdiv2):\n",
    "            if harm-bounds < n < harm+bounds:\n",
    "                Matching_harmonics.append([n, i+1, harm, j+1])\n",
    "    Matching_harmonics = np.array(Matching_harmonics)\n",
    "    return Matching_harmonics\n",
    "\n",
    "\n"
   ]
  },
  {
   "cell_type": "code",
   "execution_count": 535,
   "metadata": {},
   "outputs": [],
   "source": [
    "##Here we use the most consonant peaks ratios as input of oct_subdiv function. Each consonant ratio \n",
    "##leads to a list of possible octave subdivisions. These lists are compared and optimal octave subdivisions are \n",
    "##determined. \n",
    "\n",
    "#Output1: octave subdivisions\n",
    "#Output2: ratios that led to Output1\n",
    "\n",
    "def multi_oct_subdiv (peaks, max_sub, octave_limit): \n",
    "    import itertools\n",
    "    from collections import Counter\n",
    "    a, b = compute_consonance(peaks, 0.01)\n",
    "    c, ratios = comp_consonant_integers_ratios(b)\n",
    "\n",
    "    list_oct_div = []\n",
    "    for i in range(len(ratios)):\n",
    "        list_temp, no, no2 = oct_subdiv(ratios[i], octave_limit, 2, 30)\n",
    "        list_oct_div.append(list_temp)\n",
    "\n",
    "    \n",
    "    counts = Counter(list(itertools.chain(*list_oct_div)))\n",
    "    oct_div_temp = []\n",
    "    for k, v in counts.items():\n",
    "        if v > 1:\n",
    "            oct_div_temp.append(k)\n",
    "    oct_div_temp = np.sort(oct_div_temp)\n",
    "    oct_div_final = []\n",
    "    for i in range(len(oct_div_temp)):\n",
    "        if oct_div_temp[i] < max_sub:\n",
    "            oct_div_final.append(oct_div_temp[i])\n",
    "    return oct_div_final, ratios"
   ]
  },
  {
   "cell_type": "code",
   "execution_count": 500,
   "metadata": {},
   "outputs": [
    {
     "name": "stderr",
     "output_type": "stream",
     "text": [
      "C:\\Users\\Dell\\Anaconda3\\lib\\site-packages\\ipykernel_launcher.py:26: DeprecationWarning: The truth value of an empty array is ambiguous. Returning False, but in future this will result in an error. Use `array.size > 0` to check that an array is not empty.\n"
     ]
    },
    {
     "data": {
      "text/plain": [
       "([12, 53, 65, 90, 106, 110, 118], [1.5, 1.625, 1.25, 1.6875])"
      ]
     },
     "execution_count": 500,
     "metadata": {},
     "output_type": "execute_result"
    }
   ],
   "source": [
    "peaks = [42.5, 5.2, 7.8, 1.5, 19.4, 9.6, 32.4]\n",
    "max_sub = 120\n",
    "octave_limit = 0.05\n",
    "\n",
    "oct_div_final, ratios = multi_oct_subdiv(peaks, max_sub, octave_limit)\n",
    "oct_div_final, ratios"
   ]
  },
  {
   "cell_type": "markdown",
   "metadata": {},
   "source": [
    "### Consonance"
   ]
  },
  {
   "cell_type": "code",
   "execution_count": 520,
   "metadata": {},
   "outputs": [],
   "source": [
    "\n",
    "def compute_consonance (peaks, limit):\n",
    "    consonance_ = []\n",
    "    peaks2keep = []\n",
    "    peaks_consonance = []\n",
    "    for p1 in peaks:    \n",
    "        for p2 in peaks:\n",
    "            peaks2keep_temp = []\n",
    "            p2x = p2\n",
    "            p1x = p1\n",
    "            cons_temp = (p2x/p1x).as_integer_ratio()\n",
    "            cons_temp = (cons_temp[0] + cons_temp[1])/(cons_temp[0] * cons_temp[1])\n",
    "            #print(cons_temp)\n",
    "            if cons_temp == 2:\n",
    "                cons_temp = None\n",
    "                p2x = None\n",
    "                p1x = None\n",
    "            elif cons_temp < limit:\n",
    "                cons_temp = None\n",
    "                p2x = None\n",
    "                p1x = None\n",
    "            if p2x != None:\n",
    "                peaks2keep_temp.extend([p2x, p1x])\n",
    "            consonance_.append(cons_temp)  \n",
    "            peaks2keep.append(peaks2keep_temp)\n",
    "        peaks_consonance = np.array(peaks2keep)\n",
    "        peaks_consonance = [x for x in peaks_consonance if x]\n",
    "        consonance = np.array(consonance_)\n",
    "        consonance = [i for i in consonance if i]\n",
    "         \n",
    "        #consonance = list(set(consonance))\n",
    "    return consonance, peaks_consonance\n",
    "\n",
    "# Function that computes integer ratios from peaks with higher consonance\n",
    "# Needs at least two pairs of values\n",
    "def comp_consonant_integers_ratios (peaks_consonance):\n",
    "    cons_integer = []\n",
    "    for i in range(len(peaks_consonance)):\n",
    "        #for j in range(len(peaks_consonance[0])):\n",
    "        a = peaks_consonance[i][0]\n",
    "        b = peaks_consonance[i][1]\n",
    "        if a > b:\n",
    "            while a > (b):\n",
    "                a = a/2\n",
    "        if a < b:\n",
    "            while b > (a):\n",
    "                b = b/2\n",
    "        c = a/b\n",
    "        cons_temp = (c).as_integer_ratio()\n",
    "        #print(cons_temp)\n",
    "        cons_integer.append(cons_temp)\n",
    "    consonant_integers = np.array(cons_integer).squeeze()\n",
    "    cons_ratios = []\n",
    "    for j in range(len(consonant_integers)):\n",
    "        cons_ratios.append((consonant_integers[j][0])/(consonant_integers[j][1]))\n",
    "    consonant_ratios = np.array(cons_ratios)\n",
    "    cons_rat = [] \n",
    "    for i in consonant_ratios: \n",
    "        if i not in cons_rat: \n",
    "            cons_rat.append(i)\n",
    "    try:\n",
    "        cons_rat.remove(1.0)\n",
    "    except (ValueError, TypeError, NameError):\n",
    "        pass\n",
    "        #cons_int = [] \n",
    "        #for i in consonant_integers: \n",
    "        #    if i not in cons_int: \n",
    "        #        cons_int.append(i)\n",
    "    return consonant_integers, cons_rat"
   ]
  },
  {
   "cell_type": "code",
   "execution_count": 489,
   "metadata": {},
   "outputs": [
    {
     "name": "stdout",
     "output_type": "stream",
     "text": [
      "[[ 3  2]\n",
      " [11  8]\n",
      " [ 1  1]\n",
      " [21 16]\n",
      " [ 7  4]\n",
      " [13  8]\n",
      " [ 5  4]\n",
      " [27 16]\n",
      " [ 1  1]\n",
      " [ 3  2]\n",
      " [11  8]\n",
      " [21 16]]\n"
     ]
    },
    {
     "name": "stderr",
     "output_type": "stream",
     "text": [
      "C:\\Users\\Dell\\Anaconda3\\lib\\site-packages\\ipykernel_launcher.py:26: DeprecationWarning: The truth value of an empty array is ambiguous. Returning False, but in future this will result in an error. Use `array.size > 0` to check that an array is not empty.\n"
     ]
    }
   ],
   "source": [
    "\n",
    "a, b = compute_consonance(peaks + Schumann_earth, 0.1)\n",
    "c, d = comp_consonant_integers_ratios (b)\n",
    "#print(sorted(d))\n",
    "print(c)\n",
    "\n"
   ]
  },
  {
   "cell_type": "markdown",
   "metadata": {},
   "source": [
    "### Tunings"
   ]
  },
  {
   "cell_type": "code",
   "execution_count": 240,
   "metadata": {},
   "outputs": [],
   "source": [
    "# Function that computes Pythogorian Tunings from integer ratios \n",
    "# List of equations of the Pythagorean Tuning\n",
    "# variable 'a' has to be the highest value in the ratio\n",
    "\n",
    "#INPUTS (a: numerator of the source ratio / b: denominator of the source ratio\n",
    "#        n: multiplifier of all notes / octa: octave value / lim_denom: highest value possible\n",
    "#        for the denominator of the ratios)\n",
    "#OUTPUTS\n",
    "\n",
    "def compute_pythagore(a = 3, b = 2, n = 1, octa = 2, lim_denom = 1000):\n",
    "    import operator\n",
    "    pyth0 = n * (1/1)\n",
    "    pyth1 = n * ((b/a)**5)*(octa**3)\n",
    "    pyth1 = rebound(pyth1, 1, octa)\n",
    "    pyth2 = n * ((a/b)**2)*(1/octa)\n",
    "    pyth2 = rebound(pyth2, 1, octa)\n",
    "    pyth3 = n * ((b/a)**3)*(octa**2)\n",
    "    pyth3 = rebound(pyth3, 1, octa)\n",
    "    pyth4 = n * ((a/b)**4)*((1/octa)**2)\n",
    "    pyth4 = rebound(pyth4, 1, octa)\n",
    "    pyth5 = n * (b/a)*octa\n",
    "    pyth5 = rebound(pyth5, 1, octa)\n",
    "    pyth6 = n * ((b/a)**6)*(octa**4)\n",
    "    pyth6 = rebound(pyth6, 1, octa)\n",
    "    pyth6_2 = n * ((a/b)**6)*((1/octa)**3)\n",
    "    pyth6_2 = rebound(pyth6_2, 1, octa)\n",
    "    pyth7 = n * (a/b)\n",
    "    pyth7 = rebound(pyth7, 1, octa)\n",
    "    pyth8 = n * ((b/a)**4)*(octa**3)\n",
    "    pyth8 = rebound(pyth8, 1, octa)\n",
    "    pyth9 = n * ((a/b)**3)*(1/octa)\n",
    "    pyth9 = rebound(pyth9, 1, octa)\n",
    "    pyth10 = n * ((b/a)**2)*(octa**2)\n",
    "    pyth10 = rebound(pyth10, 1, octa)\n",
    "    pyth11 = n * ((a/b)**5)*((1/octa)**2)\n",
    "    pyth11 = rebound(pyth11, 1, octa)\n",
    "    pyth12 = rebound((n * octa), 1, octa)\n",
    "    \n",
    "    pyth_dict = {'unison':pyth0,\n",
    "             'minor second':pyth1,\n",
    "             'major second':pyth2,\n",
    "             'minor third':pyth3,\n",
    "             'major third':pyth4,\n",
    "             'perfect fourth':pyth5,\n",
    "             'diminished fifth':pyth6,\n",
    "             'augmented fourth':pyth6_2,\n",
    "             'perfect fifth':pyth7,\n",
    "             'minor sixth':pyth8,\n",
    "             'major sixth':pyth9,\n",
    "             'minor seventh':pyth10,\n",
    "             'major seventh':pyth11,\n",
    "             'octave':pyth12}\n",
    "    pyth_dict_list = sorted(pyth_dict.items(), key=operator.itemgetter(1))\n",
    "    pyth_dict = dict(pyth_dict)\n",
    "    pyth_temp = []\n",
    "    pyth_temp_float = []\n",
    "    for i in range(len(pyth_dict_list)):\n",
    "        frac = []\n",
    "        #print(harm_tuning[i])\n",
    "        pyth_ratios = Fraction(pyth_dict_list[i][1]).limit_denominator(lim_denom)\n",
    "        pyth_float = pyth_dict_list[i][1]\n",
    "        num = pyth_ratios.numerator\n",
    "        denom = pyth_ratios.denominator\n",
    "        frac.extend([num, denom])\n",
    "        #print(harm_ratios_temp)\n",
    "        pyth_temp.append(frac)\n",
    "        pyth_temp_float.append(pyth_float)\n",
    "       \n",
    "    pyth_dict_list_ratios = (np.array(pyth_temp)).squeeze()\n",
    "    pyth_dict_list_float = np.around((np.array(pyth_temp_float)),3) \n",
    "    \n",
    "    return pyth_dict, pyth_dict_list, pyth_dict_list_ratios, pyth_dict_list_float\n",
    "\n",
    "#This Function build a tuning based on the multiplication of a ratio by itself.\n",
    "def harmonic_tuning(n_harmonics = 10, octave = 2, rounding = 10, pos = 1):\n",
    "    harm_tuning_temp = []\n",
    "    i = 1\n",
    "    harm_ratios = []\n",
    "    harm_ratios_temp = []\n",
    "    while i <= n_harmonics:\n",
    "        harm_temp = pos*i\n",
    "        harm_tuning_temp.append(harm_temp)\n",
    "        i+=1\n",
    "    \n",
    "    for h in harm_tuning_temp:\n",
    "                while h > pos*octave:\n",
    "                    h = h/octave\n",
    "                while h > octave:\n",
    "                    h = h/pos\n",
    "                h = round(h, rounding)\n",
    "\n",
    "                #if h == octave:\n",
    "                #    h = None\n",
    "                harm_ratios_temp.append(h)\n",
    "    harm_tuning = np.array(harm_ratios_temp)\n",
    "    harm_tuning = [i for i in harm_tuning if i]\n",
    "    harm_tuning = list(set(harm_tuning))\n",
    "    for i in range(len(harm_tuning)):\n",
    "        frac = []\n",
    "        #print(harm_tuning[i])\n",
    "        harm_ratios_temp = Fraction(harm_tuning[i]).limit_denominator()\n",
    "        num = harm_ratios_temp.numerator\n",
    "        denom = harm_ratios_temp.denominator\n",
    "        frac.extend([num, denom])\n",
    "        #print(harm_ratios_temp)\n",
    "        harm_ratios.append(frac)\n",
    "    \n",
    "    harm_tuning_frac = (np.array(harm_ratios)).squeeze().tolist()\n",
    "\n",
    "    return harm_tuning, harm_tuning_frac\n",
    "\n",
    "#This function subdivides the octave in equal parts\n",
    "def Ntet_tuning(subdiv, octave):\n",
    "    ratios_temp = []\n",
    "    for i in range(subdiv+1):\n",
    "        ratios_temp.append(octave**(i/subdiv))\n",
    "    ratios = np.array(ratios_temp)\n",
    "    return ratios"
   ]
  },
  {
   "cell_type": "code",
   "execution_count": 247,
   "metadata": {},
   "outputs": [
    {
     "data": {
      "text/plain": [
       "[1.0,\n",
       " 2.0,\n",
       " 1.75,\n",
       " 1.5,\n",
       " 1.25,\n",
       " 1.125,\n",
       " 1.375,\n",
       " 1.625,\n",
       " 1.875,\n",
       " 1.0625,\n",
       " 1.1875,\n",
       " 1.3125,\n",
       " 1.4375,\n",
       " 1.5625,\n",
       " 1.6875,\n",
       " 1.53125,\n",
       " 1.03125,\n",
       " 1.09375,\n",
       " 1.9375,\n",
       " 1.8125,\n",
       " 1.15625,\n",
       " 1.21875,\n",
       " 1.28125,\n",
       " 1.34375,\n",
       " 1.40625,\n",
       " 1.46875]"
      ]
     },
     "execution_count": 247,
     "metadata": {},
     "output_type": "execute_result"
    }
   ],
   "source": [
    "harm_tuning, h = harmonic_tuning(n_harmonics = 50, octave = 2, rounding = 10, pos = 3)\n",
    "harm_tuning"
   ]
  },
  {
   "cell_type": "code",
   "execution_count": 108,
   "metadata": {},
   "outputs": [
    {
     "data": {
      "text/plain": [
       "array([[ 1.0537055 ,  4.        ,  1.05946309,  1.        ],\n",
       "       [ 1.06757663,  5.        ,  1.05946309,  1.        ],\n",
       "       [ 1.12491136,  9.        ,  1.12246205,  2.        ],\n",
       "       [ 1.18532528, 13.        ,  1.18920712,  3.        ],\n",
       "       [ 1.26542556, 18.        ,  1.25992105,  4.        ],\n",
       "       [ 1.33338587, 22.        ,  1.33483985,  5.        ],\n",
       "       [ 1.40499601, 26.        ,  1.41421356,  6.        ],\n",
       "       [ 1.42349158, 27.        ,  1.41421356,  6.        ],\n",
       "       [ 1.4999409 , 31.        ,  1.49830708,  7.        ],\n",
       "       [ 1.58049597, 35.        ,  1.58740105,  8.        ],\n",
       "       [ 1.68730056, 40.        ,  1.68179283,  9.        ],\n",
       "       [ 1.77791787, 44.        ,  1.78179744, 10.        ],\n",
       "       [ 2.        , 53.        ,  2.        , 12.        ]])"
      ]
     },
     "execution_count": 108,
     "metadata": {},
     "output_type": "execute_result"
    }
   ],
   "source": [
    "octdiv = compare_octave_division(Octdiv = 53, Octdiv2 = 12, bounds = 0.01, octave = 2)\n",
    "octdiv"
   ]
  },
  {
   "cell_type": "code",
   "execution_count": null,
   "metadata": {},
   "outputs": [],
   "source": []
  },
  {
   "cell_type": "code",
   "execution_count": null,
   "metadata": {},
   "outputs": [],
   "source": []
  },
  {
   "cell_type": "code",
   "execution_count": 107,
   "metadata": {},
   "outputs": [
    {
     "ename": "NameError",
     "evalue": "name 'multi_harmonics' is not defined",
     "output_type": "error",
     "traceback": [
      "\u001b[1;31m---------------------------------------------------------------------------\u001b[0m",
      "\u001b[1;31mNameError\u001b[0m                                 Traceback (most recent call last)",
      "\u001b[1;32m<ipython-input-107-63ad28a9c883>\u001b[0m in \u001b[0;36m<module>\u001b[1;34m\u001b[0m\n\u001b[1;32m----> 1\u001b[1;33m \u001b[0mx\u001b[0m \u001b[1;33m=\u001b[0m \u001b[0mcompareLists\u001b[0m\u001b[1;33m(\u001b[0m\u001b[0mmulti_harmonics\u001b[0m\u001b[1;33m[\u001b[0m\u001b[0mlist_peaks\u001b[0m\u001b[1;33m[\u001b[0m\u001b[1;36m0\u001b[0m\u001b[1;33m]\u001b[0m\u001b[1;33m[\u001b[0m\u001b[1;36m1\u001b[0m\u001b[1;33m]\u001b[0m\u001b[1;33m]\u001b[0m\u001b[1;33m,\u001b[0m \u001b[0mmulti_harmonics\u001b[0m\u001b[1;33m[\u001b[0m\u001b[0mlist_peaks\u001b[0m\u001b[1;33m[\u001b[0m\u001b[1;36m0\u001b[0m\u001b[1;33m]\u001b[0m\u001b[1;33m[\u001b[0m\u001b[1;36m0\u001b[0m\u001b[1;33m]\u001b[0m\u001b[1;33m]\u001b[0m\u001b[1;33m,\u001b[0m \u001b[1;36m0.1\u001b[0m\u001b[1;33m)\u001b[0m\u001b[1;33m\u001b[0m\u001b[1;33m\u001b[0m\u001b[0m\n\u001b[0m\u001b[0;32m      2\u001b[0m \u001b[0mx\u001b[0m\u001b[1;33m\u001b[0m\u001b[1;33m\u001b[0m\u001b[0m\n\u001b[0;32m      3\u001b[0m \u001b[1;31m#multi_harmonics[list_peaks[0][1]]\u001b[0m\u001b[1;33m\u001b[0m\u001b[1;33m\u001b[0m\u001b[1;33m\u001b[0m\u001b[0m\n",
      "\u001b[1;31mNameError\u001b[0m: name 'multi_harmonics' is not defined"
     ]
    }
   ],
   "source": [
    "x = compareLists(multi_harmonics[list_peaks[0][1]], multi_harmonics[list_peaks[0][0]], 0.1)\n",
    "x\n",
    "#multi_harmonics[list_peaks[0][1]]"
   ]
  },
  {
   "cell_type": "code",
   "execution_count": null,
   "metadata": {},
   "outputs": [],
   "source": []
  },
  {
   "cell_type": "markdown",
   "metadata": {},
   "source": [
    "## Bidouille"
   ]
  },
  {
   "cell_type": "code",
   "execution_count": 190,
   "metadata": {},
   "outputs": [
    {
     "name": "stdout",
     "output_type": "stream",
     "text": [
      "CONSONANT PEAKS\n",
      "[[14.3, 20.8], [27.3, 20.8], [27.3, 2.4], [8.7, 2.4], [11.4, 2.4], [27.3, 33.6]]\n",
      "CONSONANT INTEGER RATIOS\n",
      "(array([[11, 16],\n",
      "       [21, 16],\n",
      "       [91, 64],\n",
      "       [29, 16],\n",
      "       [19, 16],\n",
      "       [13, 16]]), array([0.6875  , 1.3125  , 1.421875, 1.8125  , 1.1875  , 0.8125  ]))\n"
     ]
    },
    {
     "name": "stderr",
     "output_type": "stream",
     "text": [
      "C:\\Users\\Dell\\Anaconda3\\lib\\site-packages\\ipykernel_launcher.py:31: DeprecationWarning: The truth value of an empty array is ambiguous. Returning False, but in future this will result in an error. Use `array.size > 0` to check that an array is not empty.\n"
     ]
    }
   ],
   "source": [
    "#compute_consonance takes a list of peaks as input(1) and a threshold(2)\n",
    "#above which the peaks are kept\n",
    "#output(1) returns the consonance values\n",
    "#output(2) return the peaks corresponding to the consonance values\n",
    "consonant_values, consonant_peaks = compute_consonance(Schumann_earth+peaks, 0.01)\n",
    "print('CONSONANT PEAKS')\n",
    "print(consonant_peaks)\n",
    "#This function takes a list of consonant peaks and returns the peak ratios\n",
    "#with integer values\n",
    "cons_integers = comp_consonant_integers_ratios(consonant_peaks)\n",
    "print('CONSONANT INTEGER RATIOS')\n",
    "print(cons_integers)"
   ]
  },
  {
   "cell_type": "code",
   "execution_count": 238,
   "metadata": {},
   "outputs": [
    {
     "name": "stdout",
     "output_type": "stream",
     "text": [
      "OCTAVE SUBDIVISIONS\n",
      "[10, 20, 30, 40, 50] [1.0030525434485753, 1.0061144049186561, 1.0091856128539078, 1.0122661957848214, 1.0153561823289785]\n",
      "RATIOS-TET\n",
      "[1.625, 1.3203125, 1.07275390625, 1.74322509765625, 1.4163703918457031, 1.1508009433746338, 1.87005153298378, 1.5194168705493212, 1.2345262073213235, 1.0030525434485753, 1.6299603831039349, 1.324342811271947, 1.076028534158457, 1.7485463680074926, 1.4206939240060878, 1.1543138132549464, 1.8757599465392878, 1.5240549565631714, 1.2382946522075766, 1.0061144049186561, 1.634935907992816, 1.3283854252441631, 1.0793131580108826, 1.753883881767684, 1.4250306539362434, 1.1578374063231978, 1.8814857852751963, 1.5287072005360969, 1.2420746004355787, 1.0091856128539078, 1.6399266208876, 1.332440379471175, 1.0826078083203297, 1.7592376885205359, 1.4293806219229355, 1.161371755312385, 1.8872291023826255, 1.5333736456858833, 1.2458660871197802, 1.0122661957848214, 1.6449325681503348, 1.336507711622147, 1.0859125156929945, 1.7646078380011159, 1.4337438683759067, 1.1649168930554241, 1.8929899512150643, 1.5380543353622398, 1.2496691474818198, 1.0153561823289785]\n",
      "COMPARE OCTAVE SUBDIVISIONS\n",
      "[[ 1.06212718  2.          1.06504109  3.        ]\n",
      " [ 1.16262941  5.          1.15839013  7.        ]\n",
      " [ 1.23486029  7.          1.23373308 10.        ]\n",
      " [ 1.31157867  9.          1.31397643 13.        ]\n",
      " [ 1.52487993 14.          1.52209732 20.        ]\n",
      " [ 1.61961642 16.          1.62109619 23.        ]\n",
      " [ 2.         23.          2.         33.        ]]\n",
      "PEAK RATIOS\n",
      "[1.3333333333333335, 1.3426573426573425, 1.373134328358209, 1.5416666666666667, 1.5543478260869568, 1.7902097902097902, 1.8108108108108107, 2.0869565217391304, 2.1343283582089554, 2.486486486486486, 2.7826086956521743, 2.791666666666667, 2.8656716417910446, 3.8208955223880596, 3.833333333333333, 3.864864864864865, 5.189189189189189, 5.958333333333334, 6.918918918918919, 8.0, 10.666666666666668] [1.0434782608695652, 1.0671641791044777, 1.243243243243243, 1.2972972972972971, 1.3333333333333335, 1.3426573426573425, 1.373134328358209, 1.3913043478260871, 1.3958333333333335, 1.4328358208955223, 1.4895833333333335, 1.5416666666666667, 1.5543478260869568, 1.7297297297297298, 1.7902097902097902, 1.8108108108108107, 1.9104477611940298, 1.9166666666666665, 1.9324324324324325, 2.0]\n",
      "HARMONICS (x*n)\n",
      "[[   2.4    4.8    7.2    9.6   12.    14.4   16.8   19.2   21.6   24.\n",
      "    26.4   28.8   31.2   33.6   36.    38.4   40.8   43.2   45.6   48.\n",
      "    50.4   52.8   55.2   57.6   60.    62.4   64.8   67.2   69.6   72.\n",
      "    74.4   76.8   79.2   81.6   84.    86.4   88.8   91.2   93.6   96.\n",
      "    98.4  100.8  103.2  105.6  108.   110.4  112.8  115.2  117.6  120.\n",
      "   122.4]\n",
      " [   3.7    7.4   11.1   14.8   18.5   22.2   25.9   29.6   33.3   37.\n",
      "    40.7   44.4   48.1   51.8   55.5   59.2   62.9   66.6   70.3   74.\n",
      "    77.7   81.4   85.1   88.8   92.5   96.2   99.9  103.6  107.3  111.\n",
      "   114.7  118.4  122.1  125.8  129.5  133.2  136.9  140.6  144.3  148.\n",
      "   151.7  155.4  159.1  162.8  166.5  170.2  173.9  177.6  181.3  185.\n",
      "   188.7]\n",
      " [   6.7   13.4   20.1   26.8   33.5   40.2   46.9   53.6   60.3   67.\n",
      "    73.7   80.4   87.1   93.8  100.5  107.2  113.9  120.6  127.3  134.\n",
      "   140.7  147.4  154.1  160.8  167.5  174.2  180.9  187.6  194.3  201.\n",
      "   207.7  214.4  221.1  227.8  234.5  241.2  247.9  254.6  261.3  268.\n",
      "   274.7  281.4  288.1  294.8  301.5  308.2  314.9  321.6  328.3  335.\n",
      "   341.7]\n",
      " [   9.2   18.4   27.6   36.8   46.    55.2   64.4   73.6   82.8   92.\n",
      "   101.2  110.4  119.6  128.8  138.   147.2  156.4  165.6  174.8  184.\n",
      "   193.2  202.4  211.6  220.8  230.   239.2  248.4  257.6  266.8  276.\n",
      "   285.2  294.4  303.6  312.8  322.   331.2  340.4  349.6  358.8  368.\n",
      "   377.2  386.4  395.6  404.8  414.   423.2  432.4  441.6  450.8  460.\n",
      "   469.2]\n",
      " [  14.3   28.6   42.9   57.2   71.5   85.8  100.1  114.4  128.7  143.\n",
      "   157.3  171.6  185.9  200.2  214.5  228.8  243.1  257.4  271.7  286.\n",
      "   300.3  314.6  328.9  343.2  357.5  371.8  386.1  400.4  414.7  429.\n",
      "   443.3  457.6  471.9  486.2  500.5  514.8  529.1  543.4  557.7  572.\n",
      "   586.3  600.6  614.9  629.2  643.5  657.8  672.1  686.4  700.7  715.\n",
      "   729.3]\n",
      " [  19.2   38.4   57.6   76.8   96.   115.2  134.4  153.6  172.8  192.\n",
      "   211.2  230.4  249.6  268.8  288.   307.2  326.4  345.6  364.8  384.\n",
      "   403.2  422.4  441.6  460.8  480.   499.2  518.4  537.6  556.8  576.\n",
      "   595.2  614.4  633.6  652.8  672.   691.2  710.4  729.6  748.8  768.\n",
      "   787.2  806.4  825.6  844.8  864.   883.2  902.4  921.6  940.8  960.\n",
      "   979.2]\n",
      " [  25.6   51.2   76.8  102.4  128.   153.6  179.2  204.8  230.4  256.\n",
      "   281.6  307.2  332.8  358.4  384.   409.6  435.2  460.8  486.4  512.\n",
      "   537.6  563.2  588.8  614.4  640.   665.6  691.2  716.8  742.4  768.\n",
      "   793.6  819.2  844.8  870.4  896.   921.6  947.2  972.8  998.4 1024.\n",
      "  1049.6 1075.2 1100.8 1126.4 1152.  1177.6 1203.2 1228.8 1254.4 1280.\n",
      "  1305.6]]\n",
      "HARMONICS (x/n)\n",
      "[[1.8        1.1        1.25       1.37       1.47       1.55571429\n",
      "  1.63071429 1.69738095]\n",
      " [1.3875     1.69583333 1.92708333 1.05604167 1.133125   1.19919643\n",
      "  1.25700893 1.30839782]\n",
      " [1.25625    1.53541667 1.74479167 1.91229167 1.0259375  1.08575893\n",
      "  1.13810268 1.18463046]\n",
      " [1.725      1.05416667 1.19791667 1.31291667 1.40875    1.49089286\n",
      "  1.56276786 1.62665675]\n",
      " [1.340625   1.63854167 1.86197917 1.02036458 1.09484375 1.15868304\n",
      "  1.21454241 1.26419519]\n",
      " [1.8        1.1        1.25       1.37       1.47       1.55571429\n",
      "  1.63071429 1.69738095]\n",
      " [1.2        1.46666667 1.66666667 1.82666667 1.96       1.03714286\n",
      "  1.08714286 1.1315873 ]]\n"
     ]
    },
    {
     "ename": "NameError",
     "evalue": "name 'compute_pythagore' is not defined",
     "output_type": "error",
     "traceback": [
      "\u001b[1;31m---------------------------------------------------------------------------\u001b[0m",
      "\u001b[1;31mNameError\u001b[0m                                 Traceback (most recent call last)",
      "\u001b[1;32m<ipython-input-238-c19040c70a61>\u001b[0m in \u001b[0;36m<module>\u001b[1;34m\u001b[0m\n\u001b[0;32m     33\u001b[0m \u001b[1;33m\u001b[0m\u001b[0m\n\u001b[0;32m     34\u001b[0m \u001b[1;31m#pyth_dict, pyth_dict_list = compute_pythagore(cons_integers[2][0], cons_integers[2][1], 1, 2)\u001b[0m\u001b[1;33m\u001b[0m\u001b[1;33m\u001b[0m\u001b[1;33m\u001b[0m\u001b[0m\n\u001b[1;32m---> 35\u001b[1;33m \u001b[0ma\u001b[0m\u001b[1;33m,\u001b[0m \u001b[0mb\u001b[0m\u001b[1;33m,\u001b[0m \u001b[0mc\u001b[0m\u001b[1;33m,\u001b[0m \u001b[0md\u001b[0m \u001b[1;33m=\u001b[0m \u001b[0mcompute_pythagore\u001b[0m\u001b[1;33m(\u001b[0m\u001b[1;36m4\u001b[0m\u001b[1;33m,\u001b[0m \u001b[1;36m3\u001b[0m\u001b[1;33m,\u001b[0m \u001b[1;36m1\u001b[0m\u001b[1;33m,\u001b[0m \u001b[1;36m2\u001b[0m\u001b[1;33m,\u001b[0m \u001b[1;36m1000\u001b[0m\u001b[1;33m)\u001b[0m\u001b[1;33m\u001b[0m\u001b[1;33m\u001b[0m\u001b[0m\n\u001b[0m\u001b[0;32m     36\u001b[0m \u001b[0ma\u001b[0m\u001b[1;33m\u001b[0m\u001b[1;33m\u001b[0m\u001b[0m\n",
      "\u001b[1;31mNameError\u001b[0m: name 'compute_pythagore' is not defined"
     ]
    }
   ],
   "source": [
    "\n",
    "#Oct_subdiv\n",
    "#Argument 1 : a ratio in the form of a float or a fraction\n",
    "#Argument 2 : bounds between which the octave should fall\n",
    "#Argument 3 : value of the octave\n",
    "#Argument 4 : number of octave subdivisions\n",
    "Octdiv, Octvalue, ratios_tet = oct_subdiv(1.625, 0.05, 2, 5)\n",
    "print('OCTAVE SUBDIVISIONS')\n",
    "print(Octdiv, Octvalue)\n",
    "print('RATIOS-TET')\n",
    "print(ratios_tet)\n",
    "pairwise_oct_div = compare_octave_division(Octdiv = 23, Octdiv2 = 33, bounds = 0.005, octave = 2)\n",
    "print('COMPARE OCTAVE SUBDIVISIONS')\n",
    "print(pairwise_oct_div)\n",
    "\n",
    "\n",
    "\n",
    "\n",
    "peak_ratios, peak_ratios_rebound = compute_peak_ratios(peaks, 1)\n",
    "print('PEAK RATIOS')\n",
    "print(peak_ratios, peak_ratios_rebound)\n",
    "\n",
    "\n",
    "\n",
    "#Calculates a specific number of partials from a list of peaks [n_peaks][n_harmonic]\n",
    "multi_harmonics= EEG_harmonics_mult(peaks, 50, 0)\n",
    "print('HARMONICS (x*n)')\n",
    "print(multi_harmonics)\n",
    "#Calculates a specific number of elements in the harmonics series\n",
    "#from a list of peaks [n_peaks][n_harmonic]\n",
    "harm_div, harm_div_bound, harm_div_sub, harm_div_sub_bound = EEG_harmonics_div(peaks, n_harmonics = 8)\n",
    "print('HARMONICS (x/n)')\n",
    "print(harm_div_bound)\n",
    "\n",
    "#pyth_dict, pyth_dict_list = compute_pythagore(cons_integers[2][0], cons_integers[2][1], 1, 2)\n",
    "a, b, c, d = compute_pythagore(4, 3, 1, 2, 1000)\n",
    "a"
   ]
  },
  {
   "cell_type": "code",
   "execution_count": 223,
   "metadata": {},
   "outputs": [
    {
     "data": {
      "text/plain": [
       "array([1.   , 1.091, 1.19 , 1.373, 1.498, 1.589, 1.731, 1.733, 1.888,\n",
       "       2.002, 2.184, 2.521, 2.75 , 3.   ])"
      ]
     },
     "execution_count": 223,
     "metadata": {},
     "output_type": "execute_result"
    }
   ],
   "source": [
    "a, b, c, d = compute_pythagore(11, 4, 1, 3, 1000)\n",
    "d"
   ]
  },
  {
   "cell_type": "code",
   "execution_count": 95,
   "metadata": {},
   "outputs": [
    {
     "data": {
      "text/plain": [
       "([0.3611111111111111,\n",
       "  1.3333333333333333,\n",
       "  0.8333333333333334,\n",
       "  0.06828703703703703,\n",
       "  0.5833333333333334],\n",
       " [[2.25, 1.0], [3.0, 1.0], [2.403, 1.602], [2.403, 2.848], [2.25, 3.0]])"
      ]
     },
     "execution_count": 95,
     "metadata": {},
     "output_type": "execute_result"
    }
   ],
   "source": [
    "compute_consonance(d, 0.01)"
   ]
  },
  {
   "cell_type": "code",
   "execution_count": null,
   "metadata": {
    "collapsed": true
   },
   "outputs": [],
   "source": [
    "#Create a function that compute pair-wise comparisons between each harmonic of one peak with all harmonics of other peaks\n",
    "#and returns matching peaks and their harmonic position\n",
    "bounds = 0.5\n",
    "for p in range(len(multi_harmonics)):\n",
    "    for h in range(len(multi_harmonics[0])):\n",
    "        if p != \n",
    "        \n",
    "        "
   ]
  },
  {
   "cell_type": "code",
   "execution_count": 216,
   "metadata": {},
   "outputs": [
    {
     "data": {
      "text/plain": [
       "array([1.   , 1.067, 1.195, 1.304, 1.339, 1.461, 1.636, 1.833, 2.054,\n",
       "       2.241, 2.301, 2.51 , 2.813, 3.   ])"
      ]
     },
     "execution_count": 216,
     "metadata": {},
     "output_type": "execute_result"
    }
   ],
   "source": [
    "a, b, c, d= compute_pythagore(11, 3, 1, 3)\n",
    "d"
   ]
  },
  {
   "cell_type": "code",
   "execution_count": 171,
   "metadata": {},
   "outputs": [
    {
     "data": {
      "text/plain": [
       "([1.0267737617135209,\n",
       "  1.026840490797546,\n",
       "  1.066477070742979,\n",
       "  1.067,\n",
       "  1.0908300738809211,\n",
       "  1.0910418695228823,\n",
       "  1.0911127707244213,\n",
       "  1.091213389121339,\n",
       "  1.1197809719370293,\n",
       "  1.119962511715089,\n",
       "  1.1200356983489512,\n",
       "  1.1202531645569622,\n",
       "  1.1203987730061349,\n",
       "  1.1204156479217604,\n",
       "  1.1205020920502091,\n",
       "  1.1205673758865247,\n",
       "  1.1207171314741038,\n",
       "  1.195,\n",
       "  1.1952191235059761,\n",
       "  1.2218073188946974,\n",
       "  1.2220058422590068,\n",
       "  1.2221180880974696,\n",
       "  1.2225119513255107,\n",
       "  1.2225859247135844,\n",
       "  1.2225941422594142,\n",
       "  1.254601226993865,\n",
       "  1.2546201232032854,\n",
       "  1.2549203373945643,\n",
       "  1.2552431950022311,\n",
       "  1.2553191489361704,\n",
       "  1.2555012224938875,\n",
       "  1.303780964797914,\n",
       "  1.304,\n",
       "  1.3386880856760375,\n",
       "  1.339,\n",
       "  1.3689320388349515,\n",
       "  1.3690376569037654,\n",
       "  1.3692596063730085,\n",
       "  1.3693398799781777,\n",
       "  1.3695228821811103,\n",
       "  1.3698044009779953,\n",
       "  1.4056748466257667,\n",
       "  1.4058863791923337,\n",
       "  1.4064792176039123,\n",
       "  1.4605647517039924,\n",
       "  1.461,\n",
       "  1.5332708528584817,\n",
       "  1.5338809034907597,\n",
       "  1.5338912133891212,\n",
       "  1.5339805825242718,\n",
       "  1.5342298288508558,\n",
       "  1.534642662302237,\n",
       "  1.5749486652977414,\n",
       "  1.5751533742331287,\n",
       "  1.636,\n",
       "  1.6366612111292962,\n",
       "  1.6736370425690814,\n",
       "  1.717900656044986,\n",
       "  1.7180013689253932,\n",
       "  1.7184466019417477,\n",
       "  1.718558282208589,\n",
       "  1.718828451882845,\n",
       "  1.719437652811736,\n",
       "  1.7645705521472392,\n",
       "  1.833,\n",
       "  1.8337408312958436,\n",
       "  1.8745332337565346,\n",
       "  1.8753138075313807,\n",
       "  1.9248466257668708,\n",
       "  1.9250234301780693,\n",
       "  1.9253935660506503,\n",
       "  1.9255230125523013,\n",
       "  2.0533880903490758,\n",
       "  2.054,\n",
       "  2.1002811621368322,\n",
       "  2.100418410041841,\n",
       "  2.100821508588499,\n",
       "  2.1565135895032803,\n",
       "  2.1572085889570554,\n",
       "  2.2404779686333085,\n",
       "  2.241,\n",
       "  2.3006134969325154,\n",
       "  2.301,\n",
       "  2.352389878163074,\n",
       "  2.3539748953974895,\n",
       "  2.51,\n",
       "  2.510460251046025,\n",
       "  2.6363636363636367,\n",
       "  2.8116213683223994,\n",
       "  2.813,\n",
       "  3.0],\n",
       " [1.0266940451745379,\n",
       "  1.0267737617135209,\n",
       "  1.026840490797546,\n",
       "  1.027,\n",
       "  1.0501405810684161,\n",
       "  1.0502092050209204,\n",
       "  1.0504107542942496,\n",
       "  1.066477070742979,\n",
       "  1.067,\n",
       "  1.0782567947516402,\n",
       "  1.0786042944785277,\n",
       "  1.0908300738809211,\n",
       "  1.0910418695228823,\n",
       "  1.0911127707244213,\n",
       "  1.091213389121339,\n",
       "  1.1197809719370293,\n",
       "  1.119962511715089,\n",
       "  1.1200356983489512,\n",
       "  1.1202389843166543,\n",
       "  1.1202531645569622,\n",
       "  1.1203987730061349,\n",
       "  1.1204156479217604,\n",
       "  1.1205,\n",
       "  1.1205020920502091,\n",
       "  1.1205673758865247,\n",
       "  1.1207171314741038,\n",
       "  1.1503067484662577,\n",
       "  1.1505,\n",
       "  1.176194939081537,\n",
       "  1.1769874476987447,\n",
       "  1.195,\n",
       "  1.1952191235059761,\n",
       "  1.2218073188946974,\n",
       "  1.2220058422590068,\n",
       "  1.2221180880974696,\n",
       "  1.2225119513255107,\n",
       "  1.2225859247135844,\n",
       "  1.2225941422594142,\n",
       "  1.254601226993865,\n",
       "  1.2546201232032854,\n",
       "  1.2549203373945643,\n",
       "  1.255,\n",
       "  1.2552301255230125,\n",
       "  1.2552431950022311,\n",
       "  1.2553191489361704,\n",
       "  1.2555012224938875,\n",
       "  1.303780964797914,\n",
       "  1.304,\n",
       "  1.3181818181818183,\n",
       "  1.3386880856760375,\n",
       "  1.339,\n",
       "  1.3689320388349515,\n",
       "  1.3690376569037654,\n",
       "  1.3692596063730085,\n",
       "  1.3693398799781777,\n",
       "  1.3695228821811103,\n",
       "  1.3698044009779953,\n",
       "  1.4056748466257667,\n",
       "  1.4058106841611997,\n",
       "  1.4058863791923337,\n",
       "  1.4064792176039123,\n",
       "  1.4065,\n",
       "  1.4605647517039924,\n",
       "  1.461,\n",
       "  1.5,\n",
       "  1.5332708528584817,\n",
       "  1.5338809034907597,\n",
       "  1.5338912133891212,\n",
       "  1.5339805825242718,\n",
       "  1.5342298288508558,\n",
       "  1.534642662302237,\n",
       "  1.5749486652977414,\n",
       "  1.5751533742331287,\n",
       "  1.636,\n",
       "  1.6366612111292962,\n",
       "  1.6736370425690814,\n",
       "  1.717900656044986,\n",
       "  1.7180013689253932,\n",
       "  1.7184466019417477,\n",
       "  1.718558282208589,\n",
       "  1.718828451882845,\n",
       "  1.719437652811736,\n",
       "  1.7645705521472392,\n",
       "  1.833,\n",
       "  1.8337408312958436,\n",
       "  1.8745332337565346,\n",
       "  1.8753138075313807,\n",
       "  1.9248466257668708,\n",
       "  1.9250234301780693,\n",
       "  1.9253935660506503,\n",
       "  1.9255230125523013])"
      ]
     },
     "execution_count": 171,
     "metadata": {},
     "output_type": "execute_result"
    }
   ],
   "source": [
    "peaks_pyth = compute_peak_ratios(d)\n",
    "peaks_pyth"
   ]
  },
  {
   "cell_type": "code",
   "execution_count": 118,
   "metadata": {},
   "outputs": [
    {
     "data": {
      "text/plain": [
       "[1.0, 2.0, 1.75, 1.5, 1.25, 1.125, 1.375, 1.625, 1.875, 1.0625, 1.1875]"
      ]
     },
     "execution_count": 118,
     "metadata": {},
     "output_type": "execute_result"
    }
   ],
   "source": [
    "h, i = harmonic_tuning(20, 2)\n",
    "h\n"
   ]
  },
  {
   "cell_type": "code",
   "execution_count": 114,
   "metadata": {},
   "outputs": [
    {
     "name": "stdout",
     "output_type": "stream",
     "text": [
      "[1.5, 1.125, 1.6875, 1.265625, 1.8984375, 1.423828125, 1.06787109375, 1.601806640625, 1.20135498046875, 1.802032470703125, 1.3515243530273438, 1.0136432647705078]\n"
     ]
    },
    {
     "ename": "ValueError",
     "evalue": "too many values to unpack (expected 2)",
     "output_type": "error",
     "traceback": [
      "\u001b[1;31m---------------------------------------------------------------------------\u001b[0m",
      "\u001b[1;31mValueError\u001b[0m                                Traceback (most recent call last)",
      "\u001b[1;32m<ipython-input-114-f0b9c73ed234>\u001b[0m in \u001b[0;36m<module>\u001b[1;34m\u001b[0m\n\u001b[0;32m      3\u001b[0m \u001b[1;33m\u001b[0m\u001b[0m\n\u001b[0;32m      4\u001b[0m \u001b[1;33m\u001b[0m\u001b[0m\n\u001b[1;32m----> 5\u001b[1;33m \u001b[0mpyth_dict\u001b[0m\u001b[1;33m,\u001b[0m \u001b[0mpyth_dict_list\u001b[0m \u001b[1;33m=\u001b[0m \u001b[0mcompute_pythagore\u001b[0m\u001b[1;33m(\u001b[0m\u001b[1;36m3\u001b[0m\u001b[1;33m,\u001b[0m \u001b[1;36m2\u001b[0m\u001b[1;33m,\u001b[0m \u001b[1;36m1\u001b[0m\u001b[1;33m,\u001b[0m \u001b[1;36m2\u001b[0m\u001b[1;33m)\u001b[0m\u001b[1;33m\u001b[0m\u001b[1;33m\u001b[0m\u001b[0m\n\u001b[0m\u001b[0;32m      6\u001b[0m \u001b[0mprint\u001b[0m\u001b[1;33m(\u001b[0m\u001b[0mpyth_dict_list\u001b[0m\u001b[1;33m)\u001b[0m\u001b[1;33m\u001b[0m\u001b[1;33m\u001b[0m\u001b[0m\n",
      "\u001b[1;31mValueError\u001b[0m: too many values to unpack (expected 2)"
     ]
    }
   ],
   "source": [
    "a, b, ratio_mult = oct_subdiv(1.5, 0.02, 2, 1)\n",
    "print(ratio_mult)\n",
    "\n",
    "\n",
    "pyth_dict, pyth_dict_list = compute_pythagore(3, 2, 1, 2)\n",
    "print(pyth_dict_list)"
   ]
  },
  {
   "cell_type": "code",
   "execution_count": null,
   "metadata": {
    "collapsed": true
   },
   "outputs": [],
   "source": [
    "## Calculate hertz to cents\n",
    "\n",
    "c = 1200 × log2 (f2 / f1)"
   ]
  },
  {
   "cell_type": "markdown",
   "metadata": {},
   "source": [
    "# Dissonance"
   ]
  },
  {
   "cell_type": "code",
   "execution_count": null,
   "metadata": {
    "collapsed": true
   },
   "outputs": [],
   "source": []
  },
  {
   "cell_type": "code",
   "execution_count": 158,
   "metadata": {
    "collapsed": true
   },
   "outputs": [],
   "source": [
    "#Functions taken from : https://gist.github.com/endolith/118429\n",
    "\n",
    "from __future__ import division\n",
    "from fractions import Fraction\n",
    "from math import log\n",
    "\n",
    "\n",
    "def product(*iterable):\n",
    "    p = 1\n",
    "    for n in iterable:\n",
    "        p *= n\n",
    "    return p\n",
    "\n",
    "\n",
    "def gcd(*numbers):\n",
    "    \"\"\"Return the greatest common divisor of the given integers\n",
    "    \n",
    "    The result will have the same sign as the last number given (so that \n",
    "    when the last number is divided by the result, the result comes out \n",
    "    positive).\n",
    "    \n",
    "    \"\"\"\n",
    "    def gcd(a, b):\n",
    "        while b:\n",
    "            a, b = b, a%b\n",
    "        return a\n",
    "    \n",
    "    return reduce(gcd, numbers)\n",
    "\n",
    "\n",
    "def lcm(*numbers):\n",
    "    \"\"\"Return the least common multiple of the given integers\n",
    "    \n",
    "    \"\"\"\n",
    "    def lcm(a,b):\n",
    "        if a == b == 0:\n",
    "            return 0\n",
    "        return (a * b) // gcd(a, b)\n",
    "\n",
    "    # LCM(a, b, c, d) = LCM(a, LCM(b, LCM(c, d)))\n",
    "    return reduce(lcm, numbers)\n",
    "\n",
    "\n",
    "def reduced_form(*numbers):\n",
    "    \"\"\"Return a tuple of numbers which is the reduced form of the input, \n",
    "    which is a list of integers\n",
    "    \n",
    "    \"\"\"\n",
    "    return tuple(int(a // gcd(*numbers)) for a in numbers)\n",
    "\n",
    "\n",
    "def prime_factors(n):\n",
    "    \"\"\"Return a list of the prime factors of the integer n.\n",
    "    \n",
    "    Don't use this for big numbers; it's a dumb brute-force method.\n",
    "    \n",
    "    \"\"\"\n",
    "    factors = []\n",
    "    lastresult = n\n",
    "    \n",
    "    while lastresult > 1:\n",
    "        c = 2\n",
    "        while lastresult % c > 0:\n",
    "            c += 1\n",
    "        factors.append(c)\n",
    "        lastresult /= c\n",
    "    \n",
    "    return factors\n",
    "\n",
    "\n",
    "def euler(*numbers):\n",
    "    \"\"\"Euler's \"gradus suavitatis\" (degree of sweetness) function\n",
    "    \n",
    "    Return the \"degree of sweetness\" of a musical interval or chord expressed \n",
    "    as a ratio of frequencies a:b:c, according to Euler's formula\n",
    "    \n",
    "    Greater values indicate more dissonance\n",
    "        \n",
    "    \"\"\"\n",
    "    factors = prime_factors(lcm(*reduced_form(*numbers)))\n",
    "    return 1 + sum(p - 1 for p in factors)\n",
    "\n",
    "\n",
    "def wiseman(a, b):\n",
    "    \"\"\"Return a value corresponding to the dissonance of a musical interval \n",
    "    of ratio a:b\n",
    "    \n",
    "    This is taken from Gus Wiseman's paper at \n",
    "    http://www.nafindix.com/math/sensory.pdf\n",
    "    \n",
    "    It apparently is derived from the total period of two tones, so a tone \n",
    "    of period 2 and a tone of period 3 when summed will give a total period \n",
    "    of 6 (which is LCM(2,3))\n",
    "    \n",
    "    Since a ratio of frequencies is just the inverse of a ratio of periods, \n",
    "    and inverting the terms has no effect on this formula, I *think* it's \n",
    "    valid to just plug in frequency ratios, too.\n",
    "    \n",
    "    Same as \"harmonic value\"?\n",
    "    TODO: a/gcd(all) and b/gcd(all) is just the reduced form, right?  and if a,b are in reduced form, then lcm(a,b) =a*b, right?  So this is just a*b when a,b are in reduced form.  So this should be benedetti().  https://en.wikipedia.org/wiki/Giambattista_Benedetti#Music\n",
    "    product(*reduced_form(a,b))\n",
    "    \n",
    "    http://xenharmonic.wikispaces.com/Benedetti+height\n",
    "    \n",
    "    \"\"\"\n",
    "    return lcm(a / gcd(a, b), b / gcd(a, b));\n",
    "\n",
    "\n",
    "def tenney(a, b):\n",
    "    \"\"\"Return Tenney's harmonic distance of a musical interval of ratio a:b\n",
    "    \n",
    "    \"Tenney's HD function, in one of its simplest forms, is perhaps the most \n",
    "    direct. It is HD(a/b) = log(ab)\"\n",
    "    \n",
    "    Also called \"Tenney height\" with log2: http://xenharmonic.wikispaces.com/Tenney+Height\n",
    "    Tenney's paper says \"harmonic distance\" and \"log\", but relates it to a lattice so maybe the log2 is implied?\n",
    "    \n",
    "    http://lumma.org/tuning/faq/#heights says\n",
    "    Of these, the product of numerator and denominator, often\n",
    "    written n*d, for a ratio n/d in lowest terms, has been found to\n",
    "    best agree with informal rankings by listeners as well as\n",
    "    published psychoacoustic data.  \n",
    "    \n",
    "    The n*d rule is also called Tenney height, after James Tenney^1,\n",
    "    \n",
    "    Tenney height generalizes to geomean(a*b*c...) for a chord\n",
    "    a:b:c..., which gives sqrt(n*d) for dyads.\n",
    "    \n",
    "    \"\"\"\n",
    "    return log(product(*reduced_form(a,b)));"
   ]
  },
  {
   "cell_type": "markdown",
   "metadata": {},
   "source": [
    "## Dissonance curve from Sethares"
   ]
  },
  {
   "cell_type": "code",
   "execution_count": 33,
   "metadata": {},
   "outputs": [
    {
     "data": {
      "text/plain": [
       "1.637314232056855"
      ]
     },
     "execution_count": 33,
     "metadata": {},
     "output_type": "execute_result"
    }
   ],
   "source": [
    "\n",
    "from ipywidgets import interact\n",
    "import ipywidgets as widgets\n",
    "import matplotlib.pyplot as plt\n",
    "import numpy as np\n",
    "from scipy.signal import argrelmin\n",
    "\n",
    "import dissonant as D\n",
    "from dissonant import harmonic_tone, dissonance, pitch_to_freq\n",
    "#from dissonant import harmonic_tone, dissonance, pitch_to_freq\n",
    "freqs, amps = harmonic_tone(pitch_to_freq([0, 2.5, 7, 12]), n_partials=100)\n",
    "dis = dissonance(freqs, amps, model='sethares1993')\n",
    "dis"
   ]
  },
  {
   "cell_type": "code",
   "execution_count": 15,
   "metadata": {},
   "outputs": [],
   "source": [
    "def freq_space(base_f=440, octaves=4, steps=1000):\n",
    "    ratios = np.linspace(1, octaves, steps)\n",
    "    freqs = base_f * ratios\n",
    "    return freqs\n",
    "\n",
    "def dissonance_curve(freq_space, n_partials=10, model='sethares1993'):\n",
    "    dissonances = []\n",
    "    for freq in freq_space:\n",
    "        h_freqs, h_amps = D.harmonic_tone([freq_space[0], freq], n_partials=n_partials)\n",
    "        d = D.dissonance(h_freqs, h_amps, model=model)\n",
    "        dissonances.append(d)\n",
    "    dissonances = np.array(dissonances)\n",
    "    return dissonances\n",
    "\n",
    "def plot_dissonance_curve(freqs, dissonances):\n",
    "    minima = argrelmin(dissonances)[0]\n",
    "\n",
    "    plt.figure(figsize=(16, 3))\n",
    "    plt.xlim(freqs[0], freqs[-1])\n",
    "    plt.plot(freqs, dissonances)\n",
    "    for m in minima:\n",
    "        plt.axvline(freqs[m], c='r', ls=':')\n",
    "    plt.xlabel('frequency')\n",
    "    plt.ylabel('dissonance')"
   ]
  },
  {
   "cell_type": "code",
   "execution_count": 28,
   "metadata": {},
   "outputs": [
    {
     "ename": "NameError",
     "evalue": "name 'multi_harmonics' is not defined",
     "output_type": "error",
     "traceback": [
      "\u001b[1;31m---------------------------------------------------------------------------\u001b[0m",
      "\u001b[1;31mNameError\u001b[0m                                 Traceback (most recent call last)",
      "\u001b[1;32m<ipython-input-28-2b68c1356258>\u001b[0m in \u001b[0;36m<module>\u001b[1;34m\u001b[0m\n\u001b[1;32m----> 1\u001b[1;33m \u001b[0mmulti_harmonics\u001b[0m\u001b[1;33m[\u001b[0m\u001b[1;36m0\u001b[0m\u001b[1;33m]\u001b[0m\u001b[1;33m\u001b[0m\u001b[1;33m\u001b[0m\u001b[0m\n\u001b[0m\u001b[0;32m      2\u001b[0m \u001b[1;31m#peaks_pyth[0]\u001b[0m\u001b[1;33m\u001b[0m\u001b[1;33m\u001b[0m\u001b[1;33m\u001b[0m\u001b[0m\n",
      "\u001b[1;31mNameError\u001b[0m: name 'multi_harmonics' is not defined"
     ]
    }
   ],
   "source": [
    "multi_harmonics[0]\n",
    "#peaks_pyth[0]"
   ]
  },
  {
   "cell_type": "code",
   "execution_count": 511,
   "metadata": {},
   "outputs": [],
   "source": [
    "d = harmonic_fitting.copy()\n",
    "for num in range(len(d)):\n",
    "    d[num] *= 30"
   ]
  },
  {
   "cell_type": "code",
   "execution_count": 76,
   "metadata": {},
   "outputs": [],
   "source": [
    "peaks = [2, 3.2, 8.1, 16.6, 32.3, 39]"
   ]
  },
  {
   "cell_type": "code",
   "execution_count": 52,
   "metadata": {},
   "outputs": [
    {
     "data": {
      "text/plain": [
       "[1.0015432098765433,\n",
       " 1.0034668721109399,\n",
       " 1.0046439628482975,\n",
       " 1.0050154320987654,\n",
       " 1.00812693498452,\n",
       " 1.009375,\n",
       " 1.0125,\n",
       " 1.0140625,\n",
       " 1.017578125,\n",
       " 1.0246913580246915,\n",
       " 1.0337301587301588,\n",
       " 1.0375,\n",
       " 1.23046875,\n",
       " 1.25,\n",
       " 1.2617187499999998,\n",
       " 1.2656249999999998,\n",
       " 1.267578125,\n",
       " 1.27197265625,\n",
       " 1.296875,\n",
       " 1.6,\n",
       " 1.897590361445783,\n",
       " 1.9277108433734937,\n",
       " 1.941448382126348,\n",
       " 1.9444444444444444,\n",
       " 1.9457831325301203,\n",
       " 1.9504643962848298,\n",
       " 1.9548192771084338,\n",
       " 1.9615963855421685,\n",
       " 1.96875,\n",
       " 1.9722650231124805,\n",
       " 1.9753086419753088,\n",
       " 1.9814241486068114,\n",
       " 1.9938271604938271,\n",
       " 2.0]"
      ]
     },
     "execution_count": 52,
     "metadata": {},
     "output_type": "execute_result"
    }
   ],
   "source": [
    "scale = []\n",
    "for i in range(len(peaks)):\n",
    "    scale.append()"
   ]
  },
  {
   "cell_type": "code",
   "execution_count": 507,
   "metadata": {},
   "outputs": [
    {
     "data": {
      "text/plain": [
       "[19.2,\n",
       " 38.4,\n",
       " 55.199999999999996,\n",
       " 57.599999999999994,\n",
       " 76.8,\n",
       " 76.80000000000001,\n",
       " 76.80000000000001,\n",
       " 88.80000000000001,\n",
       " 96.0,\n",
       " 110.39999999999999,\n",
       " 115.19999999999999,\n",
       " 134.4,\n",
       " 153.6,\n",
       " 153.60000000000002,\n",
       " 153.60000000000002,\n",
       " 160.8,\n",
       " 165.6,\n",
       " 172.79999999999998,\n",
       " 177.60000000000002,\n",
       " 230.39999999999998,\n",
       " 247.9,\n",
       " 307.20000000000005,\n",
       " 384.0,\n",
       " 441.59999999999997,\n",
       " 460.79999999999995,\n",
       " 537.6,\n",
       " 588.8,\n",
       " 614.4000000000001,\n",
       " 691.2,\n",
       " 768.0,\n",
       " 844.8,\n",
       " 921.5999999999999,\n",
       " 998.4000000000001,\n",
       " 1075.2,\n",
       " 1152.0,\n",
       " 1228.8000000000002,\n",
       " 1305.6,\n",
       " 1382.4,\n",
       " 1459.2]"
      ]
     },
     "execution_count": 507,
     "metadata": {},
     "output_type": "execute_result"
    }
   ],
   "source": [
    "a, b = compute_peak_ratios(peaks)\n",
    "harmomic_fitting = harmonic_fitting.sort() \n",
    "harmonic_fitting"
   ]
  },
  {
   "cell_type": "code",
   "execution_count": 512,
   "metadata": {},
   "outputs": [
    {
     "data": {
      "image/png": "[encoded data removed]",
      "text/plain": [
       "<Figure size 1152x216 with 1 Axes>"
      ]
     },
     "metadata": {
      "needs_background": "light"
     },
     "output_type": "display_data"
    }
   ],
   "source": [
    "\n",
    "freqs = d\n",
    "#freqs = freq_space(1000, 2, 100)\n",
    "plot_dissonance_curve(freqs, dissonance_curve(freqs, n_partials=250, model='sethares1993'))"
   ]
  },
  {
   "cell_type": "markdown",
   "metadata": {},
   "source": [
    "# PyTuning"
   ]
  },
  {
   "cell_type": "code",
   "execution_count": 259,
   "metadata": {},
   "outputs": [
    {
     "data": {
      "text/plain": [
       "[1,\n",
       " 2**(1/10),\n",
       " 2**(1/5),\n",
       " 2**(3/10),\n",
       " 2**(2/5),\n",
       " sqrt(2),\n",
       " 2**(3/5),\n",
       " 2**(7/10),\n",
       " 2**(4/5),\n",
       " 2**(9/10),\n",
       " 2]"
      ]
     },
     "execution_count": 259,
     "metadata": {},
     "output_type": "execute_result"
    }
   ],
   "source": [
    "import pytuning as pt\n",
    "import sympy as sp\n",
    "from pytuning.scales import create_edo_scale\n",
    "edo_12 = create_edo_scale(10)\n",
    "edo_12\n",
    "\n",
    "\n",
    "#x = pt.find_best_modes(harm_ratios[0], 7)\n",
    "#x\n",
    "#major_mask = (0,2,4,5,7,9,11,12)\n",
    "#major_mode = mask_scale(edo_12_scale, major_mask)\n",
    "#major_mode"
   ]
  },
  {
   "cell_type": "code",
   "execution_count": 269,
   "metadata": {},
   "outputs": [
    {
     "data": {
      "text/plain": [
       "1.624504792712471"
      ]
     },
     "execution_count": 269,
     "metadata": {},
     "output_type": "execute_result"
    }
   ],
   "source": [
    "float(edo_12[7])"
   ]
  },
  {
   "cell_type": "code",
   "execution_count": 26,
   "metadata": {},
   "outputs": [
    {
     "data": {
      "text/plain": [
       "[{'scale': [1.0357142857142856, 1.25, 1.294642857142857, 2.0],\n",
       "  'mask': (0, 1, 2, 11),\n",
       "  'steps': [1, 1, 9],\n",
       "  'original_scale': [1.0357142857142856,\n",
       "   1.25,\n",
       "   1.294642857142857,\n",
       "   1.3571428571428572,\n",
       "   1.430921052631579,\n",
       "   1.4736842105263157,\n",
       "   1.5,\n",
       "   1.526315789473684,\n",
       "   1.8750000000000002,\n",
       "   1.9078947368421053,\n",
       "   1.9419642857142856,\n",
       "   2.0],\n",
       "  'sum_p_q': 9,\n",
       "  'sum_distinct_intervals': 14,\n",
       "  'metric_3': 36.3939393939395,\n",
       "  'sum_p_q_for_all_intervals': 34,\n",
       "  'sum_q_for_all_intervals': 14}]"
      ]
     },
     "execution_count": 26,
     "metadata": {},
     "output_type": "execute_result"
    }
   ],
   "source": [
    "x = pt.find_best_modes(charm_fit, 3)\n",
    "x\n"
   ]
  },
  {
   "cell_type": "code",
   "execution_count": 256,
   "metadata": {},
   "outputs": [
    {
     "data": {
      "text/plain": [
       "[1.0, 2.0, 1.75, 1.5, 1.25, 1.125, 1.375]"
      ]
     },
     "execution_count": 256,
     "metadata": {},
     "output_type": "execute_result"
    }
   ],
   "source": [
    "#This function is similar to the harmonic_tuning function built in BioTuning Package\n",
    "\n",
    "from pytuning.scales import create_harmonic_scale\n",
    "scale = create_harmonic_scale(1,20)\n",
    "scale\n",
    "\n",
    "h, i = harmonic_tuning(12, 2)\n",
    "h\n",
    "\n"
   ]
  },
  {
   "cell_type": "code",
   "execution_count": null,
   "metadata": {
    "collapsed": true
   },
   "outputs": [],
   "source": [
    "#Computes ratios of the harmonic scale\n",
    "\n",
    "harm_ratios = compute_peak_ratios(h)\n",
    "harm_ratios[0]"
   ]
  },
  {
   "cell_type": "code",
   "execution_count": null,
   "metadata": {
    "collapsed": true
   },
   "outputs": [],
   "source": [
    "h = EEG_harmonics_mult(peaks, 12, 0)\n",
    "h"
   ]
  },
  {
   "cell_type": "code",
   "execution_count": 258,
   "metadata": {},
   "outputs": [
    {
     "data": {
      "text/plain": [
       "[1.0,\n",
       " 1.07275390625000,\n",
       " 1.14729876404888,\n",
       " 1.23076923076923,\n",
       " 1.32031250000000,\n",
       " 1.41206001729093,\n",
       " 1.51479289940828,\n",
       " 1.625,\n",
       " 1.73792002128114,\n",
       " 1.86436049157943,\n",
       " 2]"
      ]
     },
     "execution_count": 258,
     "metadata": {},
     "output_type": "execute_result"
    }
   ],
   "source": [
    "z = pt.scales.create_equal_interval_scale(1.625, scale_size=10)\n",
    "z"
   ]
  },
  {
   "cell_type": "code",
   "execution_count": 111,
   "metadata": {},
   "outputs": [
    {
     "data": {
      "text/plain": [
       "[1.0136432647705078,\n",
       " 1.06787109375,\n",
       " 1.125,\n",
       " 1.20135498046875,\n",
       " 1.265625,\n",
       " 1.3515243530273438,\n",
       " 1.423828125,\n",
       " 1.5,\n",
       " 1.601806640625,\n",
       " 1.6875,\n",
       " 1.802032470703125,\n",
       " 1.8984375]"
      ]
     },
     "execution_count": 111,
     "metadata": {},
     "output_type": "execute_result"
    }
   ],
   "source": [
    "sorted(ratios_tet)"
   ]
  },
  {
   "cell_type": "code",
   "execution_count": 49,
   "metadata": {},
   "outputs": [
    {
     "ename": "NameError",
     "evalue": "name 'pt' is not defined",
     "output_type": "error",
     "traceback": [
      "\u001b[0;31m---------------------------------------------------------------------------\u001b[0m",
      "\u001b[0;31mNameError\u001b[0m                                 Traceback (most recent call last)",
      "\u001b[0;32m<ipython-input-49-07d61354e0f3>\u001b[0m in \u001b[0;36m<module>\u001b[0;34m()\u001b[0m\n\u001b[1;32m      1\u001b[0m \u001b[0mintervals\u001b[0m     \u001b[0;34m=\u001b[0m \u001b[0;34m[\u001b[0m\u001b[0;36m22\u001b[0m\u001b[0;34m,\u001b[0m \u001b[0;36m5\u001b[0m\u001b[0;34m,\u001b[0m \u001b[0;36m9\u001b[0m\u001b[0;34m,\u001b[0m \u001b[0;36m15\u001b[0m\u001b[0;34m]\u001b[0m\u001b[0;34m\u001b[0m\u001b[0m\n\u001b[1;32m      2\u001b[0m \u001b[0mmultiplicities\u001b[0m \u001b[0;34m=\u001b[0m \u001b[0;34m[\u001b[0m\u001b[0;36m1\u001b[0m\u001b[0;34m,\u001b[0m\u001b[0;36m1\u001b[0m\u001b[0;34m,\u001b[0m\u001b[0;36m1\u001b[0m\u001b[0;34m,\u001b[0m\u001b[0;36m1\u001b[0m\u001b[0;34m]\u001b[0m\u001b[0;34m\u001b[0m\u001b[0m\n\u001b[0;32m----> 3\u001b[0;31m \u001b[0mscale\u001b[0m         \u001b[0;34m=\u001b[0m \u001b[0mpt\u001b[0m\u001b[0;34m.\u001b[0m\u001b[0mscales\u001b[0m\u001b[0;34m.\u001b[0m\u001b[0mcreate_euler_fokker_scale\u001b[0m\u001b[0;34m(\u001b[0m\u001b[0mintervals\u001b[0m\u001b[0;34m,\u001b[0m \u001b[0mmultiplicities\u001b[0m\u001b[0;34m)\u001b[0m\u001b[0;34m\u001b[0m\u001b[0m\n\u001b[0m\u001b[1;32m      4\u001b[0m \u001b[0mscale\u001b[0m\u001b[0;34m\u001b[0m\u001b[0m\n",
      "\u001b[0;31mNameError\u001b[0m: name 'pt' is not defined"
     ]
    }
   ],
   "source": [
    "intervals     = [22, 5, 9, 15]\n",
    "multiplicities = [1,1,1,1]\n",
    "scale         = pt.scales.create_euler_fokker_scale(intervals, multiplicities)\n",
    "scale"
   ]
  },
  {
   "cell_type": "code",
   "execution_count": 162,
   "metadata": {},
   "outputs": [
    {
     "data": {
      "text/plain": [
       "2.7776241368618715"
      ]
     },
     "execution_count": 162,
     "metadata": {},
     "output_type": "execute_result"
    }
   ],
   "source": [
    "3/2**(1/9)"
   ]
  },
  {
   "cell_type": "markdown",
   "metadata": {},
   "source": [
    "## PyAudio"
   ]
  },
  {
   "cell_type": "code",
   "execution_count": null,
   "metadata": {
    "collapsed": true
   },
   "outputs": [],
   "source": [
    "def notes2play(array, fund):\n",
    "    scale2play = []\n",
    "    scale2play = [fund*x for x in array]\n",
    "    \n",
    "    return scale2play\n",
    "    "
   ]
  },
  {
   "cell_type": "code",
   "execution_count": null,
   "metadata": {
    "collapsed": true
   },
   "outputs": [],
   "source": []
  },
  {
   "cell_type": "code",
   "execution_count": 74,
   "metadata": {},
   "outputs": [],
   "source": [
    "import pyaudio\n",
    "import struct\n",
    "import math\n",
    "\n",
    "FORMAT = pyaudio.paInt16\n",
    "CHANNELS = 2\n",
    "RATE = 44100\n",
    "\n",
    "p = pyaudio.PyAudio()\n",
    "\n",
    "\n",
    "def data_for_freq(frequency: float, time: float = None):\n",
    "    \"\"\"get frames for a fixed frequency for a specified time or\n",
    "    number of frames, if frame_count is specified, the specified\n",
    "    time is ignored\"\"\"\n",
    "    frame_count = int(RATE * time)\n",
    "\n",
    "    remainder_frames = frame_count % RATE\n",
    "    wavedata = []\n",
    "\n",
    "    for i in range(frame_count):\n",
    "        a = RATE / frequency  # number of frames per wave\n",
    "        b = i / a\n",
    "        # explanation for b\n",
    "        # considering one wave, what part of the wave should this be\n",
    "        # if we graph the sine wave in a\n",
    "        # displacement vs i graph for the particle\n",
    "        # where 0 is the beginning of the sine wave and\n",
    "        # 1 the end of the sine wave\n",
    "        # which part is \"i\" is denoted by b\n",
    "        # for clarity you might use\n",
    "        # though this is redundant since math.sin is a looping function\n",
    "        # b = b - int(b)\n",
    "\n",
    "        c = b * (2 * math.pi)\n",
    "        # explanation for c\n",
    "        # now we map b to between 0 and 2*math.PI\n",
    "        # since 0 - 2*PI, 2*PI - 4*PI, ...\n",
    "        # are the repeating domains of the sin wave (so the decimal values will\n",
    "        # also be mapped accordingly,\n",
    "        # and the integral values will be multiplied\n",
    "        # by 2*PI and since sin(n*2*PI) is zero where n is an integer)\n",
    "        d = math.sin(c) * 32767\n",
    "        e = int(d)\n",
    "        wavedata.append(e)\n",
    "\n",
    "    for i in range(remainder_frames):\n",
    "        wavedata.append(0)\n",
    "\n",
    "    number_of_bytes = str(len(wavedata))  \n",
    "    wavedata = struct.pack(number_of_bytes + 'h', *wavedata)\n",
    "\n",
    "    return wavedata\n",
    "\n",
    "\n",
    "def play(frequency: float, time: float):\n",
    "    \"\"\"\n",
    "    play a frequency for a fixed time!\n",
    "    \"\"\"\n",
    "    frames = data_for_freq(frequency, time)\n",
    "    stream = p.open(format=FORMAT, channels=CHANNELS, rate=RATE, output=True)\n",
    "    stream.write(frames)\n",
    "    stream.stop_stream()\n",
    "    stream.close()\n",
    "\n",
    "\n",
    "#if __name__ == \"__main__\":\n",
    "    \n",
    "    \n",
    "        \n"
   ]
  },
  {
   "cell_type": "code",
   "execution_count": null,
   "metadata": {
    "collapsed": true
   },
   "outputs": [],
   "source": [
    "scale2play = notes2play(d, 100)\n",
    "scale2play\n",
    "for i in scale2play:\n",
    "    play(i, 1)\n",
    "    "
   ]
  }
 ],
 "metadata": {
  "kernelspec": {
   "display_name": "Python 3",
   "language": "python",
   "name": "python3"
  },
  "language_info": {
   "codemirror_mode": {
    "name": "ipython",
    "version": 3
   },
   "file_extension": ".py",
   "mimetype": "text/x-python",
   "name": "python",
   "nbconvert_exporter": "python",
   "pygments_lexer": "ipython3",
   "version": "3.7.4"
  }
 },
 "nbformat": 4,
 "nbformat_minor": 2
}
