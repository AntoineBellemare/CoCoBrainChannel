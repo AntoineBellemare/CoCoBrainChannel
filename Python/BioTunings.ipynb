{
 "cells": [
  {
   "cell_type": "markdown",
   "metadata": {},
   "source": [
    "## Imports"
   ]
  },
  {
   "cell_type": "code",
   "execution_count": 1,
   "metadata": {},
   "outputs": [],
   "source": [
    "\n",
    "import numpy as np\n",
    "import math\n",
    "from fractions import Fraction\n",
    "import itertools"
   ]
  },
  {
   "cell_type": "markdown",
   "metadata": {},
   "source": [
    "## Constants"
   ]
  },
  {
   "cell_type": "code",
   "execution_count": 21,
   "metadata": {},
   "outputs": [],
   "source": [
    "#CONSTANT\n",
    "\n",
    "pyt_comma = 0.0136432\n",
    "peaks = [2.4, 6.5, 11.4, 18.8, 29, 33.6]\n",
    "round_peaks = [int(i) for i in peaks]\n",
    "\n",
    "#planet ratios\n",
    "Schumann_earth = [7.83, 14.3, 20.8, 27.3, 33.8]\n",
    "Mercury = 141.27"
   ]
  },
  {
   "cell_type": "markdown",
   "metadata": {},
   "source": [
    "## Functions"
   ]
  },
  {
   "cell_type": "markdown",
   "metadata": {},
   "source": [
    "### Utilities"
   ]
  },
  {
   "cell_type": "code",
   "execution_count": 6,
   "metadata": {},
   "outputs": [],
   "source": [
    "def rebound(x, low = 1, high = 2, octave = 2):\n",
    "    while x > high:\n",
    "        x = x/octave\n",
    "    while x < low:\n",
    "        x = x*octave\n",
    "    return x\n",
    "\n",
    "def nth_root (num, root):\n",
    "    answer = num**(1/root)\n",
    "    return answer\n",
    "\n",
    "\n",
    "#Function that compares lists (i.e. peak harmonics)\n",
    "def compareLists(list1, list2, bounds):\n",
    "    matching = []\n",
    "    matching_pos = []\n",
    "    for i, l1 in enumerate(list1):\n",
    "        for j, l2 in enumerate(list2):\n",
    "            if l2-bounds < l1 < l2+bounds:\n",
    "                matching.append((l1+l2)/2)\n",
    "                matching_pos.append([(l1+l2)/2, i+1, j+1])\n",
    "    matching = np.array(matching)\n",
    "    matching_pos = np.array(matching_pos)\n",
    "    ratios_temp = []\n",
    "    for i in range(len(matching_pos)):\n",
    "        if matching_pos[i][1]>matching_pos[i][2]:\n",
    "            ratios_temp.append(matching_pos[i][1]/matching_pos[i][2])\n",
    "            #print(matching_pos[i][0])\n",
    "        else:\n",
    "            ratios_temp.append(matching_pos[i][2]/matching_pos[i][1])\n",
    "    matching_pos_ratios = np.array(ratios_temp)\n",
    "    return matching, matching_pos, matching_pos_ratios"
   ]
  },
  {
   "cell_type": "code",
   "execution_count": 11,
   "metadata": {},
   "outputs": [
    {
     "data": {
      "text/plain": [
       "array([[4. , 1. , 2. ],\n",
       "       [5.8, 3. , 1. ]])"
      ]
     },
     "execution_count": 11,
     "metadata": {},
     "output_type": "execute_result"
    }
   ],
   "source": [
    "a, b, c = compareLists([4, 4.8, 5.8], [5.8, 4, 8, 10], 0.1)\n",
    "b"
   ]
  },
  {
   "cell_type": "markdown",
   "metadata": {},
   "source": [
    "### Peak ratios and Harmonics"
   ]
  },
  {
   "cell_type": "code",
   "execution_count": 12,
   "metadata": {},
   "outputs": [],
   "source": [
    "#This function calculates the 15 ratios (with the possibility to bound them between 1 and 2) derived from the 6 peaks\n",
    "def compute_peak_ratios(peaks, rebound = 1, octave = 2):\n",
    "    ratios = []\n",
    "    peak_ratios_rebound = []\n",
    "    for p1 in peaks:\n",
    "        for p2 in peaks:\n",
    "            ratio_temp = p2/p1\n",
    "            if ratio_temp == 1:\n",
    "                ratio_temp = None\n",
    "            elif ratio_temp < 1:\n",
    "                ratio_temp = None\n",
    "\n",
    "            ratios.append(ratio_temp)\n",
    "\n",
    "        peak_ratios = np.array(ratios)\n",
    "        peak_ratios = [i for i in peak_ratios if i]\n",
    "        peak_ratios = list(set(peak_ratios))\n",
    "    if rebound == 1:\n",
    "        for peak in peak_ratios:\n",
    "            while peak > octave:\n",
    "                peak = peak/octave\n",
    "            peak_ratios_rebound.append(peak)\n",
    "    peak_ratios_rebound = np.array(peak_ratios_rebound)\n",
    "    peak_ratios_rebound = [i for i in peak_ratios_rebound if i]\n",
    "    peak_ratios = sorted(peak_ratios)\n",
    "    peak_ratios_rebound = sorted(list(set(peak_ratios_rebound)))\n",
    "    return peak_ratios, peak_ratios_rebound"
   ]
  },
  {
   "cell_type": "code",
   "execution_count": null,
   "metadata": {},
   "outputs": [],
   "source": []
  },
  {
   "cell_type": "code",
   "execution_count": 33,
   "metadata": {},
   "outputs": [],
   "source": [
    "#This function takes a list of frequency peaks as input and computes the desired number of harmonics\n",
    "#with the formula: x + 2x + 3x ... + nx\n",
    "def EEG_harmonics_mult(peaks, n_harmonics, n_oct_up = 0):\n",
    "    n_harmonics = n_harmonics + 2\n",
    "    multi_harmonics = []\n",
    "    multi_harmonics_rebound = []\n",
    "    for p in peaks:\n",
    "        multi_harmonics_r = []\n",
    "        multi_harm_temp = []\n",
    "        harmonics = []\n",
    "        p = p * (2**n_oct_up)\n",
    "        i = 1\n",
    "        harm_temp = p\n",
    "        while i < n_harmonics:\n",
    "            harm_temp = p * i\n",
    "            harmonics.append(harm_temp)\n",
    "            i+=1\n",
    "        multi_harmonics.append(harmonics)\n",
    "    multi_harmonics = np.array(multi_harmonics)  \n",
    "        \n",
    "    return multi_harmonics\n",
    "\n",
    "#This function takes a list of frequency peaks as input and computes the desired number of harmonics\n",
    "#with the formula: x + x/2 + x/3 ... + x/n\n",
    "def EEG_harmonics_div(peaks, n_harmonics, n_oct_up = 0):\n",
    "    n_harmonics = n_harmonics + 2\n",
    "    multi_harmonics = []\n",
    "    multi_harmonics_sub = []\n",
    "    for p in peaks:\n",
    "                           \n",
    "        harmonics = [] \n",
    "        harmonics_sub = []\n",
    "        p = p * (2**n_oct_up)               \n",
    "        i = 2\n",
    "        harm_temp = p\n",
    "        harm_temp_sub = p\n",
    "        while i < n_harmonics:\n",
    "            harm_temp = harm_temp + (p/i)\n",
    "            harm_temp_sub = abs(harm_temp_sub - (p/i))\n",
    "            harmonics.append(harm_temp)\n",
    "            harmonics_sub.append(harm_temp_sub)\n",
    "            i+=1    \n",
    "        multi_harmonics.append(harmonics)\n",
    "        multi_harmonics_sub.append(harmonics_sub)\n",
    "    multi_harmonics = np.array(multi_harmonics)\n",
    "    multi_harmonics_bounded = multi_harmonics.copy()\n",
    "    multi_harmonics_sub = np.array(multi_harmonics_sub)\n",
    "    multi_harmonics_sub_bounded = multi_harmonics_sub.copy()\n",
    "    #Rebound the result between 1 and 2\n",
    "    for i in range(len(multi_harmonics_bounded)):\n",
    "        for j in range(len(multi_harmonics_bounded[0])):\n",
    "            multi_harmonics_bounded[i][j] = rebound(multi_harmonics_bounded[i][j])\n",
    "            multi_harmonics_sub_bounded[i][j] = rebound(multi_harmonics_sub_bounded[i][j])\n",
    "    return multi_harmonics, multi_harmonics_bounded, multi_harmonics_sub, multi_harmonics_sub_bounded\n",
    "\n",
    "\n",
    "def harmonic_fit(peak_bands = [0, 1, 2, 3, 4, 5], n_harm = 10, bounds = 1, function = 'mult', peaks = peaks):\n",
    "    from itertools import combinations\n",
    "    if function == 'mult':\n",
    "        multi_harmonics = EEG_harmonics_mult(peaks, n_harm)\n",
    "    elif function == 'div':\n",
    "        multi_harmonics, x, y, z = EEG_harmonics_div(peaks, n_harm)\n",
    "    #print(multi_harmonics)\n",
    "    list_peaks = list(combinations(peak_bands,2))\n",
    "    print(list_peaks)\n",
    "    harm_temp = []\n",
    "    for i in range(len(list_peaks)):\n",
    "        harms, b, c = compareLists(multi_harmonics[list_peaks[i][0]], multi_harmonics[list_peaks[i][1]], bounds)  \n",
    "        harm_temp.append(harms)\n",
    "    harm_fit = np.array(harm_temp).squeeze()\n",
    "\n",
    "    if len(peak_bands) > 2:\n",
    "        harm_fit = list(itertools.chain.from_iterable(harm_fit))\n",
    "\n",
    "    return harm_fit"
   ]
  },
  {
   "cell_type": "code",
   "execution_count": 37,
   "metadata": {},
   "outputs": [
    {
     "name": "stdout",
     "output_type": "stream",
     "text": [
      "[(0, 1), (0, 2), (0, 3), (0, 4), (0, 5), (1, 2), (1, 3), (1, 4), (1, 5), (2, 3), (2, 4), (2, 5), (3, 4), (3, 5), (4, 5)]\n"
     ]
    },
    {
     "data": {
      "text/plain": [
       "[156.0,\n",
       " 45.6,\n",
       " 91.2,\n",
       " 136.8,\n",
       " 182.4,\n",
       " 112.80000000000001,\n",
       " 33.6,\n",
       " 67.2,\n",
       " 100.80000000000001,\n",
       " 134.4,\n",
       " 168.0,\n",
       " 377.0,\n",
       " 638.4]"
      ]
     },
     "execution_count": 37,
     "metadata": {},
     "output_type": "execute_result"
    }
   ],
   "source": [
    "harmonic_fitting = harmonic_fit([0, 1, 2, 3, 4, 5], 75, 0.05, 'mult')\n",
    "harmonic_fitting\n"
   ]
  },
  {
   "cell_type": "code",
   "execution_count": 38,
   "metadata": {},
   "outputs": [
    {
     "data": {
      "text/plain": [
       "[1.1153846153846154,\n",
       " 1.1586206896551725,\n",
       " 1.1875,\n",
       " 1.2719298245614035,\n",
       " 1.2923076923076924,\n",
       " 1.3541666666666667,\n",
       " 1.4461538461538461,\n",
       " 1.4736842105263157,\n",
       " 1.5104166666666667,\n",
       " 1.5425531914893615,\n",
       " 1.6491228070175439,\n",
       " 1.7500000000000002,\n",
       " 1.7538461538461538,\n",
       " 1.7872340425531914,\n",
       " 1.9583333333333335]"
      ]
     },
     "execution_count": 38,
     "metadata": {},
     "output_type": "execute_result"
    }
   ],
   "source": [
    "h, i = compute_peak_ratios(peaks, 1, 2)\n",
    "i"
   ]
  },
  {
   "cell_type": "code",
   "execution_count": 50,
   "metadata": {},
   "outputs": [
    {
     "name": "stdout",
     "output_type": "stream",
     "text": [
      "[(0, 1), (0, 2), (0, 3), (0, 4), (0, 5), (1, 2), (1, 3), (1, 4), (1, 5), (2, 3), (2, 4), (2, 5), (3, 4), (3, 5), (4, 5)]\n"
     ]
    },
    {
     "data": {
      "text/plain": [
       "[1.0178571428571428,\n",
       " 1.023076923076923,\n",
       " 1.0334429824561404,\n",
       " 1.105263157894737,\n",
       " 1.119047619047619,\n",
       " 1.1403508771929824,\n",
       " 1.1607142857142856,\n",
       " 1.1666666666666665,\n",
       " 1.1875,\n",
       " 1.1914893617021276,\n",
       " 1.2083333333333333,\n",
       " 1.2127659574468086,\n",
       " 1.236842105263158,\n",
       " 1.3333333333333333,\n",
       " 1.3571428571428572,\n",
       " 1.377923976608187,\n",
       " 1.3829787234042552,\n",
       " 1.4025297619047619,\n",
       " 1.4148936170212765,\n",
       " 1.4736842105263157,\n",
       " 1.5,\n",
       " 1.5476190476190474,\n",
       " 1.583333333333333,\n",
       " 1.6710992907801416,\n",
       " 1.6785714285714286,\n",
       " 1.693368700265252,\n",
       " 1.7105263157894737,\n",
       " 1.7499999999999998,\n",
       " 1.8700396825396823,\n",
       " 2.0]"
      ]
     },
     "execution_count": 50,
     "metadata": {},
     "output_type": "execute_result"
    }
   ],
   "source": [
    "\n",
    "z, charm_fit = compute_peak_ratios(harmonic_fit([0, 1, 2, 3, 4, 5], 65, 0.1, 'mult'))\n",
    "charm_fit"
   ]
  },
  {
   "cell_type": "code",
   "execution_count": 9,
   "metadata": {},
   "outputs": [
    {
     "data": {
      "text/plain": [
       "array([[  3.6       ,   4.4       ,   5.        ,   5.48      ,\n",
       "          5.88      ,   6.22285714,   6.52285714,   6.78952381,\n",
       "          7.02952381,   7.24770563],\n",
       "       [ 13.05      ,  15.95      ,  18.125     ,  19.865     ,\n",
       "         21.315     ,  22.55785714,  23.64535714,  24.61202381,\n",
       "         25.48202381,  26.2729329 ],\n",
       "       [ 17.1       ,  20.9       ,  23.75      ,  26.03      ,\n",
       "         27.93      ,  29.55857143,  30.98357143,  32.2502381 ,\n",
       "         33.3902381 ,  34.42660173],\n",
       "       [ 28.2       ,  34.46666667,  39.16666667,  42.92666667,\n",
       "         46.06      ,  48.74571429,  51.09571429,  53.18460317,\n",
       "         55.06460317,  56.77369408],\n",
       "       [ 43.5       ,  53.16666667,  60.41666667,  66.21666667,\n",
       "         71.05      ,  75.19285714,  78.81785714,  82.04007937,\n",
       "         84.94007937,  87.576443  ],\n",
       "       [ 50.4       ,  61.6       ,  70.        ,  76.72      ,\n",
       "         82.32      ,  87.12      ,  91.32      ,  95.05333333,\n",
       "         98.41333333, 101.46787879]])"
      ]
     },
     "execution_count": 9,
     "metadata": {},
     "output_type": "execute_result"
    }
   ],
   "source": [
    "mh, mh_bound, mh_sub, mh_sub_bound = EEG_harmonics_div(peaks, 10, n_oct_up = 0)\n",
    "mh\n",
    "#div_harmonics = compareLists(mh[5], mh[4], 0.01)\n",
    "#div_harmonics"
   ]
  },
  {
   "cell_type": "code",
   "execution_count": 56,
   "metadata": {},
   "outputs": [
    {
     "name": "stderr",
     "output_type": "stream",
     "text": [
      "C:\\Users\\Dell\\Anaconda3\\lib\\site-packages\\ipykernel_launcher.py:31: DeprecationWarning: The truth value of an empty array is ambiguous. Returning False, but in future this will result in an error. Use `array.size > 0` to check that an array is not empty.\n"
     ]
    },
    {
     "data": {
      "text/plain": [
       "([0.8333333333333334,\n",
       "  0.8333333333333334,\n",
       "  0.8333333333333334,\n",
       "  0.2361111111111111,\n",
       "  0.8333333333333334,\n",
       "  0.26785714285714285,\n",
       "  0.5833333333333334,\n",
       "  0.5833333333333334],\n",
       " [[1.6785714285714286, 1.119047619047619],\n",
       "  [1.7105263157894737, 1.1403508771929824],\n",
       "  [1.7499999999999998, 1.1666666666666665],\n",
       "  [1.5, 1.3333333333333333],\n",
       "  [2.0, 1.3333333333333333],\n",
       "  [1.1875, 1.3571428571428572],\n",
       "  [1.1607142857142856, 1.5476190476190474],\n",
       "  [1.5, 2.0]])"
      ]
     },
     "execution_count": 56,
     "metadata": {},
     "output_type": "execute_result"
    }
   ],
   "source": [
    "#Compute peaks interval of consonant harmonics\n",
    "compute_consonance (charm_fit, 0.2)"
   ]
  },
  {
   "cell_type": "markdown",
   "metadata": {},
   "source": [
    "### n-TET "
   ]
  },
  {
   "cell_type": "code",
   "execution_count": 40,
   "metadata": {},
   "outputs": [],
   "source": [
    "\n",
    "\n",
    "def oct_subdiv(ratio,bounds,octave,n):    \n",
    "    Octdiv, Octvalue, i = [], [], 1\n",
    "    ratios = []\n",
    "    while len(Octdiv) < n:\n",
    "        ratio_mult = (ratio**i)\n",
    "        while ratio_mult > octave:\n",
    "            ratio_mult = ratio_mult/octave    \n",
    "            \n",
    "        rescale_ratio = ratio_mult - round(ratio_mult)\n",
    "        ratios.append(ratio_mult)\n",
    "        i+=1\n",
    "        if -bounds < rescale_ratio < bounds:\n",
    "            Octdiv.append(i-1)\n",
    "            Octvalue.append(ratio_mult)\n",
    "        else:\n",
    "            continue\n",
    "    return Octdiv, Octvalue, ratios\n",
    "\n",
    "\n",
    "def compare_octave_division(Octdiv = 53, Octdiv2 = 12, bounds = 0.01, octave = 2):\n",
    "    ListOctdiv = []\n",
    "    ListOctdiv2 = []\n",
    "    OctdivSum = 1\n",
    "    OctdivSum2 = 1\n",
    "    i = 1\n",
    "    i2 = 1\n",
    "    Matching_harmonics = []\n",
    "    #HARMONIC_RATIOS = [1, 1.0595, 1.1225, 1.1892, 1.2599, 1.3348, 1.4142, 1.4983, 1.5874, 1.6818, 1.7818, 1.8897]\n",
    "    while OctdivSum < octave:\n",
    "        OctdivSum =(nth_root(octave, Octdiv))**i\n",
    "        i+=1\n",
    "        ListOctdiv.append(OctdivSum)\n",
    "    #print(ListOctdiv)\n",
    "\n",
    "    while OctdivSum2 < octave:\n",
    "        OctdivSum2 =(nth_root(octave, Octdiv2))**i2\n",
    "        i2+=1\n",
    "        ListOctdiv2.append(OctdivSum2)\n",
    "    #print(ListOctdiv2)\n",
    "    for i, n in enumerate(ListOctdiv):\n",
    "        for j, harm in enumerate(ListOctdiv2):\n",
    "            if harm-bounds < n < harm+bounds:\n",
    "                Matching_harmonics.append([n, i+1, harm, j+1])\n",
    "    Matching_harmonics = np.array(Matching_harmonics)\n",
    "    return Matching_harmonics\n",
    "\n",
    "\n"
   ]
  },
  {
   "cell_type": "code",
   "execution_count": null,
   "metadata": {},
   "outputs": [],
   "source": []
  },
  {
   "cell_type": "markdown",
   "metadata": {},
   "source": [
    "### Consonance"
   ]
  },
  {
   "cell_type": "code",
   "execution_count": 41,
   "metadata": {},
   "outputs": [],
   "source": [
    "#Oct_subdiv\n",
    "#Argument 1 : a ratio in the form of a float or a fraction\n",
    "#Argument 2 : bounds between which the octave should fall\n",
    "#Argument 3 : value of the octave\n",
    "#Argument 4 : number of octave subdivisions\n",
    "def compute_consonance (peaks, limit):\n",
    "    consonance_ = []\n",
    "    peaks2keep = []\n",
    "    peaks_consonance = []\n",
    "    for p1 in peaks:    \n",
    "        for p2 in peaks:\n",
    "            peaks2keep_temp = []\n",
    "            p2x = p2\n",
    "            p1x = p1\n",
    "            cons_temp = (p2x/p1x).as_integer_ratio()\n",
    "            cons_temp = (cons_temp[0] + cons_temp[1])/(cons_temp[0] * cons_temp[1])\n",
    "            #print(cons_temp)\n",
    "            if cons_temp == 2:\n",
    "                cons_temp = None\n",
    "                p2x = None\n",
    "                p1x = None\n",
    "            elif cons_temp < limit:\n",
    "                cons_temp = None\n",
    "                p2x = None\n",
    "                p1x = None\n",
    "            if p2x != None:\n",
    "                peaks2keep_temp.extend([p2x, p1x])\n",
    "            consonance_.append(cons_temp)  \n",
    "            peaks2keep.append(peaks2keep_temp)\n",
    "        peaks_consonance = np.array(peaks2keep)\n",
    "        peaks_consonance = [x for x in peaks_consonance if x]\n",
    "        consonance = np.array(consonance_)\n",
    "        consonance = [i for i in consonance if i]\n",
    "        #consonance = list(set(consonance))\n",
    "    return consonance, peaks_consonance\n",
    "\n",
    "# Function that computes integer ratios from peaks with higher consonance\n",
    "# Needs at least two pairs of values\n",
    "def comp_consonant_integers_ratios (peaks_consonance):\n",
    "    cons_integer = []\n",
    "    for i in range(len(peaks_consonance)):\n",
    "        #for j in range(len(peaks_consonance[0])):\n",
    "        a = peaks_consonance[i][0]\n",
    "        b = peaks_consonance[i][1]\n",
    "        if a > b:\n",
    "            while a > (b):\n",
    "                a = a/2\n",
    "        if a < b:\n",
    "            while b > (a):\n",
    "                b = b/2\n",
    "        c = a/b\n",
    "        cons_temp = (c).as_integer_ratio()\n",
    "        #print(cons_temp)\n",
    "        cons_integer.append(cons_temp)\n",
    "    consonant_integers = np.array(cons_integer).squeeze()\n",
    "    cons_ratios = []\n",
    "    for j in range(len(consonant_integers)):\n",
    "        cons_ratios.append((consonant_integers[j][0])/(consonant_integers[j][1]))\n",
    "    consonant_ratios = np.array(cons_ratios)\n",
    "    return consonant_integers, consonant_ratios"
   ]
  },
  {
   "cell_type": "code",
   "execution_count": 113,
   "metadata": {},
   "outputs": [
    {
     "name": "stdout",
     "output_type": "stream",
     "text": [
      "[1.1875, 1.25, 1.375, 1.421875, 1.625]\n",
      "[1.1818181818181819, 1.1875, 1.2307692307692308, 1.25, 1.375, 1.421875, 1.4545454545454546, 1.4615384615384615, 1.6, 1.625, 1.7272727272727273, 2.0, 2.2, 2.375, 2.6, 2.75, 3.2, 3.25, 3.3684210526315788, 3.8, 4.0, 4.75, 4.7894736842105265, 4.923076923076923, 5.6875, 5.818181818181818, 7.0, 8.0, 8.272727272727273, 11.375, 12.8, 16.0, 18.2, 22.75]\n"
     ]
    }
   ],
   "source": [
    "\n",
    "a, b = compute_consonance(peaks + Schumann_earth, 0.13)\n",
    "c, d = comp_consonant_integers_ratios (b)\n",
    "print(sorted(d))\n",
    "\n",
    "temp = list(np.unique(np.asarray(c).flatten()))\n",
    "e, f = compute_peak_ratios(temp, 1, 2)\n",
    "print(e)\n",
    "\n",
    "#g, h = comp_consonant_integers_ratios(test)\n",
    "#g\n"
   ]
  },
  {
   "cell_type": "code",
   "execution_count": 13,
   "metadata": {},
   "outputs": [
    {
     "data": {
      "text/plain": [
       "8.833333333333334"
      ]
     },
     "execution_count": 13,
     "metadata": {},
     "output_type": "execute_result"
    }
   ],
   "source": [
    "2*53/12"
   ]
  },
  {
   "cell_type": "markdown",
   "metadata": {},
   "source": [
    "### Tunings"
   ]
  },
  {
   "cell_type": "code",
   "execution_count": 92,
   "metadata": {},
   "outputs": [],
   "source": [
    "# Function that computes Pythogorian Tunings from integer ratios \n",
    "# List of equations of the Pythagorean Tuning\n",
    "# variable 'a' has to be the highest value in the ratio\n",
    "\n",
    "#INPUTS (a: numerator of the source ratio / b: denominator of the source ratio\n",
    "#        n: multiplifier of all notes / octa: octave value / lim_denom: highest value possible\n",
    "#        for the denominator of the ratios)\n",
    "#OUTPUTS\n",
    "\n",
    "def compute_pythagore(a = 3, b = 2, n = 1, octa = 2, lim_denom = 1000):\n",
    "    import operator\n",
    "    pyth0 = n * (1/1)\n",
    "    pyth1 = n * ((b/a)**5)*(octa**3)\n",
    "    pyth1 = rebound(pyth1, 1, octa)\n",
    "    pyth2 = n * ((a/b)**2)*(1/octa)\n",
    "    pyth2 = rebound(pyth2, 1, octa)\n",
    "    pyth3 = n * ((b/a)**3)*(octa**2)\n",
    "    pyth3 = rebound(pyth3, 1, octa)\n",
    "    pyth4 = n * ((a/b)**4)*((1/octa)**2)\n",
    "    pyth4 = rebound(pyth4, 1, octa)\n",
    "    pyth5 = n * (b/a)*octa\n",
    "    pyth5 = rebound(pyth5, 1, octa)\n",
    "    pyth6 = n * ((b/a)**6)*(octa**4)\n",
    "    pyth6 = rebound(pyth6, 1, octa)\n",
    "    pyth6_2 = n * ((a/b)**6)*((1/octa)**3)\n",
    "    pyth6_2 = rebound(pyth6_2, 1, octa)\n",
    "    pyth7 = n * (a/b)\n",
    "    pyth7 = rebound(pyth7, 1, octa)\n",
    "    pyth8 = n * ((b/a)**4)*(octa**3)\n",
    "    pyth8 = rebound(pyth8, 1, octa)\n",
    "    pyth9 = n * ((a/b)**3)*(1/octa)\n",
    "    pyth9 = rebound(pyth9, 1, octa)\n",
    "    pyth10 = n * ((b/a)**2)*(octa**2)\n",
    "    pyth10 = rebound(pyth10, 1, octa)\n",
    "    pyth11 = n * ((a/b)**5)*((1/octa)**2)\n",
    "    pyth11 = rebound(pyth11, 1, octa)\n",
    "    pyth12 = rebound((n * octa), 1, octa)\n",
    "    \n",
    "    pyth_dict = {'unison':pyth0,\n",
    "             'minor second':pyth1,\n",
    "             'major second':pyth2,\n",
    "             'minor third':pyth3,\n",
    "             'major third':pyth4,\n",
    "             'perfect fourth':pyth5,\n",
    "             'diminished fifth':pyth6,\n",
    "             'augmented fourth':pyth6_2,\n",
    "             'perfect fifth':pyth7,\n",
    "             'minor sixth':pyth8,\n",
    "             'major sixth':pyth9,\n",
    "             'minor seventh':pyth10,\n",
    "             'major seventh':pyth11,\n",
    "             'octave':pyth12}\n",
    "    pyth_dict_list = sorted(pyth_dict.items(), key=operator.itemgetter(1))\n",
    "    pyth_dict = dict(pyth_dict)\n",
    "    pyth_temp = []\n",
    "    pyth_temp_float = []\n",
    "    for i in range(len(pyth_dict_list)):\n",
    "        frac = []\n",
    "        #print(harm_tuning[i])\n",
    "        pyth_ratios = Fraction(pyth_dict_list[i][1]).limit_denominator(lim_denom)\n",
    "        pyth_float = pyth_dict_list[i][1]\n",
    "        num = pyth_ratios.numerator\n",
    "        denom = pyth_ratios.denominator\n",
    "        frac.extend([num, denom])\n",
    "        #print(harm_ratios_temp)\n",
    "        pyth_temp.append(frac)\n",
    "        pyth_temp_float.append(pyth_float)\n",
    "       \n",
    "    pyth_dict_list_ratios = (np.array(pyth_temp)).squeeze()\n",
    "    pyth_dict_list_float = np.around((np.array(pyth_temp_float)),3) \n",
    "    \n",
    "    return pyth_dict, pyth_dict_list, pyth_dict_list_ratios, pyth_dict_list_float\n",
    "\n",
    "#This Function build a tuning based on the multiplication of a ratio by itself.\n",
    "def harmonic_tuning(n_harmonics = 10, octave = 2, rounding = 10, pos = 1):\n",
    "    harm_tuning_temp = []\n",
    "    i = 1\n",
    "    harm_ratios = []\n",
    "    harm_ratios_temp = []\n",
    "    while i <= n_harmonics:\n",
    "        harm_temp = pos*i\n",
    "        harm_tuning_temp.append(harm_temp)\n",
    "        i+=1\n",
    "    \n",
    "    for h in harm_tuning_temp:\n",
    "                while h > pos*octave:\n",
    "                    h = h/octave\n",
    "                while h > octave:\n",
    "                    h = h/pos\n",
    "                h = round(h, rounding)\n",
    "\n",
    "                #if h == octave:\n",
    "                #    h = None\n",
    "                harm_ratios_temp.append(h)\n",
    "    harm_tuning = np.array(harm_ratios_temp)\n",
    "    harm_tuning = [i for i in harm_tuning if i]\n",
    "    harm_tuning = list(set(harm_tuning))\n",
    "    for i in range(len(harm_tuning)):\n",
    "        frac = []\n",
    "        #print(harm_tuning[i])\n",
    "        harm_ratios_temp = Fraction(harm_tuning[i]).limit_denominator()\n",
    "        num = harm_ratios_temp.numerator\n",
    "        denom = harm_ratios_temp.denominator\n",
    "        frac.extend([num, denom])\n",
    "        #print(harm_ratios_temp)\n",
    "        harm_ratios.append(frac)\n",
    "    \n",
    "    harm_tuning_frac = (np.array(harm_ratios)).squeeze().tolist()\n",
    "\n",
    "    return harm_tuning, harm_tuning_frac\n",
    "\n",
    "#This function subdivides the octave in equal parts\n",
    "def Ntet_tuning(subdiv, octave):\n",
    "    ratios_temp = []\n",
    "    for i in range(subdiv+1):\n",
    "        ratios_temp.append(octave**(i/subdiv))\n",
    "    ratios = np.array(ratios_temp)\n",
    "    return ratios"
   ]
  },
  {
   "cell_type": "code",
   "execution_count": 191,
   "metadata": {},
   "outputs": [
    {
     "data": {
      "text/plain": [
       "[1.3333333333,\n",
       " 2.0,\n",
       " 3.0,\n",
       " 1.6666666667,\n",
       " 2.3333333333,\n",
       " 2.6666666667,\n",
       " 1.1111111111,\n",
       " 1.2222222222,\n",
       " 1.4444444444,\n",
       " 1.5555555556,\n",
       " 2.1111111111,\n",
       " 2.4444444444,\n",
       " 2.5555555556,\n",
       " 1.1851851852,\n",
       " 1.8148148148,\n",
       " 1.3703703704,\n",
       " 1.7407407407,\n",
       " 1.2962962963,\n",
       " 1.4814814815,\n",
       " 1.037037037,\n",
       " 1.8518518519,\n",
       " 1.7777777778,\n",
       " 1.4074074074,\n",
       " 1.5925925926,\n",
       " 2.2222222222,\n",
       " 2.7777777778,\n",
       " 1.1481481481,\n",
       " 1.8888888889,\n",
       " 1.5185185185,\n",
       " 1.7037037037,\n",
       " 2.8888888889,\n",
       " 1.0740740741,\n",
       " 1.2592592593,\n",
       " 1.6296296296]"
      ]
     },
     "execution_count": 191,
     "metadata": {},
     "output_type": "execute_result"
    }
   ],
   "source": [
    "harm_tuning, h = harmonic_tuning(n_harmonics = 50, octave = 3, rounding = 10, pos = 3)\n",
    "harm_tuning"
   ]
  },
  {
   "cell_type": "code",
   "execution_count": 108,
   "metadata": {},
   "outputs": [
    {
     "data": {
      "text/plain": [
       "array([[ 1.0537055 ,  4.        ,  1.05946309,  1.        ],\n",
       "       [ 1.06757663,  5.        ,  1.05946309,  1.        ],\n",
       "       [ 1.12491136,  9.        ,  1.12246205,  2.        ],\n",
       "       [ 1.18532528, 13.        ,  1.18920712,  3.        ],\n",
       "       [ 1.26542556, 18.        ,  1.25992105,  4.        ],\n",
       "       [ 1.33338587, 22.        ,  1.33483985,  5.        ],\n",
       "       [ 1.40499601, 26.        ,  1.41421356,  6.        ],\n",
       "       [ 1.42349158, 27.        ,  1.41421356,  6.        ],\n",
       "       [ 1.4999409 , 31.        ,  1.49830708,  7.        ],\n",
       "       [ 1.58049597, 35.        ,  1.58740105,  8.        ],\n",
       "       [ 1.68730056, 40.        ,  1.68179283,  9.        ],\n",
       "       [ 1.77791787, 44.        ,  1.78179744, 10.        ],\n",
       "       [ 2.        , 53.        ,  2.        , 12.        ]])"
      ]
     },
     "execution_count": 108,
     "metadata": {},
     "output_type": "execute_result"
    }
   ],
   "source": [
    "octdiv = compare_octave_division(Octdiv = 53, Octdiv2 = 12, bounds = 0.01, octave = 2)\n",
    "octdiv"
   ]
  },
  {
   "cell_type": "code",
   "execution_count": null,
   "metadata": {},
   "outputs": [],
   "source": []
  },
  {
   "cell_type": "code",
   "execution_count": null,
   "metadata": {},
   "outputs": [],
   "source": []
  },
  {
   "cell_type": "code",
   "execution_count": 107,
   "metadata": {},
   "outputs": [
    {
     "ename": "NameError",
     "evalue": "name 'multi_harmonics' is not defined",
     "output_type": "error",
     "traceback": [
      "\u001b[1;31m---------------------------------------------------------------------------\u001b[0m",
      "\u001b[1;31mNameError\u001b[0m                                 Traceback (most recent call last)",
      "\u001b[1;32m<ipython-input-107-63ad28a9c883>\u001b[0m in \u001b[0;36m<module>\u001b[1;34m\u001b[0m\n\u001b[1;32m----> 1\u001b[1;33m \u001b[0mx\u001b[0m \u001b[1;33m=\u001b[0m \u001b[0mcompareLists\u001b[0m\u001b[1;33m(\u001b[0m\u001b[0mmulti_harmonics\u001b[0m\u001b[1;33m[\u001b[0m\u001b[0mlist_peaks\u001b[0m\u001b[1;33m[\u001b[0m\u001b[1;36m0\u001b[0m\u001b[1;33m]\u001b[0m\u001b[1;33m[\u001b[0m\u001b[1;36m1\u001b[0m\u001b[1;33m]\u001b[0m\u001b[1;33m]\u001b[0m\u001b[1;33m,\u001b[0m \u001b[0mmulti_harmonics\u001b[0m\u001b[1;33m[\u001b[0m\u001b[0mlist_peaks\u001b[0m\u001b[1;33m[\u001b[0m\u001b[1;36m0\u001b[0m\u001b[1;33m]\u001b[0m\u001b[1;33m[\u001b[0m\u001b[1;36m0\u001b[0m\u001b[1;33m]\u001b[0m\u001b[1;33m]\u001b[0m\u001b[1;33m,\u001b[0m \u001b[1;36m0.1\u001b[0m\u001b[1;33m)\u001b[0m\u001b[1;33m\u001b[0m\u001b[1;33m\u001b[0m\u001b[0m\n\u001b[0m\u001b[0;32m      2\u001b[0m \u001b[0mx\u001b[0m\u001b[1;33m\u001b[0m\u001b[1;33m\u001b[0m\u001b[0m\n\u001b[0;32m      3\u001b[0m \u001b[1;31m#multi_harmonics[list_peaks[0][1]]\u001b[0m\u001b[1;33m\u001b[0m\u001b[1;33m\u001b[0m\u001b[1;33m\u001b[0m\u001b[0m\n",
      "\u001b[1;31mNameError\u001b[0m: name 'multi_harmonics' is not defined"
     ]
    }
   ],
   "source": [
    "x = compareLists(multi_harmonics[list_peaks[0][1]], multi_harmonics[list_peaks[0][0]], 0.1)\n",
    "x\n",
    "#multi_harmonics[list_peaks[0][1]]"
   ]
  },
  {
   "cell_type": "code",
   "execution_count": null,
   "metadata": {},
   "outputs": [],
   "source": []
  },
  {
   "cell_type": "markdown",
   "metadata": {},
   "source": [
    "## Bidouille"
   ]
  },
  {
   "cell_type": "code",
   "execution_count": 190,
   "metadata": {},
   "outputs": [
    {
     "name": "stdout",
     "output_type": "stream",
     "text": [
      "CONSONANT PEAKS\n",
      "[[14.3, 20.8], [27.3, 20.8], [27.3, 2.4], [8.7, 2.4], [11.4, 2.4], [27.3, 33.6]]\n",
      "CONSONANT INTEGER RATIOS\n",
      "(array([[11, 16],\n",
      "       [21, 16],\n",
      "       [91, 64],\n",
      "       [29, 16],\n",
      "       [19, 16],\n",
      "       [13, 16]]), array([0.6875  , 1.3125  , 1.421875, 1.8125  , 1.1875  , 0.8125  ]))\n"
     ]
    },
    {
     "name": "stderr",
     "output_type": "stream",
     "text": [
      "C:\\Users\\Dell\\Anaconda3\\lib\\site-packages\\ipykernel_launcher.py:31: DeprecationWarning: The truth value of an empty array is ambiguous. Returning False, but in future this will result in an error. Use `array.size > 0` to check that an array is not empty.\n"
     ]
    }
   ],
   "source": [
    "#compute_consonance takes a list of peaks as input(1) and a threshold(2)\n",
    "#above which the peaks are kept\n",
    "#output(1) returns the consonance values\n",
    "#output(2) return the peaks corresponding to the consonance values\n",
    "consonant_values, consonant_peaks = compute_consonance(Schumann_earth+peaks, 0.01)\n",
    "print('CONSONANT PEAKS')\n",
    "print(consonant_peaks)\n",
    "#This function takes a list of consonant peaks and returns the peak ratios\n",
    "#with integer values\n",
    "cons_integers = comp_consonant_integers_ratios(consonant_peaks)\n",
    "print('CONSONANT INTEGER RATIOS')\n",
    "print(cons_integers)"
   ]
  },
  {
   "cell_type": "code",
   "execution_count": 152,
   "metadata": {},
   "outputs": [
    {
     "name": "stdout",
     "output_type": "stream",
     "text": [
      "OCTAVE SUBDIVISIONS\n",
      "[2, 31, 33, 35, 64] [1.9599999999999997, 1.0339967437035635, 1.0133168088294922, 1.986100945305804, 1.0477662806697812]\n",
      "RATIOS-TET\n",
      "[1.4, 1.9599999999999997, 1.3719999999999997, 1.9207999999999996, 1.3445599999999995, 1.8823839999999994, 1.3176687999999994, 1.844736319999999, 1.2913154239999993, 1.8078415935999987, 1.2654891155199992, 1.7716847617279987, 1.240179333209599, 1.7362510664934385, 1.215375746545407, 1.7015260451635694, 1.1910682316144985, 1.6674955242602978, 1.1672468669822085, 1.6341456137750916, 1.143901929642564, 1.6014627014995897, 1.1210238910497128, 1.5694334474695977, 1.0986034132287184, 1.5380447785202056, 1.0766313449641438, 1.5072838829498012, 1.0550987180648608, 1.477138205290805, 1.0339967437035635, 1.4475954411849887, 1.0133168088294922, 1.4186435323612887, 1.986100945305804, 1.3902706617140628, 1.9463789263996878, 1.3624652484797815, 1.907451347871694, 1.3352159435101856, 1.8693023209142596, 1.3085116246399817, 1.8319162744959743, 1.282341392147182, 1.7952779490060546, 1.2566945643042382, 1.7593723900259333, 1.2315606730181532, 1.7241849422254143, 1.20692945955779, 1.6897012433809058, 1.182790870366634, 1.6559072185132875, 1.1591350529593012, 1.6227890741430215, 1.1359523519001151, 1.590333292660161, 1.1132333048621126, 1.5585266268069575, 1.0909686387648703, 1.5273560942708182, 1.0691492659895727, 1.4968089723854017, 1.0477662806697812]\n",
      "COMPARE OCTAVE SUBDIVISIONS\n",
      "[[ 1.06212718  2.          1.06504109  3.        ]\n",
      " [ 1.16262941  5.          1.15839013  7.        ]\n",
      " [ 1.23486029  7.          1.23373308 10.        ]\n",
      " [ 1.31157867  9.          1.31397643 13.        ]\n",
      " [ 1.52487993 14.          1.52209732 20.        ]\n",
      " [ 1.61961642 16.          1.62109619 23.        ]\n",
      " [ 2.         23.          2.         33.        ]]\n",
      "PEAK RATIOS\n",
      "[1.1586206896551725, 1.5425531914893615, 1.6491228070175439, 1.7538461538461538, 1.7872340425531914, 2.543859649122807, 2.7083333333333335, 2.8923076923076922, 2.9473684210526314, 4.461538461538462, 4.75, 5.1692307692307695, 7.833333333333334, 12.083333333333334, 14.000000000000002] [1.1153846153846154, 1.1586206896551725, 1.1875, 1.2719298245614035, 1.2923076923076924, 1.3541666666666667, 1.4461538461538461, 1.4736842105263157, 1.5104166666666667, 1.5425531914893615, 1.6491228070175439, 1.7500000000000002, 1.7538461538461538, 1.7872340425531914, 1.9583333333333335]\n",
      "HARMONICS (x*n)\n",
      "[[   2.4    4.8    7.2    9.6   12.    14.4   16.8   19.2   21.6   24.\n",
      "    26.4   28.8   31.2   33.6   36.    38.4   40.8   43.2   45.6   48.\n",
      "    50.4   52.8   55.2   57.6   60.    62.4   64.8   67.2   69.6   72.\n",
      "    74.4   76.8   79.2   81.6   84.    86.4   88.8   91.2   93.6   96.\n",
      "    98.4  100.8  103.2  105.6  108.   110.4  112.8  115.2  117.6  120.\n",
      "   122.4]\n",
      " [   6.5   13.    19.5   26.    32.5   39.    45.5   52.    58.5   65.\n",
      "    71.5   78.    84.5   91.    97.5  104.   110.5  117.   123.5  130.\n",
      "   136.5  143.   149.5  156.   162.5  169.   175.5  182.   188.5  195.\n",
      "   201.5  208.   214.5  221.   227.5  234.   240.5  247.   253.5  260.\n",
      "   266.5  273.   279.5  286.   292.5  299.   305.5  312.   318.5  325.\n",
      "   331.5]\n",
      " [  11.4   22.8   34.2   45.6   57.    68.4   79.8   91.2  102.6  114.\n",
      "   125.4  136.8  148.2  159.6  171.   182.4  193.8  205.2  216.6  228.\n",
      "   239.4  250.8  262.2  273.6  285.   296.4  307.8  319.2  330.6  342.\n",
      "   353.4  364.8  376.2  387.6  399.   410.4  421.8  433.2  444.6  456.\n",
      "   467.4  478.8  490.2  501.6  513.   524.4  535.8  547.2  558.6  570.\n",
      "   581.4]\n",
      " [  18.8   37.6   56.4   75.2   94.   112.8  131.6  150.4  169.2  188.\n",
      "   206.8  225.6  244.4  263.2  282.   300.8  319.6  338.4  357.2  376.\n",
      "   394.8  413.6  432.4  451.2  470.   488.8  507.6  526.4  545.2  564.\n",
      "   582.8  601.6  620.4  639.2  658.   676.8  695.6  714.4  733.2  752.\n",
      "   770.8  789.6  808.4  827.2  846.   864.8  883.6  902.4  921.2  940.\n",
      "   958.8]\n",
      " [  29.    58.    87.   116.   145.   174.   203.   232.   261.   290.\n",
      "   319.   348.   377.   406.   435.   464.   493.   522.   551.   580.\n",
      "   609.   638.   667.   696.   725.   754.   783.   812.   841.   870.\n",
      "   899.   928.   957.   986.  1015.  1044.  1073.  1102.  1131.  1160.\n",
      "  1189.  1218.  1247.  1276.  1305.  1334.  1363.  1392.  1421.  1450.\n",
      "  1479. ]\n",
      " [  33.6   67.2  100.8  134.4  168.   201.6  235.2  268.8  302.4  336.\n",
      "   369.6  403.2  436.8  470.4  504.   537.6  571.2  604.8  638.4  672.\n",
      "   705.6  739.2  772.8  806.4  840.   873.6  907.2  940.8  974.4 1008.\n",
      "  1041.6 1075.2 1108.8 1142.4 1176.  1209.6 1243.2 1276.8 1310.4 1344.\n",
      "  1377.6 1411.2 1444.8 1478.4 1512.  1545.6 1579.2 1612.8 1646.4 1680.\n",
      "  1713.6]]\n",
      "HARMONICS (x/n)\n",
      "[[1.8        1.1        1.25       1.37       1.47       1.55571429\n",
      "  1.63071429 1.69738095]\n",
      " [1.21875    1.48958333 1.69270833 1.85520833 1.990625   1.05334821\n",
      "  1.10412946 1.14926835]\n",
      " [1.06875    1.30625    1.484375   1.626875   1.745625   1.84741071\n",
      "  1.93647321 1.00781994]\n",
      " [1.7625     1.07708333 1.22395833 1.34145833 1.439375   1.52330357\n",
      "  1.59674107 1.66201885]\n",
      " [1.359375   1.66145833 1.88802083 1.03463542 1.11015625 1.17488839\n",
      "  1.23152902 1.28187624]\n",
      " [1.575      1.925      1.09375    1.19875    1.28625    1.36125\n",
      "  1.426875   1.48520833]]\n"
     ]
    },
    {
     "data": {
      "text/plain": [
       "{'unison': 1.0,\n",
       " 'minor second': 1.8984375,\n",
       " 'major second': 1.7777777777777777,\n",
       " 'minor third': 1.6875,\n",
       " 'major third': 1.5802469135802466,\n",
       " 'perfect fourth': 1.5,\n",
       " 'diminished fifth': 1.423828125,\n",
       " 'augmented fourth': 1.4046639231824412,\n",
       " 'perfect fifth': 1.3333333333333333,\n",
       " 'minor sixth': 1.265625,\n",
       " 'major sixth': 1.185185185185185,\n",
       " 'minor seventh': 1.125,\n",
       " 'major seventh': 1.053497942386831,\n",
       " 'octave': 2}"
      ]
     },
     "execution_count": 152,
     "metadata": {},
     "output_type": "execute_result"
    }
   ],
   "source": [
    "\n",
    "#Oct_subdiv\n",
    "#Argument 1 : a ratio in the form of a float or a fraction\n",
    "#Argument 2 : bounds between which the octave should fall\n",
    "#Argument 3 : value of the octave\n",
    "#Argument 4 : number of octave subdivisions\n",
    "Octdiv, Octvalue, ratios_tet = oct_subdiv(7/5, 0.05, 2, 5)\n",
    "print('OCTAVE SUBDIVISIONS')\n",
    "print(Octdiv, Octvalue)\n",
    "print('RATIOS-TET')\n",
    "print(ratios_tet)\n",
    "pairwise_oct_div = compare_octave_division(Octdiv = 23, Octdiv2 = 33, bounds = 0.005, octave = 2)\n",
    "print('COMPARE OCTAVE SUBDIVISIONS')\n",
    "print(pairwise_oct_div)\n",
    "\n",
    "\n",
    "\n",
    "\n",
    "peak_ratios, peak_ratios_rebound = compute_peak_ratios(peaks, 1)\n",
    "print('PEAK RATIOS')\n",
    "print(peak_ratios, peak_ratios_rebound)\n",
    "\n",
    "\n",
    "\n",
    "#Calculates a specific number of partials from a list of peaks [n_peaks][n_harmonic]\n",
    "multi_harmonics= EEG_harmonics_mult(peaks, 50, 0)\n",
    "print('HARMONICS (x*n)')\n",
    "print(multi_harmonics)\n",
    "#Calculates a specific number of elements in the harmonics series\n",
    "#from a list of peaks [n_peaks][n_harmonic]\n",
    "harm_div, harm_div_bound, harm_div_sub, harm_div_sub_bound = EEG_harmonics_div(peaks, n_harmonics = 8)\n",
    "print('HARMONICS (x/n)')\n",
    "print(harm_div_bound)\n",
    "\n",
    "#pyth_dict, pyth_dict_list = compute_pythagore(cons_integers[2][0], cons_integers[2][1], 1, 2)\n",
    "a, b, c, d = compute_pythagore(4, 3, 1, 2, 1000)\n",
    "a"
   ]
  },
  {
   "cell_type": "code",
   "execution_count": 223,
   "metadata": {},
   "outputs": [
    {
     "data": {
      "text/plain": [
       "array([1.   , 1.091, 1.19 , 1.373, 1.498, 1.589, 1.731, 1.733, 1.888,\n",
       "       2.002, 2.184, 2.521, 2.75 , 3.   ])"
      ]
     },
     "execution_count": 223,
     "metadata": {},
     "output_type": "execute_result"
    }
   ],
   "source": [
    "a, b, c, d = compute_pythagore(11, 4, 1, 3, 1000)\n",
    "d"
   ]
  },
  {
   "cell_type": "code",
   "execution_count": 95,
   "metadata": {},
   "outputs": [
    {
     "data": {
      "text/plain": [
       "([0.3611111111111111,\n",
       "  1.3333333333333333,\n",
       "  0.8333333333333334,\n",
       "  0.06828703703703703,\n",
       "  0.5833333333333334],\n",
       " [[2.25, 1.0], [3.0, 1.0], [2.403, 1.602], [2.403, 2.848], [2.25, 3.0]])"
      ]
     },
     "execution_count": 95,
     "metadata": {},
     "output_type": "execute_result"
    }
   ],
   "source": [
    "compute_consonance(d, 0.01)"
   ]
  },
  {
   "cell_type": "code",
   "execution_count": null,
   "metadata": {
    "collapsed": true
   },
   "outputs": [],
   "source": [
    "#Create a function that compute pair-wise comparisons between each harmonic of one peak with all harmonics of other peaks\n",
    "#and returns matching peaks and their harmonic position\n",
    "bounds = 0.5\n",
    "for p in range(len(multi_harmonics)):\n",
    "    for h in range(len(multi_harmonics[0])):\n",
    "        if p != \n",
    "        \n",
    "        "
   ]
  },
  {
   "cell_type": "code",
   "execution_count": 216,
   "metadata": {},
   "outputs": [
    {
     "data": {
      "text/plain": [
       "array([1.   , 1.067, 1.195, 1.304, 1.339, 1.461, 1.636, 1.833, 2.054,\n",
       "       2.241, 2.301, 2.51 , 2.813, 3.   ])"
      ]
     },
     "execution_count": 216,
     "metadata": {},
     "output_type": "execute_result"
    }
   ],
   "source": [
    "a, b, c, d= compute_pythagore(11, 3, 1, 3)\n",
    "d"
   ]
  },
  {
   "cell_type": "code",
   "execution_count": 171,
   "metadata": {},
   "outputs": [
    {
     "data": {
      "text/plain": [
       "([1.0267737617135209,\n",
       "  1.026840490797546,\n",
       "  1.066477070742979,\n",
       "  1.067,\n",
       "  1.0908300738809211,\n",
       "  1.0910418695228823,\n",
       "  1.0911127707244213,\n",
       "  1.091213389121339,\n",
       "  1.1197809719370293,\n",
       "  1.119962511715089,\n",
       "  1.1200356983489512,\n",
       "  1.1202531645569622,\n",
       "  1.1203987730061349,\n",
       "  1.1204156479217604,\n",
       "  1.1205020920502091,\n",
       "  1.1205673758865247,\n",
       "  1.1207171314741038,\n",
       "  1.195,\n",
       "  1.1952191235059761,\n",
       "  1.2218073188946974,\n",
       "  1.2220058422590068,\n",
       "  1.2221180880974696,\n",
       "  1.2225119513255107,\n",
       "  1.2225859247135844,\n",
       "  1.2225941422594142,\n",
       "  1.254601226993865,\n",
       "  1.2546201232032854,\n",
       "  1.2549203373945643,\n",
       "  1.2552431950022311,\n",
       "  1.2553191489361704,\n",
       "  1.2555012224938875,\n",
       "  1.303780964797914,\n",
       "  1.304,\n",
       "  1.3386880856760375,\n",
       "  1.339,\n",
       "  1.3689320388349515,\n",
       "  1.3690376569037654,\n",
       "  1.3692596063730085,\n",
       "  1.3693398799781777,\n",
       "  1.3695228821811103,\n",
       "  1.3698044009779953,\n",
       "  1.4056748466257667,\n",
       "  1.4058863791923337,\n",
       "  1.4064792176039123,\n",
       "  1.4605647517039924,\n",
       "  1.461,\n",
       "  1.5332708528584817,\n",
       "  1.5338809034907597,\n",
       "  1.5338912133891212,\n",
       "  1.5339805825242718,\n",
       "  1.5342298288508558,\n",
       "  1.534642662302237,\n",
       "  1.5749486652977414,\n",
       "  1.5751533742331287,\n",
       "  1.636,\n",
       "  1.6366612111292962,\n",
       "  1.6736370425690814,\n",
       "  1.717900656044986,\n",
       "  1.7180013689253932,\n",
       "  1.7184466019417477,\n",
       "  1.718558282208589,\n",
       "  1.718828451882845,\n",
       "  1.719437652811736,\n",
       "  1.7645705521472392,\n",
       "  1.833,\n",
       "  1.8337408312958436,\n",
       "  1.8745332337565346,\n",
       "  1.8753138075313807,\n",
       "  1.9248466257668708,\n",
       "  1.9250234301780693,\n",
       "  1.9253935660506503,\n",
       "  1.9255230125523013,\n",
       "  2.0533880903490758,\n",
       "  2.054,\n",
       "  2.1002811621368322,\n",
       "  2.100418410041841,\n",
       "  2.100821508588499,\n",
       "  2.1565135895032803,\n",
       "  2.1572085889570554,\n",
       "  2.2404779686333085,\n",
       "  2.241,\n",
       "  2.3006134969325154,\n",
       "  2.301,\n",
       "  2.352389878163074,\n",
       "  2.3539748953974895,\n",
       "  2.51,\n",
       "  2.510460251046025,\n",
       "  2.6363636363636367,\n",
       "  2.8116213683223994,\n",
       "  2.813,\n",
       "  3.0],\n",
       " [1.0266940451745379,\n",
       "  1.0267737617135209,\n",
       "  1.026840490797546,\n",
       "  1.027,\n",
       "  1.0501405810684161,\n",
       "  1.0502092050209204,\n",
       "  1.0504107542942496,\n",
       "  1.066477070742979,\n",
       "  1.067,\n",
       "  1.0782567947516402,\n",
       "  1.0786042944785277,\n",
       "  1.0908300738809211,\n",
       "  1.0910418695228823,\n",
       "  1.0911127707244213,\n",
       "  1.091213389121339,\n",
       "  1.1197809719370293,\n",
       "  1.119962511715089,\n",
       "  1.1200356983489512,\n",
       "  1.1202389843166543,\n",
       "  1.1202531645569622,\n",
       "  1.1203987730061349,\n",
       "  1.1204156479217604,\n",
       "  1.1205,\n",
       "  1.1205020920502091,\n",
       "  1.1205673758865247,\n",
       "  1.1207171314741038,\n",
       "  1.1503067484662577,\n",
       "  1.1505,\n",
       "  1.176194939081537,\n",
       "  1.1769874476987447,\n",
       "  1.195,\n",
       "  1.1952191235059761,\n",
       "  1.2218073188946974,\n",
       "  1.2220058422590068,\n",
       "  1.2221180880974696,\n",
       "  1.2225119513255107,\n",
       "  1.2225859247135844,\n",
       "  1.2225941422594142,\n",
       "  1.254601226993865,\n",
       "  1.2546201232032854,\n",
       "  1.2549203373945643,\n",
       "  1.255,\n",
       "  1.2552301255230125,\n",
       "  1.2552431950022311,\n",
       "  1.2553191489361704,\n",
       "  1.2555012224938875,\n",
       "  1.303780964797914,\n",
       "  1.304,\n",
       "  1.3181818181818183,\n",
       "  1.3386880856760375,\n",
       "  1.339,\n",
       "  1.3689320388349515,\n",
       "  1.3690376569037654,\n",
       "  1.3692596063730085,\n",
       "  1.3693398799781777,\n",
       "  1.3695228821811103,\n",
       "  1.3698044009779953,\n",
       "  1.4056748466257667,\n",
       "  1.4058106841611997,\n",
       "  1.4058863791923337,\n",
       "  1.4064792176039123,\n",
       "  1.4065,\n",
       "  1.4605647517039924,\n",
       "  1.461,\n",
       "  1.5,\n",
       "  1.5332708528584817,\n",
       "  1.5338809034907597,\n",
       "  1.5338912133891212,\n",
       "  1.5339805825242718,\n",
       "  1.5342298288508558,\n",
       "  1.534642662302237,\n",
       "  1.5749486652977414,\n",
       "  1.5751533742331287,\n",
       "  1.636,\n",
       "  1.6366612111292962,\n",
       "  1.6736370425690814,\n",
       "  1.717900656044986,\n",
       "  1.7180013689253932,\n",
       "  1.7184466019417477,\n",
       "  1.718558282208589,\n",
       "  1.718828451882845,\n",
       "  1.719437652811736,\n",
       "  1.7645705521472392,\n",
       "  1.833,\n",
       "  1.8337408312958436,\n",
       "  1.8745332337565346,\n",
       "  1.8753138075313807,\n",
       "  1.9248466257668708,\n",
       "  1.9250234301780693,\n",
       "  1.9253935660506503,\n",
       "  1.9255230125523013])"
      ]
     },
     "execution_count": 171,
     "metadata": {},
     "output_type": "execute_result"
    }
   ],
   "source": [
    "peaks_pyth = compute_peak_ratios(d)\n",
    "peaks_pyth"
   ]
  },
  {
   "cell_type": "code",
   "execution_count": 118,
   "metadata": {},
   "outputs": [
    {
     "data": {
      "text/plain": [
       "[1.0, 2.0, 1.75, 1.5, 1.25, 1.125, 1.375, 1.625, 1.875, 1.0625, 1.1875]"
      ]
     },
     "execution_count": 118,
     "metadata": {},
     "output_type": "execute_result"
    }
   ],
   "source": [
    "h, i = harmonic_tuning(20, 2)\n",
    "h\n"
   ]
  },
  {
   "cell_type": "code",
   "execution_count": 114,
   "metadata": {},
   "outputs": [
    {
     "name": "stdout",
     "output_type": "stream",
     "text": [
      "[1.5, 1.125, 1.6875, 1.265625, 1.8984375, 1.423828125, 1.06787109375, 1.601806640625, 1.20135498046875, 1.802032470703125, 1.3515243530273438, 1.0136432647705078]\n"
     ]
    },
    {
     "ename": "ValueError",
     "evalue": "too many values to unpack (expected 2)",
     "output_type": "error",
     "traceback": [
      "\u001b[1;31m---------------------------------------------------------------------------\u001b[0m",
      "\u001b[1;31mValueError\u001b[0m                                Traceback (most recent call last)",
      "\u001b[1;32m<ipython-input-114-f0b9c73ed234>\u001b[0m in \u001b[0;36m<module>\u001b[1;34m\u001b[0m\n\u001b[0;32m      3\u001b[0m \u001b[1;33m\u001b[0m\u001b[0m\n\u001b[0;32m      4\u001b[0m \u001b[1;33m\u001b[0m\u001b[0m\n\u001b[1;32m----> 5\u001b[1;33m \u001b[0mpyth_dict\u001b[0m\u001b[1;33m,\u001b[0m \u001b[0mpyth_dict_list\u001b[0m \u001b[1;33m=\u001b[0m \u001b[0mcompute_pythagore\u001b[0m\u001b[1;33m(\u001b[0m\u001b[1;36m3\u001b[0m\u001b[1;33m,\u001b[0m \u001b[1;36m2\u001b[0m\u001b[1;33m,\u001b[0m \u001b[1;36m1\u001b[0m\u001b[1;33m,\u001b[0m \u001b[1;36m2\u001b[0m\u001b[1;33m)\u001b[0m\u001b[1;33m\u001b[0m\u001b[1;33m\u001b[0m\u001b[0m\n\u001b[0m\u001b[0;32m      6\u001b[0m \u001b[0mprint\u001b[0m\u001b[1;33m(\u001b[0m\u001b[0mpyth_dict_list\u001b[0m\u001b[1;33m)\u001b[0m\u001b[1;33m\u001b[0m\u001b[1;33m\u001b[0m\u001b[0m\n",
      "\u001b[1;31mValueError\u001b[0m: too many values to unpack (expected 2)"
     ]
    }
   ],
   "source": [
    "a, b, ratio_mult = oct_subdiv(1.5, 0.02, 2, 1)\n",
    "print(ratio_mult)\n",
    "\n",
    "\n",
    "pyth_dict, pyth_dict_list = compute_pythagore(3, 2, 1, 2)\n",
    "print(pyth_dict_list)"
   ]
  },
  {
   "cell_type": "code",
   "execution_count": null,
   "metadata": {
    "collapsed": true
   },
   "outputs": [],
   "source": [
    "## Calculate hertz to cents\n",
    "\n",
    "c = 1200 × log2 (f2 / f1)"
   ]
  },
  {
   "cell_type": "markdown",
   "metadata": {},
   "source": [
    "# Dissonance"
   ]
  },
  {
   "cell_type": "code",
   "execution_count": null,
   "metadata": {
    "collapsed": true
   },
   "outputs": [],
   "source": []
  },
  {
   "cell_type": "code",
   "execution_count": 158,
   "metadata": {
    "collapsed": true
   },
   "outputs": [],
   "source": [
    "#Functions taken from : https://gist.github.com/endolith/118429\n",
    "\n",
    "from __future__ import division\n",
    "from fractions import Fraction\n",
    "from math import log\n",
    "\n",
    "\n",
    "def product(*iterable):\n",
    "    p = 1\n",
    "    for n in iterable:\n",
    "        p *= n\n",
    "    return p\n",
    "\n",
    "\n",
    "def gcd(*numbers):\n",
    "    \"\"\"Return the greatest common divisor of the given integers\n",
    "    \n",
    "    The result will have the same sign as the last number given (so that \n",
    "    when the last number is divided by the result, the result comes out \n",
    "    positive).\n",
    "    \n",
    "    \"\"\"\n",
    "    def gcd(a, b):\n",
    "        while b:\n",
    "            a, b = b, a%b\n",
    "        return a\n",
    "    \n",
    "    return reduce(gcd, numbers)\n",
    "\n",
    "\n",
    "def lcm(*numbers):\n",
    "    \"\"\"Return the least common multiple of the given integers\n",
    "    \n",
    "    \"\"\"\n",
    "    def lcm(a,b):\n",
    "        if a == b == 0:\n",
    "            return 0\n",
    "        return (a * b) // gcd(a, b)\n",
    "\n",
    "    # LCM(a, b, c, d) = LCM(a, LCM(b, LCM(c, d)))\n",
    "    return reduce(lcm, numbers)\n",
    "\n",
    "\n",
    "def reduced_form(*numbers):\n",
    "    \"\"\"Return a tuple of numbers which is the reduced form of the input, \n",
    "    which is a list of integers\n",
    "    \n",
    "    \"\"\"\n",
    "    return tuple(int(a // gcd(*numbers)) for a in numbers)\n",
    "\n",
    "\n",
    "def prime_factors(n):\n",
    "    \"\"\"Return a list of the prime factors of the integer n.\n",
    "    \n",
    "    Don't use this for big numbers; it's a dumb brute-force method.\n",
    "    \n",
    "    \"\"\"\n",
    "    factors = []\n",
    "    lastresult = n\n",
    "    \n",
    "    while lastresult > 1:\n",
    "        c = 2\n",
    "        while lastresult % c > 0:\n",
    "            c += 1\n",
    "        factors.append(c)\n",
    "        lastresult /= c\n",
    "    \n",
    "    return factors\n",
    "\n",
    "\n",
    "def euler(*numbers):\n",
    "    \"\"\"Euler's \"gradus suavitatis\" (degree of sweetness) function\n",
    "    \n",
    "    Return the \"degree of sweetness\" of a musical interval or chord expressed \n",
    "    as a ratio of frequencies a:b:c, according to Euler's formula\n",
    "    \n",
    "    Greater values indicate more dissonance\n",
    "        \n",
    "    \"\"\"\n",
    "    factors = prime_factors(lcm(*reduced_form(*numbers)))\n",
    "    return 1 + sum(p - 1 for p in factors)\n",
    "\n",
    "\n",
    "def wiseman(a, b):\n",
    "    \"\"\"Return a value corresponding to the dissonance of a musical interval \n",
    "    of ratio a:b\n",
    "    \n",
    "    This is taken from Gus Wiseman's paper at \n",
    "    http://www.nafindix.com/math/sensory.pdf\n",
    "    \n",
    "    It apparently is derived from the total period of two tones, so a tone \n",
    "    of period 2 and a tone of period 3 when summed will give a total period \n",
    "    of 6 (which is LCM(2,3))\n",
    "    \n",
    "    Since a ratio of frequencies is just the inverse of a ratio of periods, \n",
    "    and inverting the terms has no effect on this formula, I *think* it's \n",
    "    valid to just plug in frequency ratios, too.\n",
    "    \n",
    "    Same as \"harmonic value\"?\n",
    "    TODO: a/gcd(all) and b/gcd(all) is just the reduced form, right?  and if a,b are in reduced form, then lcm(a,b) =a*b, right?  So this is just a*b when a,b are in reduced form.  So this should be benedetti().  https://en.wikipedia.org/wiki/Giambattista_Benedetti#Music\n",
    "    product(*reduced_form(a,b))\n",
    "    \n",
    "    http://xenharmonic.wikispaces.com/Benedetti+height\n",
    "    \n",
    "    \"\"\"\n",
    "    return lcm(a / gcd(a, b), b / gcd(a, b));\n",
    "\n",
    "\n",
    "def tenney(a, b):\n",
    "    \"\"\"Return Tenney's harmonic distance of a musical interval of ratio a:b\n",
    "    \n",
    "    \"Tenney's HD function, in one of its simplest forms, is perhaps the most \n",
    "    direct. It is HD(a/b) = log(ab)\"\n",
    "    \n",
    "    Also called \"Tenney height\" with log2: http://xenharmonic.wikispaces.com/Tenney+Height\n",
    "    Tenney's paper says \"harmonic distance\" and \"log\", but relates it to a lattice so maybe the log2 is implied?\n",
    "    \n",
    "    http://lumma.org/tuning/faq/#heights says\n",
    "    Of these, the product of numerator and denominator, often\n",
    "    written n*d, for a ratio n/d in lowest terms, has been found to\n",
    "    best agree with informal rankings by listeners as well as\n",
    "    published psychoacoustic data.  \n",
    "    \n",
    "    The n*d rule is also called Tenney height, after James Tenney^1,\n",
    "    \n",
    "    Tenney height generalizes to geomean(a*b*c...) for a chord\n",
    "    a:b:c..., which gives sqrt(n*d) for dyads.\n",
    "    \n",
    "    \"\"\"\n",
    "    return log(product(*reduced_form(a,b)));"
   ]
  },
  {
   "cell_type": "markdown",
   "metadata": {},
   "source": [
    "## Dissonance curve from Sethares"
   ]
  },
  {
   "cell_type": "code",
   "execution_count": 106,
   "metadata": {},
   "outputs": [
    {
     "data": {
      "text/plain": [
       "1.637314232056855"
      ]
     },
     "execution_count": 106,
     "metadata": {},
     "output_type": "execute_result"
    }
   ],
   "source": [
    "\n",
    "from ipywidgets import interact\n",
    "import ipywidgets as widgets\n",
    "import matplotlib.pyplot as plt\n",
    "import numpy as np\n",
    "from scipy.signal import argrelmin\n",
    "\n",
    "import dissonant as D\n",
    "from dissonant import harmonic_tone, dissonance, pitch_to_freq\n",
    "#from dissonant import harmonic_tone, dissonance, pitch_to_freq\n",
    "freqs, amps = harmonic_tone(pitch_to_freq([0, 2.5, 7, 12]), n_partials=100)\n",
    "dis = dissonance(freqs, amps, model='sethares1993')\n",
    "dis"
   ]
  },
  {
   "cell_type": "code",
   "execution_count": 102,
   "metadata": {},
   "outputs": [],
   "source": [
    "def freq_space(base_f=440, octaves=4, steps=1000):\n",
    "    ratios = np.linspace(1, octaves, steps)\n",
    "    freqs = base_f * ratios\n",
    "    return freqs\n",
    "\n",
    "def dissonance_curve(freq_space, n_partials=10, model='sethares1993'):\n",
    "    dissonances = []\n",
    "    for freq in freq_space:\n",
    "        h_freqs, h_amps = D.harmonic_tone([freq_space[0], freq], n_partials=n_partials)\n",
    "        d = D.dissonance(h_freqs, h_amps, model=model)\n",
    "        dissonances.append(d)\n",
    "    dissonances = np.array(dissonances)\n",
    "    return dissonances\n",
    "\n",
    "def plot_dissonance_curve(freqs, dissonances):\n",
    "    minima = argrelmin(dissonances)[0]\n",
    "\n",
    "    plt.figure(figsize=(16, 3))\n",
    "    plt.xlim(freqs[0], freqs[-1])\n",
    "    plt.plot(freqs, dissonances)\n",
    "    for m in minima:\n",
    "        plt.axvline(freqs[m], c='r', ls=':')\n",
    "    plt.xlabel('frequency')\n",
    "    plt.ylabel('dissonance')"
   ]
  },
  {
   "cell_type": "code",
   "execution_count": 175,
   "metadata": {},
   "outputs": [
    {
     "data": {
      "text/plain": [
       "[1.0267737617135209,\n",
       " 1.026840490797546,\n",
       " 1.066477070742979,\n",
       " 1.067,\n",
       " 1.0908300738809211,\n",
       " 1.0910418695228823,\n",
       " 1.0911127707244213,\n",
       " 1.091213389121339,\n",
       " 1.1197809719370293,\n",
       " 1.119962511715089,\n",
       " 1.1200356983489512,\n",
       " 1.1202531645569622,\n",
       " 1.1203987730061349,\n",
       " 1.1204156479217604,\n",
       " 1.1205020920502091,\n",
       " 1.1205673758865247,\n",
       " 1.1207171314741038,\n",
       " 1.195,\n",
       " 1.1952191235059761,\n",
       " 1.2218073188946974,\n",
       " 1.2220058422590068,\n",
       " 1.2221180880974696,\n",
       " 1.2225119513255107,\n",
       " 1.2225859247135844,\n",
       " 1.2225941422594142,\n",
       " 1.254601226993865,\n",
       " 1.2546201232032854,\n",
       " 1.2549203373945643,\n",
       " 1.2552431950022311,\n",
       " 1.2553191489361704,\n",
       " 1.2555012224938875,\n",
       " 1.303780964797914,\n",
       " 1.304,\n",
       " 1.3386880856760375,\n",
       " 1.339,\n",
       " 1.3689320388349515,\n",
       " 1.3690376569037654,\n",
       " 1.3692596063730085,\n",
       " 1.3693398799781777,\n",
       " 1.3695228821811103,\n",
       " 1.3698044009779953,\n",
       " 1.4056748466257667,\n",
       " 1.4058863791923337,\n",
       " 1.4064792176039123,\n",
       " 1.4605647517039924,\n",
       " 1.461,\n",
       " 1.5332708528584817,\n",
       " 1.5338809034907597,\n",
       " 1.5338912133891212,\n",
       " 1.5339805825242718,\n",
       " 1.5342298288508558,\n",
       " 1.534642662302237,\n",
       " 1.5749486652977414,\n",
       " 1.5751533742331287,\n",
       " 1.636,\n",
       " 1.6366612111292962,\n",
       " 1.6736370425690814,\n",
       " 1.717900656044986,\n",
       " 1.7180013689253932,\n",
       " 1.7184466019417477,\n",
       " 1.718558282208589,\n",
       " 1.718828451882845,\n",
       " 1.719437652811736,\n",
       " 1.7645705521472392,\n",
       " 1.833,\n",
       " 1.8337408312958436,\n",
       " 1.8745332337565346,\n",
       " 1.8753138075313807,\n",
       " 1.9248466257668708,\n",
       " 1.9250234301780693,\n",
       " 1.9253935660506503,\n",
       " 1.9255230125523013,\n",
       " 2.0533880903490758,\n",
       " 2.054,\n",
       " 2.1002811621368322,\n",
       " 2.100418410041841,\n",
       " 2.100821508588499,\n",
       " 2.1565135895032803,\n",
       " 2.1572085889570554,\n",
       " 2.2404779686333085,\n",
       " 2.241,\n",
       " 2.3006134969325154,\n",
       " 2.301,\n",
       " 2.352389878163074,\n",
       " 2.3539748953974895,\n",
       " 2.51,\n",
       " 2.510460251046025,\n",
       " 2.6363636363636367,\n",
       " 2.8116213683223994,\n",
       " 2.813,\n",
       " 3.0]"
      ]
     },
     "execution_count": 175,
     "metadata": {},
     "output_type": "execute_result"
    }
   ],
   "source": [
    "multi_harmonics[0]\n",
    "peaks_pyth[0]"
   ]
  },
  {
   "cell_type": "code",
   "execution_count": 237,
   "metadata": {},
   "outputs": [],
   "source": [
    "for num in range(len(d)):\n",
    "    d[num] *= 3"
   ]
  },
  {
   "cell_type": "code",
   "execution_count": 220,
   "metadata": {},
   "outputs": [
    {
     "ename": "IndexError",
     "evalue": "tuple index out of range",
     "output_type": "error",
     "traceback": [
      "\u001b[1;31m---------------------------------------------------------------------------\u001b[0m",
      "\u001b[1;31mIndexError\u001b[0m                                Traceback (most recent call last)",
      "\u001b[1;32m<ipython-input-220-5bef4822fc06>\u001b[0m in \u001b[0;36m<module>\u001b[1;34m\u001b[0m\n\u001b[1;32m----> 1\u001b[1;33m \u001b[0mpeaks_pyth\u001b[0m\u001b[1;33m[\u001b[0m\u001b[1;36m2\u001b[0m\u001b[1;33m]\u001b[0m\u001b[1;33m\u001b[0m\u001b[1;33m\u001b[0m\u001b[0m\n\u001b[0m",
      "\u001b[1;31mIndexError\u001b[0m: tuple index out of range"
     ]
    }
   ],
   "source": [
    "peaks_pyth[2]"
   ]
  },
  {
   "cell_type": "code",
   "execution_count": 240,
   "metadata": {},
   "outputs": [
    {
     "data": {
      "image/png": "[encoded data removed]",
      "text/plain": [
       "<Figure size 1152x216 with 1 Axes>"
      ]
     },
     "metadata": {
      "needs_background": "light"
     },
     "output_type": "display_data"
    }
   ],
   "source": [
    "\n",
    "freqs = d\n",
    "#freqs = freq_space(430, 3, 50)\n",
    "plot_dissonance_curve(freqs, dissonance_curve(freqs, n_partials=250, model='sethares1993'))"
   ]
  },
  {
   "cell_type": "markdown",
   "metadata": {},
   "source": [
    "# PyTuning"
   ]
  },
  {
   "cell_type": "code",
   "execution_count": 15,
   "metadata": {},
   "outputs": [],
   "source": [
    "import pytuning as pt\n",
    "import sympy as sp\n",
    "from pytuning.scales import create_edo_scale\n",
    "edo_12 = create_edo_scale(12)\n",
    "edo_12\n",
    "\n",
    "\n",
    "#x = pt.find_best_modes(harm_ratios[0], 7)\n",
    "#x\n",
    "#major_mask = (0,2,4,5,7,9,11,12)\n",
    "#major_mode = mask_scale(edo_12_scale, major_mask)\n",
    "#major_mode"
   ]
  },
  {
   "cell_type": "code",
   "execution_count": 26,
   "metadata": {},
   "outputs": [
    {
     "data": {
      "text/plain": [
       "[{'scale': [1.0357142857142856, 1.25, 1.294642857142857, 2.0],\n",
       "  'mask': (0, 1, 2, 11),\n",
       "  'steps': [1, 1, 9],\n",
       "  'original_scale': [1.0357142857142856,\n",
       "   1.25,\n",
       "   1.294642857142857,\n",
       "   1.3571428571428572,\n",
       "   1.430921052631579,\n",
       "   1.4736842105263157,\n",
       "   1.5,\n",
       "   1.526315789473684,\n",
       "   1.8750000000000002,\n",
       "   1.9078947368421053,\n",
       "   1.9419642857142856,\n",
       "   2.0],\n",
       "  'sum_p_q': 9,\n",
       "  'sum_distinct_intervals': 14,\n",
       "  'metric_3': 36.3939393939395,\n",
       "  'sum_p_q_for_all_intervals': 34,\n",
       "  'sum_q_for_all_intervals': 14}]"
      ]
     },
     "execution_count": 26,
     "metadata": {},
     "output_type": "execute_result"
    }
   ],
   "source": [
    "x = pt.find_best_modes(charm_fit, 3)\n",
    "x\n"
   ]
  },
  {
   "cell_type": "code",
   "execution_count": 90,
   "metadata": {},
   "outputs": [
    {
     "data": {
      "text/plain": [
       "[1.0, 2.0, 1.75, 1.5, 1.25, 1.125, 1.375]"
      ]
     },
     "execution_count": 90,
     "metadata": {},
     "output_type": "execute_result"
    }
   ],
   "source": [
    "#This function is similar to the harmonic_tuning function built in BioTuning Package\n",
    "\n",
    "from pytuning.scales import create_harmonic_scale\n",
    "scale = create_harmonic_scale(1,20)\n",
    "scale\n",
    "\n",
    "h, i = harmonic_tuning(12, 2)\n",
    "h\n",
    "\n"
   ]
  },
  {
   "cell_type": "code",
   "execution_count": null,
   "metadata": {
    "collapsed": true
   },
   "outputs": [],
   "source": [
    "#Computes ratios of the harmonic scale\n",
    "\n",
    "harm_ratios = compute_peak_ratios(h)\n",
    "harm_ratios[0]"
   ]
  },
  {
   "cell_type": "code",
   "execution_count": null,
   "metadata": {
    "collapsed": true
   },
   "outputs": [],
   "source": [
    "h = EEG_harmonics_mult(peaks, 12, 0)\n",
    "h"
   ]
  },
  {
   "cell_type": "code",
   "execution_count": 99,
   "metadata": {},
   "outputs": [
    {
     "data": {
      "text/plain": [
       "[1.0,\n",
       " 1.05349794238683,\n",
       " 1.12500000000000,\n",
       " 1.18518518518518,\n",
       " 1.26562500000000,\n",
       " 1.33333333333333,\n",
       " 1.40466392318244,\n",
       " 1.5,\n",
       " 1.58024691358025,\n",
       " 1.68750000000000,\n",
       " 1.77777777777778,\n",
       " 1.89843750000000,\n",
       " 2]"
      ]
     },
     "execution_count": 99,
     "metadata": {},
     "output_type": "execute_result"
    }
   ],
   "source": [
    "z = pt.scales.create_equal_interval_scale(3/2, scale_size=12)\n",
    "z"
   ]
  },
  {
   "cell_type": "code",
   "execution_count": 111,
   "metadata": {},
   "outputs": [
    {
     "data": {
      "text/plain": [
       "[1.0136432647705078,\n",
       " 1.06787109375,\n",
       " 1.125,\n",
       " 1.20135498046875,\n",
       " 1.265625,\n",
       " 1.3515243530273438,\n",
       " 1.423828125,\n",
       " 1.5,\n",
       " 1.601806640625,\n",
       " 1.6875,\n",
       " 1.802032470703125,\n",
       " 1.8984375]"
      ]
     },
     "execution_count": 111,
     "metadata": {},
     "output_type": "execute_result"
    }
   ],
   "source": [
    "sorted(ratios_tet)"
   ]
  },
  {
   "cell_type": "code",
   "execution_count": 49,
   "metadata": {},
   "outputs": [
    {
     "ename": "NameError",
     "evalue": "name 'pt' is not defined",
     "output_type": "error",
     "traceback": [
      "\u001b[0;31m---------------------------------------------------------------------------\u001b[0m",
      "\u001b[0;31mNameError\u001b[0m                                 Traceback (most recent call last)",
      "\u001b[0;32m<ipython-input-49-07d61354e0f3>\u001b[0m in \u001b[0;36m<module>\u001b[0;34m()\u001b[0m\n\u001b[1;32m      1\u001b[0m \u001b[0mintervals\u001b[0m     \u001b[0;34m=\u001b[0m \u001b[0;34m[\u001b[0m\u001b[0;36m22\u001b[0m\u001b[0;34m,\u001b[0m \u001b[0;36m5\u001b[0m\u001b[0;34m,\u001b[0m \u001b[0;36m9\u001b[0m\u001b[0;34m,\u001b[0m \u001b[0;36m15\u001b[0m\u001b[0;34m]\u001b[0m\u001b[0;34m\u001b[0m\u001b[0m\n\u001b[1;32m      2\u001b[0m \u001b[0mmultiplicities\u001b[0m \u001b[0;34m=\u001b[0m \u001b[0;34m[\u001b[0m\u001b[0;36m1\u001b[0m\u001b[0;34m,\u001b[0m\u001b[0;36m1\u001b[0m\u001b[0;34m,\u001b[0m\u001b[0;36m1\u001b[0m\u001b[0;34m,\u001b[0m\u001b[0;36m1\u001b[0m\u001b[0;34m]\u001b[0m\u001b[0;34m\u001b[0m\u001b[0m\n\u001b[0;32m----> 3\u001b[0;31m \u001b[0mscale\u001b[0m         \u001b[0;34m=\u001b[0m \u001b[0mpt\u001b[0m\u001b[0;34m.\u001b[0m\u001b[0mscales\u001b[0m\u001b[0;34m.\u001b[0m\u001b[0mcreate_euler_fokker_scale\u001b[0m\u001b[0;34m(\u001b[0m\u001b[0mintervals\u001b[0m\u001b[0;34m,\u001b[0m \u001b[0mmultiplicities\u001b[0m\u001b[0;34m)\u001b[0m\u001b[0;34m\u001b[0m\u001b[0m\n\u001b[0m\u001b[1;32m      4\u001b[0m \u001b[0mscale\u001b[0m\u001b[0;34m\u001b[0m\u001b[0m\n",
      "\u001b[0;31mNameError\u001b[0m: name 'pt' is not defined"
     ]
    }
   ],
   "source": [
    "intervals     = [22, 5, 9, 15]\n",
    "multiplicities = [1,1,1,1]\n",
    "scale         = pt.scales.create_euler_fokker_scale(intervals, multiplicities)\n",
    "scale"
   ]
  },
  {
   "cell_type": "code",
   "execution_count": 162,
   "metadata": {},
   "outputs": [
    {
     "data": {
      "text/plain": [
       "2.7776241368618715"
      ]
     },
     "execution_count": 162,
     "metadata": {},
     "output_type": "execute_result"
    }
   ],
   "source": [
    "3/2**(1/9)"
   ]
  },
  {
   "cell_type": "markdown",
   "metadata": {},
   "source": [
    "## PyAudio"
   ]
  },
  {
   "cell_type": "code",
   "execution_count": null,
   "metadata": {
    "collapsed": true
   },
   "outputs": [],
   "source": [
    "def notes2play(array, fund):\n",
    "    scale2play = []\n",
    "    scale2play = [fund*x for x in array]\n",
    "    \n",
    "    return scale2play\n",
    "    "
   ]
  },
  {
   "cell_type": "code",
   "execution_count": null,
   "metadata": {
    "collapsed": true
   },
   "outputs": [],
   "source": []
  },
  {
   "cell_type": "code",
   "execution_count": 74,
   "metadata": {},
   "outputs": [],
   "source": [
    "import pyaudio\n",
    "import struct\n",
    "import math\n",
    "\n",
    "FORMAT = pyaudio.paInt16\n",
    "CHANNELS = 2\n",
    "RATE = 44100\n",
    "\n",
    "p = pyaudio.PyAudio()\n",
    "\n",
    "\n",
    "def data_for_freq(frequency: float, time: float = None):\n",
    "    \"\"\"get frames for a fixed frequency for a specified time or\n",
    "    number of frames, if frame_count is specified, the specified\n",
    "    time is ignored\"\"\"\n",
    "    frame_count = int(RATE * time)\n",
    "\n",
    "    remainder_frames = frame_count % RATE\n",
    "    wavedata = []\n",
    "\n",
    "    for i in range(frame_count):\n",
    "        a = RATE / frequency  # number of frames per wave\n",
    "        b = i / a\n",
    "        # explanation for b\n",
    "        # considering one wave, what part of the wave should this be\n",
    "        # if we graph the sine wave in a\n",
    "        # displacement vs i graph for the particle\n",
    "        # where 0 is the beginning of the sine wave and\n",
    "        # 1 the end of the sine wave\n",
    "        # which part is \"i\" is denoted by b\n",
    "        # for clarity you might use\n",
    "        # though this is redundant since math.sin is a looping function\n",
    "        # b = b - int(b)\n",
    "\n",
    "        c = b * (2 * math.pi)\n",
    "        # explanation for c\n",
    "        # now we map b to between 0 and 2*math.PI\n",
    "        # since 0 - 2*PI, 2*PI - 4*PI, ...\n",
    "        # are the repeating domains of the sin wave (so the decimal values will\n",
    "        # also be mapped accordingly,\n",
    "        # and the integral values will be multiplied\n",
    "        # by 2*PI and since sin(n*2*PI) is zero where n is an integer)\n",
    "        d = math.sin(c) * 32767\n",
    "        e = int(d)\n",
    "        wavedata.append(e)\n",
    "\n",
    "    for i in range(remainder_frames):\n",
    "        wavedata.append(0)\n",
    "\n",
    "    number_of_bytes = str(len(wavedata))  \n",
    "    wavedata = struct.pack(number_of_bytes + 'h', *wavedata)\n",
    "\n",
    "    return wavedata\n",
    "\n",
    "\n",
    "def play(frequency: float, time: float):\n",
    "    \"\"\"\n",
    "    play a frequency for a fixed time!\n",
    "    \"\"\"\n",
    "    frames = data_for_freq(frequency, time)\n",
    "    stream = p.open(format=FORMAT, channels=CHANNELS, rate=RATE, output=True)\n",
    "    stream.write(frames)\n",
    "    stream.stop_stream()\n",
    "    stream.close()\n",
    "\n",
    "\n",
    "#if __name__ == \"__main__\":\n",
    "    \n",
    "    \n",
    "        \n"
   ]
  },
  {
   "cell_type": "code",
   "execution_count": null,
   "metadata": {
    "collapsed": true
   },
   "outputs": [],
   "source": [
    "scale2play = notes2play(d, 100)\n",
    "scale2play\n",
    "for i in scale2play:\n",
    "    play(i, 1)\n",
    "    "
   ]
  }
 ],
 "metadata": {
  "kernelspec": {
   "display_name": "Python 3",
   "language": "python",
   "name": "python3"
  },
  "language_info": {
   "codemirror_mode": {
    "name": "ipython",
    "version": 3
   },
   "file_extension": ".py",
   "mimetype": "text/x-python",
   "name": "python",
   "nbconvert_exporter": "python",
   "pygments_lexer": "ipython3",
   "version": "3.7.4"
  }
 },
 "nbformat": 4,
 "nbformat_minor": 2
}
