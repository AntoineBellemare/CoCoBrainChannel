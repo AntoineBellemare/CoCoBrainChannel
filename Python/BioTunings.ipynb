{
 "cells": [
  {
   "cell_type": "markdown",
   "metadata": {},
   "source": [
    "## Imports"
   ]
  },
  {
   "cell_type": "code",
   "execution_count": 7,
   "metadata": {},
   "outputs": [],
   "source": [
    "\n",
    "import numpy as np\n",
    "import math\n",
    "from fractions import Fraction\n"
   ]
  },
  {
   "cell_type": "markdown",
   "metadata": {},
   "source": [
    "## Constants"
   ]
  },
  {
   "cell_type": "code",
   "execution_count": 8,
   "metadata": {},
   "outputs": [],
   "source": [
    "#CONSTANT\n",
    "\n",
    "pyt_comma = 0.0136432\n",
    "peaks = [2.4, 8.7, 11.4, 18.8, 29, 33.6]\n",
    "\n",
    "#planet ratios\n",
    "Schumann_earth = [7.83, 14.3, 20.8, 27.3, 33.8]\n",
    "Mercury = 141.27"
   ]
  },
  {
   "cell_type": "markdown",
   "metadata": {},
   "source": [
    "## Functions"
   ]
  },
  {
   "cell_type": "markdown",
   "metadata": {},
   "source": [
    "### n-TET "
   ]
  },
  {
   "cell_type": "code",
   "execution_count": 9,
   "metadata": {},
   "outputs": [],
   "source": [
    "\n",
    "\n",
    "def oct_subdiv(ratio,bounds,octave,n):    \n",
    "    Octdiv, Octvalue, i = [], [], 1\n",
    "    ratios = []\n",
    "    while len(Octdiv) < n:\n",
    "        ratio_mult = (ratio**i)\n",
    "        while ratio_mult > octave:\n",
    "            ratio_mult = ratio_mult/octave    \n",
    "            \n",
    "        rescale_ratio = ratio_mult - round(ratio_mult)\n",
    "        ratios.append(ratio_mult)\n",
    "        i+=1\n",
    "        if -bounds < rescale_ratio < bounds:\n",
    "            Octdiv.append(i-1)\n",
    "            Octvalue.append(ratio_mult)\n",
    "        else:\n",
    "            continue\n",
    "    return Octdiv, Octvalue, ratios\n",
    "\n",
    "\n",
    "def compare_octave_division(Octdiv = 53, Octdiv2 = 12, bounds = 0.01, octave = 2):\n",
    "    ListOctdiv = []\n",
    "    ListOctdiv2 = []\n",
    "    OctdivSum = 1\n",
    "    OctdivSum2 = 1\n",
    "    i = 1\n",
    "    i2 = 1\n",
    "    Matching_harmonics = []\n",
    "    #HARMONIC_RATIOS = [1, 1.0595, 1.1225, 1.1892, 1.2599, 1.3348, 1.4142, 1.4983, 1.5874, 1.6818, 1.7818, 1.8897]\n",
    "    while OctdivSum < octave:\n",
    "        OctdivSum =(nth_root(octave, Octdiv))**i\n",
    "        i+=1\n",
    "        ListOctdiv.append(OctdivSum)\n",
    "    #print(ListOctdiv)\n",
    "\n",
    "    while OctdivSum2 < octave:\n",
    "        OctdivSum2 =(nth_root(octave, Octdiv2))**i2\n",
    "        i2+=1\n",
    "        ListOctdiv2.append(OctdivSum2)\n",
    "    #print(ListOctdiv2)\n",
    "    for i, n in enumerate(ListOctdiv):\n",
    "        for j, harm in enumerate(ListOctdiv2):\n",
    "            if harm-bounds < n < harm+bounds:\n",
    "                Matching_harmonics.append([n, i+1, harm, j+1])\n",
    "    Matching_harmonics = np.array(Matching_harmonics)\n",
    "    return Matching_harmonics\n",
    "\n",
    "def nth_root (num, root):\n",
    "    answer = num**(1/root)\n",
    "    return answer\n"
   ]
  },
  {
   "cell_type": "markdown",
   "metadata": {},
   "source": [
    "### Consonance"
   ]
  },
  {
   "cell_type": "markdown",
   "metadata": {},
   "source": [
    "## Bidouille"
   ]
  },
  {
   "cell_type": "code",
   "execution_count": 30,
   "metadata": {},
   "outputs": [
    {
     "name": "stdout",
     "output_type": "stream",
     "text": [
      "CONSONANT PEAKS\n",
      "[[14.3, 20.8], [27.3, 20.8], [27.3, 2.4], [8.7, 2.4], [11.4, 2.4], [27.3, 33.6]]\n",
      "CONSONANT INTEGER RATIOS\n",
      "[[11 16]\n",
      " [21 16]\n",
      " [91 64]\n",
      " [29 16]\n",
      " [19 16]\n",
      " [13 16]]\n"
     ]
    },
    {
     "name": "stderr",
     "output_type": "stream",
     "text": [
      "C:\\Users\\Dell\\Anaconda3\\lib\\site-packages\\ipykernel_launcher.py:26: DeprecationWarning: The truth value of an empty array is ambiguous. Returning False, but in future this will result in an error. Use `array.size > 0` to check that an array is not empty.\n"
     ]
    }
   ],
   "source": [
    "#compute_consonance takes a list of peaks as input(1) and a threshold(2)\n",
    "#above which the peaks are kept\n",
    "#output(1) returns the consonance values\n",
    "#output(2) return the peaks corresponding the the consonance values\n",
    "consonant_values, consonant_peaks = compute_consonance(Schumann_earth+peaks, 0.01)\n",
    "print('CONSONANT PEAKS')\n",
    "print(consonant_peaks)\n",
    "#This function takes a list of consonant peaks and returns the peak ratios\n",
    "#with integer values\n",
    "cons_integers = comp_consonant_integers(consonant_peaks)\n",
    "print('CONSONANT INTEGER RATIOS')\n",
    "print(cons_integers)"
   ]
  },
  {
   "cell_type": "code",
   "execution_count": 18,
   "metadata": {},
   "outputs": [
    {
     "name": "stdout",
     "output_type": "stream",
     "text": [
      "OCTAVE SUBDIVISIONS\n",
      "[12] [1.0136432647705078]\n",
      "RATIOS-TET\n",
      "[1.5, 1.125, 1.6875, 1.265625, 1.8984375, 1.423828125, 1.06787109375, 1.601806640625, 1.20135498046875, 1.802032470703125, 1.3515243530273438, 1.0136432647705078]\n",
      "COMPARE OCTAVE SUBDIVISIONS\n",
      "[[ 1.41421356  2.          1.41421356  7.        ]\n",
      " [ 2.          4.          2.         14.        ]]\n",
      "PEAK RATIOS\n",
      "[1.1586206896551725, 1.310344827586207, 1.5425531914893615, 1.6491228070175439, 1.7872340425531914, 2.1609195402298855, 2.543859649122807, 2.9473684210526314, 3.3333333333333335, 3.625, 3.862068965517242, 4.75, 7.833333333333334, 12.083333333333334, 14.000000000000002] [1.0804597701149428, 1.1586206896551725, 1.1875, 1.2719298245614035, 1.310344827586207, 1.4736842105263157, 1.5104166666666667, 1.5425531914893615, 1.6491228070175439, 1.6666666666666667, 1.7500000000000002, 1.7872340425531914, 1.8125, 1.931034482758621, 1.9583333333333335]\n",
      "HARMONICS\n",
      "[[  2.4   4.8   7.2   9.6  12.   14.4  16.8  19.2  21.6  24.   26.4  28.8\n",
      "   31.2]\n",
      " [  8.7  17.4  26.1  34.8  43.5  52.2  60.9  69.6  78.3  87.   95.7 104.4\n",
      "  113.1]\n",
      " [ 11.4  22.8  34.2  45.6  57.   68.4  79.8  91.2 102.6 114.  125.4 136.8\n",
      "  148.2]\n",
      " [ 18.8  37.6  56.4  75.2  94.  112.8 131.6 150.4 169.2 188.  206.8 225.6\n",
      "  244.4]\n",
      " [ 29.   58.   87.  116.  145.  174.  203.  232.  261.  290.  319.  348.\n",
      "  377. ]\n",
      " [ 33.6  67.2 100.8 134.4 168.  201.6 235.2 268.8 302.4 336.  369.6 403.2\n",
      "  436.8]]\n",
      "HARMONIC SERIES\n",
      "[[1.8        1.1        1.25       1.37       1.47      ]\n",
      " [1.63125    1.99375    1.1328125  1.2415625  1.3321875 ]\n",
      " [1.06875    1.30625    1.484375   1.626875   1.745625  ]\n",
      " [1.7625     1.07708333 1.22395833 1.34145833 1.439375  ]\n",
      " [1.359375   1.66145833 1.88802083 1.03463542 1.11015625]\n",
      " [1.575      1.925      1.09375    1.19875    1.28625   ]]\n"
     ]
    },
    {
     "data": {
      "text/plain": [
       "[('unison', 1.0),\n",
       " ('minor second', 1.053497942386831),\n",
       " ('major second', 1.125),\n",
       " ('minor third', 1.185185185185185),\n",
       " ('major third', 1.265625),\n",
       " ('perfect fourth', 1.3333333333333333),\n",
       " ('diminished fifth', 1.4046639231824412),\n",
       " ('augmented fourth', 1.423828125),\n",
       " ('perfect fifth', 1.5),\n",
       " ('minor sixth', 1.5802469135802466),\n",
       " ('major sixth', 1.6875),\n",
       " ('minor seventh', 1.7777777777777777),\n",
       " ('major seventh', 1.8984375)]"
      ]
     },
     "execution_count": 18,
     "metadata": {},
     "output_type": "execute_result"
    }
   ],
   "source": [
    "\n",
    "#Oct_subdiv\n",
    "#Argument 1 : a ratio in the form of a float or a fraction\n",
    "#Argument 2 : bounds between which the octave should fall\n",
    "#Argument 3 : value of the octave\n",
    "#Argument 4 : number of octave subdivisions\n",
    "Octdiv, Octvalue, ratios_tet = oct_subdiv(1.5, 0.02, 2, 1)\n",
    "print('OCTAVE SUBDIVISIONS')\n",
    "print(Octdiv, Octvalue)\n",
    "print('RATIOS-TET')\n",
    "print(ratios_tet)\n",
    "pairwise_oct_div = compare_octave_division(Octdiv = 4, Octdiv2 = 14, bounds = 0.01, octave = 2)\n",
    "print('COMPARE OCTAVE SUBDIVISIONS')\n",
    "print(pairwise_oct_div)\n",
    "\n",
    "\n",
    "\n",
    "\n",
    "peak_ratios, peak_ratios_rebound = compute_peak_ratios(peaks, 1)\n",
    "print('PEAK RATIOS')\n",
    "print(peak_ratios, peak_ratios_rebound)\n",
    "\n",
    "\n",
    "\n",
    "#Calculates a specific number of partials from a list of peaks [n_peaks][n_harmonic]\n",
    "multi_harmonics= EEG_harmonics(peaks, 12, 0)\n",
    "print('HARMONICS')\n",
    "print(multi_harmonics)\n",
    "#Calculates a specific number of elements in the harmonics series\n",
    "#from a list of peaks [n_peaks][n_harmonic]\n",
    "harm_series, harm_series_rebound = EEG_harmonic_series(peaks, n_harmonics = 5)\n",
    "print('HARMONIC SERIES')\n",
    "print(harm_series_rebound)\n",
    "\n",
    "#pyth_dict, pyth_dict_list = compute_pythagore(cons_integers[2][0], cons_integers[2][1], 1, 2)\n",
    "pyth_dict, pyth_dict_list, pyth_ratios = compute_pythagore(3, 2, 1, 2, 1000)\n",
    "pyth_dict_list"
   ]
  },
  {
   "cell_type": "code",
   "execution_count": null,
   "metadata": {},
   "outputs": [],
   "source": []
  },
  {
   "cell_type": "code",
   "execution_count": 10,
   "metadata": {},
   "outputs": [
    {
     "ename": "SyntaxError",
     "evalue": "invalid syntax (<ipython-input-10-61536bb8e71b>, line 6)",
     "output_type": "error",
     "traceback": [
      "\u001b[1;36m  File \u001b[1;32m\"<ipython-input-10-61536bb8e71b>\"\u001b[1;36m, line \u001b[1;32m6\u001b[0m\n\u001b[1;33m    if p !=\u001b[0m\n\u001b[1;37m            ^\u001b[0m\n\u001b[1;31mSyntaxError\u001b[0m\u001b[1;31m:\u001b[0m invalid syntax\n"
     ]
    }
   ],
   "source": [
    "#Create a function that compute pair-wise comparisons between each harmonic of one peak with all harmonics of other peaks\n",
    "#and returns matching peaks and their harmonic position\n",
    "bounds = 0.5\n",
    "for p in range(len(multi_harmonics)):\n",
    "    for h in range(len(multi_harmonics[0])):\n",
    "        if p != \n",
    "        \n",
    "        "
   ]
  },
  {
   "cell_type": "code",
   "execution_count": 50,
   "metadata": {},
   "outputs": [],
   "source": [
    "# Function that computes integer ratios from peaks with higher consonance\n",
    "\n",
    "def comp_consonant_integers (peaks_consonance):\n",
    "    cons_integer = []\n",
    "    for i in range(len(peaks_consonance)):\n",
    "        #for j in range(len(peaks_consonance[0])):\n",
    "        a = peaks_consonance[i][0]\n",
    "        b = peaks_consonance[i][1]\n",
    "        if a > b:\n",
    "            while a > (b*2):\n",
    "                a = a/2\n",
    "        elif a < b:\n",
    "            while b > (a*2):\n",
    "                b = b/2\n",
    "        cons_temp = (a/b).as_integer_ratio()\n",
    "        cons_integer.append(cons_temp)\n",
    "    consonant_integers = np.array(cons_integer).squeeze()\n",
    "    return consonant_integers\n",
    "\n",
    "# Function that computes Pythogorian Tunings from integer ratios \n",
    "# List of equations of the Pythagorean Tuning\n",
    "# variable 'a' has to be the highest value in the ratio\n",
    "\n",
    "def rebound(x, low = 1, high = 2):\n",
    "    while x > 2:\n",
    "        x = x/2\n",
    "    while x < 1:\n",
    "        x = x*2\n",
    "    return x\n",
    "def compute_pythagore(a = 3, b = 2, n = 1, octa = 2, lim_denom = 1000):\n",
    "    import operator\n",
    "    pyth0 = n * (1/1)\n",
    "    pyth1 = n * ((b/a)**5)*(octa**3)\n",
    "    pyth1 = rebound(pyth1)\n",
    "    pyth2 = n * ((a/b)**2)*(1/octa)\n",
    "    pyth2 = rebound(pyth2)\n",
    "    pyth3 = n * ((b/a)**3)*(octa**2)\n",
    "    pyth3 = rebound(pyth3)\n",
    "    pyth4 = n * ((a/b)**4)*((1/octa)**2)\n",
    "    pyth4 = rebound(pyth4)\n",
    "    pyth5 = n * (b/a)*octa\n",
    "    pyth5 = rebound(pyth5)\n",
    "    pyth6 = n * ((b/a)**6)*(octa**4)\n",
    "    pyth6 = rebound(pyth6)\n",
    "    pyth6_2 = n * ((a/b)**6)*((1/octa)**3)\n",
    "    pyth6_2 = rebound(pyth6_2)\n",
    "    pyth7 = n * (a/b)\n",
    "    pyth7 = rebound(pyth7)\n",
    "    pyth8 = n * ((b/a)**4)*(octa**3)\n",
    "    pyth8 = rebound(pyth8)\n",
    "    pyth9 = n * ((a/b)**3)*(1/octa)\n",
    "    pyth9 = rebound(pyth9)\n",
    "    pyth10 = n * ((b/a)**2)*(octa**2)\n",
    "    pyth10 = rebound(pyth10)\n",
    "    pyth11 = n * ((a/b)**5)*((1/octa)**2)\n",
    "    pyth11 = rebound(pyth11)\n",
    "    \n",
    "    pyth_dict = {'unison':pyth0,\n",
    "             'minor second':pyth1,\n",
    "             'major second':pyth2,\n",
    "             'minor third':pyth3,\n",
    "             'major third':pyth4,\n",
    "             'perfect fourth':pyth5,\n",
    "             'diminished fifth':pyth6,\n",
    "             'augmented fourth':pyth6_2,\n",
    "             'perfect fifth':pyth7,\n",
    "             'minor sixth':pyth8,\n",
    "             'major sixth':pyth9,\n",
    "             'minor seventh':pyth10,\n",
    "             'major seventh':pyth11}\n",
    "    pyth_dict_list = sorted(pyth_dict.items(), key=operator.itemgetter(1))\n",
    "    pyth_dict = dict(pyth_dict)\n",
    "    pyth_temp = []\n",
    "    pyth_temp_float = []\n",
    "    for i in range(len(pyth_dict_list)):\n",
    "        frac = []\n",
    "        #print(harm_tuning[i])\n",
    "        pyth_ratios = Fraction(pyth_dict_list[i][1]).limit_denominator(lim_denom)\n",
    "        pyth_float = pyth_dict_list[i][1]\n",
    "        num = pyth_ratios.numerator\n",
    "        denom = pyth_ratios.denominator\n",
    "        frac.extend([num, denom])\n",
    "        #print(harm_ratios_temp)\n",
    "        pyth_temp.append(frac)\n",
    "        pyth_temp_float.append(pyth_float)\n",
    "       \n",
    "    pyth_dict_list_ratios = (np.array(pyth_temp)).squeeze()\n",
    "    pyth_dict_list_float = np.array(pyth_temp_float)\n",
    "    \n",
    "    return pyth_dict, pyth_dict_list, pyth_dict_list_ratios, pyth_dict_list_float"
   ]
  },
  {
   "cell_type": "code",
   "execution_count": 60,
   "metadata": {},
   "outputs": [
    {
     "data": {
      "text/plain": [
       "array([1.        , 1.02581787, 1.11409362, 1.14285714, 1.17236328,\n",
       "       1.30612245, 1.33984375, 1.49271137, 1.53125   , 1.70595585,\n",
       "       1.75      , 1.79518127, 1.94966383])"
      ]
     },
     "execution_count": 60,
     "metadata": {},
     "output_type": "execute_result"
    }
   ],
   "source": [
    "a, b, c, d= compute_pythagore(7, 4, 1, 2)\n",
    "d"
   ]
  },
  {
   "cell_type": "code",
   "execution_count": 13,
   "metadata": {},
   "outputs": [],
   "source": [
    "def compute_consonance (peaks, limit):\n",
    "    consonance_ = []\n",
    "    peaks2keep = []\n",
    "    peaks_consonance = []\n",
    "    for p1 in peaks:    \n",
    "        for p2 in peaks:\n",
    "            peaks2keep_temp = []\n",
    "            p2x = p2\n",
    "            p1x = p1\n",
    "            cons_temp = (p2/p1).as_integer_ratio()\n",
    "            cons_temp = (cons_temp[0] + cons_temp[1])/(cons_temp[0] * cons_temp[1])\n",
    "            #print(cons_temp)\n",
    "            if cons_temp == 2:\n",
    "                cons_temp = None\n",
    "                p2x = None\n",
    "                p1x = None\n",
    "            elif cons_temp < limit:\n",
    "                cons_temp = None\n",
    "                p2x = None\n",
    "                p1x = None\n",
    "            if p2x != None:\n",
    "                peaks2keep_temp.extend([p2x, p1x])\n",
    "            consonance_.append(cons_temp)  \n",
    "            peaks2keep.append(peaks2keep_temp)\n",
    "        peaks_consonance = np.array(peaks2keep)\n",
    "        peaks_consonance = [x for x in peaks_consonance if x]\n",
    "        consonance = np.array(consonance_)\n",
    "        consonance = [i for i in consonance if i]\n",
    "        #consonance = list(set(consonance))\n",
    "    return consonance, peaks_consonance"
   ]
  },
  {
   "cell_type": "code",
   "execution_count": 14,
   "metadata": {},
   "outputs": [],
   "source": [
    "def harmonic_tuning(pos = 1, n_harmonics = 10, octave = 2):\n",
    "    harm_tuning_temp = []\n",
    "    i = 2\n",
    "    harm_ratios = []\n",
    "    harm_ratios_temp = []\n",
    "    while i < n_harmonics:\n",
    "        harm_temp = pos*i\n",
    "        harm_tuning_temp.append(harm_temp)\n",
    "        i+=1\n",
    "    \n",
    "    for h in harm_tuning_temp:\n",
    "                while h > pos*octave:\n",
    "                    h = h/octave\n",
    "                while h > octave:\n",
    "                    h = h/pos\n",
    "                h = round(h, 6)\n",
    "\n",
    "                if h == octave:\n",
    "                    h = None\n",
    "                harm_ratios_temp.append(h)\n",
    "    harm_tuning = np.array(harm_ratios_temp)\n",
    "    harm_tuning = [i for i in harm_tuning if i]\n",
    "    harm_tuning = list(set(harm_tuning))\n",
    "    for i in range(len(harm_tuning)):\n",
    "        frac = []\n",
    "        #print(harm_tuning[i])\n",
    "        harm_ratios_temp = Fraction(harm_tuning[i]).limit_denominator()\n",
    "        num = harm_ratios_temp.numerator\n",
    "        denom = harm_ratios_temp.denominator\n",
    "        frac.extend([num, denom])\n",
    "        #print(harm_ratios_temp)\n",
    "        harm_ratios.append(frac)\n",
    "    \n",
    "    harm_tuning_frac = (np.array(harm_ratios)).squeeze()\n",
    "\n",
    "    return harm_tuning, harm_tuning_frac"
   ]
  },
  {
   "cell_type": "code",
   "execution_count": null,
   "metadata": {},
   "outputs": [],
   "source": [
    "1.25-1.265625\n",
    "81/80\n",
    "(81/64)-(5/4)"
   ]
  },
  {
   "cell_type": "code",
   "execution_count": null,
   "metadata": {},
   "outputs": [],
   "source": [
    "h, i = harmonic_tuning(10, 40, 2)\n",
    "h, i\n"
   ]
  },
  {
   "cell_type": "code",
   "execution_count": 15,
   "metadata": {},
   "outputs": [],
   "source": [
    "def EEG_harmonics(peaks, n_harmonics, n_oct_up = 0, rebound = 1):\n",
    "    n_harmonics = n_harmonics + 2\n",
    "    multi_harmonics = []\n",
    "    multi_harmonics_rebound = []\n",
    "    for p in peaks:\n",
    "        multi_harmonics_r = []\n",
    "        multi_harm_temp = []\n",
    "        harmonics = []\n",
    "        p = p * (2**n_oct_up)\n",
    "        i = 1\n",
    "        harm_temp = p\n",
    "        while i < n_harmonics:\n",
    "            harm_temp = p * i\n",
    "            harmonics.append(harm_temp)\n",
    "            i+=1\n",
    "        multi_harmonics.append(harmonics)\n",
    "    multi_harmonics = np.array(multi_harmonics)  \n",
    "        \n",
    "    return multi_harmonics\n"
   ]
  },
  {
   "cell_type": "code",
   "execution_count": null,
   "metadata": {},
   "outputs": [],
   "source": [
    "multi_harmonics = EEG_harmonics(peaks, 50, 0)\n",
    "multi_harmonics"
   ]
  },
  {
   "cell_type": "code",
   "execution_count": null,
   "metadata": {},
   "outputs": [],
   "source": []
  },
  {
   "cell_type": "code",
   "execution_count": 16,
   "metadata": {},
   "outputs": [],
   "source": [
    "#This function takes a list of frequency peaks as input and computes the desired number of harmonics\n",
    "def EEG_harmonic_series(peaks, n_harmonics, n_oct_up = 0):\n",
    "    n_harmonics = n_harmonics + 2\n",
    "    multi_harmonics = []\n",
    "    for p in peaks:\n",
    "        harmonics = []\n",
    "        p = p * (2**n_oct_up)\n",
    "        i = 2\n",
    "        harm_temp = p\n",
    "        while i < n_harmonics:\n",
    "            harm_temp = harm_temp + (p/i)\n",
    "            harmonics.append(harm_temp)\n",
    "            i+=1\n",
    "        multi_harmonics.append(harmonics)\n",
    "    multi_harmonics = np.array(multi_harmonics)\n",
    "    multi_harmonics_bounded = multi_harmonics.copy()\n",
    "    for i in range(len(multi_harmonics_bounded)):\n",
    "        for j in range(len(multi_harmonics_bounded[0])):\n",
    "            multi_harmonics_bounded[i][j] = rebound(multi_harmonics_bounded[i][j])\n",
    "    #Need to add the possibility of rebounding\n",
    "    return multi_harmonics, multi_harmonics_bounded\n",
    "\n",
    "#This function calculates the 15 ratios (with the possibility to bound them between 1 and 2) derived from the 6 peaks\n",
    "def compute_peak_ratios(peaks, rebound = 1):\n",
    "    ratios = []\n",
    "    peak_ratios_rebound = []\n",
    "    for p1 in peaks:\n",
    "        for p2 in peaks:\n",
    "            ratio_temp = p2/p1\n",
    "            if ratio_temp == 1:\n",
    "                ratio_temp = None\n",
    "            elif ratio_temp < 1:\n",
    "                ratio_temp = None\n",
    "\n",
    "            ratios.append(ratio_temp)\n",
    "\n",
    "        peak_ratios = np.array(ratios)\n",
    "        peak_ratios = [i for i in peak_ratios if i]\n",
    "        peak_ratios = list(set(peak_ratios))\n",
    "    if rebound == 1:\n",
    "        for peak in peak_ratios:\n",
    "            while peak > 2:\n",
    "                peak = peak/2\n",
    "            peak_ratios_rebound.append(peak)\n",
    "    peak_ratios_rebound = np.array(peak_ratios_rebound)\n",
    "    peak_ratios_rebound = [i for i in peak_ratios_rebound if i]\n",
    "    peak_ratios = sorted(peak_ratios)\n",
    "    peak_ratios_rebound = sorted(peak_ratios_rebound)\n",
    "    return peak_ratios, peak_ratios_rebound"
   ]
  },
  {
   "cell_type": "code",
   "execution_count": 8,
   "metadata": {},
   "outputs": [],
   "source": []
  },
  {
   "cell_type": "code",
   "execution_count": null,
   "metadata": {},
   "outputs": [],
   "source": [
    "\n",
    "\n",
    "a, b, ratio_mult = oct_subdiv(1.5, 0.02, 2, 1)\n",
    "print(ratio_mult)\n",
    "\n",
    "\n",
    "pyth_dict, pyth_dict_list = compute_pythagore(3, 2, 1, 2)\n",
    "print(pyth_dict_list)"
   ]
  },
  {
   "cell_type": "code",
   "execution_count": null,
   "metadata": {},
   "outputs": [],
   "source": [
    "## Calculate hertz to cents\n",
    "\n",
    "c = 1200 × log2 (f2 / f1)"
   ]
  },
  {
   "cell_type": "markdown",
   "metadata": {},
   "source": [
    "# PyTuning"
   ]
  },
  {
   "cell_type": "code",
   "execution_count": 23,
   "metadata": {},
   "outputs": [
    {
     "data": {
      "text/plain": [
       "[{'scale': [1.0804597701149428,\n",
       "   1.5104166666666667,\n",
       "   1.5425531914893615,\n",
       "   1.6666666666666667,\n",
       "   1.7500000000000002,\n",
       "   1.7872340425531914,\n",
       "   1.931034482758621,\n",
       "   1.9583333333333335],\n",
       "  'mask': (0, 6, 7, 9, 10, 11, 13, 14),\n",
       "  'steps': [6, 1, 2, 1, 1, 2, 1],\n",
       "  'original_scale': [1.0804597701149428,\n",
       "   1.1586206896551725,\n",
       "   1.1875,\n",
       "   1.2719298245614035,\n",
       "   1.310344827586207,\n",
       "   1.4736842105263157,\n",
       "   1.5104166666666667,\n",
       "   1.5425531914893615,\n",
       "   1.6491228070175439,\n",
       "   1.6666666666666667,\n",
       "   1.7500000000000002,\n",
       "   1.7872340425531914,\n",
       "   1.8125,\n",
       "   1.931034482758621,\n",
       "   1.9583333333333335],\n",
       "  'sum_p_q': 21,\n",
       "  'sum_distinct_intervals': 69,\n",
       "  'metric_3': 22.4520482954900,\n",
       "  'sum_p_q_for_all_intervals': 146,\n",
       "  'sum_q_for_all_intervals': 69}]"
      ]
     },
     "execution_count": 23,
     "metadata": {},
     "output_type": "execute_result"
    }
   ],
   "source": [
    "import pytuning as pt\n",
    "import sympy as sp\n",
    "from pytuning.scales import create_edo_scale\n",
    "edo_12_scale = create_edo_scale(53)\n",
    "edo_12_scale\n",
    "\n",
    "x = pt.find_best_modes(peak_ratios_rebound, 7)\n",
    "x = pt.find_best_modes(ratios_tet, 7)\n",
    "x\n",
    "#major_mask = (0,2,4,5,7,9,11,12)\n",
    "#major_mode = mask_scale(edo_12_scale, major_mask)\n",
    "#major_mode"
   ]
  },
  {
   "cell_type": "code",
   "execution_count": 22,
   "metadata": {},
   "outputs": [
    {
     "data": {
      "text/plain": [
       "[1.0804597701149428,\n",
       " 1.1586206896551725,\n",
       " 1.1875,\n",
       " 1.2719298245614035,\n",
       " 1.310344827586207,\n",
       " 1.4736842105263157,\n",
       " 1.5104166666666667,\n",
       " 1.5425531914893615,\n",
       " 1.6491228070175439,\n",
       " 1.6666666666666667,\n",
       " 1.7500000000000002,\n",
       " 1.7872340425531914,\n",
       " 1.8125,\n",
       " 1.931034482758621,\n",
       " 1.9583333333333335]"
      ]
     },
     "execution_count": 22,
     "metadata": {},
     "output_type": "execute_result"
    }
   ],
   "source": [
    "peak_ratios_rebound"
   ]
  },
  {
   "cell_type": "markdown",
   "metadata": {},
   "source": [
    "## PyAudio"
   ]
  },
  {
   "cell_type": "code",
   "execution_count": 19,
   "metadata": {},
   "outputs": [],
   "source": [
    "def notes2play(array, fund):\n",
    "    scale2play = []\n",
    "    scale2play = [fund*x for x in array]\n",
    "    \n",
    "    return scale2play\n",
    "    "
   ]
  },
  {
   "cell_type": "code",
   "execution_count": 23,
   "metadata": {},
   "outputs": [
    {
     "data": {
      "text/plain": [
       "[150.0,\n",
       " 112.5,\n",
       " 168.75,\n",
       " 126.5625,\n",
       " 189.84375,\n",
       " 142.3828125,\n",
       " 106.787109375,\n",
       " 160.1806640625,\n",
       " 120.135498046875,\n",
       " 180.2032470703125,\n",
       " 135.15243530273438,\n",
       " 101.36432647705078]"
      ]
     },
     "execution_count": 23,
     "metadata": {},
     "output_type": "execute_result"
    }
   ],
   "source": []
  },
  {
   "cell_type": "code",
   "execution_count": 58,
   "metadata": {},
   "outputs": [],
   "source": [
    "import pyaudio\n",
    "import struct\n",
    "import math\n",
    "\n",
    "FORMAT = pyaudio.paInt16\n",
    "CHANNELS = 2\n",
    "RATE = 44100\n",
    "\n",
    "p = pyaudio.PyAudio()\n",
    "\n",
    "\n",
    "def data_for_freq(frequency: float, time: float = None):\n",
    "    \"\"\"get frames for a fixed frequency for a specified time or\n",
    "    number of frames, if frame_count is specified, the specified\n",
    "    time is ignored\"\"\"\n",
    "    frame_count = int(RATE * time)\n",
    "\n",
    "    remainder_frames = frame_count % RATE\n",
    "    wavedata = []\n",
    "\n",
    "    for i in range(frame_count):\n",
    "        a = RATE / frequency  # number of frames per wave\n",
    "        b = i / a\n",
    "        # explanation for b\n",
    "        # considering one wave, what part of the wave should this be\n",
    "        # if we graph the sine wave in a\n",
    "        # displacement vs i graph for the particle\n",
    "        # where 0 is the beginning of the sine wave and\n",
    "        # 1 the end of the sine wave\n",
    "        # which part is \"i\" is denoted by b\n",
    "        # for clarity you might use\n",
    "        # though this is redundant since math.sin is a looping function\n",
    "        # b = b - int(b)\n",
    "\n",
    "        c = b * (2 * math.pi)\n",
    "        # explanation for c\n",
    "        # now we map b to between 0 and 2*math.PI\n",
    "        # since 0 - 2*PI, 2*PI - 4*PI, ...\n",
    "        # are the repeating domains of the sin wave (so the decimal values will\n",
    "        # also be mapped accordingly,\n",
    "        # and the integral values will be multiplied\n",
    "        # by 2*PI and since sin(n*2*PI) is zero where n is an integer)\n",
    "        d = math.sin(c) * 32767\n",
    "        e = int(d)\n",
    "        wavedata.append(e)\n",
    "\n",
    "    for i in range(remainder_frames):\n",
    "        wavedata.append(0)\n",
    "\n",
    "    number_of_bytes = str(len(wavedata))  \n",
    "    wavedata = struct.pack(number_of_bytes + 'h', *wavedata)\n",
    "\n",
    "    return wavedata\n",
    "\n",
    "\n",
    "def play(frequency: float, time: float):\n",
    "    \"\"\"\n",
    "    play a frequency for a fixed time!\n",
    "    \"\"\"\n",
    "    frames = data_for_freq(frequency, time)\n",
    "    stream = p.open(format=FORMAT, channels=CHANNELS, rate=RATE, output=True)\n",
    "    stream.write(frames)\n",
    "    stream.stop_stream()\n",
    "    stream.close()\n",
    "\n",
    "\n",
    "#if __name__ == \"__main__\":\n",
    "    \n",
    "    \n",
    "        \n"
   ]
  },
  {
   "cell_type": "code",
   "execution_count": 64,
   "metadata": {},
   "outputs": [],
   "source": [
    "scale2play = notes2play(d, 100)\n",
    "scale2play\n",
    "for i in scale2play:\n",
    "    play(i, 1)\n",
    "    "
   ]
  }
 ],
 "metadata": {
  "kernelspec": {
   "display_name": "Python 3",
   "language": "python",
   "name": "python3"
  },
  "language_info": {
   "codemirror_mode": {
    "name": "ipython",
    "version": 3
   },
   "file_extension": ".py",
   "mimetype": "text/x-python",
   "name": "python",
   "nbconvert_exporter": "python",
   "pygments_lexer": "ipython3",
   "version": "3.7.4"
  }
 },
 "nbformat": 4,
 "nbformat_minor": 2
}
