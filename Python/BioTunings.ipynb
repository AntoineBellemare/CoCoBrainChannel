{
 "cells": [
  {
   "cell_type": "markdown",
   "metadata": {},
   "source": [
    "## Imports"
   ]
  },
  {
   "cell_type": "code",
   "execution_count": 392,
   "metadata": {},
   "outputs": [],
   "source": [
    "\n",
    "import numpy as np\n",
    "import math\n",
    "from fractions import Fraction\n",
    "import itertools"
   ]
  },
  {
   "cell_type": "markdown",
   "metadata": {},
   "source": [
    "## Constants"
   ]
  },
  {
   "cell_type": "code",
   "execution_count": 407,
   "metadata": {},
   "outputs": [],
   "source": [
    "#CONSTANT\n",
    "\n",
    "pyt_comma = 0.0136432\n",
    "peaks = [2.4, 8.7, 11.4, 18.8, 29, 33.6]\n",
    "round_peaks = [int(i) for i in peaks]\n",
    "\n",
    "#planet ratios\n",
    "Schumann_earth = [7.83, 14.3, 20.8, 27.3, 33.8]\n",
    "Mercury = 141.27"
   ]
  },
  {
   "cell_type": "markdown",
   "metadata": {},
   "source": [
    "## Functions"
   ]
  },
  {
   "cell_type": "markdown",
   "metadata": {},
   "source": [
    "### Utilities"
   ]
  },
  {
   "cell_type": "code",
   "execution_count": 265,
   "metadata": {},
   "outputs": [],
   "source": [
    "def rebound(x, low = 1, high = 2, octave = 2):\n",
    "    while x > high:\n",
    "        x = x/octave\n",
    "    while x < low:\n",
    "        x = x*octave\n",
    "    return x\n",
    "\n",
    "def nth_root (num, root):\n",
    "    answer = num**(1/root)\n",
    "    return answer\n",
    "\n",
    "\n",
    "#Function that compares lists (i.e. peak harmonics)\n",
    "def compareLists(list1, list2, bounds):\n",
    "    matching = []\n",
    "    matching_pos = []\n",
    "    for i, l1 in enumerate(list1):\n",
    "        for j, l2 in enumerate(list2):\n",
    "            if l2-bounds < l1 < l2+bounds:\n",
    "                matching.append((l1+l2)/2)\n",
    "                matching_pos.append([(l1+l2)/2, i+1, j+1])\n",
    "    matching = np.array(matching)\n",
    "    matching_pos = np.array(matching_pos)\n",
    "    ratios_temp = []\n",
    "    for i in range(len(matching_pos)):\n",
    "        if matching_pos[i][1]>matching_pos[i][2]:\n",
    "            ratios_temp.append(matching_pos[i][1]/matching_pos[i][2])\n",
    "        else:\n",
    "            ratios_temp.append(matching_pos[i][2]/matching_pos[i][1])\n",
    "    matching_pos_ratios = np.array(ratios_temp)\n",
    "    return matching, matching_pos, matching_pos_ratios"
   ]
  },
  {
   "cell_type": "code",
   "execution_count": 343,
   "metadata": {},
   "outputs": [
    {
     "data": {
      "text/plain": [
       "array([4.4, 5.8])"
      ]
     },
     "execution_count": 343,
     "metadata": {},
     "output_type": "execute_result"
    }
   ],
   "source": [
    "a, b, c = compareLists([2.4, 4.8, 5.8], [5.8, 4, 8, 10], 1)\n",
    "a"
   ]
  },
  {
   "cell_type": "markdown",
   "metadata": {},
   "source": [
    "### Peak ratios and Harmonics"
   ]
  },
  {
   "cell_type": "code",
   "execution_count": 71,
   "metadata": {},
   "outputs": [],
   "source": [
    "#This function calculates the 15 ratios (with the possibility to bound them between 1 and 2) derived from the 6 peaks\n",
    "def compute_peak_ratios(peaks, rebound = 1, octave = 2):\n",
    "    ratios = []\n",
    "    peak_ratios_rebound = []\n",
    "    for p1 in peaks:\n",
    "        for p2 in peaks:\n",
    "            ratio_temp = p2/p1\n",
    "            if ratio_temp == 1:\n",
    "                ratio_temp = None\n",
    "            elif ratio_temp < 1:\n",
    "                ratio_temp = None\n",
    "\n",
    "            ratios.append(ratio_temp)\n",
    "\n",
    "        peak_ratios = np.array(ratios)\n",
    "        peak_ratios = [i for i in peak_ratios if i]\n",
    "        peak_ratios = list(set(peak_ratios))\n",
    "    if rebound == 1:\n",
    "        for peak in peak_ratios:\n",
    "            while peak > octave:\n",
    "                peak = peak/octave\n",
    "            peak_ratios_rebound.append(peak)\n",
    "    peak_ratios_rebound = np.array(peak_ratios_rebound)\n",
    "    peak_ratios_rebound = [i for i in peak_ratios_rebound if i]\n",
    "    peak_ratios = sorted(peak_ratios)\n",
    "    peak_ratios_rebound = sorted(peak_ratios_rebound)\n",
    "    return peak_ratios, peak_ratios_rebound"
   ]
  },
  {
   "cell_type": "code",
   "execution_count": 420,
   "metadata": {},
   "outputs": [],
   "source": [
    "#This function takes a list of frequency peaks as input and computes the desired number of harmonics\n",
    "#with the formula: x + 2x + 3x ... + nx\n",
    "def EEG_harmonics_mult(peaks, n_harmonics, n_oct_up = 0, rebound = 1):\n",
    "    n_harmonics = n_harmonics + 2\n",
    "    multi_harmonics = []\n",
    "    multi_harmonics_rebound = []\n",
    "    for p in peaks:\n",
    "        multi_harmonics_r = []\n",
    "        multi_harm_temp = []\n",
    "        harmonics = []\n",
    "        p = p * (2**n_oct_up)\n",
    "        i = 1\n",
    "        harm_temp = p\n",
    "        while i < n_harmonics:\n",
    "            harm_temp = p * i\n",
    "            harmonics.append(harm_temp)\n",
    "            i+=1\n",
    "        multi_harmonics.append(harmonics)\n",
    "    multi_harmonics = np.array(multi_harmonics)  \n",
    "        \n",
    "    return multi_harmonics\n",
    "\n",
    "#This function takes a list of frequency peaks as input and computes the desired number of harmonics\n",
    "#with the formula: x + x/2 + x/3 ... + x/n\n",
    "def EEG_harmonics_div(peaks, n_harmonics, n_oct_up = 0):\n",
    "    n_harmonics = n_harmonics + 2\n",
    "    multi_harmonics = []\n",
    "    multi_harmonics_sub = []\n",
    "    for p in peaks:\n",
    "                           \n",
    "        harmonics = [] \n",
    "        harmonics_sub = []\n",
    "        p = p * (2**n_oct_up)               \n",
    "        i = 2\n",
    "        harm_temp = p\n",
    "        harm_temp_sub = p\n",
    "        while i < n_harmonics:\n",
    "            harm_temp = harm_temp + (p/i)\n",
    "            harm_temp_sub = abs(harm_temp_sub - (p/i))\n",
    "            harmonics.append(harm_temp)\n",
    "            harmonics_sub.append(harm_temp_sub)\n",
    "            i+=1    \n",
    "        multi_harmonics.append(harmonics)\n",
    "        multi_harmonics_sub.append(harmonics_sub)\n",
    "    multi_harmonics = np.array(multi_harmonics)\n",
    "    multi_harmonics_bounded = multi_harmonics.copy()\n",
    "    multi_harmonics_sub = np.array(multi_harmonics_sub)\n",
    "    multi_harmonics_sub_bounded = multi_harmonics_sub.copy()\n",
    "    #Rebound the result between 1 and 2\n",
    "    for i in range(len(multi_harmonics_bounded)):\n",
    "        for j in range(len(multi_harmonics_bounded[0])):\n",
    "            multi_harmonics_bounded[i][j] = rebound(multi_harmonics_bounded[i][j])\n",
    "            multi_harmonics_sub_bounded[i][j] = rebound(multi_harmonics_sub_bounded[i][j])\n",
    "    return multi_harmonics, multi_harmonics_bounded, multi_harmonics_sub, multi_harmonics_sub_bounded\n",
    "\n",
    "\n",
    "def harmonic_fit(peak_bands = [0, 1, 2, 3, 4, 5], n_harm = 10, bounds = 1, peaks = peaks):\n",
    "    from itertools import combinations\n",
    "\n",
    "    multi_harmonics = EEG_harmonics_mult(peaks, 50, 0)\n",
    "    #print(multi_harmonics)\n",
    "    list_peaks = list(combinations(peak_bands,2))\n",
    "    #print(list_peaks)\n",
    "    harm_temp = []\n",
    "    for i in range(len(list_peaks)):\n",
    "        harms, b, c = compareLists(multi_harmonics[list_peaks[i][0]], multi_harmonics[list_peaks[i][1]], bounds) \n",
    "        \n",
    "        harm_temp.append(harms)\n",
    "        \n",
    "    harm_fit = np.array(harm_temp).squeeze()\n",
    "    \n",
    "    #print(harm_fit)\n",
    "    if len(peak_bands) > 2:\n",
    "        harm_fit = list(itertools.chain.from_iterable(harm_fit))\n",
    "\n",
    "    return harm_fit"
   ]
  },
  {
   "cell_type": "code",
   "execution_count": 120,
   "metadata": {},
   "outputs": [
    {
     "data": {
      "text/plain": [
       "array([[1.8       , 1.1       , 1.25      , 1.37      , 1.47      ],\n",
       "       [1.63125   , 1.99375   , 1.1328125 , 1.2415625 , 1.3321875 ],\n",
       "       [1.06875   , 1.30625   , 1.484375  , 1.626875  , 1.745625  ],\n",
       "       [1.7625    , 1.07708333, 1.22395833, 1.34145833, 1.439375  ],\n",
       "       [1.359375  , 1.66145833, 1.88802083, 1.03463542, 1.11015625],\n",
       "       [1.575     , 1.925     , 1.09375   , 1.19875   , 1.28625   ]])"
      ]
     },
     "execution_count": 120,
     "metadata": {},
     "output_type": "execute_result"
    }
   ],
   "source": [
    "mh, mh_bound, mh_sub, mh_sub_bound = EEG_harmonics_div(peaks, 5, n_oct_up = 0)\n",
    "mh_bound"
   ]
  },
  {
   "cell_type": "markdown",
   "metadata": {},
   "source": [
    "### n-TET "
   ]
  },
  {
   "cell_type": "code",
   "execution_count": 73,
   "metadata": {},
   "outputs": [],
   "source": [
    "\n",
    "\n",
    "def oct_subdiv(ratio,bounds,octave,n):    \n",
    "    Octdiv, Octvalue, i = [], [], 1\n",
    "    ratios = []\n",
    "    while len(Octdiv) < n:\n",
    "        ratio_mult = (ratio**i)\n",
    "        while ratio_mult > octave:\n",
    "            ratio_mult = ratio_mult/octave    \n",
    "            \n",
    "        rescale_ratio = ratio_mult - round(ratio_mult)\n",
    "        ratios.append(ratio_mult)\n",
    "        i+=1\n",
    "        if -bounds < rescale_ratio < bounds:\n",
    "            Octdiv.append(i-1)\n",
    "            Octvalue.append(ratio_mult)\n",
    "        else:\n",
    "            continue\n",
    "    return Octdiv, Octvalue, ratios\n",
    "\n",
    "\n",
    "def compare_octave_division(Octdiv = 53, Octdiv2 = 12, bounds = 0.01, octave = 2):\n",
    "    ListOctdiv = []\n",
    "    ListOctdiv2 = []\n",
    "    OctdivSum = 1\n",
    "    OctdivSum2 = 1\n",
    "    i = 1\n",
    "    i2 = 1\n",
    "    Matching_harmonics = []\n",
    "    #HARMONIC_RATIOS = [1, 1.0595, 1.1225, 1.1892, 1.2599, 1.3348, 1.4142, 1.4983, 1.5874, 1.6818, 1.7818, 1.8897]\n",
    "    while OctdivSum < octave:\n",
    "        OctdivSum =(nth_root(octave, Octdiv))**i\n",
    "        i+=1\n",
    "        ListOctdiv.append(OctdivSum)\n",
    "    #print(ListOctdiv)\n",
    "\n",
    "    while OctdivSum2 < octave:\n",
    "        OctdivSum2 =(nth_root(octave, Octdiv2))**i2\n",
    "        i2+=1\n",
    "        ListOctdiv2.append(OctdivSum2)\n",
    "    #print(ListOctdiv2)\n",
    "    for i, n in enumerate(ListOctdiv):\n",
    "        for j, harm in enumerate(ListOctdiv2):\n",
    "            if harm-bounds < n < harm+bounds:\n",
    "                Matching_harmonics.append([n, i+1, harm, j+1])\n",
    "    Matching_harmonics = np.array(Matching_harmonics)\n",
    "    return Matching_harmonics\n",
    "\n",
    "\n"
   ]
  },
  {
   "cell_type": "markdown",
   "metadata": {},
   "source": [
    "### Consonance"
   ]
  },
  {
   "cell_type": "code",
   "execution_count": 74,
   "metadata": {},
   "outputs": [],
   "source": [
    "#Oct_subdiv\n",
    "#Argument 1 : a ratio in the form of a float or a fraction\n",
    "#Argument 2 : bounds between which the octave should fall\n",
    "#Argument 3 : value of the octave\n",
    "#Argument 4 : number of octave subdivisions\n",
    "def compute_consonance (peaks, limit):\n",
    "    consonance_ = []\n",
    "    peaks2keep = []\n",
    "    peaks_consonance = []\n",
    "    for p1 in peaks:    \n",
    "        for p2 in peaks:\n",
    "            peaks2keep_temp = []\n",
    "            p2x = p2\n",
    "            p1x = p1\n",
    "            cons_temp = (p2/p1).as_integer_ratio()\n",
    "            cons_temp = (cons_temp[0] + cons_temp[1])/(cons_temp[0] * cons_temp[1])\n",
    "            #print(cons_temp)\n",
    "            if cons_temp == 2:\n",
    "                cons_temp = None\n",
    "                p2x = None\n",
    "                p1x = None\n",
    "            elif cons_temp < limit:\n",
    "                cons_temp = None\n",
    "                p2x = None\n",
    "                p1x = None\n",
    "            if p2x != None:\n",
    "                peaks2keep_temp.extend([p2x, p1x])\n",
    "            consonance_.append(cons_temp)  \n",
    "            peaks2keep.append(peaks2keep_temp)\n",
    "        peaks_consonance = np.array(peaks2keep)\n",
    "        peaks_consonance = [x for x in peaks_consonance if x]\n",
    "        consonance = np.array(consonance_)\n",
    "        consonance = [i for i in consonance if i]\n",
    "        #consonance = list(set(consonance))\n",
    "    return consonance, peaks_consonance\n",
    "\n",
    "# Function that computes integer ratios from peaks with higher consonance\n",
    "def comp_consonant_integers_ratios (peaks_consonance):\n",
    "    cons_integer = []\n",
    "    for i in range(len(peaks_consonance)):\n",
    "        #for j in range(len(peaks_consonance[0])):\n",
    "        a = peaks_consonance[i][0]\n",
    "        b = peaks_consonance[i][1]\n",
    "        if a > b:\n",
    "            while a > (b*2):\n",
    "                a = a/2\n",
    "        elif a < b:\n",
    "            while b > (a*2):\n",
    "                b = b/2\n",
    "        cons_temp = (a/b).as_integer_ratio()\n",
    "        cons_integer.append(cons_temp)\n",
    "    consonant_integers = np.array(cons_integer).squeeze()\n",
    "    cons_ratios = []\n",
    "    for j in range(len(consonant_integers)):\n",
    "        cons_ratios.append((consonant_integers[j][0])/(consonant_integers[j][1]))\n",
    "    consonant_ratios = np.array(cons_ratios)\n",
    "    return consonant_integers, consonant_ratios"
   ]
  },
  {
   "cell_type": "code",
   "execution_count": 228,
   "metadata": {},
   "outputs": [
    {
     "data": {
      "text/plain": [
       "array([1.8125  , 1.1875  , 1.421875, 0.8125  , 0.6875  , 1.3125  ])"
      ]
     },
     "execution_count": 228,
     "metadata": {},
     "output_type": "execute_result"
    }
   ],
   "source": [
    "a, b = compute_consonance(peaks + Schumann_earth, 0.05)\n",
    "c, d = comp_consonant_integers_ratios (b)\n",
    "d"
   ]
  },
  {
   "cell_type": "code",
   "execution_count": 171,
   "metadata": {},
   "outputs": [
    {
     "data": {
      "text/plain": [
       "8.833333333333334"
      ]
     },
     "execution_count": 171,
     "metadata": {},
     "output_type": "execute_result"
    }
   ],
   "source": [
    "2*53/12"
   ]
  },
  {
   "cell_type": "markdown",
   "metadata": {},
   "source": [
    "### Tunings"
   ]
  },
  {
   "cell_type": "code",
   "execution_count": 186,
   "metadata": {},
   "outputs": [],
   "source": [
    "# Function that computes Pythogorian Tunings from integer ratios \n",
    "# List of equations of the Pythagorean Tuning\n",
    "# variable 'a' has to be the highest value in the ratio\n",
    "\n",
    "#INPUTS (a: numerator of the source ratio / b: denominator of the source ratio\n",
    "#        n: multiplifier of all notes / octa: octave value / lim_denom: highest value possible\n",
    "#        for the denominator of the ratios)\n",
    "#OUTPUTS\n",
    "\n",
    "def compute_pythagore(a = 3, b = 2, n = 1, octa = 2, lim_denom = 1000):\n",
    "    import operator\n",
    "    pyth0 = n * (1/1)\n",
    "    pyth1 = n * ((b/a)**5)*(octa**3)\n",
    "    pyth1 = rebound(pyth1)\n",
    "    pyth2 = n * ((a/b)**2)*(1/octa)\n",
    "    pyth2 = rebound(pyth2)\n",
    "    pyth3 = n * ((b/a)**3)*(octa**2)\n",
    "    pyth3 = rebound(pyth3)\n",
    "    pyth4 = n * ((a/b)**4)*((1/octa)**2)\n",
    "    pyth4 = rebound(pyth4)\n",
    "    pyth5 = n * (b/a)*octa\n",
    "    pyth5 = rebound(pyth5)\n",
    "    pyth6 = n * ((b/a)**6)*(octa**4)\n",
    "    pyth6 = rebound(pyth6)\n",
    "    pyth6_2 = n * ((a/b)**6)*((1/octa)**3)\n",
    "    pyth6_2 = rebound(pyth6_2)\n",
    "    pyth7 = n * (a/b)\n",
    "    pyth7 = rebound(pyth7)\n",
    "    pyth8 = n * ((b/a)**4)*(octa**3)\n",
    "    pyth8 = rebound(pyth8)\n",
    "    pyth9 = n * ((a/b)**3)*(1/octa)\n",
    "    pyth9 = rebound(pyth9)\n",
    "    pyth10 = n * ((b/a)**2)*(octa**2)\n",
    "    pyth10 = rebound(pyth10)\n",
    "    pyth11 = n * ((a/b)**5)*((1/octa)**2)\n",
    "    pyth11 = rebound(pyth11)\n",
    "    pyth12 = rebound(n * octa)\n",
    "    \n",
    "    pyth_dict = {'unison':pyth0,\n",
    "             'minor second':pyth1,\n",
    "             'major second':pyth2,\n",
    "             'minor third':pyth3,\n",
    "             'major third':pyth4,\n",
    "             'perfect fourth':pyth5,\n",
    "             'diminished fifth':pyth6,\n",
    "             'augmented fourth':pyth6_2,\n",
    "             'perfect fifth':pyth7,\n",
    "             'minor sixth':pyth8,\n",
    "             'major sixth':pyth9,\n",
    "             'minor seventh':pyth10,\n",
    "             'major seventh':pyth11,\n",
    "             'octave':pyth12}\n",
    "    pyth_dict_list = sorted(pyth_dict.items(), key=operator.itemgetter(1))\n",
    "    pyth_dict = dict(pyth_dict)\n",
    "    pyth_temp = []\n",
    "    pyth_temp_float = []\n",
    "    for i in range(len(pyth_dict_list)):\n",
    "        frac = []\n",
    "        #print(harm_tuning[i])\n",
    "        pyth_ratios = Fraction(pyth_dict_list[i][1]).limit_denominator(lim_denom)\n",
    "        pyth_float = pyth_dict_list[i][1]\n",
    "        num = pyth_ratios.numerator\n",
    "        denom = pyth_ratios.denominator\n",
    "        frac.extend([num, denom])\n",
    "        #print(harm_ratios_temp)\n",
    "        pyth_temp.append(frac)\n",
    "        pyth_temp_float.append(pyth_float)\n",
    "       \n",
    "    pyth_dict_list_ratios = (np.array(pyth_temp)).squeeze()\n",
    "    pyth_dict_list_float = np.array(pyth_temp_float)\n",
    "    \n",
    "    return pyth_dict, pyth_dict_list, pyth_dict_list_ratios, pyth_dict_list_float\n",
    "\n",
    "#This Function build a tuning based on the multiplication of a ratio by itself.\n",
    "def harmonic_tuning(n_harmonics = 10, octave = 2, rounding = 10, pos = 1):\n",
    "    harm_tuning_temp = []\n",
    "    i = 1\n",
    "    harm_ratios = []\n",
    "    harm_ratios_temp = []\n",
    "    while i <= n_harmonics:\n",
    "        harm_temp = pos*i\n",
    "        harm_tuning_temp.append(harm_temp)\n",
    "        i+=1\n",
    "    \n",
    "    for h in harm_tuning_temp:\n",
    "                while h > pos*octave:\n",
    "                    h = h/octave\n",
    "                while h > octave:\n",
    "                    h = h/pos\n",
    "                h = round(h, rounding)\n",
    "\n",
    "                #if h == octave:\n",
    "                #    h = None\n",
    "                harm_ratios_temp.append(h)\n",
    "    harm_tuning = np.array(harm_ratios_temp)\n",
    "    harm_tuning = [i for i in harm_tuning if i]\n",
    "    harm_tuning = list(set(harm_tuning))\n",
    "    for i in range(len(harm_tuning)):\n",
    "        frac = []\n",
    "        #print(harm_tuning[i])\n",
    "        harm_ratios_temp = Fraction(harm_tuning[i]).limit_denominator()\n",
    "        num = harm_ratios_temp.numerator\n",
    "        denom = harm_ratios_temp.denominator\n",
    "        frac.extend([num, denom])\n",
    "        #print(harm_ratios_temp)\n",
    "        harm_ratios.append(frac)\n",
    "    \n",
    "    harm_tuning_frac = (np.array(harm_ratios)).squeeze().tolist()\n",
    "\n",
    "    return harm_tuning, harm_tuning_frac\n",
    "\n",
    "#This function subdivides the octave in equal parts\n",
    "def Ntet_tuning(subdiv, octave):\n",
    "    ratios_temp = []\n",
    "    for i in range(subdiv+1):\n",
    "        ratios_temp.append(octave**(i/subdiv))\n",
    "    ratios = np.array(ratios_temp)\n",
    "    return ratios"
   ]
  },
  {
   "cell_type": "code",
   "execution_count": 274,
   "metadata": {},
   "outputs": [
    {
     "data": {
      "text/plain": [
       "6"
      ]
     },
     "execution_count": 274,
     "metadata": {},
     "output_type": "execute_result"
    }
   ],
   "source": [
    "peak_bands = [0, 1, 2, 3, 4, 5]\n",
    "len(peak_bands)"
   ]
  },
  {
   "cell_type": "code",
   "execution_count": 471,
   "metadata": {},
   "outputs": [],
   "source": []
  },
  {
   "cell_type": "code",
   "execution_count": 462,
   "metadata": {},
   "outputs": [
    {
     "data": {
      "text/plain": [
       "6"
      ]
     },
     "execution_count": 462,
     "metadata": {},
     "output_type": "execute_result"
    }
   ],
   "source": []
  },
  {
   "cell_type": "code",
   "execution_count": 480,
   "metadata": {},
   "outputs": [],
   "source": [
    "\n",
    "harm_fit = harmonic_fit([0, 1], 5, 1)"
   ]
  },
  {
   "cell_type": "code",
   "execution_count": 345,
   "metadata": {},
   "outputs": [
    {
     "data": {
      "text/plain": [
       "(array([69.6]), array([[69.6,  8. , 29. ]]), array([3.625]))"
      ]
     },
     "execution_count": 345,
     "metadata": {},
     "output_type": "execute_result"
    }
   ],
   "source": [
    "x = compareLists(multi_harmonics[list_peaks[0][1]], multi_harmonics[list_peaks[0][0]], 0.1)\n",
    "x\n",
    "#multi_harmonics[list_peaks[0][1]]"
   ]
  },
  {
   "cell_type": "markdown",
   "metadata": {},
   "source": [
    "## Bidouille"
   ]
  },
  {
   "cell_type": "code",
   "execution_count": 190,
   "metadata": {},
   "outputs": [
    {
     "name": "stdout",
     "output_type": "stream",
     "text": [
      "CONSONANT PEAKS\n",
      "[[14.3, 20.8], [27.3, 20.8], [27.3, 2.4], [8.7, 2.4], [11.4, 2.4], [27.3, 33.6]]\n",
      "CONSONANT INTEGER RATIOS\n",
      "(array([[11, 16],\n",
      "       [21, 16],\n",
      "       [91, 64],\n",
      "       [29, 16],\n",
      "       [19, 16],\n",
      "       [13, 16]]), array([0.6875  , 1.3125  , 1.421875, 1.8125  , 1.1875  , 0.8125  ]))\n"
     ]
    },
    {
     "name": "stderr",
     "output_type": "stream",
     "text": [
      "C:\\Users\\Dell\\Anaconda3\\lib\\site-packages\\ipykernel_launcher.py:31: DeprecationWarning: The truth value of an empty array is ambiguous. Returning False, but in future this will result in an error. Use `array.size > 0` to check that an array is not empty.\n"
     ]
    }
   ],
   "source": [
    "#compute_consonance takes a list of peaks as input(1) and a threshold(2)\n",
    "#above which the peaks are kept\n",
    "#output(1) returns the consonance values\n",
    "#output(2) return the peaks corresponding to the consonance values\n",
    "consonant_values, consonant_peaks = compute_consonance(Schumann_earth+peaks, 0.01)\n",
    "print('CONSONANT PEAKS')\n",
    "print(consonant_peaks)\n",
    "#This function takes a list of consonant peaks and returns the peak ratios\n",
    "#with integer values\n",
    "cons_integers = comp_consonant_integers_ratios(consonant_peaks)\n",
    "print('CONSONANT INTEGER RATIOS')\n",
    "print(cons_integers)"
   ]
  },
  {
   "cell_type": "code",
   "execution_count": 203,
   "metadata": {},
   "outputs": [
    {
     "name": "stdout",
     "output_type": "stream",
     "text": [
      "OCTAVE SUBDIVISIONS\n",
      "[2, 31, 33, 35, 64] [1.9599999999999997, 1.0339967437035635, 1.0133168088294922, 1.986100945305804, 1.0477662806697812]\n",
      "RATIOS-TET\n",
      "[1.4, 1.9599999999999997, 1.3719999999999997, 1.9207999999999996, 1.3445599999999995, 1.8823839999999994, 1.3176687999999994, 1.844736319999999, 1.2913154239999993, 1.8078415935999987, 1.2654891155199992, 1.7716847617279987, 1.240179333209599, 1.7362510664934385, 1.215375746545407, 1.7015260451635694, 1.1910682316144985, 1.6674955242602978, 1.1672468669822085, 1.6341456137750916, 1.143901929642564, 1.6014627014995897, 1.1210238910497128, 1.5694334474695977, 1.0986034132287184, 1.5380447785202056, 1.0766313449641438, 1.5072838829498012, 1.0550987180648608, 1.477138205290805, 1.0339967437035635, 1.4475954411849887, 1.0133168088294922, 1.4186435323612887, 1.986100945305804, 1.3902706617140628, 1.9463789263996878, 1.3624652484797815, 1.907451347871694, 1.3352159435101856, 1.8693023209142596, 1.3085116246399817, 1.8319162744959743, 1.282341392147182, 1.7952779490060546, 1.2566945643042382, 1.7593723900259333, 1.2315606730181532, 1.7241849422254143, 1.20692945955779, 1.6897012433809058, 1.182790870366634, 1.6559072185132875, 1.1591350529593012, 1.6227890741430215, 1.1359523519001151, 1.590333292660161, 1.1132333048621126, 1.5585266268069575, 1.0909686387648703, 1.5273560942708182, 1.0691492659895727, 1.4968089723854017, 1.0477662806697812]\n",
      "COMPARE OCTAVE SUBDIVISIONS\n",
      "[[ 1.06212718  2.          1.06504109  3.        ]\n",
      " [ 1.16262941  5.          1.15839013  7.        ]\n",
      " [ 1.23486029  7.          1.23373308 10.        ]\n",
      " [ 1.31157867  9.          1.31397643 13.        ]\n",
      " [ 1.52487993 14.          1.52209732 20.        ]\n",
      " [ 1.61961642 16.          1.62109619 23.        ]\n",
      " [ 2.         23.          2.         33.        ]]\n",
      "PEAK RATIOS\n",
      "[1.1586206896551725, 1.310344827586207, 1.5425531914893615, 1.6491228070175439, 1.7872340425531914, 2.1609195402298855, 2.543859649122807, 2.9473684210526314, 3.3333333333333335, 3.625, 3.862068965517242, 4.75, 7.833333333333334, 12.083333333333334, 14.000000000000002] [1.0804597701149428, 1.1586206896551725, 1.1875, 1.2719298245614035, 1.310344827586207, 1.4736842105263157, 1.5104166666666667, 1.5425531914893615, 1.6491228070175439, 1.6666666666666667, 1.7500000000000002, 1.7872340425531914, 1.8125, 1.931034482758621, 1.9583333333333335]\n",
      "HARMONICS (x*n)\n",
      "[[   2.4    4.8    7.2    9.6   12.    14.4   16.8   19.2   21.6   24.\n",
      "    26.4   28.8   31.2   33.6   36.    38.4   40.8   43.2   45.6   48.\n",
      "    50.4   52.8   55.2   57.6   60.    62.4   64.8   67.2   69.6   72.\n",
      "    74.4   76.8   79.2   81.6   84.    86.4   88.8   91.2   93.6   96.\n",
      "    98.4  100.8  103.2  105.6  108.   110.4  112.8  115.2  117.6  120.\n",
      "   122.4]\n",
      " [   8.7   17.4   26.1   34.8   43.5   52.2   60.9   69.6   78.3   87.\n",
      "    95.7  104.4  113.1  121.8  130.5  139.2  147.9  156.6  165.3  174.\n",
      "   182.7  191.4  200.1  208.8  217.5  226.2  234.9  243.6  252.3  261.\n",
      "   269.7  278.4  287.1  295.8  304.5  313.2  321.9  330.6  339.3  348.\n",
      "   356.7  365.4  374.1  382.8  391.5  400.2  408.9  417.6  426.3  435.\n",
      "   443.7]\n",
      " [  11.4   22.8   34.2   45.6   57.    68.4   79.8   91.2  102.6  114.\n",
      "   125.4  136.8  148.2  159.6  171.   182.4  193.8  205.2  216.6  228.\n",
      "   239.4  250.8  262.2  273.6  285.   296.4  307.8  319.2  330.6  342.\n",
      "   353.4  364.8  376.2  387.6  399.   410.4  421.8  433.2  444.6  456.\n",
      "   467.4  478.8  490.2  501.6  513.   524.4  535.8  547.2  558.6  570.\n",
      "   581.4]\n",
      " [  18.8   37.6   56.4   75.2   94.   112.8  131.6  150.4  169.2  188.\n",
      "   206.8  225.6  244.4  263.2  282.   300.8  319.6  338.4  357.2  376.\n",
      "   394.8  413.6  432.4  451.2  470.   488.8  507.6  526.4  545.2  564.\n",
      "   582.8  601.6  620.4  639.2  658.   676.8  695.6  714.4  733.2  752.\n",
      "   770.8  789.6  808.4  827.2  846.   864.8  883.6  902.4  921.2  940.\n",
      "   958.8]\n",
      " [  29.    58.    87.   116.   145.   174.   203.   232.   261.   290.\n",
      "   319.   348.   377.   406.   435.   464.   493.   522.   551.   580.\n",
      "   609.   638.   667.   696.   725.   754.   783.   812.   841.   870.\n",
      "   899.   928.   957.   986.  1015.  1044.  1073.  1102.  1131.  1160.\n",
      "  1189.  1218.  1247.  1276.  1305.  1334.  1363.  1392.  1421.  1450.\n",
      "  1479. ]\n",
      " [  33.6   67.2  100.8  134.4  168.   201.6  235.2  268.8  302.4  336.\n",
      "   369.6  403.2  436.8  470.4  504.   537.6  571.2  604.8  638.4  672.\n",
      "   705.6  739.2  772.8  806.4  840.   873.6  907.2  940.8  974.4 1008.\n",
      "  1041.6 1075.2 1108.8 1142.4 1176.  1209.6 1243.2 1276.8 1310.4 1344.\n",
      "  1377.6 1411.2 1444.8 1478.4 1512.  1545.6 1579.2 1612.8 1646.4 1680.\n",
      "  1713.6]]\n",
      "HARMONICS (x/n)\n",
      "[[1.8        1.1        1.25       1.37       1.47       1.55571429\n",
      "  1.63071429 1.69738095]\n",
      " [1.63125    1.99375    1.1328125  1.2415625  1.3321875  1.40986607\n",
      "  1.47783482 1.53825149]\n",
      " [1.06875    1.30625    1.484375   1.626875   1.745625   1.84741071\n",
      "  1.93647321 1.00781994]\n",
      " [1.7625     1.07708333 1.22395833 1.34145833 1.439375   1.52330357\n",
      "  1.59674107 1.66201885]\n",
      " [1.359375   1.66145833 1.88802083 1.03463542 1.11015625 1.17488839\n",
      "  1.23152902 1.28187624]\n",
      " [1.575      1.925      1.09375    1.19875    1.28625    1.36125\n",
      "  1.426875   1.48520833]]\n"
     ]
    },
    {
     "data": {
      "text/plain": [
       "{'unison': 1.0,\n",
       " 'minor second': 1.8984375,\n",
       " 'major second': 0.8888888888888888,\n",
       " 'minor third': 1.6875,\n",
       " 'major third': 0.7901234567901233,\n",
       " 'perfect fourth': 1.5,\n",
       " 'diminished fifth': 2.84765625,\n",
       " 'augmented fourth': 0.7023319615912206,\n",
       " 'perfect fifth': 1.3333333333333333,\n",
       " 'minor sixth': 2.53125,\n",
       " 'major sixth': 1.185185185185185,\n",
       " 'minor seventh': 2.25,\n",
       " 'major seventh': 1.053497942386831,\n",
       " 'octave': 2}"
      ]
     },
     "execution_count": 203,
     "metadata": {},
     "output_type": "execute_result"
    }
   ],
   "source": [
    "\n",
    "#Oct_subdiv\n",
    "#Argument 1 : a ratio in the form of a float or a fraction\n",
    "#Argument 2 : bounds between which the octave should fall\n",
    "#Argument 3 : value of the octave\n",
    "#Argument 4 : number of octave subdivisions\n",
    "Octdiv, Octvalue, ratios_tet = oct_subdiv(7/5, 0.05, 2, 5)\n",
    "print('OCTAVE SUBDIVISIONS')\n",
    "print(Octdiv, Octvalue)\n",
    "print('RATIOS-TET')\n",
    "print(ratios_tet)\n",
    "pairwise_oct_div = compare_octave_division(Octdiv = 23, Octdiv2 = 33, bounds = 0.005, octave = 2)\n",
    "print('COMPARE OCTAVE SUBDIVISIONS')\n",
    "print(pairwise_oct_div)\n",
    "\n",
    "\n",
    "\n",
    "\n",
    "peak_ratios, peak_ratios_rebound = compute_peak_ratios(peaks, 1)\n",
    "print('PEAK RATIOS')\n",
    "print(peak_ratios, peak_ratios_rebound)\n",
    "\n",
    "\n",
    "\n",
    "#Calculates a specific number of partials from a list of peaks [n_peaks][n_harmonic]\n",
    "multi_harmonics= EEG_harmonics_mult(peaks, 50, 0)\n",
    "print('HARMONICS (x*n)')\n",
    "print(multi_harmonics)\n",
    "#Calculates a specific number of elements in the harmonics series\n",
    "#from a list of peaks [n_peaks][n_harmonic]\n",
    "harm_div, harm_div_bound, harm_div_sub, harm_div_sub_bound = EEG_harmonics_div(peaks, n_harmonics = 8)\n",
    "print('HARMONICS (x/n)')\n",
    "print(harm_div_bound)\n",
    "\n",
    "#pyth_dict, pyth_dict_list = compute_pythagore(cons_integers[2][0], cons_integers[2][1], 1, 2)\n",
    "a, b, c, d = compute_pythagore(4, 3, 1, 2, 1000)\n",
    "a"
   ]
  },
  {
   "cell_type": "code",
   "execution_count": null,
   "metadata": {},
   "outputs": [],
   "source": [
    "a, b, c, d = compute_pythagore(4, 3, 1, 2, 1000)\n",
    "b"
   ]
  },
  {
   "cell_type": "code",
   "execution_count": null,
   "metadata": {},
   "outputs": [],
   "source": [
    "#Create a function that compute pair-wise comparisons between each harmonic of one peak with all harmonics of other peaks\n",
    "#and returns matching peaks and their harmonic position\n",
    "bounds = 0.5\n",
    "for p in range(len(multi_harmonics)):\n",
    "    for h in range(len(multi_harmonics[0])):\n",
    "        if p != \n",
    "        \n",
    "        "
   ]
  },
  {
   "cell_type": "code",
   "execution_count": 188,
   "metadata": {},
   "outputs": [
    {
     "data": {
      "text/plain": [
       "{'unison': 1.0,\n",
       " 'minor second': 3.5555555555555545,\n",
       " 'major second': 0.75,\n",
       " 'minor third': 2.666666666666666,\n",
       " 'major third': 0.5625,\n",
       " 'perfect fourth': 2.0,\n",
       " 'diminished fifth': 7.111111111111108,\n",
       " 'augmented fourth': 0.4218749999999999,\n",
       " 'perfect fifth': 1.5,\n",
       " 'minor sixth': 5.333333333333332,\n",
       " 'major sixth': 1.125,\n",
       " 'minor seventh': 4.0,\n",
       " 'major seventh': 0.84375,\n",
       " 'octave': 3}"
      ]
     },
     "execution_count": 188,
     "metadata": {},
     "output_type": "execute_result"
    }
   ],
   "source": [
    "a, b, c, d= compute_pythagore(3, 2, 1, 3)\n",
    "a"
   ]
  },
  {
   "cell_type": "code",
   "execution_count": 14,
   "metadata": {},
   "outputs": [
    {
     "data": {
      "text/plain": [
       "1.1111111111111112"
      ]
     },
     "execution_count": 14,
     "metadata": {},
     "output_type": "execute_result"
    }
   ],
   "source": [
    "10/9"
   ]
  },
  {
   "cell_type": "code",
   "execution_count": 118,
   "metadata": {},
   "outputs": [
    {
     "data": {
      "text/plain": [
       "[1.0, 2.0, 1.75, 1.5, 1.25, 1.125, 1.375, 1.625, 1.875, 1.0625, 1.1875]"
      ]
     },
     "execution_count": 118,
     "metadata": {},
     "output_type": "execute_result"
    }
   ],
   "source": [
    "h, i = harmonic_tuning(20, 2)\n",
    "h\n"
   ]
  },
  {
   "cell_type": "code",
   "execution_count": null,
   "metadata": {},
   "outputs": [],
   "source": [
    "a, b, ratio_mult = oct_subdiv(1.5, 0.02, 2, 1)\n",
    "print(ratio_mult)\n",
    "\n",
    "\n",
    "pyth_dict, pyth_dict_list = compute_pythagore(3, 2, 1, 2)\n",
    "print(pyth_dict_list)"
   ]
  },
  {
   "cell_type": "code",
   "execution_count": null,
   "metadata": {},
   "outputs": [],
   "source": [
    "## Calculate hertz to cents\n",
    "\n",
    "c = 1200 × log2 (f2 / f1)"
   ]
  },
  {
   "cell_type": "markdown",
   "metadata": {},
   "source": [
    "# Dissonance"
   ]
  },
  {
   "cell_type": "code",
   "execution_count": null,
   "metadata": {},
   "outputs": [],
   "source": []
  },
  {
   "cell_type": "code",
   "execution_count": 158,
   "metadata": {},
   "outputs": [],
   "source": [
    "#Functions taken from : https://gist.github.com/endolith/118429\n",
    "\n",
    "def euler(*numbers):\n",
    "    \"\"\"Euler's \"gradus suavitatis\" (degree of sweetness) function\n",
    "    \n",
    "    Return the \"degree of sweetness\" of a musical interval or chord expressed \n",
    "    as a ratio of frequencies a:b:c, according to Euler's formula\n",
    "    \n",
    "    Greater values indicate more dissonance\n",
    "        \n",
    "    \"\"\"\n",
    "    factors = prime_factors(lcm(*reduced_form(*numbers)))\n",
    "    return 1 + sum(p - 1 for p in factors)\n",
    "\n",
    "\n",
    "def wiseman(a, b):\n",
    "    \"\"\"Return a value corresponding to the dissonance of a musical interval \n",
    "    of ratio a:b\n",
    "    \n",
    "    This is taken from Gus Wiseman's paper at \n",
    "    http://www.nafindix.com/math/sensory.pdf\n",
    "    \n",
    "    It apparently is derived from the total period of two tones, so a tone \n",
    "    of period 2 and a tone of period 3 when summed will give a total period \n",
    "    of 6 (which is LCM(2,3))\n",
    "    \n",
    "    Since a ratio of frequencies is just the inverse of a ratio of periods, \n",
    "    and inverting the terms has no effect on this formula, I *think* it's \n",
    "    valid to just plug in frequency ratios, too.\n",
    "    \n",
    "    Same as \"harmonic value\"?\n",
    "    TODO: a/gcd(all) and b/gcd(all) is just the reduced form, right?  and if a,b are in reduced form, then lcm(a,b) =a*b, right?  So this is just a*b when a,b are in reduced form.  So this should be benedetti().  https://en.wikipedia.org/wiki/Giambattista_Benedetti#Music\n",
    "    product(*reduced_form(a,b))\n",
    "    \n",
    "    http://xenharmonic.wikispaces.com/Benedetti+height\n",
    "    \n",
    "    \"\"\"\n",
    "    return lcm(a / gcd(a, b), b / gcd(a, b));\n",
    "\n",
    "\n",
    "def tenney(a, b):\n",
    "    \"\"\"Return Tenney's harmonic distance of a musical interval of ratio a:b\n",
    "    \n",
    "    \"Tenney's HD function, in one of its simplest forms, is perhaps the most \n",
    "    direct. It is HD(a/b) = log(ab)\"\n",
    "    \n",
    "    Also called \"Tenney height\" with log2: http://xenharmonic.wikispaces.com/Tenney+Height\n",
    "    Tenney's paper says \"harmonic distance\" and \"log\", but relates it to a lattice so maybe the log2 is implied?\n",
    "    \n",
    "    http://lumma.org/tuning/faq/#heights says\n",
    "    Of these, the product of numerator and denominator, often\n",
    "    written n*d, for a ratio n/d in lowest terms, has been found to\n",
    "    best agree with informal rankings by listeners as well as\n",
    "    published psychoacoustic data.  \n",
    "    \n",
    "    The n*d rule is also called Tenney height, after James Tenney^1,\n",
    "    \n",
    "    Tenney height generalizes to geomean(a*b*c...) for a chord\n",
    "    a:b:c..., which gives sqrt(n*d) for dyads.\n",
    "    \n",
    "    \"\"\"\n",
    "    return log(product(*reduced_form(a,b)));"
   ]
  },
  {
   "cell_type": "markdown",
   "metadata": {},
   "source": [
    "## Dissonance curve from Sethares"
   ]
  },
  {
   "cell_type": "code",
   "execution_count": 161,
   "metadata": {},
   "outputs": [
    {
     "data": {
      "text/plain": [
       "1.022126263286898"
      ]
     },
     "execution_count": 161,
     "metadata": {},
     "output_type": "execute_result"
    }
   ],
   "source": [
    "from dissonant import harmonic_tone, dissonance, pitch_to_freq\n",
    "freqs, amps = harmonic_tone(pitch_to_freq([0, 2.5, 7, 12]), n_partials=10)\n",
    "d = dissonance(freqs, amps, model='sethares1993')\n",
    "d"
   ]
  },
  {
   "cell_type": "markdown",
   "metadata": {},
   "source": [
    "# PyTuning"
   ]
  },
  {
   "cell_type": "code",
   "execution_count": 151,
   "metadata": {},
   "outputs": [
    {
     "ename": "NameError",
     "evalue": "name 'harm_ratios' is not defined",
     "output_type": "error",
     "traceback": [
      "\u001b[1;31m---------------------------------------------------------------------------\u001b[0m",
      "\u001b[1;31mNameError\u001b[0m                                 Traceback (most recent call last)",
      "\u001b[1;32m<ipython-input-151-7a6df3cc9ac4>\u001b[0m in \u001b[0;36m<module>\u001b[1;34m\u001b[0m\n\u001b[0;32m      6\u001b[0m \u001b[1;33m\u001b[0m\u001b[0m\n\u001b[0;32m      7\u001b[0m \u001b[0mx\u001b[0m \u001b[1;33m=\u001b[0m \u001b[0mpt\u001b[0m\u001b[1;33m.\u001b[0m\u001b[0mfind_best_modes\u001b[0m\u001b[1;33m(\u001b[0m\u001b[0mpeak_ratios_rebound\u001b[0m\u001b[1;33m,\u001b[0m \u001b[1;36m7\u001b[0m\u001b[1;33m)\u001b[0m\u001b[1;33m\u001b[0m\u001b[1;33m\u001b[0m\u001b[0m\n\u001b[1;32m----> 8\u001b[1;33m \u001b[0mx\u001b[0m \u001b[1;33m=\u001b[0m \u001b[0mpt\u001b[0m\u001b[1;33m.\u001b[0m\u001b[0mfind_best_modes\u001b[0m\u001b[1;33m(\u001b[0m\u001b[0mharm_ratios\u001b[0m\u001b[1;33m[\u001b[0m\u001b[1;36m0\u001b[0m\u001b[1;33m]\u001b[0m\u001b[1;33m,\u001b[0m \u001b[1;36m7\u001b[0m\u001b[1;33m)\u001b[0m\u001b[1;33m\u001b[0m\u001b[1;33m\u001b[0m\u001b[0m\n\u001b[0m\u001b[0;32m      9\u001b[0m \u001b[0mx\u001b[0m\u001b[1;33m\u001b[0m\u001b[1;33m\u001b[0m\u001b[0m\n\u001b[0;32m     10\u001b[0m \u001b[1;31m#major_mask = (0,2,4,5,7,9,11,12)\u001b[0m\u001b[1;33m\u001b[0m\u001b[1;33m\u001b[0m\u001b[1;33m\u001b[0m\u001b[0m\n",
      "\u001b[1;31mNameError\u001b[0m: name 'harm_ratios' is not defined"
     ]
    }
   ],
   "source": [
    "import pytuning as pt\n",
    "import sympy as sp\n",
    "from pytuning.scales import create_edo_scale\n",
    "edo_12_scale = create_edo_scale(53)\n",
    "edo_12_scale\n",
    "\n",
    "x = pt.find_best_modes(peak_ratios_rebound, 7)\n",
    "x = pt.find_best_modes(harm_ratios[0], 7)\n",
    "x\n",
    "#major_mask = (0,2,4,5,7,9,11,12)\n",
    "#major_mode = mask_scale(edo_12_scale, major_mask)\n",
    "#major_mode"
   ]
  },
  {
   "cell_type": "code",
   "execution_count": 90,
   "metadata": {},
   "outputs": [
    {
     "data": {
      "text/plain": [
       "[1.0, 2.0, 1.75, 1.5, 1.25, 1.125, 1.375]"
      ]
     },
     "execution_count": 90,
     "metadata": {},
     "output_type": "execute_result"
    }
   ],
   "source": [
    "#This function is similar to the harmonic_tuning function built in BioTuning Package\n",
    "\n",
    "from pytuning.scales import create_harmonic_scale\n",
    "scale = create_harmonic_scale(1,20)\n",
    "scale\n",
    "\n",
    "h, i = harmonic_tuning(12, 2)\n",
    "h\n",
    "\n"
   ]
  },
  {
   "cell_type": "code",
   "execution_count": null,
   "metadata": {},
   "outputs": [],
   "source": [
    "#Computes ratios of the harmonic scale\n",
    "\n",
    "harm_ratios = compute_peak_ratios(h)\n",
    "harm_ratios[0]"
   ]
  },
  {
   "cell_type": "code",
   "execution_count": null,
   "metadata": {},
   "outputs": [],
   "source": [
    "h = EEG_harmonics_mult(peaks, 12, 0)\n",
    "h"
   ]
  },
  {
   "cell_type": "code",
   "execution_count": 99,
   "metadata": {},
   "outputs": [
    {
     "data": {
      "text/plain": [
       "[1.0,\n",
       " 1.05349794238683,\n",
       " 1.12500000000000,\n",
       " 1.18518518518518,\n",
       " 1.26562500000000,\n",
       " 1.33333333333333,\n",
       " 1.40466392318244,\n",
       " 1.5,\n",
       " 1.58024691358025,\n",
       " 1.68750000000000,\n",
       " 1.77777777777778,\n",
       " 1.89843750000000,\n",
       " 2]"
      ]
     },
     "execution_count": 99,
     "metadata": {},
     "output_type": "execute_result"
    }
   ],
   "source": [
    "z = pt.scales.create_equal_interval_scale(3/2, scale_size=12)\n",
    "z"
   ]
  },
  {
   "cell_type": "code",
   "execution_count": 111,
   "metadata": {},
   "outputs": [
    {
     "data": {
      "text/plain": [
       "[1.0136432647705078,\n",
       " 1.06787109375,\n",
       " 1.125,\n",
       " 1.20135498046875,\n",
       " 1.265625,\n",
       " 1.3515243530273438,\n",
       " 1.423828125,\n",
       " 1.5,\n",
       " 1.601806640625,\n",
       " 1.6875,\n",
       " 1.802032470703125,\n",
       " 1.8984375]"
      ]
     },
     "execution_count": 111,
     "metadata": {},
     "output_type": "execute_result"
    }
   ],
   "source": [
    "sorted(ratios_tet)"
   ]
  },
  {
   "cell_type": "code",
   "execution_count": 406,
   "metadata": {},
   "outputs": [
    {
     "data": {
      "text/plain": [
       "[2, 8, 11, 18, 29, 33]"
      ]
     },
     "execution_count": 406,
     "metadata": {},
     "output_type": "execute_result"
    }
   ],
   "source": [
    "intervals     = [22, 5, 9, 15]\n",
    "multiplicities = [1,1,1,1]\n",
    "scale         = pt.scales.create_euler_fokker_scale(intervals, multiplicities)\n",
    "scale"
   ]
  },
  {
   "cell_type": "code",
   "execution_count": 162,
   "metadata": {},
   "outputs": [
    {
     "data": {
      "text/plain": [
       "2.7776241368618715"
      ]
     },
     "execution_count": 162,
     "metadata": {},
     "output_type": "execute_result"
    }
   ],
   "source": [
    "3/2**(1/9)"
   ]
  },
  {
   "cell_type": "markdown",
   "metadata": {},
   "source": [
    "## PyAudio"
   ]
  },
  {
   "cell_type": "code",
   "execution_count": null,
   "metadata": {},
   "outputs": [],
   "source": [
    "def notes2play(array, fund):\n",
    "    scale2play = []\n",
    "    scale2play = [fund*x for x in array]\n",
    "    \n",
    "    return scale2play\n",
    "    "
   ]
  },
  {
   "cell_type": "code",
   "execution_count": null,
   "metadata": {},
   "outputs": [],
   "source": []
  },
  {
   "cell_type": "code",
   "execution_count": null,
   "metadata": {},
   "outputs": [],
   "source": [
    "import pyaudio\n",
    "import struct\n",
    "import math\n",
    "\n",
    "FORMAT = pyaudio.paInt16\n",
    "CHANNELS = 2\n",
    "RATE = 44100\n",
    "\n",
    "p = pyaudio.PyAudio()\n",
    "\n",
    "\n",
    "def data_for_freq(frequency: float, time: float = None):\n",
    "    \"\"\"get frames for a fixed frequency for a specified time or\n",
    "    number of frames, if frame_count is specified, the specified\n",
    "    time is ignored\"\"\"\n",
    "    frame_count = int(RATE * time)\n",
    "\n",
    "    remainder_frames = frame_count % RATE\n",
    "    wavedata = []\n",
    "\n",
    "    for i in range(frame_count):\n",
    "        a = RATE / frequency  # number of frames per wave\n",
    "        b = i / a\n",
    "        # explanation for b\n",
    "        # considering one wave, what part of the wave should this be\n",
    "        # if we graph the sine wave in a\n",
    "        # displacement vs i graph for the particle\n",
    "        # where 0 is the beginning of the sine wave and\n",
    "        # 1 the end of the sine wave\n",
    "        # which part is \"i\" is denoted by b\n",
    "        # for clarity you might use\n",
    "        # though this is redundant since math.sin is a looping function\n",
    "        # b = b - int(b)\n",
    "\n",
    "        c = b * (2 * math.pi)\n",
    "        # explanation for c\n",
    "        # now we map b to between 0 and 2*math.PI\n",
    "        # since 0 - 2*PI, 2*PI - 4*PI, ...\n",
    "        # are the repeating domains of the sin wave (so the decimal values will\n",
    "        # also be mapped accordingly,\n",
    "        # and the integral values will be multiplied\n",
    "        # by 2*PI and since sin(n*2*PI) is zero where n is an integer)\n",
    "        d = math.sin(c) * 32767\n",
    "        e = int(d)\n",
    "        wavedata.append(e)\n",
    "\n",
    "    for i in range(remainder_frames):\n",
    "        wavedata.append(0)\n",
    "\n",
    "    number_of_bytes = str(len(wavedata))  \n",
    "    wavedata = struct.pack(number_of_bytes + 'h', *wavedata)\n",
    "\n",
    "    return wavedata\n",
    "\n",
    "\n",
    "def play(frequency: float, time: float):\n",
    "    \"\"\"\n",
    "    play a frequency for a fixed time!\n",
    "    \"\"\"\n",
    "    frames = data_for_freq(frequency, time)\n",
    "    stream = p.open(format=FORMAT, channels=CHANNELS, rate=RATE, output=True)\n",
    "    stream.write(frames)\n",
    "    stream.stop_stream()\n",
    "    stream.close()\n",
    "\n",
    "\n",
    "#if __name__ == \"__main__\":\n",
    "    \n",
    "    \n",
    "        \n"
   ]
  },
  {
   "cell_type": "code",
   "execution_count": null,
   "metadata": {},
   "outputs": [],
   "source": [
    "scale2play = notes2play(d, 100)\n",
    "scale2play\n",
    "for i in scale2play:\n",
    "    play(i, 1)\n",
    "    "
   ]
  }
 ],
 "metadata": {
  "kernelspec": {
   "display_name": "Python 3",
   "language": "python",
   "name": "python3"
  },
  "language_info": {
   "codemirror_mode": {
    "name": "ipython",
    "version": 3
   },
   "file_extension": ".py",
   "mimetype": "text/x-python",
   "name": "python",
   "nbconvert_exporter": "python",
   "pygments_lexer": "ipython3",
   "version": "3.7.4"
  }
 },
 "nbformat": 4,
 "nbformat_minor": 2
}
