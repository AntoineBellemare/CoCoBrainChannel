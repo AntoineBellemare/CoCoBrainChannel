{
 "cells": [
  {
   "cell_type": "code",
   "execution_count": 13,
   "metadata": {},
   "outputs": [],
   "source": [
    "\n",
    "#from entropy import spectral_entropy\n",
    "import numpy as np\n",
    "import nolds\n",
    "from scipy.io import wavfile\n",
    "import neurokit as nk\n",
    "from neurokit import complexity"
   ]
  },
  {
   "cell_type": "code",
   "execution_count": 6,
   "metadata": {},
   "outputs": [],
   "source": [
    "##Import audio signal\n",
    "\n",
    "path = r'E:\\EEG_SONIFICATION\\Online\\Biological_Tunings\\Extraits_BioTunings'\n",
    "#fs, data = wavfile.read(path + '\\test.wav')\n",
    "fs2, data2 = wavfile.read(path + '\\..hello3.wav')"
   ]
  },
  {
   "cell_type": "code",
   "execution_count": 7,
   "metadata": {},
   "outputs": [],
   "source": [
    "#file = data[:, 0]\n",
    "file2 = data2[:, 0]"
   ]
  },
  {
   "cell_type": "code",
   "execution_count": 9,
   "metadata": {},
   "outputs": [],
   "source": [
    "test = complexity(file2, sampling_rate=fs2, shannon=False, sampen=False, multiscale=False, spectral=False, svd=True, correlation=False, higushi=False, petrosian=False, fisher=False, hurst=True, dfa=False, lyap_r=False, lyap_e=False, emb_dim=2, tolerance=\"default\", k_max=8, bands=None, tau=1)"
   ]
  },
  {
   "cell_type": "code",
   "execution_count": 10,
   "metadata": {},
   "outputs": [
    {
     "data": {
      "text/plain": [
       "{'Entropy_SVD': 0.18756851113288361, 'Hurst': 0.2451553522043659}"
      ]
     },
     "execution_count": 10,
     "metadata": {},
     "output_type": "execute_result"
    }
   ],
   "source": [
    "test"
   ]
  },
  {
   "cell_type": "code",
   "execution_count": null,
   "metadata": {},
   "outputs": [],
   "source": [
    "np.random.seed(42)\n",
    "x = np.random.rand(3000)\n",
    "spectral_entropy(x, sf=100, method='welch')"
   ]
  },
  {
   "cell_type": "code",
   "execution_count": 14,
   "metadata": {},
   "outputs": [],
   "source": [
    "###MARKOV CHAINS###"
   ]
  },
  {
   "cell_type": "code",
   "execution_count": 53,
   "metadata": {},
   "outputs": [],
   "source": [
    "import numpy as np\n",
    "import pandas as pd\n",
    "from collections import Counter\n",
    "np.random.seed(42)\n",
    "\n",
    "# read file\n",
    "data = [[0, 1], [1, 2], [3, 4], [6, 8], [5, 6]]\n",
    "data = [0, 2, 3, 4, 5, 6, 3, 5, 2, 7, 5, 3, 6, 5, 4, 2, 7, 6, 8, 7, 5, 7, 6, 7, 5, 5, 2,]\n",
    "data_str = [str(x) for x in data] "
   ]
  },
  {
   "cell_type": "code",
   "execution_count": 59,
   "metadata": {},
   "outputs": [
    {
     "data": {
      "text/plain": [
       "['0 2', '2 3', '3 4', '4 5', '5 6']"
      ]
     },
     "execution_count": 59,
     "metadata": {},
     "output_type": "execute_result"
    }
   ],
   "source": [
    "n = 2\n",
    "#chords = data['chords'].values\n",
    "ngrams = zip(*[data_str[i:] for i in range(n)])\n",
    "bigrams = [\" \".join(ngram) for ngram in ngrams]\n",
    "\n",
    "bigrams[:5]"
   ]
  },
  {
   "cell_type": "code",
   "execution_count": 60,
   "metadata": {},
   "outputs": [],
   "source": [
    "##Predict next state##\n",
    "\n",
    "def predict_next_state(chord:str, data:list=bigrams):\n",
    "    \"\"\"Predict next chord based on current state.\"\"\"\n",
    "    # create list of bigrams which stats with current chord\n",
    "    bigrams_with_current_chord = [bigram for bigram in bigrams if bigram.split(' ')[0]==chord]\n",
    "    # count appearance of each bigram\n",
    "    count_appearance = dict(Counter(bigrams_with_current_chord))\n",
    "    # convert apperance into probabilities\n",
    "    for ngram in count_appearance.keys():\n",
    "        count_appearance[ngram] = count_appearance[ngram]/len(bigrams_with_current_chord)\n",
    "    # create list of possible options for the next chord\n",
    "    options = [key.split(' ')[1] for key in count_appearance.keys()]\n",
    "    # create  list of probability distribution\n",
    "    probabilities = list(count_appearance.values())\n",
    "    # return random prediction\n",
    "    return np.random.choice(options, p=probabilities)"
   ]
  },
  {
   "cell_type": "code",
   "execution_count": 61,
   "metadata": {},
   "outputs": [],
   "source": [
    "def generate_sequence(chord:str=None, data:list=bigrams, length:int=30):\n",
    "    \"\"\"Generate sequence of defined length.\"\"\"\n",
    "    # create list to store future chords\n",
    "    chords = []\n",
    "    for n in range(length):\n",
    "        # append next chord for the list\n",
    "        chords.append(predict_next_state(chord, bigrams))\n",
    "        # use last chord in sequence to predict next chord\n",
    "        chord = chords[-1]\n",
    "    return chords"
   ]
  },
  {
   "cell_type": "code",
   "execution_count": 63,
   "metadata": {},
   "outputs": [
    {
     "data": {
      "text/plain": [
       "['2',\n",
       " '3',\n",
       " '6',\n",
       " '7',\n",
       " '6',\n",
       " '5',\n",
       " '6',\n",
       " '8',\n",
       " '7',\n",
       " '5',\n",
       " '3',\n",
       " '4',\n",
       " '2',\n",
       " '3',\n",
       " '5',\n",
       " '2',\n",
       " '7',\n",
       " '5',\n",
       " '2',\n",
       " '7',\n",
       " '6',\n",
       " '7',\n",
       " '6',\n",
       " '8',\n",
       " '7',\n",
       " '5',\n",
       " '2',\n",
       " '3',\n",
       " '4',\n",
       " '5']"
      ]
     },
     "execution_count": 63,
     "metadata": {},
     "output_type": "execute_result"
    }
   ],
   "source": [
    "generate_sequence('0')\n",
    "#predict_next_state('2', bigrams)"
   ]
  }
 ],
 "metadata": {
  "kernelspec": {
   "display_name": "Python 3",
   "language": "python",
   "name": "python3"
  },
  "language_info": {
   "codemirror_mode": {
    "name": "ipython",
    "version": 3
   },
   "file_extension": ".py",
   "mimetype": "text/x-python",
   "name": "python",
   "nbconvert_exporter": "python",
   "pygments_lexer": "ipython3",
   "version": "3.7.4"
  }
 },
 "nbformat": 4,
 "nbformat_minor": 2
}
