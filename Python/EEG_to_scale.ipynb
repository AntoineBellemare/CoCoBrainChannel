{
 "cells": [
  {
   "cell_type": "code",
   "execution_count": 2,
   "metadata": {},
   "outputs": [
    {
     "name": "stderr",
     "output_type": "stream",
     "text": [
      "C:\\Users\\Antoine\\anaconda3\\lib\\site-packages\\sympy\\__init__.py:672: SymPyDeprecationWarning: \n",
      "\n",
      "importing sympy.core.power with 'from sympy import *' has been\n",
      "deprecated since SymPy 1.6. Use import sympy.core.power instead. See\n",
      "https://github.com/sympy/sympy/issues/18245 for more info.\n",
      "\n",
      "  self.Warn(\n"
     ]
    }
   ],
   "source": [
    "import pandas as pd\n",
    "import scipy.io as sio\n",
    "from scipy.io import savemat, loadmat\n",
    "from EEG_pareidolia_utils import get_pareidolia_bids, reformat_events\n",
    "from biotuner_utils import *\n",
    "from biotuner_offline import *\n",
    "from biotuner import *\n",
    "import pyACA\n",
    "import mne\n",
    "from mne.datasets.brainstorm import bst_raw\n",
    "from mne.time_frequency import tfr_morlet, psd_multitaper, psd_welch\n",
    "import numpy as np\n",
    "import matplotlib.pyplot as plt\n",
    "from scipy import stats\n",
    "import scipy.io as sio\n",
    "import seaborn as sbn\n",
    "import pytuning as pt"
   ]
  },
  {
   "cell_type": "code",
   "execution_count": 3,
   "metadata": {},
   "outputs": [
    {
     "name": "stdout",
     "output_type": "stream",
     "text": [
      "Reading C:/Users/Antoine/github/Data_EEG/pareidolia_run1.fif ...\n"
     ]
    },
    {
     "name": "stderr",
     "output_type": "stream",
     "text": [
      "<ipython-input-3-f015be7621b3>:3: RuntimeWarning: This filename (C:/Users/Antoine/github/Data_EEG/pareidolia_run1.fif) does not conform to MNE naming conventions. All epochs files should end with -epo.fif, -epo.fif.gz, _epo.fif or _epo.fif.gz\n",
      "  epochs = mne.read_epochs(path)\n"
     ]
    },
    {
     "name": "stdout",
     "output_type": "stream",
     "text": [
      "    Found the data of interest:\n",
      "        t =   -1500.00 ...    8000.00 ms\n",
      "        0 CTF compensation matrices available\n",
      "Not setting metadata\n",
      "Not setting metadata\n",
      "104 matching events found\n",
      "No baseline correction applied\n",
      "0 projection items activated\n",
      "Applying baseline correction (mode: mean)\n",
      "Setting up band-pass filter from 0.1 - 1e+02 Hz\n",
      "\n",
      "FIR filter parameters\n",
      "---------------------\n",
      "Designing a one-pass, zero-phase, non-causal bandpass filter:\n",
      "- Windowed time-domain design (firwin) method\n",
      "- Hamming window with 0.0194 passband ripple and 53 dB stopband attenuation\n",
      "- Lower passband edge: 0.10\n",
      "- Lower transition bandwidth: 0.10 Hz (-6 dB cutoff frequency: 0.05 Hz)\n",
      "- Upper passband edge: 100.00 Hz\n",
      "- Upper transition bandwidth: 25.00 Hz (-6 dB cutoff frequency: 112.50 Hz)\n",
      "- Filter length: 33001 samples (33.001 sec)\n",
      "\n"
     ]
    },
    {
     "name": "stderr",
     "output_type": "stream",
     "text": [
      "<ipython-input-3-f015be7621b3>:6: RuntimeWarning: filter_length (33001) is longer than the signal (9501), distortion is likely. Reduce filter length or filter a longer signal.\n",
      "  epochs = epochs.filter(0.1, 100)\n"
     ]
    }
   ],
   "source": [
    "#path = '../../pareidolia_run4.fif'\n",
    "path = 'C:/Users/Antoine/github/Data_EEG/pareidolia_run1.fif'\n",
    "epochs = mne.read_epochs(path)\n",
    "epochs = epochs.copy().apply_baseline((-1.5, -0.1))\n",
    "#epochs2 = epochs2.crop(0.5, 7.5)\n",
    "epochs = epochs.filter(0.1, 100)"
   ]
  },
  {
   "cell_type": "code",
   "execution_count": 10,
   "metadata": {},
   "outputs": [
    {
     "data": {
      "text/plain": [
       "(84, 9501)"
      ]
     },
     "execution_count": 10,
     "metadata": {},
     "output_type": "execute_result"
    }
   ],
   "source": [
    "epochs.get_data()[:, 0, :].shape"
   ]
  },
  {
   "cell_type": "code",
   "execution_count": 130,
   "metadata": {
    "scrolled": true
   },
   "outputs": [
    {
     "name": "stdout",
     "output_type": "stream",
     "text": [
      "Applying baseline correction (mode: mean)\n",
      "(104, 114, 7001)\n",
      "7000\n",
      "4000\n",
      "Effective window size : 4.000 (s)\n",
      "5\n",
      "Effective window size : 4.000 (s)\n",
      "16\n",
      "Effective window size : 4.000 (s)\n",
      "11\n",
      "Effective window size : 4.000 (s)\n",
      "18\n",
      "Effective window size : 4.000 (s)\n",
      "48\n",
      "Effective window size : 4.000 (s)\n",
      "4\n"
     ]
    },
    {
     "data": {
      "text/plain": [
       "[2.2, 7.0, 9.8, 16.5, 30.0, 31.0]"
      ]
     },
     "execution_count": 130,
     "metadata": {},
     "output_type": "execute_result"
    }
   ],
   "source": [
    "#####COMPUTE PEAKS#####\n",
    "\n",
    "from biotuner_offline import *\n",
    "par = ['Image_on_par_high', 'Image_on_par_mid', 'Image_on_par_low']\n",
    "nopar = ['Image_on_nopar_high', 'Image_on_nopar_mid', 'Image_on_nopar_low']\n",
    "condition = par\n",
    "ch = ['E10']\n",
    "dim_reduc = 'avg' #Mode could either be 'avg' or 'mode'\n",
    "precision = 0.25   #Default precision is 0.125Hz\n",
    "FREQ_BANDS = [[1, 3], [3, 7], [7, 12], [12, 18],[18, 30], [30, 50]]\n",
    "#peaks= compute_peaks(epochs.copy(), condition, ch, FREQ_BANDS, tmin = 0.5, tmax = 7.5, precision = precision, sf =1000)\n",
    "peaks= compute_peaks_avg(epochs.copy(), condition, ch, FREQ_BANDS, dim_reduc = dim_reduc, tmin = 0.5, tmax = 7.5, precision = precision, sf =1000)\n",
    "peaks = peaks.tolist()\n",
    "peaks"
   ]
  },
  {
   "cell_type": "code",
   "execution_count": 131,
   "metadata": {},
   "outputs": [
    {
     "data": {
      "text/plain": [
       "65"
      ]
     },
     "execution_count": 131,
     "metadata": {},
     "output_type": "execute_result"
    }
   ],
   "source": [
    "peaks.insert(0, 1)\n",
    "peaks_euler = [int(x*10) for x in peaks]\n",
    "euler(peaks_euler[0], peaks_euler[1], peaks_euler[2], peaks_euler[3], peaks_euler[4], peaks_euler[5], peaks_euler[6])"
   ]
  },
  {
   "cell_type": "code",
   "execution_count": 132,
   "metadata": {},
   "outputs": [
    {
     "data": {
      "text/plain": [
       "[10, 22, 70, 98, 165, 300, 310]"
      ]
     },
     "execution_count": 132,
     "metadata": {},
     "output_type": "execute_result"
    }
   ],
   "source": []
  },
  {
   "cell_type": "code",
   "execution_count": null,
   "metadata": {},
   "outputs": [],
   "source": [
    "x, ratios = compute_peak_ratios(peaks)"
   ]
  },
  {
   "cell_type": "code",
   "execution_count": 60,
   "metadata": {},
   "outputs": [
    {
     "data": {
      "text/plain": [
       "array([ 3. ,  7.2, 16.8, 27.2, 32.2])"
      ]
     },
     "execution_count": 60,
     "metadata": {},
     "output_type": "execute_result"
    }
   ],
   "source": [
    "peaks[1:]"
   ]
  },
  {
   "cell_type": "code",
   "execution_count": 61,
   "metadata": {},
   "outputs": [
    {
     "data": {
      "text/plain": [
       "array([[  3. ,   6. ,   9. ,  12. ,  15. ,  18. ,  21. ,  24. ,  27. ,\n",
       "         30. ,  33. ,  36. ,  39. ,  42. ,  45. ,  48. ,  51. ,  54. ,\n",
       "         57. ,  60. ,  63. ],\n",
       "       [  7.2,  14.4,  21.6,  28.8,  36. ,  43.2,  50.4,  57.6,  64.8,\n",
       "         72. ,  79.2,  86.4,  93.6, 100.8, 108. , 115.2, 122.4, 129.6,\n",
       "        136.8, 144. , 151.2],\n",
       "       [ 16.8,  33.6,  50.4,  67.2,  84. , 100.8, 117.6, 134.4, 151.2,\n",
       "        168. , 184.8, 201.6, 218.4, 235.2, 252. , 268.8, 285.6, 302.4,\n",
       "        319.2, 336. , 352.8],\n",
       "       [ 27.2,  54.4,  81.6, 108.8, 136. , 163.2, 190.4, 217.6, 244.8,\n",
       "        272. , 299.2, 326.4, 353.6, 380.8, 408. , 435.2, 462.4, 489.6,\n",
       "        516.8, 544. , 571.2],\n",
       "       [ 32.2,  64.4,  96.6, 128.8, 161. , 193.2, 225.4, 257.6, 289.8,\n",
       "        322. , 354.2, 386.4, 418.6, 450.8, 483. , 515.2, 547.4, 579.6,\n",
       "        611.8, 644. , 676.2]])"
      ]
     },
     "execution_count": 61,
     "metadata": {},
     "output_type": "execute_result"
    }
   ],
   "source": [
    "EEG_harmonics_mult(peaks[1:], 20, n_oct_up = 0)"
   ]
  },
  {
   "cell_type": "code",
   "execution_count": 67,
   "metadata": {},
   "outputs": [
    {
     "data": {
      "text/plain": [
       "[6.55, 30.8, 61.6, 130.0, 156.0, 60.0, 120.0, 180.0, 240.0, 300.0]"
      ]
     },
     "execution_count": 67,
     "metadata": {},
     "output_type": "execute_result"
    }
   ],
   "source": [
    "harmonic_fit(peaks[:], 30, 0.2, 'mult')"
   ]
  },
  {
   "cell_type": "code",
   "execution_count": 45,
   "metadata": {},
   "outputs": [
    {
     "data": {
      "text/plain": [
       "array([ 3.2,  9.5, 13. , 25.8, 31.8])"
      ]
     },
     "execution_count": 45,
     "metadata": {},
     "output_type": "execute_result"
    }
   ],
   "source": [
    "peaks[1:]"
   ]
  },
  {
   "cell_type": "code",
   "execution_count": 77,
   "metadata": {},
   "outputs": [
    {
     "data": {
      "text/plain": [
       "[1,\n",
       " 1.2777777777777777,\n",
       " 1.2916666666666667,\n",
       " 1.3333333333333333,\n",
       " 1.3478260869565217,\n",
       " 1.5,\n",
       " 1.7222222222222223,\n",
       " 1.9166666666666667,\n",
       " 1.9375,\n",
       " 1.978494623655914,\n",
       " 2.0]"
      ]
     },
     "execution_count": 77,
     "metadata": {},
     "output_type": "execute_result"
    }
   ],
   "source": [
    "#ratios of harmonic fits\n",
    "\n",
    "z, charm_fit = compute_peak_ratios(harmonic_fit(peaks[1:], 30, 0.1, 'mult'))\n",
    "charm_fit\n",
    "\n",
    "list_remove = []\n",
    "for r in range(len(charm_fit)-1):\n",
    "    if charm_fit[r+1]-charm_fit[r] < 0.01:\n",
    "        list_remove.append(charm_fit[r])        \n",
    "charm_fit = [ele for ele in charm_fit if ele not in list_remove] \n",
    "    \n",
    "charm_fit.insert(0, 1)\n",
    "    \n",
    "charm_fit"
   ]
  },
  {
   "cell_type": "code",
   "execution_count": 62,
   "metadata": {},
   "outputs": [
    {
     "data": {
      "text/plain": [
       "array([ 2.2,  6.5, 10. , 12. , 21.5, 30.8])"
      ]
     },
     "execution_count": 62,
     "metadata": {},
     "output_type": "execute_result"
    }
   ],
   "source": [
    "peaks"
   ]
  },
  {
   "cell_type": "code",
   "execution_count": 66,
   "metadata": {},
   "outputs": [
    {
     "data": {
      "text/plain": [
       "[1,\n",
       " 19845/16384,\n",
       " 315/256,\n",
       " 1323/1024,\n",
       " 21/16,\n",
       " 45/32,\n",
       " 3/2,\n",
       " 6615/4096,\n",
       " 441/256,\n",
       " 945/512,\n",
       " 15/8,\n",
       " 63/32,\n",
       " 2]"
      ]
     },
     "execution_count": 66,
     "metadata": {},
     "output_type": "execute_result"
    }
   ],
   "source": [
    "from pytuning import *\n",
    "intervals     = peaks[3:]\n",
    "multiplicities = [1,2,1,3,2]\n",
    "scale1        = create_euler_fokker_scale(intervals, multiplicities)\n",
    "scale1"
   ]
  },
  {
   "cell_type": "code",
   "execution_count": 93,
   "metadata": {},
   "outputs": [
    {
     "data": {
      "text/plain": [
       "array([ 1. ,  3. ,  7.2, 16.8, 27.2, 32.2])"
      ]
     },
     "execution_count": 93,
     "metadata": {},
     "output_type": "execute_result"
    }
   ],
   "source": [
    "peaks"
   ]
  },
  {
   "cell_type": "code",
   "execution_count": 56,
   "metadata": {},
   "outputs": [
    {
     "data": {
      "text/plain": [
       "[{'scale': [1, 5/4, 3/2, 15/8, 2],\n",
       "  'mask': (0, 6, 12, 18, 20),\n",
       "  'steps': [6, 6, 6, 2],\n",
       "  'original_scale': [1,\n",
       "   135/128,\n",
       "   9/8,\n",
       "   4725/4096,\n",
       "   75/64,\n",
       "   315/256,\n",
       "   5/4,\n",
       "   21/16,\n",
       "   675/512,\n",
       "   2835/2048,\n",
       "   45/32,\n",
       "   189/128,\n",
       "   3/2,\n",
       "   1575/1024,\n",
       "   105/64,\n",
       "   14175/8192,\n",
       "   225/128,\n",
       "   945/512,\n",
       "   15/8,\n",
       "   63/32,\n",
       "   2],\n",
       "  'sum_p_q': 42,\n",
       "  'sum_distinct_intervals': 8,\n",
       "  'metric_3': 8.14285714285714,\n",
       "  'sum_p_q_for_all_intervals': 107,\n",
       "  'sum_q_for_all_intervals': 45}]"
      ]
     },
     "execution_count": 56,
     "metadata": {},
     "output_type": "execute_result"
    }
   ],
   "source": [
    "x = pt.find_best_modes(scale1, 4)\n",
    "x"
   ]
  },
  {
   "cell_type": "code",
   "execution_count": 57,
   "metadata": {},
   "outputs": [],
   "source": [
    "create_SCL(scale1, 'eeg_euler_fokker-01')"
   ]
  },
  {
   "cell_type": "code",
   "execution_count": 86,
   "metadata": {},
   "outputs": [
    {
     "data": {
      "text/plain": [
       "201"
      ]
     },
     "execution_count": 86,
     "metadata": {},
     "output_type": "execute_result"
    }
   ],
   "source": [
    "peaks_euler = [int(x*100) for x in peaks]\n",
    "euler(peaks_euler[1], peaks_euler[2], peaks_euler[3], peaks_euler[4], peaks_euler[5])"
   ]
  },
  {
   "cell_type": "code",
   "execution_count": 78,
   "metadata": {},
   "outputs": [],
   "source": [
    "##EULER##\n",
    "\n",
    "from fractions import Fraction\n",
    "from math import log\n",
    "from functools import reduce\n",
    "def gcd(*numbers):\n",
    "    \"\"\"\n",
    "    Return the greatest common divisor of the given integers\n",
    "    The result will have the same sign as the last number given (so that\n",
    "    when the last number is divided by the result, the result comes out\n",
    "    positive).\n",
    "    \"\"\"\n",
    "    def gcd(a, b):\n",
    "        while b:\n",
    "            a, b = b, a % b\n",
    "        return a\n",
    "\n",
    "    return reduce(gcd, numbers)\n",
    "def reduced_form(*numbers):\n",
    "    \"\"\"\n",
    "    Return a tuple of numbers which is the reduced form of the input,\n",
    "    which is a list of integers\n",
    "    \"\"\"\n",
    "    return tuple(int(a // gcd(*numbers)) for a in numbers)\n",
    "def lcm(*numbers):\n",
    "    \"\"\"\n",
    "    Return the least common multiple of the given integers\n",
    "    \"\"\"\n",
    "    def lcm(a, b):\n",
    "        if a == b == 0:\n",
    "            return 0\n",
    "        return (a * b) // gcd(a, b)\n",
    "\n",
    "    # LCM(a, b, c, d) = LCM(a, LCM(b, LCM(c, d)))\n",
    "    return reduce(lcm, numbers)\n",
    "def prime_factors(n):\n",
    "    \"\"\"\n",
    "    Return a list of the prime factors of the integer n.\n",
    "    Don't use this for big numbers; it's a dumb brute-force method.\n",
    "    \"\"\"\n",
    "    factors = []\n",
    "    lastresult = n\n",
    "\n",
    "    while lastresult > 1:\n",
    "        c = 2\n",
    "        while lastresult % c > 0:\n",
    "            c += 1\n",
    "        factors.append(c)\n",
    "        lastresult /= c\n",
    "\n",
    "    return factors\n",
    "def euler(*numbers):\n",
    "    \"\"\"\n",
    "    Euler's \"gradus suavitatis\" (degree of sweetness) function\n",
    "    Return the \"degree of sweetness\" of a musical interval or chord expressed\n",
    "    as a ratio of frequencies a:b:c, according to Euler's formula\n",
    "    Greater values indicate more dissonance\n",
    "    \"\"\"\n",
    "    factors = prime_factors(lcm(*reduced_form(*numbers)))\n",
    "    return 1 + sum(p - 1 for p in factors)"
   ]
  }
 ],
 "metadata": {
  "kernelspec": {
   "display_name": "Python 3",
   "language": "python",
   "name": "python3"
  },
  "language_info": {
   "codemirror_mode": {
    "name": "ipython",
    "version": 3
   },
   "file_extension": ".py",
   "mimetype": "text/x-python",
   "name": "python",
   "nbconvert_exporter": "python",
   "pygments_lexer": "ipython3",
   "version": "3.7.4"
  }
 },
 "nbformat": 4,
 "nbformat_minor": 2
}
