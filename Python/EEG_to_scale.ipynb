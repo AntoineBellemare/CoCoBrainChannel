{
 "cells": [
  {
   "cell_type": "code",
   "execution_count": 68,
   "metadata": {},
   "outputs": [],
   "source": [
    "import pandas as pd\n",
    "import scipy.io as sio\n",
    "from scipy.io import savemat, loadmat\n",
    "from EEG_pareidolia_utils import get_pareidolia_bids, reformat_events\n",
    "from biotuner_utils import *\n",
    "from biotuner_offline import *\n",
    "from biotuner import *\n",
    "import pyACA\n",
    "import mne\n",
    "from mne.datasets.brainstorm import bst_raw\n",
    "from mne.time_frequency import tfr_morlet, psd_multitaper, psd_welch\n",
    "import numpy as np\n",
    "import matplotlib.pyplot as plt\n",
    "from scipy import stats\n",
    "import scipy.io as sio\n",
    "import seaborn as sbn\n",
    "import pytuning as pt"
   ]
  },
  {
   "cell_type": "code",
   "execution_count": 2,
   "metadata": {},
   "outputs": [
    {
     "name": "stdout",
     "output_type": "stream",
     "text": [
      "Reading ../../pareidolia_run4.fif ...\n"
     ]
    },
    {
     "name": "stderr",
     "output_type": "stream",
     "text": [
      "<ipython-input-2-49aa83b1c626>:3: RuntimeWarning: This filename (../../pareidolia_run4.fif) does not conform to MNE naming conventions. All epochs files should end with -epo.fif, -epo.fif.gz, _epo.fif or _epo.fif.gz\n",
      "  epochs = mne.read_epochs(path)\n"
     ]
    },
    {
     "name": "stdout",
     "output_type": "stream",
     "text": [
      "    Found the data of interest:\n",
      "        t =   -1500.00 ...    8000.00 ms\n",
      "        0 CTF compensation matrices available\n",
      "84 matching events found\n",
      "Applying baseline correction (mode: mean)\n",
      "Not setting metadata\n",
      "0 projection items activated\n",
      "Applying baseline correction (mode: mean)\n",
      "Setting up band-pass filter from 0.1 - 1e+02 Hz\n",
      "\n",
      "FIR filter parameters\n",
      "---------------------\n",
      "Designing a one-pass, zero-phase, non-causal bandpass filter:\n",
      "- Windowed time-domain design (firwin) method\n",
      "- Hamming window with 0.0194 passband ripple and 53 dB stopband attenuation\n",
      "- Lower passband edge: 0.10\n",
      "- Lower transition bandwidth: 0.10 Hz (-6 dB cutoff frequency: 0.05 Hz)\n",
      "- Upper passband edge: 100.00 Hz\n",
      "- Upper transition bandwidth: 25.00 Hz (-6 dB cutoff frequency: 112.50 Hz)\n",
      "- Filter length: 33001 samples (33.001 sec)\n",
      "\n"
     ]
    },
    {
     "name": "stderr",
     "output_type": "stream",
     "text": [
      "<ipython-input-2-49aa83b1c626>:6: RuntimeWarning: filter_length (33001) is longer than the signal (9501), distortion is likely. Reduce filter length or filter a longer signal.\n",
      "  epochs = epochs.filter(0.1, 100)\n"
     ]
    }
   ],
   "source": [
    "path = '../../pareidolia_run4.fif'\n",
    "#path = 'C:/Users/Antoine/github/Data_EEG/pareidolia_run1.fif'\n",
    "epochs = mne.read_epochs(path)\n",
    "epochs = epochs.copy().apply_baseline((-1.5, -0.1))\n",
    "#epochs2 = epochs2.crop(0.5, 7.5)\n",
    "epochs = epochs.filter(0.1, 100)"
   ]
  },
  {
   "cell_type": "code",
   "execution_count": 10,
   "metadata": {},
   "outputs": [
    {
     "data": {
      "text/plain": [
       "(84, 9501)"
      ]
     },
     "execution_count": 10,
     "metadata": {},
     "output_type": "execute_result"
    }
   ],
   "source": [
    "epochs.get_data()[:, 0, :].shape"
   ]
  },
  {
   "cell_type": "code",
   "execution_count": 45,
   "metadata": {},
   "outputs": [
    {
     "name": "stdout",
     "output_type": "stream",
     "text": [
      "Applying baseline correction (mode: mean)\n",
      "(84, 114, 7001)\n",
      "7000\n",
      "4000\n",
      "Effective window size : 4.000 (s)\n",
      "0\n",
      "Effective window size : 4.000 (s)\n",
      "0\n",
      "Effective window size : 4.000 (s)\n",
      "1\n",
      "Effective window size : 4.000 (s)\n",
      "19\n",
      "Effective window size : 4.000 (s)\n",
      "37\n",
      "Effective window size : 4.000 (s)\n",
      "9\n"
     ]
    },
    {
     "data": {
      "text/plain": [
       "array([ 1. ,  3. ,  7.2, 16.8, 27.2, 32.2])"
      ]
     },
     "execution_count": 45,
     "metadata": {},
     "output_type": "execute_result"
    }
   ],
   "source": [
    "#####COMPUTE PEAKS#####\n",
    "\n",
    "from biotuner_offline import *\n",
    "par = ['Image_on_par_high', 'Image_on_par_mid', 'Image_on_par_low']\n",
    "nopar = ['Image_on_nopar_high', 'Image_on_nopar_mid', 'Image_on_nopar_low']\n",
    "condition = par\n",
    "ch = ['E22', 'E32', 'E33', 'E81']\n",
    "dim_reduc = 'avg' #Mode could either be 'avg' or 'mode'\n",
    "precision = 0.25   #Default precision is 0.125Hz\n",
    "FREQ_BANDS = [[1, 3], [3, 7], [7, 12], [12, 18],[18, 30], [30, 50]]\n",
    "#peaks= compute_peaks(epochs.copy(), condition, ch, FREQ_BANDS, tmin = 0.5, tmax = 7.5, precision = precision, sf =1000)\n",
    "peaks= compute_peaks_avg(epochs.copy(), condition, ch, FREQ_BANDS, dim_reduc = dim_reduc, tmin = 0.5, tmax = 7.5, precision = precision, sf =1000)\n",
    "peaks"
   ]
  },
  {
   "cell_type": "code",
   "execution_count": 32,
   "metadata": {},
   "outputs": [],
   "source": [
    "x, ratios = compute_peak_ratios(peaks)"
   ]
  },
  {
   "cell_type": "code",
   "execution_count": 60,
   "metadata": {},
   "outputs": [
    {
     "data": {
      "text/plain": [
       "array([ 3. ,  7.2, 16.8, 27.2, 32.2])"
      ]
     },
     "execution_count": 60,
     "metadata": {},
     "output_type": "execute_result"
    }
   ],
   "source": [
    "peaks[1:]"
   ]
  },
  {
   "cell_type": "code",
   "execution_count": 61,
   "metadata": {},
   "outputs": [
    {
     "data": {
      "text/plain": [
       "array([[  3. ,   6. ,   9. ,  12. ,  15. ,  18. ,  21. ,  24. ,  27. ,\n",
       "         30. ,  33. ,  36. ,  39. ,  42. ,  45. ,  48. ,  51. ,  54. ,\n",
       "         57. ,  60. ,  63. ],\n",
       "       [  7.2,  14.4,  21.6,  28.8,  36. ,  43.2,  50.4,  57.6,  64.8,\n",
       "         72. ,  79.2,  86.4,  93.6, 100.8, 108. , 115.2, 122.4, 129.6,\n",
       "        136.8, 144. , 151.2],\n",
       "       [ 16.8,  33.6,  50.4,  67.2,  84. , 100.8, 117.6, 134.4, 151.2,\n",
       "        168. , 184.8, 201.6, 218.4, 235.2, 252. , 268.8, 285.6, 302.4,\n",
       "        319.2, 336. , 352.8],\n",
       "       [ 27.2,  54.4,  81.6, 108.8, 136. , 163.2, 190.4, 217.6, 244.8,\n",
       "        272. , 299.2, 326.4, 353.6, 380.8, 408. , 435.2, 462.4, 489.6,\n",
       "        516.8, 544. , 571.2],\n",
       "       [ 32.2,  64.4,  96.6, 128.8, 161. , 193.2, 225.4, 257.6, 289.8,\n",
       "        322. , 354.2, 386.4, 418.6, 450.8, 483. , 515.2, 547.4, 579.6,\n",
       "        611.8, 644. , 676.2]])"
      ]
     },
     "execution_count": 61,
     "metadata": {},
     "output_type": "execute_result"
    }
   ],
   "source": [
    "EEG_harmonics_mult(peaks[1:], 20, n_oct_up = 0)"
   ]
  },
  {
   "cell_type": "code",
   "execution_count": 65,
   "metadata": {},
   "outputs": [
    {
     "data": {
      "text/plain": [
       "[1.0499999999999998,\n",
       " 1.15,\n",
       " 1.1666666666666667,\n",
       " 1.2,\n",
       " 1.277777777777778,\n",
       " 1.3333333333333335,\n",
       " 1.3416666666666666,\n",
       " 1.4,\n",
       " 1.4285714285714286,\n",
       " 1.5,\n",
       " 1.6666666666666667,\n",
       " 1.7999999999999998,\n",
       " 1.9166666666666665,\n",
       " 2.0]"
      ]
     },
     "execution_count": 65,
     "metadata": {},
     "output_type": "execute_result"
    }
   ],
   "source": [
    "#ratios of harmonic fits\n",
    "\n",
    "z, charm_fit = compute_peak_ratios(harmonic_fit(peaks[1:], 30, 0.1, 'mult'))\n",
    "charm_fit"
   ]
  },
  {
   "cell_type": "code",
   "execution_count": 97,
   "metadata": {},
   "outputs": [
    {
     "data": {
      "text/plain": [
       "[1,\n",
       " 2187/2048,\n",
       " 35721/32768,\n",
       " 567/512,\n",
       " 9/8,\n",
       " 147/128,\n",
       " 321489/262144,\n",
       " 5103/4096,\n",
       " 81/64,\n",
       " 1323/1024,\n",
       " 21/16,\n",
       " 45927/32768,\n",
       " 729/512,\n",
       " 11907/8192,\n",
       " 189/128,\n",
       " 3/2,\n",
       " 49/32,\n",
       " 6561/4096,\n",
       " 107163/65536,\n",
       " 1701/1024,\n",
       " 27/16,\n",
       " 441/256,\n",
       " 7/4,\n",
       " 15309/8192,\n",
       " 243/128,\n",
       " 3969/2048,\n",
       " 63/32,\n",
       " 2]"
      ]
     },
     "execution_count": 97,
     "metadata": {},
     "output_type": "execute_result"
    }
   ],
   "source": [
    "from pytuning import *\n",
    "intervals     = peaks\n",
    "multiplicities = [2,2,2, 2, 2, 2]\n",
    "scale1        = create_euler_fokker_scale(intervals, multiplicities)\n",
    "scale1"
   ]
  },
  {
   "cell_type": "code",
   "execution_count": 93,
   "metadata": {},
   "outputs": [
    {
     "data": {
      "text/plain": [
       "array([ 1. ,  3. ,  7.2, 16.8, 27.2, 32.2])"
      ]
     },
     "execution_count": 93,
     "metadata": {},
     "output_type": "execute_result"
    }
   ],
   "source": [
    "peaks"
   ]
  },
  {
   "cell_type": "code",
   "execution_count": null,
   "metadata": {},
   "outputs": [],
   "source": [
    "x = pt.find_best_modes(scale1, 12)\n",
    "x"
   ]
  },
  {
   "cell_type": "code",
   "execution_count": 69,
   "metadata": {},
   "outputs": [],
   "source": [
    "create_SCL(charm_fit, 'eeg_scale_test')"
   ]
  }
 ],
 "metadata": {
  "kernelspec": {
   "display_name": "Python 3",
   "language": "python",
   "name": "python3"
  },
  "language_info": {
   "codemirror_mode": {
    "name": "ipython",
    "version": 3
   },
   "file_extension": ".py",
   "mimetype": "text/x-python",
   "name": "python",
   "nbconvert_exporter": "python",
   "pygments_lexer": "ipython3",
   "version": "3.7.4"
  }
 },
 "nbformat": 4,
 "nbformat_minor": 2
}
